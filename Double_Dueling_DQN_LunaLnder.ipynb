{
  "nbformat": 4,
  "nbformat_minor": 0,
  "metadata": {
    "colab": {
      "name": "Double Dueling DQN - LunaLnder.ipynb",
      "provenance": [],
      "collapsed_sections": [],
      "toc_visible": true
    },
    "kernelspec": {
      "display_name": "Python 3",
      "name": "python3"
    },
    "accelerator": "GPU"
  },
  "cells": [
    {
      "cell_type": "markdown",
      "metadata": {
        "id": "W-cVn8qQKtJq"
      },
      "source": [
        "Based on the following links to create this notebook:\r\n",
        "\r\n",
        "https://colab.research.google.com/drive/18LdlDDT87eb8cCTHZsXyS9ksQPzL3i6H\r\n",
        "\r\n",
        "https://colab.research.google.com/drive/1tug_bpg8RwrFOI8C6Ed-zo0OgD3yfnWy#scrollTo=bhsj7BTPHepg\r\n",
        "\r\n",
        "https://colab.research.google.com/drive/1tug_bpg8RwrFOI8C6Ed-zo0OgD3yfnWy\r\n",
        "\r\n",
        "\r\n",
        "To run Gym, you have to install prerequisites like xvbf,opengl & other python-dev packages using the following codes."
      ]
    },
    {
      "cell_type": "code",
      "metadata": {
        "colab": {
          "base_uri": "https://localhost:8080/"
        },
        "id": "GmtbAjPPKiFw",
        "outputId": "2d3e35de-65d8-4e1a-e12b-aa00ce6da76b"
      },
      "source": [
        "!pip install gym\r\n",
        "!apt-get install python-opengl -y\r\n",
        "!apt install xvfb -y\r\n",
        "!pip install pyvirtualdisplay\r\n",
        "!pip install piglet\r\n",
        "\r\n",
        "from pyvirtualdisplay import Display\r\n",
        "display = Display(visible=0, size=(1400, 900))\r\n",
        "display.start()"
      ],
      "execution_count": null,
      "outputs": [
        {
          "output_type": "stream",
          "text": [
            "Requirement already satisfied: gym in /usr/local/lib/python3.7/dist-packages (0.17.3)\n",
            "Requirement already satisfied: pyglet<=1.5.0,>=1.4.0 in /usr/local/lib/python3.7/dist-packages (from gym) (1.5.0)\n",
            "Requirement already satisfied: numpy>=1.10.4 in /usr/local/lib/python3.7/dist-packages (from gym) (1.19.5)\n",
            "Requirement already satisfied: scipy in /usr/local/lib/python3.7/dist-packages (from gym) (1.4.1)\n",
            "Requirement already satisfied: cloudpickle<1.7.0,>=1.2.0 in /usr/local/lib/python3.7/dist-packages (from gym) (1.3.0)\n",
            "Requirement already satisfied: future in /usr/local/lib/python3.7/dist-packages (from pyglet<=1.5.0,>=1.4.0->gym) (0.16.0)\n",
            "Reading package lists... Done\n",
            "Building dependency tree       \n",
            "Reading state information... Done\n",
            "Suggested packages:\n",
            "  libgle3\n",
            "The following NEW packages will be installed:\n",
            "  python-opengl\n",
            "0 upgraded, 1 newly installed, 0 to remove and 29 not upgraded.\n",
            "Need to get 496 kB of archives.\n",
            "After this operation, 5,416 kB of additional disk space will be used.\n",
            "Get:1 http://archive.ubuntu.com/ubuntu bionic/universe amd64 python-opengl all 3.1.0+dfsg-1 [496 kB]\n",
            "Fetched 496 kB in 1s (765 kB/s)\n",
            "Selecting previously unselected package python-opengl.\n",
            "(Reading database ... 160975 files and directories currently installed.)\n",
            "Preparing to unpack .../python-opengl_3.1.0+dfsg-1_all.deb ...\n",
            "Unpacking python-opengl (3.1.0+dfsg-1) ...\n",
            "Setting up python-opengl (3.1.0+dfsg-1) ...\n",
            "Reading package lists... Done\n",
            "Building dependency tree       \n",
            "Reading state information... Done\n",
            "The following NEW packages will be installed:\n",
            "  xvfb\n",
            "0 upgraded, 1 newly installed, 0 to remove and 29 not upgraded.\n",
            "Need to get 784 kB of archives.\n",
            "After this operation, 2,270 kB of additional disk space will be used.\n",
            "Get:1 http://archive.ubuntu.com/ubuntu bionic-updates/universe amd64 xvfb amd64 2:1.19.6-1ubuntu4.8 [784 kB]\n",
            "Fetched 784 kB in 1s (1,274 kB/s)\n",
            "Selecting previously unselected package xvfb.\n",
            "(Reading database ... 163330 files and directories currently installed.)\n",
            "Preparing to unpack .../xvfb_2%3a1.19.6-1ubuntu4.8_amd64.deb ...\n",
            "Unpacking xvfb (2:1.19.6-1ubuntu4.8) ...\n",
            "Setting up xvfb (2:1.19.6-1ubuntu4.8) ...\n",
            "Processing triggers for man-db (2.8.3-2ubuntu0.1) ...\n",
            "Collecting pyvirtualdisplay\n",
            "  Downloading https://files.pythonhosted.org/packages/19/88/7a198a5ee3baa3d547f5a49574cd8c3913b216f5276b690b028f89ffb325/PyVirtualDisplay-2.1-py3-none-any.whl\n",
            "Collecting EasyProcess\n",
            "  Downloading https://files.pythonhosted.org/packages/48/3c/75573613641c90c6d094059ac28adb748560d99bd27ee6f80cce398f404e/EasyProcess-0.3-py2.py3-none-any.whl\n",
            "Installing collected packages: EasyProcess, pyvirtualdisplay\n",
            "Successfully installed EasyProcess-0.3 pyvirtualdisplay-2.1\n",
            "Collecting piglet\n",
            "  Downloading https://files.pythonhosted.org/packages/11/56/6840e5f45626dc7eb7cd5dff57d11880b3113723b3b7b1fb1fa537855b75/piglet-1.0.0-py2.py3-none-any.whl\n",
            "Collecting piglet-templates\n",
            "\u001b[?25l  Downloading https://files.pythonhosted.org/packages/34/1e/49d7e0df9420eeb13a636487b8e606cf099f2ee0793159edd8ffe905125b/piglet_templates-1.1.0-py3-none-any.whl (63kB)\n",
            "\u001b[K     |████████████████████████████████| 71kB 7.9MB/s \n",
            "\u001b[?25hRequirement already satisfied: markupsafe in /usr/local/lib/python3.7/dist-packages (from piglet-templates->piglet) (1.1.1)\n",
            "Requirement already satisfied: attrs in /usr/local/lib/python3.7/dist-packages (from piglet-templates->piglet) (20.3.0)\n",
            "Requirement already satisfied: astunparse in /usr/local/lib/python3.7/dist-packages (from piglet-templates->piglet) (1.6.3)\n",
            "Collecting Parsley\n",
            "\u001b[?25l  Downloading https://files.pythonhosted.org/packages/2b/d6/4fed8d65e28a970e1c5cb33ce9c7e22e3de745e1b2ae37af051ef16aea3b/Parsley-1.3-py2.py3-none-any.whl (88kB)\n",
            "\u001b[K     |████████████████████████████████| 92kB 11.2MB/s \n",
            "\u001b[?25hRequirement already satisfied: wheel<1.0,>=0.23.0 in /usr/local/lib/python3.7/dist-packages (from astunparse->piglet-templates->piglet) (0.36.2)\n",
            "Requirement already satisfied: six<2.0,>=1.6.1 in /usr/local/lib/python3.7/dist-packages (from astunparse->piglet-templates->piglet) (1.15.0)\n",
            "Installing collected packages: Parsley, piglet-templates, piglet\n",
            "Successfully installed Parsley-1.3 piglet-1.0.0 piglet-templates-1.1.0\n"
          ],
          "name": "stdout"
        },
        {
          "output_type": "execute_result",
          "data": {
            "text/plain": [
              "<pyvirtualdisplay.display.Display at 0x7f1d3b40a110>"
            ]
          },
          "metadata": {
            "tags": []
          },
          "execution_count": 1
        }
      ]
    },
    {
      "cell_type": "code",
      "metadata": {
        "id": "Y0v1ZSJrY5zV",
        "colab": {
          "base_uri": "https://localhost:8080/"
        },
        "outputId": "03b7bf2b-9c3f-4ad4-c420-37bf7f3de748"
      },
      "source": [
        "from google.colab import drive\r\n",
        "drive.mount('/content/gdrive')"
      ],
      "execution_count": null,
      "outputs": [
        {
          "output_type": "stream",
          "text": [
            "Mounted at /content/gdrive\n"
          ],
          "name": "stdout"
        }
      ]
    },
    {
      "cell_type": "code",
      "metadata": {
        "id": "Y_hxdz4ALVQ3"
      },
      "source": [
        "# This code creates a virtual display to draw game images on.\r\n",
        "# If you are running locally, just ignore it\r\n",
        "import os\r\n",
        "if type(os.environ.get(\"DISPLAY\")) is not str or len(os.environ.get(\"DISPLAY\")) == 0:\r\n",
        "    !bash ../xvfb start\r\n",
        "    %env DISPLAY = : 1"
      ],
      "execution_count": null,
      "outputs": []
    },
    {
      "cell_type": "code",
      "metadata": {
        "id": "C1GqN0iRLaZk"
      },
      "source": [
        "import json\r\n",
        "import gym\r\n",
        "from gym import logger as gymlogger\r\n",
        "from gym.wrappers import Monitor\r\n",
        "gymlogger.set_level(40) # error only\r\n",
        "import numpy as np\r\n",
        "import random\r\n",
        "import matplotlib\r\n",
        "import matplotlib.pyplot as plt\r\n",
        "%matplotlib inline\r\n",
        "import math\r\n",
        "import glob\r\n",
        "import io\r\n",
        "import base64\r\n",
        "from IPython.display import HTML\r\n",
        "import copy\r\n",
        "from collections import deque\r\n",
        "\r\n",
        "from IPython import display as ipythondisplay\r\n",
        "import torch\r\n",
        "import torchvision\r\n",
        "from torchvision import transforms\r\n",
        "import torch.nn as nn\r\n",
        "import torch.optim as optim\r\n",
        "import torch.nn.functional as F\r\n",
        "from torch.utils.data import Dataset, DataLoader"
      ],
      "execution_count": null,
      "outputs": []
    },
    {
      "cell_type": "code",
      "metadata": {
        "id": "ILbriB_oLn5T"
      },
      "source": [
        "\"\"\"\r\n",
        "Utility functions to enable video recording of gym environment and displaying it\r\n",
        "To enable video, just do \"env = wrap_env(env)\"\"\r\n",
        "\"\"\"\r\n",
        "def show_video():\r\n",
        "    mp4list = glob.glob('video/*.mp4')\r\n",
        "    if len(mp4list) > 0:\r\n",
        "        mp4 = mp4list[0]\r\n",
        "        video = io.open(mp4, 'r+b').read()\r\n",
        "        encoded = base64.b64encode(video)\r\n",
        "        ipythondisplay.display(HTML(data='''<video alt=\"test\" autoplay \r\n",
        "                    loop controls style=\"height: 400px;\">\r\n",
        "                    <source src=\"data:video/mp4;base64,{0}\" type=\"video/mp4\" />\r\n",
        "                </video>'''.format(encoded.decode('ascii'))))\r\n",
        "    else:\r\n",
        "        print(\"Could not find video\")\r\n",
        "\r\n",
        "\r\n",
        "def wrap_env(env):\r\n",
        "    env = Monitor(env, './video', force=True)\r\n",
        "    return env"
      ],
      "execution_count": null,
      "outputs": []
    },
    {
      "cell_type": "code",
      "metadata": {
        "id": "NnR-cqjbLpI4",
        "colab": {
          "base_uri": "https://localhost:8080/"
        },
        "outputId": "cd3a734a-5788-4b53-f775-800365b012e2"
      },
      "source": [
        "!pip install gym[box2d]"
      ],
      "execution_count": null,
      "outputs": [
        {
          "output_type": "stream",
          "text": [
            "Requirement already satisfied: gym[box2d] in /usr/local/lib/python3.7/dist-packages (0.17.3)\n",
            "Requirement already satisfied: pyglet<=1.5.0,>=1.4.0 in /usr/local/lib/python3.7/dist-packages (from gym[box2d]) (1.5.0)\n",
            "Requirement already satisfied: numpy>=1.10.4 in /usr/local/lib/python3.7/dist-packages (from gym[box2d]) (1.19.5)\n",
            "Requirement already satisfied: cloudpickle<1.7.0,>=1.2.0 in /usr/local/lib/python3.7/dist-packages (from gym[box2d]) (1.3.0)\n",
            "Requirement already satisfied: scipy in /usr/local/lib/python3.7/dist-packages (from gym[box2d]) (1.4.1)\n",
            "Collecting box2d-py~=2.3.5; extra == \"box2d\"\n",
            "\u001b[?25l  Downloading https://files.pythonhosted.org/packages/87/34/da5393985c3ff9a76351df6127c275dcb5749ae0abbe8d5210f06d97405d/box2d_py-2.3.8-cp37-cp37m-manylinux1_x86_64.whl (448kB)\n",
            "\u001b[K     |████████████████████████████████| 450kB 15.8MB/s \n",
            "\u001b[?25hRequirement already satisfied: future in /usr/local/lib/python3.7/dist-packages (from pyglet<=1.5.0,>=1.4.0->gym[box2d]) (0.16.0)\n",
            "Installing collected packages: box2d-py\n",
            "Successfully installed box2d-py-2.3.8\n"
          ],
          "name": "stdout"
        }
      ]
    },
    {
      "cell_type": "code",
      "metadata": {
        "id": "yCHLYkMkLzcf",
        "colab": {
          "base_uri": "https://localhost:8080/",
          "height": 286
        },
        "outputId": "ddb491d3-2cdb-418d-be65-e2636ae39936"
      },
      "source": [
        "env = gym.make('LunarLanderContinuous-v2')\r\n",
        "env.reset()\r\n",
        "plt.imshow(env.render('rgb_array'))"
      ],
      "execution_count": null,
      "outputs": [
        {
          "output_type": "execute_result",
          "data": {
            "text/plain": [
              "<matplotlib.image.AxesImage at 0x7f1cd006df50>"
            ]
          },
          "metadata": {
            "tags": []
          },
          "execution_count": 7
        },
        {
          "output_type": "display_data",
          "data": {
            "image/png": "[encoded data removed]",
            "text/plain": [
              "<Figure size 432x288 with 1 Axes>"
            ]
          },
          "metadata": {
            "tags": [],
            "needs_background": "light"
          }
        }
      ]
    },
    {
      "cell_type": "code",
      "metadata": {
        "id": "Wh4v_3zCRepL",
        "colab": {
          "base_uri": "https://localhost:8080/"
        },
        "outputId": "ba423fd8-92bd-4384-9929-940b84cdd088"
      },
      "source": [
        "state_size = env.observation_space\r\n",
        "print(\"state size is:\", state_size)\r\n",
        "a = env.action_space\r\n",
        "print(\"action size=\", a)\r\n",
        "state = env.reset()\r\n",
        "print(state)"
      ],
      "execution_count": null,
      "outputs": [
        {
          "output_type": "stream",
          "text": [
            "state size is: Box(-inf, inf, (8,), float32)\n",
            "action size= Box(-1.0, 1.0, (2,), float32)\n",
            "[ 0.00507717  1.4121883   0.51425356  0.05635218 -0.00587645 -0.11648619\n",
            "  0.          0.        ]\n"
          ],
          "name": "stdout"
        }
      ]
    },
    {
      "cell_type": "markdown",
      "metadata": {
        "id": "yTfAdl7dSS-K"
      },
      "source": [
        "# Action Space\r\n",
        "            #is two floats [main engine, left-right engines].\r\n",
        "            # Main engine: -1..0 off, 0..+1 throttle from 50% to 100% power. Engine can't work with less than 50% power.\r\n",
        "            # Left-right:  -1.0..-0.5 fire left engine, +0.5..+1.0 fire right engine, -0.5..0.5 off\r\n",
        "            self.action_space = spaces.Box(-1, +1, (2,), dtype=np.float32)"
      ]
    },
    {
      "cell_type": "markdown",
      "metadata": {
        "id": "AfJat7i14jfS"
      },
      "source": [
        "# Action Space (continuous to discrete values)"
      ]
    },
    {
      "cell_type": "code",
      "metadata": {
        "id": "odd5_LwaQbSh"
      },
      "source": [
        "class ActionSpace(object):\r\n",
        "    def __init__(self, x_size, y_size):\r\n",
        "        self.x_size = x_size\r\n",
        "        self.y_size = y_size\r\n",
        "        self.cache = {}\r\n",
        "        self.build_actions_cache()\r\n",
        "\r\n",
        "    def build_actions_cache(self):\r\n",
        "        for i in range(self.x_size * self.y_size):\r\n",
        "            self.cache[i] = self.get_value_by_key(i)\r\n",
        "\r\n",
        "    def get_value_by_key(self, key):\r\n",
        "        ind1 = int(key / self.y_size)\r\n",
        "        ind2 = key % self.y_size\r\n",
        "        value1 = 0 + ind1 * (1 / (self.x_size - 1))\r\n",
        "\r\n",
        "        if ind1 == 0:\r\n",
        "            value1 = -1\r\n",
        "        if ind2 == 0:\r\n",
        "            value2 = 0\r\n",
        "        else:\r\n",
        "            half = (self.y_size - 1) / 2\r\n",
        "            if ind2 <= self.y_size/2:\r\n",
        "                value2 = -0.5+- ind2 * (0.5 / (half))\r\n",
        "            else:\r\n",
        "                ind2 = ind2 - half\r\n",
        "                value2 = 0.5 + ind2 * (0.5 / (half))\r\n",
        "\r\n",
        "        return [value1, value2]\r\n",
        "\r\n",
        "    def choose(self, key):\r\n",
        "        return self.cache[key]\r\n",
        "\r\n",
        "\r\n",
        "x_actions = 2\r\n",
        "y_actions = 15  # y_actions must be an odd number.\r\n",
        "all_actions = x_actions * y_actions\r\n",
        "action_space = ActionSpace(x_actions, y_actions)"
      ],
      "execution_count": null,
      "outputs": []
    },
    {
      "cell_type": "markdown",
      "metadata": {
        "id": "47ib0m3U4heI"
      },
      "source": [
        "# DQN Model."
      ]
    },
    {
      "cell_type": "code",
      "metadata": {
        "id": "1GwXRXmsXkuK"
      },
      "source": [
        "class DoubleDuelingDQN(nn.Module):\r\n",
        "    def __init__(self, all_actions):\r\n",
        "        super(DoubleDuelingDQN, self).__init__()\r\n",
        "\r\n",
        "        self.fc1 = nn.Linear(8, 128)\r\n",
        "        self.fc2 = nn.Linear(128, 256)\r\n",
        "        self.fc3 = nn.Linear(256, 256)\r\n",
        "        self.fc4 = nn.Linear(256, all_actions)\r\n",
        "        self.fc_value = nn.Linear(256, 1)\r\n",
        "\r\n",
        "    def forward(self, x):\r\n",
        "        x = F.relu(self.fc1(x))\r\n",
        "        x = F.relu(self.fc2(x))\r\n",
        "        x = F.relu(self.fc3(x))\r\n",
        "        advantage = self.fc4(x)\r\n",
        "        value = self.fc_value(x)\r\n",
        "        return advantage + value - torch.mean(advantage)"
      ],
      "execution_count": null,
      "outputs": []
    },
    {
      "cell_type": "markdown",
      "metadata": {
        "id": "x757fDnSRJdn"
      },
      "source": [
        "# GPU/CPU"
      ]
    },
    {
      "cell_type": "code",
      "metadata": {
        "id": "k9AU4N9YCGoP",
        "colab": {
          "base_uri": "https://localhost:8080/"
        },
        "outputId": "c3bffc1d-72b7-4ad1-f4fa-00afc21e0f07"
      },
      "source": [
        "device = None\r\n",
        "if torch.cuda.is_available():\r\n",
        "    print(\"Using GPU.\")\r\n",
        "    device = torch.device('cuda:0')\r\n",
        "else:\r\n",
        "    print(\"Using CPU.\")\r\n",
        "    device = torch.device(\"cpu\")"
      ],
      "execution_count": null,
      "outputs": [
        {
          "output_type": "stream",
          "text": [
            "Using GPU.\n"
          ],
          "name": "stdout"
        }
      ]
    },
    {
      "cell_type": "markdown",
      "metadata": {
        "id": "rLYd9IHLU9sY"
      },
      "source": [
        "# Replay Memory"
      ]
    },
    {
      "cell_type": "code",
      "metadata": {
        "id": "tqrpFa_gRPNC"
      },
      "source": [
        "class ReplayMemory(object):\r\n",
        "    def __init__(self, replay_memory_size):\r\n",
        "        self.memory = deque(maxlen=replay_memory_size)\r\n",
        "\r\n",
        "    def size(self):\r\n",
        "        return len(self.memory)\r\n",
        "\r\n",
        "    def push(self, state, action, reward, observation, done):\r\n",
        "        self.memory.append((state, action, reward, observation, done))\r\n",
        "\r\n",
        "    def sample(self, batch_size):\r\n",
        "        return random.sample(self.memory, batch_size)"
      ],
      "execution_count": null,
      "outputs": []
    },
    {
      "cell_type": "markdown",
      "metadata": {
        "id": "2pdmX8ojQGpd"
      },
      "source": [
        "# Methods"
      ]
    },
    {
      "cell_type": "code",
      "metadata": {
        "id": "lDNbImwBQGXK"
      },
      "source": [
        "def choose_action(state, epsilon, model):\r\n",
        "    model.eval()\r\n",
        "    if np.random.rand() <= epsilon:\r\n",
        "        return np.random.choice(all_actions)\r\n",
        "    else:\r\n",
        "        unsqueeze = state.unsqueeze(0)\r\n",
        "        preds = model(unsqueeze)\r\n",
        "        value, indice = torch.max(preds, 1)\r\n",
        "        return indice[0].item()\r\n",
        "\r\n",
        "\r\n",
        "def run_replay_experiments(model, target_model, replay_memory, optimizer, batch_size):\r\n",
        "    optimizer.zero_grad()\r\n",
        "    model.eval()\r\n",
        "    target_model.eval()\r\n",
        "\r\n",
        "    x_batch = []\r\n",
        "    x_target = []\r\n",
        "    samples_batch = replay_memory.sample(batch_size)\r\n",
        "\r\n",
        "    for state, action, reward, observation, done in samples_batch:\r\n",
        "        x_batch.append(state)\r\n",
        "        x_target.append(observation)\r\n",
        "\r\n",
        "    x_batch = torch.stack(x_batch).to(device)\r\n",
        "    x_target = torch.stack(x_target).to(device)\r\n",
        "\r\n",
        "    model_target_preds = model(x_target)\r\n",
        "    target_preds = target_model(x_target)\r\n",
        "    _, indices = torch.max(model_target_preds, 1)\r\n",
        "\r\n",
        "    max_values = []\r\n",
        "    for i in range(len(indices)):\r\n",
        "        max_values.append(target_preds[i][indices[i]])\r\n",
        "    model.train()\r\n",
        "\r\n",
        "    model_preds = model(x_batch)\r\n",
        "    model_preds_clone = model_preds.clone()\r\n",
        "\r\n",
        "    for index, (state, action, reward, observation, done) in enumerate(samples_batch):\r\n",
        "        if done:\r\n",
        "            model_preds_clone[index][action] = reward\r\n",
        "        else:\r\n",
        "            model_preds_clone[index][action] = reward + gama * max_values[index]\r\n",
        "\r\n",
        "    loss = F.smooth_l1_loss(model_preds, model_preds_clone)\r\n",
        "    loss.backward()\r\n",
        "    optimizer.step()"
      ],
      "execution_count": null,
      "outputs": []
    },
    {
      "cell_type": "markdown",
      "metadata": {
        "id": "a48wrZOW4OH0"
      },
      "source": [
        "# Parameters."
      ]
    },
    {
      "cell_type": "code",
      "metadata": {
        "id": "OtGLjXTt2cbj"
      },
      "source": [
        "epsilon = 1\r\n",
        "epsilon_decay = 0.975\r\n",
        "\r\n",
        "batch_size = 256\r\n",
        "max_iterations = 50000\r\n",
        "\r\n",
        "reset_target = 200\r\n",
        "steps_per_action = 1\r\n",
        "replay_memory_size = 20000\r\n",
        "\r\n",
        "gama = 0.99\r\n",
        "lr = 0.00005"
      ],
      "execution_count": null,
      "outputs": []
    },
    {
      "cell_type": "markdown",
      "metadata": {
        "id": "4QDVmpFT4Q6I"
      },
      "source": [
        "# Training the model."
      ]
    },
    {
      "cell_type": "code",
      "metadata": {
        "id": "EQaFvJdvM4qX",
        "colab": {
          "base_uri": "https://localhost:8080/"
        },
        "outputId": "17d9dd28-e182-47d4-de06-7aa47c9bd56d"
      },
      "source": [
        "env = wrap_env(env)\r\n",
        "\r\n",
        "\r\n",
        "model = DoubleDuelingDQN(all_actions)\r\n",
        "model.to(device)\r\n",
        "optimizer = optim.Adam(model.parameters(), lr=lr)\r\n",
        "\r\n",
        "if not next(model.parameters()).is_cuda:\r\n",
        "    print('The neural network model is not working on GPU!')\r\n",
        "\r\n",
        "average100 = deque(maxlen=100)\r\n",
        "replay_memory = ReplayMemory(replay_memory_size)\r\n",
        "\r\n",
        "results_memory = []\r\n",
        "steps=0\r\n",
        "for iteration in range(max_iterations):\r\n",
        "    state = env.reset()\r\n",
        "    total_reward = 0\r\n",
        "    done = False\r\n",
        "    state = torch.from_numpy(state).to(device)\r\n",
        "\r\n",
        "    while not done:\r\n",
        "        action = choose_action(state, epsilon, model)\r\n",
        "        converted_action = action_space.choose(action)\r\n",
        "\r\n",
        "        observation, reward, done, _ = env.step(converted_action)\r\n",
        "        observation = torch.from_numpy(observation).to(device)\r\n",
        "        total_reward += reward\r\n",
        "\r\n",
        "        replay_memory.push(state, action, reward, observation, done)\r\n",
        "        state = observation\r\n",
        "\r\n",
        "\r\n",
        "        for i in range(steps_per_action):\r\n",
        "            if steps % reset_target == 0:\r\n",
        "                target_model = copy.deepcopy(model)\r\n",
        "                target_model.to(device)  \r\n",
        "            steps=steps+1        \r\n",
        "            if replay_memory.size() >= batch_size:\r\n",
        "                run_replay_experiments(model, target_model, replay_memory, optimizer, batch_size)\r\n",
        "\r\n",
        "\r\n",
        "    average100.append(total_reward)\r\n",
        "    epsilon *= epsilon_decay\r\n",
        "    print(f'Iteration: {iteration} | Epsilon: {round(epsilon, 2)} | Last Reward: {round(reward, 2)} | Average100: {round(np.average(average100))} | Total Reward: {total_reward}')\r\n",
        "    results_memory.append((iteration, round(np.average(average100))))\r\n",
        "\r\n",
        "    if len(average100) >= 100 and np.average(average100) >= 200:\r\n",
        "        print(f'Finished after {iteration-100} iterations.')\r\n",
        "        break"
      ],
      "execution_count": null,
      "outputs": [
        {
          "output_type": "stream",
          "text": [
            "Iteration: 0 | Epsilon: 0.97 | Last Reward: -100 | Average100: -380 | Total Reward: -379.67462150815084\n",
            "Iteration: 1 | Epsilon: 0.95 | Last Reward: -100 | Average100: -189 | Total Reward: 1.1648880035928784\n",
            "Iteration: 2 | Epsilon: 0.93 | Last Reward: -100 | Average100: -137 | Total Reward: -31.269722110582308\n",
            "Iteration: 3 | Epsilon: 0.9 | Last Reward: -100 | Average100: -226 | Total Reward: -493.63019353491205\n",
            "Iteration: 4 | Epsilon: 0.88 | Last Reward: -100 | Average100: -284 | Total Reward: -518.4356151609345\n",
            "Iteration: 5 | Epsilon: 0.86 | Last Reward: -100 | Average100: -276 | Total Reward: -234.27351764231136\n",
            "Iteration: 6 | Epsilon: 0.84 | Last Reward: -100 | Average100: -285 | Total Reward: -336.81510874700285\n",
            "Iteration: 7 | Epsilon: 0.82 | Last Reward: -100 | Average100: -309 | Total Reward: -482.9529124097985\n",
            "Iteration: 8 | Epsilon: 0.8 | Last Reward: -100 | Average100: -308 | Total Reward: -296.0591030238638\n",
            "Iteration: 9 | Epsilon: 0.78 | Last Reward: -100 | Average100: -286 | Total Reward: -88.18307033515856\n",
            "Iteration: 10 | Epsilon: 0.76 | Last Reward: -100 | Average100: -281 | Total Reward: -234.7848398339733\n",
            "Iteration: 11 | Epsilon: 0.74 | Last Reward: -100 | Average100: -258 | Total Reward: 1.076718889450504\n",
            "Iteration: 12 | Epsilon: 0.72 | Last Reward: -100 | Average100: -246 | Total Reward: -106.18124981431836\n",
            "Iteration: 13 | Epsilon: 0.7 | Last Reward: -100 | Average100: -236 | Total Reward: -103.00990071579028\n",
            "Iteration: 14 | Epsilon: 0.68 | Last Reward: -100 | Average100: -223 | Total Reward: -45.31434803644715\n",
            "Iteration: 15 | Epsilon: 0.67 | Last Reward: -100 | Average100: -224 | Total Reward: -237.44882587487183\n",
            "Iteration: 16 | Epsilon: 0.65 | Last Reward: 0.3 | Average100: -211 | Total Reward: 4.433802969143927\n",
            "Iteration: 17 | Epsilon: 0.63 | Last Reward: -100 | Average100: -211 | Total Reward: -219.56304548903293\n",
            "Iteration: 18 | Epsilon: 0.62 | Last Reward: 1.04 | Average100: -198 | Total Reward: 46.24256874702907\n",
            "Iteration: 19 | Epsilon: 0.6 | Last Reward: -100 | Average100: -193 | Total Reward: -101.75197913490332\n",
            "Iteration: 20 | Epsilon: 0.59 | Last Reward: 12.39 | Average100: -182 | Total Reward: 41.36869794451345\n",
            "Iteration: 21 | Epsilon: 0.57 | Last Reward: -100 | Average100: -172 | Total Reward: 22.784311763038303\n",
            "Iteration: 22 | Epsilon: 0.56 | Last Reward: -2.67 | Average100: -163 | Total Reward: 47.02723231709273\n",
            "Iteration: 23 | Epsilon: 0.54 | Last Reward: -100 | Average100: -157 | Total Reward: -21.655504251835325\n",
            "Iteration: 24 | Epsilon: 0.53 | Last Reward: -100 | Average100: -152 | Total Reward: -23.629976329248947\n",
            "Iteration: 25 | Epsilon: 0.52 | Last Reward: -100 | Average100: -145 | Total Reward: 25.11151407192871\n",
            "Iteration: 26 | Epsilon: 0.5 | Last Reward: -100 | Average100: -142 | Total Reward: -70.5360188514783\n",
            "Iteration: 27 | Epsilon: 0.49 | Last Reward: -100 | Average100: -136 | Total Reward: 27.293232985432795\n",
            "Iteration: 28 | Epsilon: 0.48 | Last Reward: -100 | Average100: -132 | Total Reward: -5.479301760202262\n",
            "Iteration: 29 | Epsilon: 0.47 | Last Reward: -100 | Average100: -130 | Total Reward: -94.17739001817148\n",
            "Iteration: 30 | Epsilon: 0.46 | Last Reward: -100 | Average100: -125 | Total Reward: 42.195278184315924\n",
            "Iteration: 31 | Epsilon: 0.44 | Last Reward: -7.28 | Average100: -119 | Total Reward: 64.04642607483788\n",
            "Iteration: 32 | Epsilon: 0.43 | Last Reward: -100 | Average100: -115 | Total Reward: 21.71655151662935\n",
            "Iteration: 33 | Epsilon: 0.42 | Last Reward: -0.88 | Average100: -110 | Total Reward: 39.96497135161082\n",
            "Iteration: 34 | Epsilon: 0.41 | Last Reward: 11.64 | Average100: -106 | Total Reward: 39.924616778468355\n",
            "Iteration: 35 | Epsilon: 0.4 | Last Reward: -100 | Average100: -102 | Total Reward: 25.34777699252396\n",
            "Iteration: 36 | Epsilon: 0.39 | Last Reward: 9.91 | Average100: -98 | Total Reward: 55.32772762784057\n",
            "Iteration: 37 | Epsilon: 0.38 | Last Reward: -2.2 | Average100: -97 | Total Reward: -53.69405541731122\n",
            "Iteration: 38 | Epsilon: 0.37 | Last Reward: -100 | Average100: -97 | Total Reward: -114.47536442052244\n",
            "Iteration: 39 | Epsilon: 0.36 | Last Reward: 2.01 | Average100: -95 | Total Reward: 0.9558978039399566\n",
            "Iteration: 40 | Epsilon: 0.35 | Last Reward: -0.18 | Average100: -93 | Total Reward: -17.53905244819769\n",
            "Iteration: 41 | Epsilon: 0.35 | Last Reward: -0.52 | Average100: -90 | Total Reward: 14.764881663586777\n",
            "Iteration: 42 | Epsilon: 0.34 | Last Reward: 11.09 | Average100: -88 | Total Reward: 13.68223965785917\n",
            "Iteration: 43 | Epsilon: 0.33 | Last Reward: 0.85 | Average100: -87 | Total Reward: -32.54048891235858\n",
            "Iteration: 44 | Epsilon: 0.32 | Last Reward: -100 | Average100: -86 | Total Reward: -49.803047592119825\n",
            "Iteration: 45 | Epsilon: 0.31 | Last Reward: -4.84 | Average100: -85 | Total Reward: -51.15259722415297\n",
            "Iteration: 46 | Epsilon: 0.3 | Last Reward: -0.25 | Average100: -83 | Total Reward: 26.031288171542972\n",
            "Iteration: 47 | Epsilon: 0.3 | Last Reward: 2.26 | Average100: -79 | Total Reward: 111.1231981151385\n",
            "Iteration: 48 | Epsilon: 0.29 | Last Reward: 0.01 | Average100: -76 | Total Reward: 64.76951811861265\n",
            "Iteration: 49 | Epsilon: 0.28 | Last Reward: -4.46 | Average100: -73 | Total Reward: 75.98183264805066\n",
            "Iteration: 50 | Epsilon: 0.27 | Last Reward: 0.2 | Average100: -69 | Total Reward: 90.61035618160136\n",
            "Iteration: 51 | Epsilon: 0.27 | Last Reward: -2.83 | Average100: -67 | Total Reward: 69.07979965701992\n",
            "Iteration: 52 | Epsilon: 0.26 | Last Reward: -100 | Average100: -70 | Total Reward: -259.59300118680255\n",
            "Iteration: 53 | Epsilon: 0.25 | Last Reward: -1.07 | Average100: -67 | Total Reward: 101.0295294638061\n",
            "Iteration: 54 | Epsilon: 0.25 | Last Reward: 10.77 | Average100: -64 | Total Reward: 110.4135286555026\n",
            "Iteration: 55 | Epsilon: 0.24 | Last Reward: -18.16 | Average100: -62 | Total Reward: 43.61637821121056\n",
            "Iteration: 56 | Epsilon: 0.24 | Last Reward: 0.88 | Average100: -59 | Total Reward: 105.42982823923475\n",
            "Iteration: 57 | Epsilon: 0.23 | Last Reward: -100 | Average100: -60 | Total Reward: -105.91773120605154\n",
            "Iteration: 58 | Epsilon: 0.22 | Last Reward: 11.1 | Average100: -58 | Total Reward: 62.315199629889406\n",
            "Iteration: 59 | Epsilon: 0.22 | Last Reward: -7.46 | Average100: -56 | Total Reward: 68.28081582087785\n",
            "Iteration: 60 | Epsilon: 0.21 | Last Reward: 0.6 | Average100: -53 | Total Reward: 107.43043678789655\n",
            "Iteration: 61 | Epsilon: 0.21 | Last Reward: 0.04 | Average100: -51 | Total Reward: 61.599578201706166\n",
            "Iteration: 62 | Epsilon: 0.2 | Last Reward: 0.31 | Average100: -50 | Total Reward: 50.05585837644912\n",
            "Iteration: 63 | Epsilon: 0.2 | Last Reward: -18.44 | Average100: -47 | Total Reward: 149.45289527343814\n",
            "Iteration: 64 | Epsilon: 0.19 | Last Reward: -100 | Average100: -47 | Total Reward: -64.20710757629033\n",
            "Iteration: 65 | Epsilon: 0.19 | Last Reward: 0.38 | Average100: -45 | Total Reward: 100.86812303756727\n",
            "Iteration: 66 | Epsilon: 0.18 | Last Reward: 0.72 | Average100: -44 | Total Reward: -18.61358234460702\n",
            "Iteration: 67 | Epsilon: 0.18 | Last Reward: 100 | Average100: -41 | Total Reward: 177.14841888143897\n",
            "Iteration: 68 | Epsilon: 0.17 | Last Reward: 100 | Average100: -38 | Total Reward: 176.76507282017042\n",
            "Iteration: 69 | Epsilon: 0.17 | Last Reward: 100 | Average100: -34 | Total Reward: 212.0427092126451\n",
            "Iteration: 70 | Epsilon: 0.17 | Last Reward: 100 | Average100: -31 | Total Reward: 223.10156435175585\n",
            "Iteration: 71 | Epsilon: 0.16 | Last Reward: 0.11 | Average100: -29 | Total Reward: 100.82883128298553\n",
            "Iteration: 72 | Epsilon: 0.16 | Last Reward: 100 | Average100: -25 | Total Reward: 237.61394328154304\n",
            "Iteration: 73 | Epsilon: 0.15 | Last Reward: -0.13 | Average100: -23 | Total Reward: 157.55339980965636\n",
            "Iteration: 74 | Epsilon: 0.15 | Last Reward: 100 | Average100: -20 | Total Reward: 176.4801238749473\n",
            "Iteration: 75 | Epsilon: 0.15 | Last Reward: 100 | Average100: -17 | Total Reward: 199.9438873790138\n",
            "Iteration: 76 | Epsilon: 0.14 | Last Reward: -100 | Average100: -17 | Total Reward: 16.609493427303605\n",
            "Iteration: 77 | Epsilon: 0.14 | Last Reward: 0.02 | Average100: -15 | Total Reward: 135.12361493690526\n",
            "Iteration: 78 | Epsilon: 0.14 | Last Reward: 0.9 | Average100: -13 | Total Reward: 113.33940065909722\n",
            "Iteration: 79 | Epsilon: 0.13 | Last Reward: 100 | Average100: -10 | Total Reward: 233.73552912583506\n",
            "Iteration: 80 | Epsilon: 0.13 | Last Reward: 100 | Average100: -7 | Total Reward: 219.46105976028372\n",
            "Iteration: 81 | Epsilon: 0.13 | Last Reward: -1.66 | Average100: -8 | Total Reward: -52.014464898122334\n",
            "Iteration: 82 | Epsilon: 0.12 | Last Reward: -100 | Average100: -11 | Total Reward: -288.05699697214646\n",
            "Iteration: 83 | Epsilon: 0.12 | Last Reward: 100 | Average100: -8 | Total Reward: 264.93876211869303\n",
            "Iteration: 84 | Epsilon: 0.12 | Last Reward: 100 | Average100: -5 | Total Reward: 212.6027445655289\n",
            "Iteration: 85 | Epsilon: 0.11 | Last Reward: 100 | Average100: -2 | Total Reward: 254.7596003094293\n",
            "Iteration: 86 | Epsilon: 0.11 | Last Reward: 100 | Average100: 0 | Total Reward: 230.52057895713637\n",
            "Iteration: 87 | Epsilon: 0.11 | Last Reward: 100 | Average100: 3 | Total Reward: 237.10008708858615\n",
            "Iteration: 88 | Epsilon: 0.11 | Last Reward: -0.65 | Average100: 5 | Total Reward: 125.7853462064799\n",
            "Iteration: 89 | Epsilon: 0.1 | Last Reward: 100 | Average100: 7 | Total Reward: 250.66285652224997\n",
            "Iteration: 90 | Epsilon: 0.1 | Last Reward: 100 | Average100: 10 | Total Reward: 234.1563129637658\n",
            "Iteration: 91 | Epsilon: 0.1 | Last Reward: 100 | Average100: 12 | Total Reward: 190.25474255157047\n",
            "Iteration: 92 | Epsilon: 0.09 | Last Reward: 100 | Average100: 14 | Total Reward: 228.7053517656911\n",
            "Iteration: 93 | Epsilon: 0.09 | Last Reward: 0.24 | Average100: 15 | Total Reward: 105.62784932717233\n",
            "Iteration: 94 | Epsilon: 0.09 | Last Reward: 100 | Average100: 18 | Total Reward: 268.91128683220137\n",
            "Iteration: 95 | Epsilon: 0.09 | Last Reward: 100 | Average100: 20 | Total Reward: 251.84227426435947\n",
            "Iteration: 96 | Epsilon: 0.09 | Last Reward: 100 | Average100: 22 | Total Reward: 235.2002958615129\n",
            "Iteration: 97 | Epsilon: 0.08 | Last Reward: 100 | Average100: 24 | Total Reward: 198.42812270733106\n",
            "Iteration: 98 | Epsilon: 0.08 | Last Reward: 100 | Average100: 26 | Total Reward: 200.25221785849223\n",
            "Iteration: 99 | Epsilon: 0.08 | Last Reward: -0.02 | Average100: 27 | Total Reward: 98.30117779896055\n",
            "Iteration: 100 | Epsilon: 0.08 | Last Reward: 100 | Average100: 33 | Total Reward: 218.74923857271162\n",
            "Iteration: 101 | Epsilon: 0.08 | Last Reward: 100 | Average100: 35 | Total Reward: 198.3973579492326\n",
            "Iteration: 102 | Epsilon: 0.07 | Last Reward: 100 | Average100: 37 | Total Reward: 214.3795289183509\n",
            "Iteration: 103 | Epsilon: 0.07 | Last Reward: 100 | Average100: 44 | Total Reward: 230.61114918262555\n",
            "Iteration: 104 | Epsilon: 0.07 | Last Reward: 100 | Average100: 52 | Total Reward: 232.96802810407945\n",
            "Iteration: 105 | Epsilon: 0.07 | Last Reward: 100 | Average100: 56 | Total Reward: 177.02760577188693\n",
            "Iteration: 106 | Epsilon: 0.07 | Last Reward: 100 | Average100: 62 | Total Reward: 253.2076541747023\n",
            "Iteration: 107 | Epsilon: 0.06 | Last Reward: 100 | Average100: 69 | Total Reward: 239.85531528378647\n",
            "Iteration: 108 | Epsilon: 0.06 | Last Reward: 100 | Average100: 74 | Total Reward: 221.434496641359\n",
            "Iteration: 109 | Epsilon: 0.06 | Last Reward: 100 | Average100: 77 | Total Reward: 229.81606811610385\n",
            "Iteration: 110 | Epsilon: 0.06 | Last Reward: 100 | Average100: 82 | Total Reward: 239.1862715276161\n",
            "Iteration: 111 | Epsilon: 0.06 | Last Reward: 100 | Average100: 85 | Total Reward: 261.3854733589941\n",
            "Iteration: 112 | Epsilon: 0.06 | Last Reward: 100 | Average100: 89 | Total Reward: 280.468432385282\n",
            "Iteration: 113 | Epsilon: 0.06 | Last Reward: 100 | Average100: 92 | Total Reward: 250.33972032476134\n",
            "Iteration: 114 | Epsilon: 0.05 | Last Reward: 100 | Average100: 95 | Total Reward: 196.02529251151103\n",
            "Iteration: 115 | Epsilon: 0.05 | Last Reward: 100 | Average100: 99 | Total Reward: 233.55310005992138\n",
            "Iteration: 116 | Epsilon: 0.05 | Last Reward: 11.89 | Average100: 100 | Total Reward: 49.55313252965526\n",
            "Iteration: 117 | Epsilon: 0.05 | Last Reward: 100 | Average100: 104 | Total Reward: 194.46376577842665\n",
            "Iteration: 118 | Epsilon: 0.05 | Last Reward: 0.26 | Average100: 103 | Total Reward: -17.275895705717108\n",
            "Iteration: 119 | Epsilon: 0.05 | Last Reward: 100 | Average100: 107 | Total Reward: 278.91919127606116\n",
            "Iteration: 120 | Epsilon: 0.05 | Last Reward: 100 | Average100: 109 | Total Reward: 230.19366352778815\n",
            "Iteration: 121 | Epsilon: 0.05 | Last Reward: 100 | Average100: 111 | Total Reward: 261.35391991209684\n",
            "Iteration: 122 | Epsilon: 0.04 | Last Reward: -100 | Average100: 111 | Total Reward: -24.8059843597225\n",
            "Iteration: 123 | Epsilon: 0.04 | Last Reward: 100 | Average100: 113 | Total Reward: 257.3549560743107\n",
            "Iteration: 124 | Epsilon: 0.04 | Last Reward: 100 | Average100: 116 | Total Reward: 238.14210384701045\n",
            "Iteration: 125 | Epsilon: 0.04 | Last Reward: 100 | Average100: 119 | Total Reward: 296.24541276518556\n",
            "Iteration: 126 | Epsilon: 0.04 | Last Reward: 100 | Average100: 122 | Total Reward: 254.74035165908649\n",
            "Iteration: 127 | Epsilon: 0.04 | Last Reward: -100 | Average100: 122 | Total Reward: -1.026686381615292\n",
            "Iteration: 128 | Epsilon: 0.04 | Last Reward: 100 | Average100: 124 | Total Reward: 242.2045696195411\n",
            "Iteration: 129 | Epsilon: 0.04 | Last Reward: 100 | Average100: 128 | Total Reward: 262.611338702832\n",
            "Iteration: 130 | Epsilon: 0.04 | Last Reward: 100 | Average100: 130 | Total Reward: 250.09412921851225\n",
            "Iteration: 131 | Epsilon: 0.04 | Last Reward: 100 | Average100: 132 | Total Reward: 248.49678543383635\n",
            "Iteration: 132 | Epsilon: 0.03 | Last Reward: 100 | Average100: 134 | Total Reward: 254.83936606408656\n",
            "Iteration: 133 | Epsilon: 0.03 | Last Reward: 100 | Average100: 136 | Total Reward: 248.5132591618128\n",
            "Iteration: 134 | Epsilon: 0.03 | Last Reward: 100 | Average100: 138 | Total Reward: 180.90927243189736\n",
            "Iteration: 135 | Epsilon: 0.03 | Last Reward: 100 | Average100: 140 | Total Reward: 243.74823323801348\n",
            "Iteration: 136 | Epsilon: 0.03 | Last Reward: -10.54 | Average100: 139 | Total Reward: -59.11687912263833\n",
            "Iteration: 137 | Epsilon: 0.03 | Last Reward: 100 | Average100: 142 | Total Reward: 243.59972836603308\n",
            "Iteration: 138 | Epsilon: 0.03 | Last Reward: 100 | Average100: 145 | Total Reward: 215.45607893910778\n",
            "Iteration: 139 | Epsilon: 0.03 | Last Reward: 100 | Average100: 147 | Total Reward: 257.01583800091964\n",
            "Iteration: 140 | Epsilon: 0.03 | Last Reward: 100 | Average100: 150 | Total Reward: 207.0893738359619\n",
            "Iteration: 141 | Epsilon: 0.03 | Last Reward: 100 | Average100: 151 | Total Reward: 181.6342127388259\n",
            "Iteration: 142 | Epsilon: 0.03 | Last Reward: 100 | Average100: 154 | Total Reward: 279.60003378524675\n",
            "Iteration: 143 | Epsilon: 0.03 | Last Reward: 100 | Average100: 157 | Total Reward: 233.78758470335563\n",
            "Iteration: 144 | Epsilon: 0.03 | Last Reward: 100 | Average100: 159 | Total Reward: 228.45567143023814\n",
            "Iteration: 145 | Epsilon: 0.02 | Last Reward: 100 | Average100: 163 | Total Reward: 278.4747635048778\n",
            "Iteration: 146 | Epsilon: 0.02 | Last Reward: 100 | Average100: 165 | Total Reward: 277.07191625755945\n",
            "Iteration: 147 | Epsilon: 0.02 | Last Reward: 100 | Average100: 167 | Total Reward: 292.9032864717256\n",
            "Iteration: 148 | Epsilon: 0.02 | Last Reward: 100 | Average100: 169 | Total Reward: 254.45927963505932\n",
            "Iteration: 149 | Epsilon: 0.02 | Last Reward: 100 | Average100: 170 | Total Reward: 232.47071633370672\n",
            "Iteration: 150 | Epsilon: 0.02 | Last Reward: 100 | Average100: 172 | Total Reward: 227.94944807979306\n",
            "Iteration: 151 | Epsilon: 0.02 | Last Reward: 100 | Average100: 173 | Total Reward: 219.77878547418157\n",
            "Iteration: 152 | Epsilon: 0.02 | Last Reward: 100 | Average100: 179 | Total Reward: 257.5396797380083\n",
            "Iteration: 153 | Epsilon: 0.02 | Last Reward: 100 | Average100: 180 | Total Reward: 199.04785228177562\n",
            "Iteration: 154 | Epsilon: 0.02 | Last Reward: 100 | Average100: 181 | Total Reward: 260.45373132445854\n",
            "Iteration: 155 | Epsilon: 0.02 | Last Reward: 100 | Average100: 182 | Total Reward: 182.12796545511543\n",
            "Iteration: 156 | Epsilon: 0.02 | Last Reward: 100 | Average100: 184 | Total Reward: 237.2589528311984\n",
            "Iteration: 157 | Epsilon: 0.02 | Last Reward: 100 | Average100: 186 | Total Reward: 136.89778998358304\n",
            "Iteration: 158 | Epsilon: 0.02 | Last Reward: 100 | Average100: 188 | Total Reward: 281.7840258824051\n",
            "Iteration: 159 | Epsilon: 0.02 | Last Reward: 100 | Average100: 190 | Total Reward: 234.33881214082064\n",
            "Iteration: 160 | Epsilon: 0.02 | Last Reward: 100 | Average100: 192 | Total Reward: 265.79743282184\n",
            "Iteration: 161 | Epsilon: 0.02 | Last Reward: 100 | Average100: 193 | Total Reward: 210.5702189228437\n",
            "Iteration: 162 | Epsilon: 0.02 | Last Reward: -0.06 | Average100: 194 | Total Reward: 160.55396308315608\n",
            "Iteration: 163 | Epsilon: 0.02 | Last Reward: 100 | Average100: 195 | Total Reward: 251.60178183843783\n",
            "Iteration: 164 | Epsilon: 0.02 | Last Reward: 2.81 | Average100: 196 | Total Reward: 6.852290061060358\n",
            "Iteration: 165 | Epsilon: 0.01 | Last Reward: 100 | Average100: 197 | Total Reward: 176.36646219944387\n",
            "Iteration: 166 | Epsilon: 0.01 | Last Reward: 100 | Average100: 199 | Total Reward: 237.4134784095109\n",
            "Iteration: 167 | Epsilon: 0.01 | Last Reward: 100 | Average100: 199 | Total Reward: 173.80324742273197\n",
            "Iteration: 168 | Epsilon: 0.01 | Last Reward: 100 | Average100: 200 | Total Reward: 243.3074058167249\n",
            "Iteration: 169 | Epsilon: 0.01 | Last Reward: 9.54 | Average100: 198 | Total Reward: 6.171152291631502\n",
            "Iteration: 170 | Epsilon: 0.01 | Last Reward: 100 | Average100: 198 | Total Reward: 275.19363866233505\n",
            "Iteration: 171 | Epsilon: 0.01 | Last Reward: 100 | Average100: 200 | Total Reward: 234.33246559757495\n",
            "Iteration: 172 | Epsilon: 0.01 | Last Reward: 100 | Average100: 200 | Total Reward: 260.63339180927954\n",
            "Iteration: 173 | Epsilon: 0.01 | Last Reward: 100 | Average100: 201 | Total Reward: 283.1726538842711\n",
            "Finished after 73 iterations.\n"
          ],
          "name": "stdout"
        }
      ]
    },
    {
      "cell_type": "code",
      "metadata": {
        "id": "tNVLgkF-gk_O"
      },
      "source": [
        "# Memory to JSON data.\r\n",
        "with open('/content/gdrive/My Drive/Double Dueling DQN.json', 'w') as f:\r\n",
        "    json.dump(results_memory, f)"
      ],
      "execution_count": null,
      "outputs": []
    },
    {
      "cell_type": "code",
      "metadata": {
        "id": "qw7m2w5ghKtF",
        "colab": {
          "base_uri": "https://localhost:8080/"
        },
        "outputId": "413f3463-6acd-425b-d8a0-e91f129757c9"
      },
      "source": [
        "# Upload JSON data to notebook.\r\n",
        "loaded_results_memory = None\r\n",
        "with open('/content/gdrive/My Drive/Double Dueling DQN.json') as f:\r\n",
        "    loaded_results_memory = json.loads(f.read())\r\n",
        "\r\n",
        "print(loaded_results_memory[0])"
      ],
      "execution_count": null,
      "outputs": [
        {
          "output_type": "stream",
          "text": [
            "[0, -380]\n"
          ],
          "name": "stdout"
        }
      ]
    },
    {
      "cell_type": "code",
      "metadata": {
        "id": "BzyI3vKZQiR6",
        "colab": {
          "base_uri": "https://localhost:8080/"
        },
        "outputId": "e323cbc6-c15d-49b3-b11d-f1dafaa5817e"
      },
      "source": [
        "env.close() \r\n",
        "show_video()"
      ],
      "execution_count": null,
      "outputs": [
        {
          "output_type": "display_data",
          "data": {
            "text/html": [
              "<video alt=\"test\" autoplay \n",
              "                    loop controls style=\"height: 400px;\">\n",
              "                    <source src=\"data:video/mp4;base64,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\" type=\"video/mp4\" />\n",
              "                </video>"
            ],
            "text/plain": [
              "<IPython.core.display.HTML object>"
            ]
          },
          "metadata": {
            "tags": []
          }
        }
      ]
    }
  ]
}