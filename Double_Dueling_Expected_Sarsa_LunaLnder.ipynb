{
  "nbformat": 4,
  "nbformat_minor": 0,
  "metadata": {
    "colab": {
      "name": "Double Dueling Expected Sarsa - LunaLnder.ipynb",
      "provenance": [],
      "collapsed_sections": [],
      "toc_visible": true
    },
    "kernelspec": {
      "display_name": "Python 3",
      "name": "python3"
    },
    "accelerator": "GPU"
  },
  "cells": [
    {
      "cell_type": "markdown",
      "metadata": {
        "id": "W-cVn8qQKtJq"
      },
      "source": [
        "Based on the following links to create this notebook:\r\n",
        "\r\n",
        "https://colab.research.google.com/drive/18LdlDDT87eb8cCTHZsXyS9ksQPzL3i6H\r\n",
        "\r\n",
        "https://colab.research.google.com/drive/1tug_bpg8RwrFOI8C6Ed-zo0OgD3yfnWy#scrollTo=bhsj7BTPHepg\r\n",
        "\r\n",
        "https://colab.research.google.com/drive/1tug_bpg8RwrFOI8C6Ed-zo0OgD3yfnWy\r\n",
        "\r\n",
        "\r\n",
        "To run Gym, you have to install prerequisites like xvbf,opengl & other python-dev packages using the following codes."
      ]
    },
    {
      "cell_type": "code",
      "metadata": {
        "colab": {
          "base_uri": "https://localhost:8080/"
        },
        "id": "GmtbAjPPKiFw",
        "outputId": "b85d2f2a-6640-4705-f32d-26ea08e1684f"
      },
      "source": [
        "!pip install gym\r\n",
        "!apt-get install python-opengl -y\r\n",
        "!apt install xvfb -y\r\n",
        "!pip install pyvirtualdisplay\r\n",
        "!pip install piglet\r\n",
        "\r\n",
        "from pyvirtualdisplay import Display\r\n",
        "display = Display(visible=0, size=(1400, 900))\r\n",
        "display.start()"
      ],
      "execution_count": null,
      "outputs": [
        {
          "output_type": "stream",
          "text": [
            "Requirement already satisfied: gym in /usr/local/lib/python3.7/dist-packages (0.17.3)\n",
            "Requirement already satisfied: numpy>=1.10.4 in /usr/local/lib/python3.7/dist-packages (from gym) (1.19.5)\n",
            "Requirement already satisfied: cloudpickle<1.7.0,>=1.2.0 in /usr/local/lib/python3.7/dist-packages (from gym) (1.3.0)\n",
            "Requirement already satisfied: pyglet<=1.5.0,>=1.4.0 in /usr/local/lib/python3.7/dist-packages (from gym) (1.5.0)\n",
            "Requirement already satisfied: scipy in /usr/local/lib/python3.7/dist-packages (from gym) (1.4.1)\n",
            "Requirement already satisfied: future in /usr/local/lib/python3.7/dist-packages (from pyglet<=1.5.0,>=1.4.0->gym) (0.16.0)\n",
            "Reading package lists... Done\n",
            "Building dependency tree       \n",
            "Reading state information... Done\n",
            "python-opengl is already the newest version (3.1.0+dfsg-1).\n",
            "0 upgraded, 0 newly installed, 0 to remove and 29 not upgraded.\n",
            "Reading package lists... Done\n",
            "Building dependency tree       \n",
            "Reading state information... Done\n",
            "xvfb is already the newest version (2:1.19.6-1ubuntu4.8).\n",
            "0 upgraded, 0 newly installed, 0 to remove and 29 not upgraded.\n",
            "Requirement already satisfied: pyvirtualdisplay in /usr/local/lib/python3.7/dist-packages (2.1)\n",
            "Requirement already satisfied: EasyProcess in /usr/local/lib/python3.7/dist-packages (from pyvirtualdisplay) (0.3)\n",
            "Requirement already satisfied: piglet in /usr/local/lib/python3.7/dist-packages (1.0.0)\n",
            "Requirement already satisfied: piglet-templates in /usr/local/lib/python3.7/dist-packages (from piglet) (1.1.0)\n",
            "Requirement already satisfied: markupsafe in /usr/local/lib/python3.7/dist-packages (from piglet-templates->piglet) (1.1.1)\n",
            "Requirement already satisfied: Parsley in /usr/local/lib/python3.7/dist-packages (from piglet-templates->piglet) (1.3)\n",
            "Requirement already satisfied: astunparse in /usr/local/lib/python3.7/dist-packages (from piglet-templates->piglet) (1.6.3)\n",
            "Requirement already satisfied: attrs in /usr/local/lib/python3.7/dist-packages (from piglet-templates->piglet) (20.3.0)\n",
            "Requirement already satisfied: six<2.0,>=1.6.1 in /usr/local/lib/python3.7/dist-packages (from astunparse->piglet-templates->piglet) (1.15.0)\n",
            "Requirement already satisfied: wheel<1.0,>=0.23.0 in /usr/local/lib/python3.7/dist-packages (from astunparse->piglet-templates->piglet) (0.36.2)\n"
          ],
          "name": "stdout"
        },
        {
          "output_type": "execute_result",
          "data": {
            "text/plain": [
              "<pyvirtualdisplay.display.Display at 0x7f6a070ac1d0>"
            ]
          },
          "metadata": {
            "tags": []
          },
          "execution_count": 31
        }
      ]
    },
    {
      "cell_type": "code",
      "metadata": {
        "colab": {
          "base_uri": "https://localhost:8080/"
        },
        "id": "kXkT86s8Yv7W",
        "outputId": "852a38b4-1844-4b52-a40d-98bd1c74a457"
      },
      "source": [
        "from google.colab import drive\r\n",
        "drive.mount('/content/gdrive')"
      ],
      "execution_count": null,
      "outputs": [
        {
          "output_type": "stream",
          "text": [
            "Drive already mounted at /content/gdrive; to attempt to forcibly remount, call drive.mount(\"/content/gdrive\", force_remount=True).\n"
          ],
          "name": "stdout"
        }
      ]
    },
    {
      "cell_type": "code",
      "metadata": {
        "id": "Y_hxdz4ALVQ3"
      },
      "source": [
        "# This code creates a virtual display to draw game images on.\r\n",
        "# If you are running locally, just ignore it\r\n",
        "import os\r\n",
        "if type(os.environ.get(\"DISPLAY\")) is not str or len(os.environ.get(\"DISPLAY\")) == 0:\r\n",
        "    !bash ../xvfb start\r\n",
        "    %env DISPLAY = : 1"
      ],
      "execution_count": null,
      "outputs": []
    },
    {
      "cell_type": "code",
      "metadata": {
        "id": "C1GqN0iRLaZk"
      },
      "source": [
        "import json\r\n",
        "import gym\r\n",
        "from gym import logger as gymlogger\r\n",
        "from gym.wrappers import Monitor\r\n",
        "gymlogger.set_level(40) # error only\r\n",
        "import numpy as np\r\n",
        "import random\r\n",
        "import matplotlib\r\n",
        "import matplotlib.pyplot as plt\r\n",
        "%matplotlib inline\r\n",
        "import math\r\n",
        "import glob\r\n",
        "import io\r\n",
        "import base64\r\n",
        "from IPython.display import HTML\r\n",
        "import copy\r\n",
        "from collections import deque\r\n",
        "\r\n",
        "from IPython import display as ipythondisplay\r\n",
        "import torch\r\n",
        "import torchvision\r\n",
        "from torchvision import transforms\r\n",
        "import torch.nn as nn\r\n",
        "import torch.optim as optim\r\n",
        "import torch.nn.functional as F\r\n",
        "from torch.utils.data import Dataset, DataLoader"
      ],
      "execution_count": null,
      "outputs": []
    },
    {
      "cell_type": "code",
      "metadata": {
        "id": "ILbriB_oLn5T"
      },
      "source": [
        "\"\"\"\r\n",
        "Utility functions to enable video recording of gym environment and displaying it\r\n",
        "To enable video, just do \"env = wrap_env(env)\"\"\r\n",
        "\"\"\"\r\n",
        "def show_video():\r\n",
        "    mp4list = glob.glob('video/*.mp4')\r\n",
        "    if len(mp4list) > 0:\r\n",
        "        mp4 = mp4list[0]\r\n",
        "        video = io.open(mp4, 'r+b').read()\r\n",
        "        encoded = base64.b64encode(video)\r\n",
        "        ipythondisplay.display(HTML(data='''<video alt=\"test\" autoplay \r\n",
        "                    loop controls style=\"height: 400px;\">\r\n",
        "                    <source src=\"data:video/mp4;base64,{0}\" type=\"video/mp4\" />\r\n",
        "                </video>'''.format(encoded.decode('ascii'))))\r\n",
        "    else:\r\n",
        "        print(\"Could not find video\")\r\n",
        "\r\n",
        "\r\n",
        "def wrap_env(env):\r\n",
        "    env = Monitor(env, './video', force=True)\r\n",
        "    return env"
      ],
      "execution_count": null,
      "outputs": []
    },
    {
      "cell_type": "code",
      "metadata": {
        "colab": {
          "base_uri": "https://localhost:8080/"
        },
        "id": "NnR-cqjbLpI4",
        "outputId": "bf6dd26c-c61d-44cd-af43-1602554689b0"
      },
      "source": [
        "!pip install gym[box2d]"
      ],
      "execution_count": null,
      "outputs": [
        {
          "output_type": "stream",
          "text": [
            "Requirement already satisfied: gym[box2d] in /usr/local/lib/python3.7/dist-packages (0.17.3)\n",
            "Requirement already satisfied: pyglet<=1.5.0,>=1.4.0 in /usr/local/lib/python3.7/dist-packages (from gym[box2d]) (1.5.0)\n",
            "Requirement already satisfied: scipy in /usr/local/lib/python3.7/dist-packages (from gym[box2d]) (1.4.1)\n",
            "Requirement already satisfied: cloudpickle<1.7.0,>=1.2.0 in /usr/local/lib/python3.7/dist-packages (from gym[box2d]) (1.3.0)\n",
            "Requirement already satisfied: numpy>=1.10.4 in /usr/local/lib/python3.7/dist-packages (from gym[box2d]) (1.19.5)\n",
            "Requirement already satisfied: box2d-py~=2.3.5; extra == \"box2d\" in /usr/local/lib/python3.7/dist-packages (from gym[box2d]) (2.3.8)\n",
            "Requirement already satisfied: future in /usr/local/lib/python3.7/dist-packages (from pyglet<=1.5.0,>=1.4.0->gym[box2d]) (0.16.0)\n"
          ],
          "name": "stdout"
        }
      ]
    },
    {
      "cell_type": "code",
      "metadata": {
        "id": "yCHLYkMkLzcf",
        "colab": {
          "base_uri": "https://localhost:8080/",
          "height": 286
        },
        "outputId": "3beb4f91-d06c-4102-a3a4-80876d1b647e"
      },
      "source": [
        "env = gym.make('LunarLanderContinuous-v2')\r\n",
        "env.reset()\r\n",
        "plt.imshow(env.render('rgb_array'))"
      ],
      "execution_count": null,
      "outputs": [
        {
          "output_type": "execute_result",
          "data": {
            "text/plain": [
              "<matplotlib.image.AxesImage at 0x7f6a0709a650>"
            ]
          },
          "metadata": {
            "tags": []
          },
          "execution_count": 37
        },
        {
          "output_type": "display_data",
          "data": {
            "image/png": "[encoded data removed]",
            "text/plain": [
              "<Figure size 432x288 with 1 Axes>"
            ]
          },
          "metadata": {
            "tags": [],
            "needs_background": "light"
          }
        }
      ]
    },
    {
      "cell_type": "code",
      "metadata": {
        "id": "Wh4v_3zCRepL",
        "colab": {
          "base_uri": "https://localhost:8080/"
        },
        "outputId": "e36619c3-5d25-478d-fb62-51eeb54b25d5"
      },
      "source": [
        "state_size = env.observation_space\r\n",
        "print(\"state size is:\", state_size)\r\n",
        "a = env.action_space\r\n",
        "print(\"action size=\", a)\r\n",
        "state = env.reset()\r\n",
        "print(state)"
      ],
      "execution_count": null,
      "outputs": [
        {
          "output_type": "stream",
          "text": [
            "state size is: Box(-inf, inf, (8,), float32)\n",
            "action size= Box(-1.0, 1.0, (2,), float32)\n",
            "[ 0.00161667  1.4001734   0.16372643 -0.47762352 -0.00186642 -0.03708649\n",
            "  0.          0.        ]\n"
          ],
          "name": "stdout"
        }
      ]
    },
    {
      "cell_type": "markdown",
      "metadata": {
        "id": "yTfAdl7dSS-K"
      },
      "source": [
        "# Action Space\r\n",
        "            #is two floats [main engine, left-right engines].\r\n",
        "            # Main engine: -1..0 off, 0..+1 throttle from 50% to 100% power. Engine can't work with less than 50% power.\r\n",
        "            # Left-right:  -1.0..-0.5 fire left engine, +0.5..+1.0 fire right engine, -0.5..0.5 off\r\n",
        "            self.action_space = spaces.Box(-1, +1, (2,), dtype=np.float32)"
      ]
    },
    {
      "cell_type": "markdown",
      "metadata": {
        "id": "AfJat7i14jfS"
      },
      "source": [
        "# Action Space (continuous to discrete values)"
      ]
    },
    {
      "cell_type": "code",
      "metadata": {
        "id": "odd5_LwaQbSh"
      },
      "source": [
        "class ActionSpace(object):\r\n",
        "    def __init__(self, x_size, y_size):\r\n",
        "        self.x_size = x_size\r\n",
        "        self.y_size = y_size\r\n",
        "        self.cache = {}\r\n",
        "        self.build_actions_cache()\r\n",
        "\r\n",
        "    def build_actions_cache(self):\r\n",
        "        for i in range(self.x_size * self.y_size):\r\n",
        "            self.cache[i] = self.get_value_by_key(i)\r\n",
        "\r\n",
        "    def get_value_by_key(self, key):\r\n",
        "        ind1 = int(key / self.y_size)\r\n",
        "        ind2 = key % self.y_size\r\n",
        "        value1 = 0 + ind1 * (1 / (self.x_size - 1))\r\n",
        "\r\n",
        "        if ind1 == 0:\r\n",
        "            value1 = -1\r\n",
        "        if ind2 == 0:\r\n",
        "            value2 = 0\r\n",
        "        else:\r\n",
        "            half = (self.y_size - 1) / 2\r\n",
        "            if ind2 <= self.y_size/2:\r\n",
        "                value2 = -0.5+- ind2 * (0.5 / (half))\r\n",
        "            else:\r\n",
        "                ind2 = ind2 - half\r\n",
        "                value2 = 0.5 + ind2 * (0.5 / (half))\r\n",
        "\r\n",
        "        return [value1, value2]\r\n",
        "\r\n",
        "    def choose(self, key):\r\n",
        "        return self.cache[key]\r\n",
        "\r\n",
        "\r\n",
        "x_actions = 2\r\n",
        "y_actions = 15  # y_actions must be an odd number.\r\n",
        "all_actions = x_actions * y_actions\r\n",
        "action_space = ActionSpace(x_actions, y_actions)"
      ],
      "execution_count": null,
      "outputs": []
    },
    {
      "cell_type": "markdown",
      "metadata": {
        "id": "47ib0m3U4heI"
      },
      "source": [
        "# DQN Model."
      ]
    },
    {
      "cell_type": "code",
      "metadata": {
        "id": "1GwXRXmsXkuK"
      },
      "source": [
        "class DuelingDQN(nn.Module):\r\n",
        "    def __init__(self, all_actions):\r\n",
        "        super(DuelingDQN, self).__init__()\r\n",
        "\r\n",
        "        self.fc1 = nn.Linear(8, 128)\r\n",
        "        self.fc2 = nn.Linear(128, 256)\r\n",
        "        self.fc3 = nn.Linear(256, 256)\r\n",
        "        self.fc4 = nn.Linear(256, all_actions)\r\n",
        "        self.fc_value = nn.Linear(256, 1)\r\n",
        "\r\n",
        "    def forward(self, x):\r\n",
        "        x = F.relu(self.fc1(x))\r\n",
        "        x = F.relu(self.fc2(x))\r\n",
        "        x = F.relu(self.fc3(x))\r\n",
        "        advantage = self.fc4(x)\r\n",
        "        value = self.fc_value(x)\r\n",
        "        return advantage + value - torch.mean(advantage)"
      ],
      "execution_count": null,
      "outputs": []
    },
    {
      "cell_type": "markdown",
      "metadata": {
        "id": "x757fDnSRJdn"
      },
      "source": [
        "# GPU/CPU"
      ]
    },
    {
      "cell_type": "code",
      "metadata": {
        "colab": {
          "base_uri": "https://localhost:8080/"
        },
        "id": "k9AU4N9YCGoP",
        "outputId": "0c929204-6c5f-4b9e-dfac-81c056703969"
      },
      "source": [
        "device = None\r\n",
        "if torch.cuda.is_available():\r\n",
        "    print(\"Using GPU.\")\r\n",
        "    device = torch.device('cuda:0')\r\n",
        "else:\r\n",
        "    print(\"Using CPU.\")\r\n",
        "    device = torch.device(\"cpu\")"
      ],
      "execution_count": null,
      "outputs": [
        {
          "output_type": "stream",
          "text": [
            "Using GPU.\n"
          ],
          "name": "stdout"
        }
      ]
    },
    {
      "cell_type": "markdown",
      "metadata": {
        "id": "rLYd9IHLU9sY"
      },
      "source": [
        "# Replay Memory"
      ]
    },
    {
      "cell_type": "code",
      "metadata": {
        "id": "tqrpFa_gRPNC"
      },
      "source": [
        "class ReplayMemory(object):\r\n",
        "    def __init__(self, replay_memory_size):\r\n",
        "        self.memory = deque(maxlen=replay_memory_size)\r\n",
        "\r\n",
        "    def size(self):\r\n",
        "        return len(self.memory)\r\n",
        "\r\n",
        "    def push(self, state, action, reward, observation, done):\r\n",
        "        self.memory.append((state, action, reward, observation, done))\r\n",
        "\r\n",
        "    def sample(self, batch_size):\r\n",
        "        return random.sample(self.memory, batch_size)"
      ],
      "execution_count": null,
      "outputs": []
    },
    {
      "cell_type": "markdown",
      "metadata": {
        "id": "2pdmX8ojQGpd"
      },
      "source": [
        "# Methods"
      ]
    },
    {
      "cell_type": "code",
      "metadata": {
        "id": "lDNbImwBQGXK"
      },
      "source": [
        "def choose_action(state, epsilon, model):\r\n",
        "    model.eval()\r\n",
        "    if np.random.rand() <= epsilon:\r\n",
        "        return np.random.choice(all_actions)\r\n",
        "    else:\r\n",
        "        unsqueeze = state.unsqueeze(0)\r\n",
        "        preds = model(unsqueeze)\r\n",
        "        value, indice = torch.max(preds, 1)\r\n",
        "        return indice[0].item()\r\n",
        "\r\n",
        "\r\n",
        "def run_replay_experiments(model, target_model, replay_memory, optimizer, batch_size,epsilon):\r\n",
        "    optimizer.zero_grad()\r\n",
        "    model.eval()\r\n",
        "    target_model.eval()\r\n",
        "\r\n",
        "    x_batch = []\r\n",
        "    x_target = []\r\n",
        "    samples_batch = replay_memory.sample(batch_size)\r\n",
        "\r\n",
        "    for state, action, reward, observation, done in samples_batch:\r\n",
        "        x_batch.append(state)\r\n",
        "        x_target.append(observation)\r\n",
        "\r\n",
        " \r\n",
        "    x_batch = torch.stack(x_batch).to(device)\r\n",
        "    x_target = torch.stack(x_target).to(device)\r\n",
        "\r\n",
        "    model_target_preds = model(x_target)\r\n",
        "    target_preds = target_model(x_target)\r\n",
        "    _, indices = torch.max(model_target_preds, 1)\r\n",
        "\r\n",
        "    max_values = []\r\n",
        "    for i in range(len(indices)):\r\n",
        "        max_values.append(target_preds[i][indices[i]])\r\n",
        "    max_values = torch.FloatTensor(max_values).to(device)    \r\n",
        "    average_values=torch.mean(target_preds,dim=1)\r\n",
        "    max_values=max_values*(1-epsilon)+average_values*(epsilon)\r\n",
        "    model.train()\r\n",
        "\r\n",
        "    model_preds = model(x_batch)\r\n",
        "    model_preds_clone = model_preds.clone()    \r\n",
        "    for index, (state, action, reward, observation, done) in enumerate(samples_batch):\r\n",
        "        if done:\r\n",
        "            model_preds_clone[index][action] = reward\r\n",
        "        else:\r\n",
        "            model_preds_clone[index][action] = reward + gama * max_values[index]\r\n",
        "\r\n",
        "    loss = F.smooth_l1_loss(model_preds, model_preds_clone)\r\n",
        "    loss.backward()\r\n",
        "    optimizer.step()"
      ],
      "execution_count": null,
      "outputs": []
    },
    {
      "cell_type": "markdown",
      "metadata": {
        "id": "a48wrZOW4OH0"
      },
      "source": [
        "# Parameters."
      ]
    },
    {
      "cell_type": "code",
      "metadata": {
        "id": "OtGLjXTt2cbj"
      },
      "source": [
        "epsilon = 1\r\n",
        "epsilon_decay = 0.975\r\n",
        "\r\n",
        "batch_size = 256\r\n",
        "max_iterations = 50000\r\n",
        "\r\n",
        "reset_target = 200\r\n",
        "steps_per_action = 1\r\n",
        "replay_memory_size = 20000\r\n",
        "\r\n",
        "gama = 0.99\r\n",
        "lr = 0.00005"
      ],
      "execution_count": null,
      "outputs": []
    },
    {
      "cell_type": "markdown",
      "metadata": {
        "id": "4QDVmpFT4Q6I"
      },
      "source": [
        "# Training the model."
      ]
    },
    {
      "cell_type": "code",
      "metadata": {
        "id": "EQaFvJdvM4qX",
        "colab": {
          "base_uri": "https://localhost:8080/"
        },
        "outputId": "15039fdc-9b7c-4745-8eba-7c2949c34d16"
      },
      "source": [
        "env = wrap_env(env)\r\n",
        "\r\n",
        "\r\n",
        "model = DuelingDQN(all_actions)\r\n",
        "model.to(device)\r\n",
        "optimizer = optim.Adam(model.parameters(), lr=lr)\r\n",
        "\r\n",
        "if not next(model.parameters()).is_cuda:\r\n",
        "    print('The neural network model is not working on GPU!')\r\n",
        "\r\n",
        "average100 = deque(maxlen=100)\r\n",
        "replay_memory = ReplayMemory(replay_memory_size)\r\n",
        "\r\n",
        "results_memory = []\r\n",
        "steps=0\r\n",
        "for iteration in range(max_iterations):\r\n",
        "    state = env.reset()\r\n",
        "    total_reward = 0\r\n",
        "    done = False\r\n",
        "    state = torch.from_numpy(state).to(device)\r\n",
        "\r\n",
        "    while not done:\r\n",
        "        action = choose_action(state, epsilon, model)\r\n",
        "        converted_action = action_space.choose(action)\r\n",
        "\r\n",
        "        observation, reward, done, _ = env.step(converted_action)\r\n",
        "        observation = torch.from_numpy(observation).to(device)\r\n",
        "        total_reward += reward\r\n",
        "\r\n",
        "        replay_memory.push(state, action, reward, observation, done)\r\n",
        "        state = observation\r\n",
        "\r\n",
        "\r\n",
        "        for i in range(steps_per_action):\r\n",
        "            if steps % reset_target == 0:\r\n",
        "                target_model = copy.deepcopy(model)\r\n",
        "                target_model.to(device)  \r\n",
        "            steps=steps+1        \r\n",
        "            if replay_memory.size() >= batch_size:\r\n",
        "                run_replay_experiments(model, target_model, replay_memory, optimizer, batch_size,epsilon)\r\n",
        "\r\n",
        "\r\n",
        "    average100.append(total_reward)\r\n",
        "    epsilon *= epsilon_decay\r\n",
        "    print(f'Iteration: {iteration} | Epsilon: {round(epsilon, 2)} | Last Reward: {round(reward, 2)} | Average100: {round(np.average(average100))} | Total Reward: {total_reward}')\r\n",
        "    results_memory.append((iteration, round(np.average(average100))))\r\n",
        "\r\n",
        "    if len(average100) >= 100 and np.average(average100) >= 200:\r\n",
        "        print(f'Finished after {iteration-100} iterations.')\r\n",
        "        break\r\n"
      ],
      "execution_count": null,
      "outputs": [
        {
          "output_type": "stream",
          "text": [
            "Iteration: 0 | Epsilon: 0.97 | Last Reward: -100 | Average100: -82 | Total Reward: -81.56504446099558\n",
            "Iteration: 1 | Epsilon: 0.95 | Last Reward: -100 | Average100: -201 | Total Reward: -320.1940644232175\n",
            "Iteration: 2 | Epsilon: 0.93 | Last Reward: -100 | Average100: -277 | Total Reward: -429.83287393295404\n",
            "Iteration: 3 | Epsilon: 0.9 | Last Reward: -100 | Average100: -327 | Total Reward: -474.9437655275017\n",
            "Iteration: 4 | Epsilon: 0.88 | Last Reward: -100 | Average100: -361 | Total Reward: -497.32505836692525\n",
            "Iteration: 5 | Epsilon: 0.86 | Last Reward: -100 | Average100: -331 | Total Reward: -182.56781016553143\n",
            "Iteration: 6 | Epsilon: 0.84 | Last Reward: -100 | Average100: -299 | Total Reward: -109.62970224795853\n",
            "Iteration: 7 | Epsilon: 0.82 | Last Reward: -100 | Average100: -290 | Total Reward: -222.16891756078624\n",
            "Iteration: 8 | Epsilon: 0.8 | Last Reward: -100 | Average100: -294 | Total Reward: -328.41479290923223\n",
            "Iteration: 9 | Epsilon: 0.78 | Last Reward: -100 | Average100: -286 | Total Reward: -215.49137909519254\n",
            "Iteration: 10 | Epsilon: 0.76 | Last Reward: -100 | Average100: -285 | Total Reward: -276.6203751204534\n",
            "Iteration: 11 | Epsilon: 0.74 | Last Reward: -100 | Average100: -293 | Total Reward: -375.5663374124353\n",
            "Iteration: 12 | Epsilon: 0.72 | Last Reward: -100 | Average100: -288 | Total Reward: -229.47087343357404\n",
            "Iteration: 13 | Epsilon: 0.7 | Last Reward: -100 | Average100: -279 | Total Reward: -162.94585696387622\n",
            "Iteration: 14 | Epsilon: 0.68 | Last Reward: -100 | Average100: -272 | Total Reward: -177.41191831689952\n",
            "Iteration: 15 | Epsilon: 0.67 | Last Reward: -100 | Average100: -270 | Total Reward: -227.9704091693614\n",
            "Iteration: 16 | Epsilon: 0.65 | Last Reward: -100 | Average100: -282 | Total Reward: -483.9547880690998\n",
            "Iteration: 17 | Epsilon: 0.63 | Last Reward: -100 | Average100: -275 | Total Reward: -148.57324199013505\n",
            "Iteration: 18 | Epsilon: 0.62 | Last Reward: -100 | Average100: -273 | Total Reward: -242.93647869193262\n",
            "Iteration: 19 | Epsilon: 0.6 | Last Reward: -100 | Average100: -262 | Total Reward: -57.28197971695121\n",
            "Iteration: 20 | Epsilon: 0.59 | Last Reward: -100 | Average100: -256 | Total Reward: -134.85321058851173\n",
            "Iteration: 21 | Epsilon: 0.57 | Last Reward: 0.03 | Average100: -247 | Total Reward: -50.20329668080665\n",
            "Iteration: 22 | Epsilon: 0.56 | Last Reward: -0.86 | Average100: -238 | Total Reward: -55.4882480982748\n",
            "Iteration: 23 | Epsilon: 0.54 | Last Reward: 0.96 | Average100: -230 | Total Reward: -31.53090374963629\n",
            "Iteration: 24 | Epsilon: 0.53 | Last Reward: 2.19 | Average100: -220 | Total Reward: 19.509948648449853\n",
            "Iteration: 25 | Epsilon: 0.52 | Last Reward: -0.01 | Average100: -208 | Total Reward: 77.8106867274185\n",
            "Iteration: 26 | Epsilon: 0.5 | Last Reward: 1.22 | Average100: -201 | Total Reward: 2.0836661023557683\n",
            "Iteration: 27 | Epsilon: 0.49 | Last Reward: -0.37 | Average100: -190 | Total Reward: 91.3063041840043\n",
            "Iteration: 28 | Epsilon: 0.48 | Last Reward: 0.68 | Average100: -184 | Total Reward: -21.94996558875605\n",
            "Iteration: 29 | Epsilon: 0.47 | Last Reward: 0.7 | Average100: -179 | Total Reward: -33.494140817807775\n",
            "Iteration: 30 | Epsilon: 0.46 | Last Reward: -1.34 | Average100: -174 | Total Reward: -26.763774656217837\n",
            "Iteration: 31 | Epsilon: 0.44 | Last Reward: -1.69 | Average100: -170 | Total Reward: -29.453987347982736\n",
            "Iteration: 32 | Epsilon: 0.43 | Last Reward: 1.28 | Average100: -166 | Total Reward: -31.1415580721874\n",
            "Iteration: 33 | Epsilon: 0.42 | Last Reward: -0.76 | Average100: -163 | Total Reward: -58.4397644140445\n",
            "Iteration: 34 | Epsilon: 0.41 | Last Reward: 1.61 | Average100: -159 | Total Reward: -43.2221244099132\n",
            "Iteration: 35 | Epsilon: 0.4 | Last Reward: -2.21 | Average100: -157 | Total Reward: -82.75732910023275\n",
            "Iteration: 36 | Epsilon: 0.39 | Last Reward: -2.32 | Average100: -155 | Total Reward: -65.2540623612265\n",
            "Iteration: 37 | Epsilon: 0.38 | Last Reward: -1.73 | Average100: -152 | Total Reward: -50.9319128585318\n",
            "Iteration: 38 | Epsilon: 0.37 | Last Reward: 0.93 | Average100: -149 | Total Reward: -44.90413298397163\n",
            "Iteration: 39 | Epsilon: 0.36 | Last Reward: -5.08 | Average100: -144 | Total Reward: 65.79908032516767\n",
            "Iteration: 40 | Epsilon: 0.35 | Last Reward: -2.67 | Average100: -141 | Total Reward: -30.491003198021623\n",
            "Iteration: 41 | Epsilon: 0.35 | Last Reward: 11.3 | Average100: -136 | Total Reward: 46.88878850384718\n",
            "Iteration: 42 | Epsilon: 0.34 | Last Reward: -0.38 | Average100: -135 | Total Reward: -76.45136950110783\n",
            "Iteration: 43 | Epsilon: 0.33 | Last Reward: -0.87 | Average100: -133 | Total Reward: -47.84199766572727\n",
            "Iteration: 44 | Epsilon: 0.32 | Last Reward: 1.1 | Average100: -130 | Total Reward: -0.8857376756871806\n",
            "Iteration: 45 | Epsilon: 0.31 | Last Reward: -1.79 | Average100: -128 | Total Reward: -8.69659838007254\n",
            "Iteration: 46 | Epsilon: 0.3 | Last Reward: -2.6 | Average100: -125 | Total Reward: -7.5509965715560705\n",
            "Iteration: 47 | Epsilon: 0.3 | Last Reward: -1.93 | Average100: -122 | Total Reward: -3.3738429097688067\n",
            "Iteration: 48 | Epsilon: 0.29 | Last Reward: 2.09 | Average100: -120 | Total Reward: -17.02305296943919\n",
            "Iteration: 49 | Epsilon: 0.28 | Last Reward: 10.53 | Average100: -117 | Total Reward: 46.859946636828234\n",
            "Iteration: 50 | Epsilon: 0.27 | Last Reward: 0.35 | Average100: -115 | Total Reward: -14.416520659822782\n",
            "Iteration: 51 | Epsilon: 0.27 | Last Reward: -0.39 | Average100: -113 | Total Reward: -26.50016851224288\n",
            "Iteration: 52 | Epsilon: 0.26 | Last Reward: -2.37 | Average100: -110 | Total Reward: 48.47856722615766\n",
            "Iteration: 53 | Epsilon: 0.25 | Last Reward: -1.92 | Average100: -108 | Total Reward: -0.4758637515145663\n",
            "Iteration: 54 | Epsilon: 0.25 | Last Reward: -0.09 | Average100: -106 | Total Reward: 18.976595053007927\n",
            "Iteration: 55 | Epsilon: 0.24 | Last Reward: -0.48 | Average100: -105 | Total Reward: -38.52770748908323\n",
            "Iteration: 56 | Epsilon: 0.24 | Last Reward: 1.8 | Average100: -103 | Total Reward: -22.9956449744029\n",
            "Iteration: 57 | Epsilon: 0.23 | Last Reward: -0.36 | Average100: -103 | Total Reward: -72.13070303528143\n",
            "Iteration: 58 | Epsilon: 0.22 | Last Reward: -9.39 | Average100: -101 | Total Reward: 11.997661882488034\n",
            "Iteration: 59 | Epsilon: 0.22 | Last Reward: 0.48 | Average100: -101 | Total Reward: -88.34292325760111\n",
            "Iteration: 60 | Epsilon: 0.21 | Last Reward: -0.01 | Average100: -98 | Total Reward: 46.970328090704875\n",
            "Iteration: 61 | Epsilon: 0.21 | Last Reward: 1.47 | Average100: -96 | Total Reward: 36.23363076325568\n",
            "Iteration: 62 | Epsilon: 0.2 | Last Reward: -100 | Average100: -96 | Total Reward: -99.74043897708566\n",
            "Iteration: 63 | Epsilon: 0.2 | Last Reward: 100 | Average100: -92 | Total Reward: 138.37279633697298\n",
            "Iteration: 64 | Epsilon: 0.19 | Last Reward: 0.83 | Average100: -91 | Total Reward: -26.708461164903067\n",
            "Iteration: 65 | Epsilon: 0.19 | Last Reward: 9.51 | Average100: -90 | Total Reward: 11.511138798263756\n",
            "Iteration: 66 | Epsilon: 0.18 | Last Reward: 1.44 | Average100: -89 | Total Reward: -5.9401425833891786\n",
            "Iteration: 67 | Epsilon: 0.18 | Last Reward: -1.27 | Average100: -87 | Total Reward: 22.45374606867324\n",
            "Iteration: 68 | Epsilon: 0.17 | Last Reward: -3.04 | Average100: -86 | Total Reward: -54.38481509864108\n",
            "Iteration: 69 | Epsilon: 0.17 | Last Reward: 1.27 | Average100: -86 | Total Reward: -74.01791028834478\n",
            "Iteration: 70 | Epsilon: 0.17 | Last Reward: -0.8 | Average100: -86 | Total Reward: -40.5906265704311\n",
            "Iteration: 71 | Epsilon: 0.16 | Last Reward: -0.56 | Average100: -85 | Total Reward: -44.662870913647104\n",
            "Iteration: 72 | Epsilon: 0.16 | Last Reward: -1.88 | Average100: -85 | Total Reward: -55.33836451569228\n",
            "Iteration: 73 | Epsilon: 0.15 | Last Reward: -0.04 | Average100: -83 | Total Reward: 2.0397344312703223\n",
            "Iteration: 74 | Epsilon: 0.15 | Last Reward: 100 | Average100: -80 | Total Reward: 147.6145194101059\n",
            "Iteration: 75 | Epsilon: 0.15 | Last Reward: -1.15 | Average100: -79 | Total Reward: 6.8048431266699065\n",
            "Iteration: 76 | Epsilon: 0.14 | Last Reward: 0.1 | Average100: -78 | Total Reward: 34.35113537539182\n",
            "Iteration: 77 | Epsilon: 0.14 | Last Reward: -0.01 | Average100: -76 | Total Reward: 35.114533246525525\n",
            "Iteration: 78 | Epsilon: 0.14 | Last Reward: 0.28 | Average100: -75 | Total Reward: 61.09592866896084\n",
            "Iteration: 79 | Epsilon: 0.13 | Last Reward: 100 | Average100: -72 | Total Reward: 140.04480829557548\n",
            "Iteration: 80 | Epsilon: 0.13 | Last Reward: -0.14 | Average100: -70 | Total Reward: 48.709476072467815\n",
            "Iteration: 81 | Epsilon: 0.13 | Last Reward: 100 | Average100: -67 | Total Reward: 189.3905644519246\n",
            "Iteration: 82 | Epsilon: 0.12 | Last Reward: 0.02 | Average100: -66 | Total Reward: 41.465778129739704\n",
            "Iteration: 83 | Epsilon: 0.12 | Last Reward: 100 | Average100: -63 | Total Reward: 185.06787009877428\n",
            "Iteration: 84 | Epsilon: 0.12 | Last Reward: 100 | Average100: -59 | Total Reward: 251.30481857474405\n",
            "Iteration: 85 | Epsilon: 0.11 | Last Reward: 100 | Average100: -57 | Total Reward: 131.43826737127503\n",
            "Iteration: 86 | Epsilon: 0.11 | Last Reward: 100 | Average100: -54 | Total Reward: 193.70195369781285\n",
            "Iteration: 87 | Epsilon: 0.11 | Last Reward: 100 | Average100: -51 | Total Reward: 196.01056795421064\n",
            "Iteration: 88 | Epsilon: 0.11 | Last Reward: 100 | Average100: -49 | Total Reward: 177.87773728231855\n",
            "Iteration: 89 | Epsilon: 0.1 | Last Reward: 1.06 | Average100: -49 | Total Reward: -60.407040390908456\n",
            "Iteration: 90 | Epsilon: 0.1 | Last Reward: 10.41 | Average100: -49 | Total Reward: -43.65358585043767\n",
            "Iteration: 91 | Epsilon: 0.1 | Last Reward: 100 | Average100: -46 | Total Reward: 181.60293673578644\n",
            "Iteration: 92 | Epsilon: 0.09 | Last Reward: 100 | Average100: -43 | Total Reward: 243.85169770795977\n",
            "Iteration: 93 | Epsilon: 0.09 | Last Reward: 100 | Average100: -40 | Total Reward: 260.18096828814924\n",
            "Iteration: 94 | Epsilon: 0.09 | Last Reward: 100 | Average100: -37 | Total Reward: 226.58688007649104\n",
            "Iteration: 95 | Epsilon: 0.09 | Last Reward: -0.16 | Average100: -37 | Total Reward: -31.639577381313075\n",
            "Iteration: 96 | Epsilon: 0.09 | Last Reward: -2.49 | Average100: -37 | Total Reward: -46.370691075430734\n",
            "Iteration: 97 | Epsilon: 0.08 | Last Reward: 100 | Average100: -35 | Total Reward: 207.6740652787334\n",
            "Iteration: 98 | Epsilon: 0.08 | Last Reward: -0.06 | Average100: -35 | Total Reward: -50.93085840841505\n",
            "Iteration: 99 | Epsilon: 0.08 | Last Reward: -100 | Average100: -35 | Total Reward: -17.309415926966125\n",
            "Iteration: 100 | Epsilon: 0.08 | Last Reward: 100 | Average100: -32 | Total Reward: 181.37350784814294\n",
            "Iteration: 101 | Epsilon: 0.08 | Last Reward: 2.14 | Average100: -29 | Total Reward: -9.386523635612473\n",
            "Iteration: 102 | Epsilon: 0.07 | Last Reward: 0.07 | Average100: -24 | Total Reward: 33.13158926876145\n",
            "Iteration: 103 | Epsilon: 0.07 | Last Reward: -0.26 | Average100: -19 | Total Reward: 62.817743300571934\n",
            "Iteration: 104 | Epsilon: 0.07 | Last Reward: 100 | Average100: -12 | Total Reward: 164.0722810389703\n",
            "Iteration: 105 | Epsilon: 0.07 | Last Reward: 100 | Average100: -8 | Total Reward: 213.08058755598327\n",
            "Iteration: 106 | Epsilon: 0.07 | Last Reward: 100 | Average100: -6 | Total Reward: 151.89764281109058\n",
            "Iteration: 107 | Epsilon: 0.06 | Last Reward: 100 | Average100: -2 | Total Reward: 188.4534985071307\n",
            "Iteration: 108 | Epsilon: 0.06 | Last Reward: -0.25 | Average100: 2 | Total Reward: 60.89262995162576\n",
            "Iteration: 109 | Epsilon: 0.06 | Last Reward: -100 | Average100: 3 | Total Reward: -188.5588169492006\n",
            "Iteration: 110 | Epsilon: 0.06 | Last Reward: 0.0 | Average100: 6 | Total Reward: 66.50900930966075\n",
            "Iteration: 111 | Epsilon: 0.06 | Last Reward: 100 | Average100: 12 | Total Reward: 210.5101547163708\n",
            "Iteration: 112 | Epsilon: 0.06 | Last Reward: 1.03 | Average100: 14 | Total Reward: -40.473614160719514\n",
            "Iteration: 113 | Epsilon: 0.06 | Last Reward: 1.76 | Average100: 15 | Total Reward: -54.048069693301706\n",
            "Iteration: 114 | Epsilon: 0.05 | Last Reward: 100 | Average100: 19 | Total Reward: 197.1820577209645\n",
            "Iteration: 115 | Epsilon: 0.05 | Last Reward: 0.24 | Average100: 21 | Total Reward: -21.53799079363903\n",
            "Iteration: 116 | Epsilon: 0.05 | Last Reward: -1.64 | Average100: 25 | Total Reward: 1.0361977526297608\n",
            "Iteration: 117 | Epsilon: 0.05 | Last Reward: -0.03 | Average100: 27 | Total Reward: -18.392201522775327\n",
            "Iteration: 118 | Epsilon: 0.05 | Last Reward: 100 | Average100: 31 | Total Reward: 205.6725380886399\n",
            "Iteration: 119 | Epsilon: 0.05 | Last Reward: 100 | Average100: 34 | Total Reward: 200.3260766242574\n",
            "Iteration: 120 | Epsilon: 0.05 | Last Reward: 100 | Average100: 38 | Total Reward: 249.86289976517938\n",
            "Iteration: 121 | Epsilon: 0.05 | Last Reward: 100 | Average100: 41 | Total Reward: 239.83198351530513\n",
            "Iteration: 122 | Epsilon: 0.04 | Last Reward: 100 | Average100: 44 | Total Reward: 249.69348758625557\n",
            "Iteration: 123 | Epsilon: 0.04 | Last Reward: 100 | Average100: 47 | Total Reward: 265.35396118432294\n",
            "Iteration: 124 | Epsilon: 0.04 | Last Reward: 100 | Average100: 49 | Total Reward: 220.17955262664506\n",
            "Iteration: 125 | Epsilon: 0.04 | Last Reward: 100 | Average100: 50 | Total Reward: 238.1640124130869\n",
            "Iteration: 126 | Epsilon: 0.04 | Last Reward: 100 | Average100: 52 | Total Reward: 209.60187719067994\n",
            "Iteration: 127 | Epsilon: 0.04 | Last Reward: 100 | Average100: 54 | Total Reward: 232.0974366182631\n",
            "Iteration: 128 | Epsilon: 0.04 | Last Reward: 100 | Average100: 56 | Total Reward: 254.85785640396438\n",
            "Iteration: 129 | Epsilon: 0.04 | Last Reward: 100 | Average100: 59 | Total Reward: 209.65434916923232\n",
            "Iteration: 130 | Epsilon: 0.04 | Last Reward: 100 | Average100: 61 | Total Reward: 218.07740770521485\n",
            "Iteration: 131 | Epsilon: 0.04 | Last Reward: -0.4 | Average100: 62 | Total Reward: -0.5717731607728784\n",
            "Iteration: 132 | Epsilon: 0.03 | Last Reward: -100 | Average100: 62 | Total Reward: -30.872466817233473\n",
            "Iteration: 133 | Epsilon: 0.03 | Last Reward: 100 | Average100: 64 | Total Reward: 170.33870789123216\n",
            "Iteration: 134 | Epsilon: 0.03 | Last Reward: 100 | Average100: 66 | Total Reward: 177.05115909445612\n",
            "Iteration: 135 | Epsilon: 0.03 | Last Reward: 100 | Average100: 69 | Total Reward: 207.58176924815783\n",
            "Iteration: 136 | Epsilon: 0.03 | Last Reward: 100 | Average100: 72 | Total Reward: 191.30523427703486\n",
            "Iteration: 137 | Epsilon: 0.03 | Last Reward: 100 | Average100: 74 | Total Reward: 159.65356945658294\n",
            "Iteration: 138 | Epsilon: 0.03 | Last Reward: -100 | Average100: 73 | Total Reward: -68.23897687347231\n",
            "Iteration: 139 | Epsilon: 0.03 | Last Reward: 100 | Average100: 75 | Total Reward: 225.84483162988153\n",
            "Iteration: 140 | Epsilon: 0.03 | Last Reward: 100 | Average100: 77 | Total Reward: 167.89129653691117\n",
            "Iteration: 141 | Epsilon: 0.03 | Last Reward: 100 | Average100: 79 | Total Reward: 198.17908965285966\n",
            "Iteration: 142 | Epsilon: 0.03 | Last Reward: 100 | Average100: 82 | Total Reward: 239.0576273677729\n",
            "Iteration: 143 | Epsilon: 0.03 | Last Reward: 100 | Average100: 84 | Total Reward: 191.02911815778194\n",
            "Iteration: 144 | Epsilon: 0.03 | Last Reward: -11.65 | Average100: 84 | Total Reward: -18.446975205488823\n",
            "Iteration: 145 | Epsilon: 0.02 | Last Reward: 100 | Average100: 87 | Total Reward: 264.2244009616003\n",
            "Iteration: 146 | Epsilon: 0.02 | Last Reward: -2.25 | Average100: 87 | Total Reward: -22.194541942944703\n",
            "Iteration: 147 | Epsilon: 0.02 | Last Reward: 100 | Average100: 88 | Total Reward: 189.8217932333697\n",
            "Iteration: 148 | Epsilon: 0.02 | Last Reward: 100 | Average100: 91 | Total Reward: 208.1714760770143\n",
            "Iteration: 149 | Epsilon: 0.02 | Last Reward: 100 | Average100: 92 | Total Reward: 180.81175548237167\n",
            "Iteration: 150 | Epsilon: 0.02 | Last Reward: -0.91 | Average100: 92 | Total Reward: -35.88817956615594\n",
            "Iteration: 151 | Epsilon: 0.02 | Last Reward: 9.44 | Average100: 92 | Total Reward: -11.050118080528181\n",
            "Iteration: 152 | Epsilon: 0.02 | Last Reward: 100 | Average100: 94 | Total Reward: 234.92820496213176\n",
            "Iteration: 153 | Epsilon: 0.02 | Last Reward: 100 | Average100: 96 | Total Reward: 225.2996060610746\n",
            "Iteration: 154 | Epsilon: 0.02 | Last Reward: 100 | Average100: 99 | Total Reward: 282.40030151023086\n",
            "Iteration: 155 | Epsilon: 0.02 | Last Reward: 100 | Average100: 101 | Total Reward: 206.01873774447364\n",
            "Iteration: 156 | Epsilon: 0.02 | Last Reward: 100 | Average100: 104 | Total Reward: 222.1716746912286\n",
            "Iteration: 157 | Epsilon: 0.02 | Last Reward: 100 | Average100: 106 | Total Reward: 155.74951078918275\n",
            "Iteration: 158 | Epsilon: 0.02 | Last Reward: 100 | Average100: 108 | Total Reward: 238.6465197587575\n",
            "Iteration: 159 | Epsilon: 0.02 | Last Reward: 0.45 | Average100: 109 | Total Reward: 11.606593282385273\n",
            "Iteration: 160 | Epsilon: 0.02 | Last Reward: 100 | Average100: 111 | Total Reward: 213.1539651628174\n",
            "Iteration: 161 | Epsilon: 0.02 | Last Reward: 100 | Average100: 113 | Total Reward: 211.2469010898721\n",
            "Iteration: 162 | Epsilon: 0.02 | Last Reward: 100 | Average100: 116 | Total Reward: 250.58392075165168\n",
            "Iteration: 163 | Epsilon: 0.02 | Last Reward: 100 | Average100: 117 | Total Reward: 228.1081568876132\n",
            "Iteration: 164 | Epsilon: 0.02 | Last Reward: -0.13 | Average100: 118 | Total Reward: 93.9482917284444\n",
            "Iteration: 165 | Epsilon: 0.01 | Last Reward: 100 | Average100: 120 | Total Reward: 215.25103194411196\n",
            "Iteration: 166 | Epsilon: 0.01 | Last Reward: 100 | Average100: 122 | Total Reward: 174.13185492498582\n",
            "Iteration: 167 | Epsilon: 0.01 | Last Reward: 100 | Average100: 124 | Total Reward: 189.31203489705467\n",
            "Iteration: 168 | Epsilon: 0.01 | Last Reward: 0.72 | Average100: 124 | Total Reward: -25.304461002870394\n",
            "Iteration: 169 | Epsilon: 0.01 | Last Reward: -100 | Average100: 125 | Total Reward: -6.273234193881805\n",
            "Iteration: 170 | Epsilon: 0.01 | Last Reward: 0.57 | Average100: 127 | Total Reward: 152.40818940308964\n",
            "Iteration: 171 | Epsilon: 0.01 | Last Reward: 100 | Average100: 129 | Total Reward: 226.77329921165187\n",
            "Iteration: 172 | Epsilon: 0.01 | Last Reward: 100 | Average100: 132 | Total Reward: 253.85291970612997\n",
            "Iteration: 173 | Epsilon: 0.01 | Last Reward: 100 | Average100: 135 | Total Reward: 244.4511262845838\n",
            "Iteration: 174 | Epsilon: 0.01 | Last Reward: 100 | Average100: 136 | Total Reward: 238.24929392459015\n",
            "Iteration: 175 | Epsilon: 0.01 | Last Reward: 100 | Average100: 138 | Total Reward: 236.39282398346035\n",
            "Iteration: 176 | Epsilon: 0.01 | Last Reward: 0.87 | Average100: 138 | Total Reward: 2.2116559480305087\n",
            "Iteration: 177 | Epsilon: 0.01 | Last Reward: 100 | Average100: 139 | Total Reward: 197.4617958084919\n",
            "Iteration: 178 | Epsilon: 0.01 | Last Reward: 0.13 | Average100: 140 | Total Reward: 136.02824726111763\n",
            "Iteration: 179 | Epsilon: 0.01 | Last Reward: 100 | Average100: 141 | Total Reward: 245.51676753508906\n",
            "Iteration: 180 | Epsilon: 0.01 | Last Reward: 100 | Average100: 143 | Total Reward: 245.01704501307003\n",
            "Iteration: 181 | Epsilon: 0.01 | Last Reward: 100 | Average100: 143 | Total Reward: 192.08083318001485\n",
            "Iteration: 182 | Epsilon: 0.01 | Last Reward: 100 | Average100: 145 | Total Reward: 220.9322393590269\n",
            "Iteration: 183 | Epsilon: 0.01 | Last Reward: 100 | Average100: 145 | Total Reward: 235.023717674542\n",
            "Iteration: 184 | Epsilon: 0.01 | Last Reward: 100 | Average100: 145 | Total Reward: 208.66748827106954\n",
            "Iteration: 185 | Epsilon: 0.01 | Last Reward: 100 | Average100: 146 | Total Reward: 236.61742304097902\n",
            "Iteration: 186 | Epsilon: 0.01 | Last Reward: 100 | Average100: 146 | Total Reward: 211.03933226574077\n",
            "Iteration: 187 | Epsilon: 0.01 | Last Reward: -0.1 | Average100: 145 | Total Reward: 67.68555144808516\n",
            "Iteration: 188 | Epsilon: 0.01 | Last Reward: 100 | Average100: 145 | Total Reward: 206.99602059129563\n",
            "Iteration: 189 | Epsilon: 0.01 | Last Reward: 100 | Average100: 148 | Total Reward: 219.84150842403227\n",
            "Iteration: 190 | Epsilon: 0.01 | Last Reward: 100 | Average100: 151 | Total Reward: 257.0142547312332\n",
            "Iteration: 191 | Epsilon: 0.01 | Last Reward: 100 | Average100: 151 | Total Reward: 219.93751139256642\n",
            "Iteration: 192 | Epsilon: 0.01 | Last Reward: 100 | Average100: 152 | Total Reward: 295.3124181319463\n",
            "Iteration: 193 | Epsilon: 0.01 | Last Reward: 100 | Average100: 152 | Total Reward: 227.32186639192554\n",
            "Iteration: 194 | Epsilon: 0.01 | Last Reward: 100 | Average100: 152 | Total Reward: 257.62769100491073\n",
            "Iteration: 195 | Epsilon: 0.01 | Last Reward: -0.44 | Average100: 152 | Total Reward: -34.93526823741274\n",
            "Iteration: 196 | Epsilon: 0.01 | Last Reward: 100 | Average100: 155 | Total Reward: 263.0732438275144\n",
            "Iteration: 197 | Epsilon: 0.01 | Last Reward: 100 | Average100: 155 | Total Reward: 238.69308242991238\n",
            "Iteration: 198 | Epsilon: 0.01 | Last Reward: -100 | Average100: 156 | Total Reward: -29.794670860572168\n",
            "Iteration: 199 | Epsilon: 0.01 | Last Reward: 100 | Average100: 158 | Total Reward: 207.544875212301\n",
            "Iteration: 200 | Epsilon: 0.01 | Last Reward: 0.71 | Average100: 156 | Total Reward: -40.36883696412352\n",
            "Iteration: 201 | Epsilon: 0.01 | Last Reward: 100 | Average100: 158 | Total Reward: 233.59084788456292\n",
            "Iteration: 202 | Epsilon: 0.01 | Last Reward: 100 | Average100: 160 | Total Reward: 231.99486596684872\n",
            "Iteration: 203 | Epsilon: 0.01 | Last Reward: -100 | Average100: 160 | Total Reward: 52.19694834992259\n",
            "Iteration: 204 | Epsilon: 0.01 | Last Reward: 100 | Average100: 161 | Total Reward: 229.42313927279335\n",
            "Iteration: 205 | Epsilon: 0.01 | Last Reward: 100 | Average100: 161 | Total Reward: 215.79730955772652\n",
            "Iteration: 206 | Epsilon: 0.01 | Last Reward: 100 | Average100: 162 | Total Reward: 257.0920518060224\n",
            "Iteration: 207 | Epsilon: 0.01 | Last Reward: 100 | Average100: 162 | Total Reward: 251.62673687709182\n",
            "Iteration: 208 | Epsilon: 0.01 | Last Reward: -100 | Average100: 162 | Total Reward: 39.73715663398718\n",
            "Iteration: 209 | Epsilon: 0.0 | Last Reward: -100 | Average100: 164 | Total Reward: 40.69733846589136\n",
            "Iteration: 210 | Epsilon: 0.0 | Last Reward: 100 | Average100: 166 | Total Reward: 232.10526864320428\n",
            "Iteration: 211 | Epsilon: 0.0 | Last Reward: 100 | Average100: 166 | Total Reward: 254.98167461970158\n",
            "Iteration: 212 | Epsilon: 0.0 | Last Reward: 100 | Average100: 169 | Total Reward: 234.31452477754894\n",
            "Iteration: 213 | Epsilon: 0.0 | Last Reward: -1.89 | Average100: 169 | Total Reward: -21.60232457773187\n",
            "Iteration: 214 | Epsilon: 0.0 | Last Reward: 100 | Average100: 169 | Total Reward: 176.67164624781387\n",
            "Iteration: 215 | Epsilon: 0.0 | Last Reward: 100 | Average100: 172 | Total Reward: 233.17950077053197\n",
            "Iteration: 216 | Epsilon: 0.0 | Last Reward: 100 | Average100: 174 | Total Reward: 208.56470360247516\n",
            "Iteration: 217 | Epsilon: 0.0 | Last Reward: 100 | Average100: 177 | Total Reward: 250.72439164293652\n",
            "Iteration: 218 | Epsilon: 0.0 | Last Reward: 100 | Average100: 177 | Total Reward: 232.8865975787624\n",
            "Iteration: 219 | Epsilon: 0.0 | Last Reward: 100 | Average100: 177 | Total Reward: 219.27893525848737\n",
            "Iteration: 220 | Epsilon: 0.0 | Last Reward: 0.64 | Average100: 174 | Total Reward: -13.21393243956041\n",
            "Iteration: 221 | Epsilon: 0.0 | Last Reward: -0.02 | Average100: 173 | Total Reward: 114.77990250066239\n",
            "Iteration: 222 | Epsilon: 0.0 | Last Reward: 0.02 | Average100: 171 | Total Reward: 44.068661271422066\n",
            "Iteration: 223 | Epsilon: 0.0 | Last Reward: 0.06 | Average100: 170 | Total Reward: 142.8002333708885\n",
            "Iteration: 224 | Epsilon: 0.0 | Last Reward: 100 | Average100: 170 | Total Reward: 211.49275412754588\n",
            "Iteration: 225 | Epsilon: 0.0 | Last Reward: -0.08 | Average100: 169 | Total Reward: 148.8438005324723\n",
            "Iteration: 226 | Epsilon: 0.0 | Last Reward: 100 | Average100: 170 | Total Reward: 281.5425163484043\n",
            "Iteration: 227 | Epsilon: 0.0 | Last Reward: 100 | Average100: 170 | Total Reward: 233.18307030070662\n",
            "Iteration: 228 | Epsilon: 0.0 | Last Reward: -0.03 | Average100: 168 | Total Reward: 134.62920585144394\n",
            "Iteration: 229 | Epsilon: 0.0 | Last Reward: 100 | Average100: 169 | Total Reward: 235.0694647994716\n",
            "Iteration: 230 | Epsilon: 0.0 | Last Reward: 100 | Average100: 169 | Total Reward: 223.09861421862885\n",
            "Iteration: 231 | Epsilon: 0.0 | Last Reward: 100 | Average100: 171 | Total Reward: 275.073424917867\n",
            "Iteration: 232 | Epsilon: 0.0 | Last Reward: 0.08 | Average100: 173 | Total Reward: 90.11598484950278\n",
            "Iteration: 233 | Epsilon: 0.0 | Last Reward: -100 | Average100: 168 | Total Reward: -262.27512296497724\n",
            "Iteration: 234 | Epsilon: 0.0 | Last Reward: 100 | Average100: 169 | Total Reward: 267.1715318738224\n",
            "Iteration: 235 | Epsilon: 0.0 | Last Reward: 100 | Average100: 170 | Total Reward: 258.188635787423\n",
            "Iteration: 236 | Epsilon: 0.0 | Last Reward: 100 | Average100: 170 | Total Reward: 262.55325069343985\n",
            "Iteration: 237 | Epsilon: 0.0 | Last Reward: 100 | Average100: 171 | Total Reward: 218.80522099261003\n",
            "Iteration: 238 | Epsilon: 0.0 | Last Reward: -0.11 | Average100: 172 | Total Reward: -18.517736528179984\n",
            "Iteration: 239 | Epsilon: 0.0 | Last Reward: 100 | Average100: 172 | Total Reward: 255.32684239857616\n",
            "Iteration: 240 | Epsilon: 0.0 | Last Reward: 100 | Average100: 173 | Total Reward: 249.4601383488788\n",
            "Iteration: 241 | Epsilon: 0.0 | Last Reward: 100 | Average100: 173 | Total Reward: 242.52153342084523\n",
            "Iteration: 242 | Epsilon: 0.0 | Last Reward: 100 | Average100: 173 | Total Reward: 216.41284803319522\n",
            "Iteration: 243 | Epsilon: 0.0 | Last Reward: 100 | Average100: 173 | Total Reward: 248.2061583580454\n",
            "Iteration: 244 | Epsilon: 0.0 | Last Reward: 100 | Average100: 176 | Total Reward: 243.18687464439313\n",
            "Iteration: 245 | Epsilon: 0.0 | Last Reward: 100 | Average100: 176 | Total Reward: 249.00296533879202\n",
            "Iteration: 246 | Epsilon: 0.0 | Last Reward: 100 | Average100: 179 | Total Reward: 263.40311075069246\n",
            "Iteration: 247 | Epsilon: 0.0 | Last Reward: 100 | Average100: 179 | Total Reward: 259.3889814360538\n",
            "Iteration: 248 | Epsilon: 0.0 | Last Reward: 100 | Average100: 180 | Total Reward: 243.67147140116919\n",
            "Iteration: 249 | Epsilon: 0.0 | Last Reward: 100 | Average100: 180 | Total Reward: 222.45266849314604\n",
            "Iteration: 250 | Epsilon: 0.0 | Last Reward: 100 | Average100: 183 | Total Reward: 215.3399502458226\n",
            "Iteration: 251 | Epsilon: 0.0 | Last Reward: 100 | Average100: 185 | Total Reward: 191.49144799602004\n",
            "Iteration: 252 | Epsilon: 0.0 | Last Reward: 100 | Average100: 185 | Total Reward: 264.7954236306526\n",
            "Iteration: 253 | Epsilon: 0.0 | Last Reward: 100 | Average100: 185 | Total Reward: 215.24029652271446\n",
            "Iteration: 254 | Epsilon: 0.0 | Last Reward: 100 | Average100: 185 | Total Reward: 240.30063774501133\n",
            "Iteration: 255 | Epsilon: 0.0 | Last Reward: 100 | Average100: 185 | Total Reward: 252.06800200590774\n",
            "Iteration: 256 | Epsilon: 0.0 | Last Reward: 100 | Average100: 185 | Total Reward: 226.99490020524985\n",
            "Iteration: 257 | Epsilon: 0.0 | Last Reward: 100 | Average100: 186 | Total Reward: 214.34010499782016\n",
            "Iteration: 258 | Epsilon: 0.0 | Last Reward: 100 | Average100: 185 | Total Reward: 221.2337940293197\n",
            "Iteration: 259 | Epsilon: 0.0 | Last Reward: 100 | Average100: 188 | Total Reward: 241.3630536959629\n",
            "Iteration: 260 | Epsilon: 0.0 | Last Reward: 100 | Average100: 188 | Total Reward: 271.2706604492355\n",
            "Iteration: 261 | Epsilon: 0.0 | Last Reward: 100 | Average100: 188 | Total Reward: 216.8691166509934\n",
            "Iteration: 262 | Epsilon: 0.0 | Last Reward: 100 | Average100: 188 | Total Reward: 234.75788180293557\n",
            "Iteration: 263 | Epsilon: 0.0 | Last Reward: 11.13 | Average100: 186 | Total Reward: -17.622486471421418\n",
            "Iteration: 264 | Epsilon: 0.0 | Last Reward: 100 | Average100: 188 | Total Reward: 275.6546824607649\n",
            "Iteration: 265 | Epsilon: 0.0 | Last Reward: 100 | Average100: 188 | Total Reward: 223.99129302603995\n",
            "Iteration: 266 | Epsilon: 0.0 | Last Reward: 100 | Average100: 188 | Total Reward: 239.1928103205851\n",
            "Iteration: 267 | Epsilon: 0.0 | Last Reward: 2.4 | Average100: 186 | Total Reward: -47.59636992330421\n",
            "Iteration: 268 | Epsilon: 0.0 | Last Reward: 100 | Average100: 188 | Total Reward: 208.71580199167755\n",
            "Iteration: 269 | Epsilon: 0.0 | Last Reward: 11.04 | Average100: 188 | Total Reward: -24.813566382361692\n",
            "Iteration: 270 | Epsilon: 0.0 | Last Reward: 100 | Average100: 189 | Total Reward: 273.2948705775679\n",
            "Iteration: 271 | Epsilon: 0.0 | Last Reward: 100 | Average100: 190 | Total Reward: 284.4462186933638\n",
            "Iteration: 272 | Epsilon: 0.0 | Last Reward: 100 | Average100: 190 | Total Reward: 242.42872524552965\n",
            "Iteration: 273 | Epsilon: 0.0 | Last Reward: 100 | Average100: 190 | Total Reward: 268.39151973888653\n",
            "Iteration: 274 | Epsilon: 0.0 | Last Reward: 100 | Average100: 190 | Total Reward: 218.76991659507308\n",
            "Iteration: 275 | Epsilon: 0.0 | Last Reward: 100 | Average100: 190 | Total Reward: 277.6738577597355\n",
            "Iteration: 276 | Epsilon: 0.0 | Last Reward: 100 | Average100: 193 | Total Reward: 232.44713194239966\n",
            "Iteration: 277 | Epsilon: 0.0 | Last Reward: 100 | Average100: 193 | Total Reward: 248.43729248859142\n",
            "Iteration: 278 | Epsilon: 0.0 | Last Reward: 100 | Average100: 194 | Total Reward: 205.69161572859883\n",
            "Iteration: 279 | Epsilon: 0.0 | Last Reward: 100 | Average100: 194 | Total Reward: 227.20631331349733\n",
            "Iteration: 280 | Epsilon: 0.0 | Last Reward: 100 | Average100: 193 | Total Reward: 230.81800148696752\n",
            "Iteration: 281 | Epsilon: 0.0 | Last Reward: 10.44 | Average100: 192 | Total Reward: 5.436473133336858\n",
            "Iteration: 282 | Epsilon: 0.0 | Last Reward: 100 | Average100: 192 | Total Reward: 242.9167267786118\n",
            "Iteration: 283 | Epsilon: 0.0 | Last Reward: 100 | Average100: 192 | Total Reward: 243.91750879605868\n",
            "Iteration: 284 | Epsilon: 0.0 | Last Reward: 100 | Average100: 192 | Total Reward: 243.94820736484883\n",
            "Iteration: 285 | Epsilon: 0.0 | Last Reward: 100 | Average100: 192 | Total Reward: 207.15368957636127\n",
            "Iteration: 286 | Epsilon: 0.0 | Last Reward: 100 | Average100: 192 | Total Reward: 236.73631949956788\n",
            "Iteration: 287 | Epsilon: 0.0 | Last Reward: 100 | Average100: 194 | Total Reward: 290.2550603697358\n",
            "Iteration: 288 | Epsilon: 0.0 | Last Reward: 100 | Average100: 194 | Total Reward: 203.0758086199774\n",
            "Iteration: 289 | Epsilon: 0.0 | Last Reward: 100 | Average100: 195 | Total Reward: 263.81247296982474\n",
            "Iteration: 290 | Epsilon: 0.0 | Last Reward: 100 | Average100: 195 | Total Reward: 232.72775694116925\n",
            "Iteration: 291 | Epsilon: 0.0 | Last Reward: 100 | Average100: 195 | Total Reward: 234.0567951160921\n",
            "Iteration: 292 | Epsilon: 0.0 | Last Reward: 100 | Average100: 194 | Total Reward: 257.94733391306625\n",
            "Iteration: 293 | Epsilon: 0.0 | Last Reward: 100 | Average100: 195 | Total Reward: 266.0389466965904\n",
            "Iteration: 294 | Epsilon: 0.0 | Last Reward: 100 | Average100: 195 | Total Reward: 260.40848568502804\n",
            "Iteration: 295 | Epsilon: 0.0 | Last Reward: 100 | Average100: 198 | Total Reward: 274.1138759753729\n",
            "Iteration: 296 | Epsilon: 0.0 | Last Reward: 100 | Average100: 198 | Total Reward: 280.5116035539534\n",
            "Iteration: 297 | Epsilon: 0.0 | Last Reward: 100 | Average100: 198 | Total Reward: 221.711270854372\n",
            "Iteration: 298 | Epsilon: 0.0 | Last Reward: 100 | Average100: 201 | Total Reward: 256.9181677814896\n",
            "Finished after 198 iterations.\n"
          ],
          "name": "stdout"
        }
      ]
    },
    {
      "cell_type": "code",
      "metadata": {
        "id": "tNVLgkF-gk_O"
      },
      "source": [
        "# Memory to JSON data.\r\n",
        "with open('/content/gdrive/My Drive/Dueling DQN.json', 'w') as f:\r\n",
        "    json.dump(results_memory, f)"
      ],
      "execution_count": null,
      "outputs": []
    },
    {
      "cell_type": "code",
      "metadata": {
        "id": "qw7m2w5ghKtF",
        "colab": {
          "base_uri": "https://localhost:8080/"
        },
        "outputId": "cef4d12e-0fdb-449f-b748-c0ee19a48c65"
      },
      "source": [
        "# Upload JSON data to notebook.\r\n",
        "loaded_results_memory = None\r\n",
        "with open('/content/gdrive/My Drive/Dueling DQN.json') as f:\r\n",
        "    loaded_results_memory = json.loads(f.read())\r\n",
        "\r\n",
        "print(loaded_results_memory[0])"
      ],
      "execution_count": null,
      "outputs": [
        {
          "output_type": "stream",
          "text": [
            "[0, -82]\n"
          ],
          "name": "stdout"
        }
      ]
    },
    {
      "cell_type": "code",
      "metadata": {
        "id": "BzyI3vKZQiR6",
        "colab": {
          "base_uri": "https://localhost:8080/"
        },
        "outputId": "99d656a1-efbd-4ab3-b7b4-25c1f8a4d3a2"
      },
      "source": [
        "env.close() \r\n",
        "show_video()"
      ],
      "execution_count": null,
      "outputs": [
        {
          "output_type": "display_data",
          "data": {
            "text/html": [
              "<video alt=\"test\" autoplay \n",
              "                    loop controls style=\"height: 400px;\">\n",
              "                    <source src=\"data:video/mp4;base64,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\" type=\"video/mp4\" />\n",
              "                </video>"
            ],
            "text/plain": [
              "<IPython.core.display.HTML object>"
            ]
          },
          "metadata": {
            "tags": []
          }
        }
      ]
    }
  ]
}