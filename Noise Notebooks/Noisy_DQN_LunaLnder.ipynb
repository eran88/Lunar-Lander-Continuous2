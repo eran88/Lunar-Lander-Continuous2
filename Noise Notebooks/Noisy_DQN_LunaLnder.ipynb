{
  "nbformat": 4,
  "nbformat_minor": 0,
  "metadata": {
    "accelerator": "GPU",
    "colab": {
      "name": "Noisy DQN - LunaLnder.ipynb",
      "provenance": [],
      "collapsed_sections": [],
      "toc_visible": true
    },
    "kernelspec": {
      "display_name": "Python 3",
      "name": "python3"
    }
  },
  "cells": [
    {
      "cell_type": "markdown",
      "metadata": {
        "id": "W-cVn8qQKtJq"
      },
      "source": [
        "Based on the following links to create this notebook:\r\n",
        "\r\n",
        "https://colab.research.google.com/drive/18LdlDDT87eb8cCTHZsXyS9ksQPzL3i6H\r\n",
        "\r\n",
        "https://colab.research.google.com/drive/1tug_bpg8RwrFOI8C6Ed-zo0OgD3yfnWy#scrollTo=bhsj7BTPHepg\r\n",
        "\r\n",
        "https://colab.research.google.com/drive/1tug_bpg8RwrFOI8C6Ed-zo0OgD3yfnWy\r\n",
        "\r\n",
        "\r\n",
        "To run Gym, you have to install prerequisites like xvbf,opengl & other python-dev packages using the following codes."
      ]
    },
    {
      "cell_type": "code",
      "metadata": {
        "colab": {
          "background_save": true,
          "base_uri": "https://localhost:8080/"
        },
        "id": "GmtbAjPPKiFw",
        "outputId": "c165494e-7f54-41bc-a923-911990390098"
      },
      "source": [
        "!pip install gym\r\n",
        "!apt-get install python-opengl -y\r\n",
        "!apt install xvfb -y\r\n",
        "!pip install pyvirtualdisplay\r\n",
        "!pip install piglet\r\n",
        "\r\n",
        "from pyvirtualdisplay import Display\r\n",
        "display = Display(visible=0, size=(1400, 900))\r\n",
        "display.start()"
      ],
      "execution_count": null,
      "outputs": [
        {
          "output_type": "stream",
          "text": [
            "Requirement already satisfied: gym in /usr/local/lib/python3.7/dist-packages (0.17.3)\n",
            "Requirement already satisfied: scipy in /usr/local/lib/python3.7/dist-packages (from gym) (1.4.1)\n",
            "Requirement already satisfied: pyglet<=1.5.0,>=1.4.0 in /usr/local/lib/python3.7/dist-packages (from gym) (1.5.0)\n",
            "Requirement already satisfied: cloudpickle<1.7.0,>=1.2.0 in /usr/local/lib/python3.7/dist-packages (from gym) (1.3.0)\n",
            "Requirement already satisfied: numpy>=1.10.4 in /usr/local/lib/python3.7/dist-packages (from gym) (1.19.5)\n",
            "Requirement already satisfied: future in /usr/local/lib/python3.7/dist-packages (from pyglet<=1.5.0,>=1.4.0->gym) (0.16.0)\n",
            "Reading package lists... Done\n",
            "Building dependency tree       \n",
            "Reading state information... Done\n",
            "Suggested packages:\n",
            "  libgle3\n",
            "The following NEW packages will be installed:\n",
            "  python-opengl\n",
            "0 upgraded, 1 newly installed, 0 to remove and 29 not upgraded.\n",
            "Need to get 496 kB of archives.\n",
            "After this operation, 5,416 kB of additional disk space will be used.\n",
            "Get:1 http://archive.ubuntu.com/ubuntu bionic/universe amd64 python-opengl all 3.1.0+dfsg-1 [496 kB]\n",
            "Fetched 496 kB in 2s (251 kB/s)\n",
            "Selecting previously unselected package python-opengl.\n",
            "(Reading database ... 160975 files and directories currently installed.)\n",
            "Preparing to unpack .../python-opengl_3.1.0+dfsg-1_all.deb ...\n",
            "Unpacking python-opengl (3.1.0+dfsg-1) ...\n",
            "Setting up python-opengl (3.1.0+dfsg-1) ...\n",
            "Reading package lists... Done\n",
            "Building dependency tree       \n",
            "Reading state information... Done\n",
            "The following NEW packages will be installed:\n",
            "  xvfb\n",
            "0 upgraded, 1 newly installed, 0 to remove and 29 not upgraded.\n",
            "Need to get 784 kB of archives.\n",
            "After this operation, 2,270 kB of additional disk space will be used.\n",
            "Get:1 http://archive.ubuntu.com/ubuntu bionic-updates/universe amd64 xvfb amd64 2:1.19.6-1ubuntu4.8 [784 kB]\n",
            "Fetched 784 kB in 2s (349 kB/s)\n",
            "Selecting previously unselected package xvfb.\n",
            "(Reading database ... 163330 files and directories currently installed.)\n",
            "Preparing to unpack .../xvfb_2%3a1.19.6-1ubuntu4.8_amd64.deb ...\n",
            "Unpacking xvfb (2:1.19.6-1ubuntu4.8) ...\n",
            "Setting up xvfb (2:1.19.6-1ubuntu4.8) ...\n",
            "Processing triggers for man-db (2.8.3-2ubuntu0.1) ...\n",
            "Collecting pyvirtualdisplay\n",
            "  Downloading https://files.pythonhosted.org/packages/19/88/7a198a5ee3baa3d547f5a49574cd8c3913b216f5276b690b028f89ffb325/PyVirtualDisplay-2.1-py3-none-any.whl\n",
            "Collecting EasyProcess\n",
            "  Downloading https://files.pythonhosted.org/packages/48/3c/75573613641c90c6d094059ac28adb748560d99bd27ee6f80cce398f404e/EasyProcess-0.3-py2.py3-none-any.whl\n",
            "Installing collected packages: EasyProcess, pyvirtualdisplay\n",
            "Successfully installed EasyProcess-0.3 pyvirtualdisplay-2.1\n",
            "Collecting piglet\n",
            "  Downloading https://files.pythonhosted.org/packages/11/56/6840e5f45626dc7eb7cd5dff57d11880b3113723b3b7b1fb1fa537855b75/piglet-1.0.0-py2.py3-none-any.whl\n",
            "Collecting piglet-templates\n",
            "\u001b[?25l  Downloading https://files.pythonhosted.org/packages/34/1e/49d7e0df9420eeb13a636487b8e606cf099f2ee0793159edd8ffe905125b/piglet_templates-1.1.0-py3-none-any.whl (63kB)\n",
            "\u001b[K     |████████████████████████████████| 71kB 3.2MB/s \n",
            "\u001b[?25hRequirement already satisfied: attrs in /usr/local/lib/python3.7/dist-packages (from piglet-templates->piglet) (20.3.0)\n",
            "Requirement already satisfied: astunparse in /usr/local/lib/python3.7/dist-packages (from piglet-templates->piglet) (1.6.3)\n",
            "Requirement already satisfied: markupsafe in /usr/local/lib/python3.7/dist-packages (from piglet-templates->piglet) (1.1.1)\n",
            "Collecting Parsley\n",
            "\u001b[?25l  Downloading https://files.pythonhosted.org/packages/2b/d6/4fed8d65e28a970e1c5cb33ce9c7e22e3de745e1b2ae37af051ef16aea3b/Parsley-1.3-py2.py3-none-any.whl (88kB)\n",
            "\u001b[K     |████████████████████████████████| 92kB 4.5MB/s \n",
            "\u001b[?25hRequirement already satisfied: wheel<1.0,>=0.23.0 in /usr/local/lib/python3.7/dist-packages (from astunparse->piglet-templates->piglet) (0.36.2)\n",
            "Requirement already satisfied: six<2.0,>=1.6.1 in /usr/local/lib/python3.7/dist-packages (from astunparse->piglet-templates->piglet) (1.15.0)\n",
            "Installing collected packages: Parsley, piglet-templates, piglet\n",
            "Successfully installed Parsley-1.3 piglet-1.0.0 piglet-templates-1.1.0\n"
          ],
          "name": "stdout"
        },
        {
          "output_type": "execute_result",
          "data": {
            "text/plain": [
              "<pyvirtualdisplay.display.Display at 0x7f0e9d719b10>"
            ]
          },
          "metadata": {
            "tags": []
          },
          "execution_count": 0
        }
      ]
    },
    {
      "cell_type": "code",
      "metadata": {
        "colab": {
          "base_uri": "https://localhost:8080/"
        },
        "id": "kXkT86s8Yv7W",
        "outputId": "fc07f32d-760e-4132-f10e-970f5b01413d"
      },
      "source": [
        "from google.colab import drive\r\n",
        "drive.mount('/content/gdrive')"
      ],
      "execution_count": null,
      "outputs": [
        {
          "output_type": "stream",
          "text": [
            "Mounted at /content/gdrive\n"
          ],
          "name": "stdout"
        }
      ]
    },
    {
      "cell_type": "code",
      "metadata": {
        "id": "Y_hxdz4ALVQ3"
      },
      "source": [
        "# This code creates a virtual display to draw game images on.\r\n",
        "# If you are running locally, just ignore it\r\n",
        "import os\r\n",
        "if type(os.environ.get(\"DISPLAY\")) is not str or len(os.environ.get(\"DISPLAY\")) == 0:\r\n",
        "    !bash ../xvfb start\r\n",
        "    %env DISPLAY = : 1"
      ],
      "execution_count": null,
      "outputs": []
    },
    {
      "cell_type": "code",
      "metadata": {
        "id": "C1GqN0iRLaZk"
      },
      "source": [
        "import json\r\n",
        "import gym\r\n",
        "from gym import logger as gymlogger\r\n",
        "from gym.wrappers import Monitor\r\n",
        "gymlogger.set_level(40) # error only\r\n",
        "import numpy as np\r\n",
        "import random\r\n",
        "import matplotlib\r\n",
        "import matplotlib.pyplot as plt\r\n",
        "%matplotlib inline\r\n",
        "import math\r\n",
        "import glob\r\n",
        "import io\r\n",
        "import base64\r\n",
        "from IPython.display import HTML\r\n",
        "import copy\r\n",
        "from collections import deque\r\n",
        "\r\n",
        "from IPython import display as ipythondisplay\r\n",
        "import torch\r\n",
        "import torchvision\r\n",
        "from torchvision import transforms\r\n",
        "import torch.nn as nn\r\n",
        "import torch.optim as optim\r\n",
        "import torch.nn.functional as F\r\n",
        "from torch.utils.data import Dataset, DataLoader"
      ],
      "execution_count": null,
      "outputs": []
    },
    {
      "cell_type": "code",
      "metadata": {
        "id": "ILbriB_oLn5T"
      },
      "source": [
        "\"\"\"\r\n",
        "Utility functions to enable video recording of gym environment and displaying it\r\n",
        "To enable video, just do \"env = wrap_env(env)\"\"\r\n",
        "\"\"\"\r\n",
        "def show_video():\r\n",
        "    mp4list = glob.glob('video/*.mp4')\r\n",
        "    if len(mp4list) > 0:\r\n",
        "        mp4 = mp4list[0]\r\n",
        "        video = io.open(mp4, 'r+b').read()\r\n",
        "        encoded = base64.b64encode(video)\r\n",
        "        ipythondisplay.display(HTML(data='''<video alt=\"test\" autoplay \r\n",
        "                    loop controls style=\"height: 400px;\">\r\n",
        "                    <source src=\"data:video/mp4;base64,{0}\" type=\"video/mp4\" />\r\n",
        "                </video>'''.format(encoded.decode('ascii'))))\r\n",
        "    else:\r\n",
        "        print(\"Could not find video\")\r\n",
        "\r\n",
        "\r\n",
        "def wrap_env(env):\r\n",
        "    env = Monitor(env, './video', force=True)\r\n",
        "    return env"
      ],
      "execution_count": null,
      "outputs": []
    },
    {
      "cell_type": "code",
      "metadata": {
        "colab": {
          "base_uri": "https://localhost:8080/"
        },
        "id": "NnR-cqjbLpI4",
        "outputId": "0a55134f-bfd5-41fb-96ed-12c2745918c4"
      },
      "source": [
        "!pip install gym[box2d]"
      ],
      "execution_count": null,
      "outputs": [
        {
          "output_type": "stream",
          "text": [
            "Requirement already satisfied: gym[box2d] in /usr/local/lib/python3.7/dist-packages (0.17.3)\n",
            "Requirement already satisfied: scipy in /usr/local/lib/python3.7/dist-packages (from gym[box2d]) (1.4.1)\n",
            "Requirement already satisfied: numpy>=1.10.4 in /usr/local/lib/python3.7/dist-packages (from gym[box2d]) (1.19.5)\n",
            "Requirement already satisfied: cloudpickle<1.7.0,>=1.2.0 in /usr/local/lib/python3.7/dist-packages (from gym[box2d]) (1.3.0)\n",
            "Requirement already satisfied: pyglet<=1.5.0,>=1.4.0 in /usr/local/lib/python3.7/dist-packages (from gym[box2d]) (1.5.0)\n",
            "Collecting box2d-py~=2.3.5; extra == \"box2d\"\n",
            "\u001b[?25l  Downloading https://files.pythonhosted.org/packages/87/34/da5393985c3ff9a76351df6127c275dcb5749ae0abbe8d5210f06d97405d/box2d_py-2.3.8-cp37-cp37m-manylinux1_x86_64.whl (448kB)\n",
            "\u001b[K     |████████████████████████████████| 450kB 14.4MB/s \n",
            "\u001b[?25hRequirement already satisfied: future in /usr/local/lib/python3.7/dist-packages (from pyglet<=1.5.0,>=1.4.0->gym[box2d]) (0.16.0)\n",
            "Installing collected packages: box2d-py\n",
            "Successfully installed box2d-py-2.3.8\n"
          ],
          "name": "stdout"
        }
      ]
    },
    {
      "cell_type": "code",
      "metadata": {
        "colab": {
          "base_uri": "https://localhost:8080/",
          "height": 286
        },
        "id": "yCHLYkMkLzcf",
        "outputId": "bb5d7a17-9428-4bab-8b1c-283183c1e82e"
      },
      "source": [
        "env = gym.make('LunarLanderContinuous-v2')\r\n",
        "env.reset()\r\n",
        "plt.imshow(env.render('rgb_array'))"
      ],
      "execution_count": null,
      "outputs": [
        {
          "output_type": "execute_result",
          "data": {
            "text/plain": [
              "<matplotlib.image.AxesImage at 0x7fb98ef2ae90>"
            ]
          },
          "metadata": {
            "tags": []
          },
          "execution_count": 7
        },
        {
          "output_type": "display_data",
          "data": {
            "image/png": "[encoded data removed]",
            "text/plain": [
              "<Figure size 432x288 with 1 Axes>"
            ]
          },
          "metadata": {
            "tags": []
          }
        }
      ]
    },
    {
      "cell_type": "code",
      "metadata": {
        "colab": {
          "base_uri": "https://localhost:8080/"
        },
        "id": "Wh4v_3zCRepL",
        "outputId": "78236edf-4486-4dc4-ab11-83aed436077c"
      },
      "source": [
        "state_size = env.observation_space\r\n",
        "print(\"state size is:\", state_size)\r\n",
        "a = env.action_space\r\n",
        "print(\"action size=\", a)\r\n",
        "state = env.reset()\r\n",
        "print(state)"
      ],
      "execution_count": null,
      "outputs": [
        {
          "output_type": "stream",
          "text": [
            "state size is: Box(-inf, inf, (8,), float32)\n",
            "action size= Box(-1.0, 1.0, (2,), float32)\n",
            "[ 0.00401363  1.4120643   0.40651113  0.05084544 -0.00464389 -0.09208087\n",
            "  0.          0.        ]\n"
          ],
          "name": "stdout"
        }
      ]
    },
    {
      "cell_type": "markdown",
      "metadata": {
        "id": "yTfAdl7dSS-K"
      },
      "source": [
        "# Action Space\r\n",
        "            #is two floats [main engine, left-right engines].\r\n",
        "            # Main engine: -1..0 off, 0..+1 throttle from 50% to 100% power. Engine can't work with less than 50% power.\r\n",
        "            # Left-right:  -1.0..-0.5 fire left engine, +0.5..+1.0 fire right engine, -0.5..0.5 off\r\n",
        "            self.action_space = spaces.Box(-1, +1, (2,), dtype=np.float32)"
      ]
    },
    {
      "cell_type": "markdown",
      "metadata": {
        "id": "AfJat7i14jfS"
      },
      "source": [
        "# Action Space (continuous to discrete values)"
      ]
    },
    {
      "cell_type": "code",
      "metadata": {
        "id": "odd5_LwaQbSh"
      },
      "source": [
        "class ActionSpace(object):\r\n",
        "    def __init__(self, x_size, y_size):\r\n",
        "        self.x_size = x_size\r\n",
        "        self.y_size = y_size\r\n",
        "        self.cache = {}\r\n",
        "        self.build_actions_cache()\r\n",
        "\r\n",
        "    def build_actions_cache(self):\r\n",
        "        for i in range(self.x_size * self.y_size):\r\n",
        "            self.cache[i] = self.get_value_by_key(i)\r\n",
        "\r\n",
        "    def get_value_by_key(self, key):\r\n",
        "        ind1 = int(key / self.y_size)\r\n",
        "        ind2 = key % self.y_size\r\n",
        "        value1 = 0 + ind1 * (1 / (self.x_size - 1))\r\n",
        "\r\n",
        "        if ind1 == 0:\r\n",
        "            value1 = -1\r\n",
        "        if ind2 == 0:\r\n",
        "            value2 = 0\r\n",
        "        else:\r\n",
        "            half = (self.y_size - 1) / 2\r\n",
        "            if ind2 <= self.y_size/2:\r\n",
        "                value2 = -0.5+- ind2 * (0.5 / (half))\r\n",
        "            else:\r\n",
        "                ind2 = ind2 - half\r\n",
        "                value2 = 0.5 + ind2 * (0.5 / (half))\r\n",
        "\r\n",
        "        return [value1, value2]\r\n",
        "\r\n",
        "    def choose(self, key):\r\n",
        "        return self.cache[key]\r\n",
        "\r\n",
        "\r\n",
        "x_actions = 2\r\n",
        "y_actions = 15  # y_actions must be an odd number.\r\n",
        "all_actions = x_actions * y_actions\r\n",
        "action_space = ActionSpace(x_actions, y_actions)"
      ],
      "execution_count": null,
      "outputs": []
    },
    {
      "cell_type": "markdown",
      "metadata": {
        "id": "47ib0m3U4heI"
      },
      "source": [
        "# DQN Model."
      ]
    },
    {
      "cell_type": "code",
      "metadata": {
        "id": "1GwXRXmsXkuK"
      },
      "source": [
        "class DQN(nn.Module):\r\n",
        "    def __init__(self, all_actions):\r\n",
        "        super(DQN, self).__init__()\r\n",
        "\r\n",
        "        self.fc1 = nn.Linear(32, 128)\r\n",
        "        self.fc2 = nn.Linear(128, 256)\r\n",
        "        self.fc3 = nn.Linear(256, 256)\r\n",
        "        self.fc4 = nn.Linear(256, all_actions)\r\n",
        "\r\n",
        "    def forward(self, x):\r\n",
        "        x = F.relu(self.fc1(x))\r\n",
        "        x = F.relu(self.fc2(x))\r\n",
        "        x = F.relu(self.fc3(x))\r\n",
        "        return self.fc4(x)"
      ],
      "execution_count": null,
      "outputs": []
    },
    {
      "cell_type": "markdown",
      "metadata": {
        "id": "x757fDnSRJdn"
      },
      "source": [
        "# GPU/CPU"
      ]
    },
    {
      "cell_type": "code",
      "metadata": {
        "colab": {
          "base_uri": "https://localhost:8080/"
        },
        "id": "k9AU4N9YCGoP",
        "outputId": "51a13a66-11f1-42f5-ec34-3a63d19311bd"
      },
      "source": [
        "device = None\r\n",
        "if torch.cuda.is_available():\r\n",
        "    print(\"Using GPU.\")\r\n",
        "    device = torch.device('cuda:0')\r\n",
        "else:\r\n",
        "    print(\"Using CPU.\")\r\n",
        "    device = torch.device(\"cpu\")"
      ],
      "execution_count": null,
      "outputs": [
        {
          "output_type": "stream",
          "text": [
            "Using GPU.\n"
          ],
          "name": "stdout"
        }
      ]
    },
    {
      "cell_type": "markdown",
      "metadata": {
        "id": "rLYd9IHLU9sY"
      },
      "source": [
        "# Replay Memory"
      ]
    },
    {
      "cell_type": "code",
      "metadata": {
        "id": "tqrpFa_gRPNC"
      },
      "source": [
        "class ReplayMemory(object):\r\n",
        "    def __init__(self, replay_memory_size):\r\n",
        "        self.memory = deque(maxlen=replay_memory_size)\r\n",
        "\r\n",
        "    def size(self):\r\n",
        "        return len(self.memory)\r\n",
        "\r\n",
        "    def push(self, state, action, reward, observation, done):\r\n",
        "        self.memory.append((state, action, reward, observation, done))\r\n",
        "\r\n",
        "    def sample(self, batch_size):\r\n",
        "        return random.sample(self.memory, batch_size)"
      ],
      "execution_count": null,
      "outputs": []
    },
    {
      "cell_type": "markdown",
      "metadata": {
        "id": "2pdmX8ojQGpd"
      },
      "source": [
        "# Methods"
      ]
    },
    {
      "cell_type": "code",
      "metadata": {
        "id": "lDNbImwBQGXK"
      },
      "source": [
        "def choose_action(state, epsilon, model):\r\n",
        "    model.eval()\r\n",
        "    if np.random.rand() <= epsilon:\r\n",
        "        return np.random.choice(all_actions)\r\n",
        "    else:\r\n",
        "        unsqueeze = state.unsqueeze(0)\r\n",
        "        preds = model(unsqueeze)\r\n",
        "        value, indice = torch.max(preds, 1)\r\n",
        "        return indice[0].item()\r\n",
        "\r\n",
        "\r\n",
        "def run_replay_experiments(model, target_model, replay_memory, optimizer, batch_size):\r\n",
        "    optimizer.zero_grad()\r\n",
        "    model.train()\r\n",
        "    target_model.eval()\r\n",
        "\r\n",
        "    x_batch = []\r\n",
        "    x_target = []\r\n",
        "    samples_batch = replay_memory.sample(batch_size)\r\n",
        "\r\n",
        "    for state, action, reward, observation, done in samples_batch:\r\n",
        "        x_batch.append(state)\r\n",
        "        x_target.append(observation)\r\n",
        "\r\n",
        "    x_batch = torch.stack(x_batch).to(device)\r\n",
        "    x_target = torch.stack(x_target).to(device)\r\n",
        "\r\n",
        "    model_preds = model(x_batch)\r\n",
        "    model_preds_clone = model_preds.clone()\r\n",
        "    target_preds = target_model(x_target)\r\n",
        "    max_values, indices = torch.max(target_preds, 1)\r\n",
        "\r\n",
        "    for index, (state, action, reward, observation, done) in enumerate(samples_batch):\r\n",
        "        if done:\r\n",
        "            model_preds_clone[index][action] = reward\r\n",
        "        else:\r\n",
        "            model_preds_clone[index][action] = reward + gama * max_values[index]\r\n",
        "\r\n",
        "    loss = F.smooth_l1_loss(model_preds, model_preds_clone)\r\n",
        "    loss.backward()\r\n",
        "    optimizer.step()\r\n",
        "def noisy_observation(obs):\r\n",
        "  \r\n",
        "  if not isinstance(obs,(list,np.ndarray)):\r\n",
        "    return obs\r\n",
        "  if(len(obs)<3):\r\n",
        "    return obs\r\n",
        "  mu, sigma = 0, 0.05 # mean and standard deviation\r\n",
        "  s =np.random.normal(mu, sigma, 2)\r\n",
        "  obs[0]=obs[0]+s[0]\r\n",
        "  obs[1]=obs[1]+s[1]\r\n",
        "  return torch.from_numpy(obs).to(device)\r\n",
        "def append_states(states):\r\n",
        "    ans=[]\r\n",
        "    for i in range(len(states)):\r\n",
        "        ans.append(states[i])\r\n",
        "    ans= torch.stack(ans).to(device)\r\n",
        "    ans=torch.reshape(ans,(ans.shape[0]*ans.shape[1],))\r\n",
        "    return ans"
      ],
      "execution_count": null,
      "outputs": []
    },
    {
      "cell_type": "markdown",
      "metadata": {
        "id": "a48wrZOW4OH0"
      },
      "source": [
        "# Parameters."
      ]
    },
    {
      "cell_type": "code",
      "metadata": {
        "id": "OtGLjXTt2cbj"
      },
      "source": [
        "epsilon = 1\r\n",
        "epsilon_decay = 0.975\r\n",
        "\r\n",
        "batch_size = 256\r\n",
        "max_iterations = 50000\r\n",
        "\r\n",
        "reset_target = 200\r\n",
        "steps_per_action = 1\r\n",
        "replay_memory_size = 20000\r\n",
        "\r\n",
        "gama = 0.99\r\n",
        "lr = 0.00005"
      ],
      "execution_count": null,
      "outputs": []
    },
    {
      "cell_type": "markdown",
      "metadata": {
        "id": "4QDVmpFT4Q6I"
      },
      "source": [
        "# Training the model."
      ]
    },
    {
      "cell_type": "code",
      "metadata": {
        "colab": {
          "base_uri": "https://localhost:8080/"
        },
        "id": "EQaFvJdvM4qX",
        "outputId": "0e0b1098-c7a8-47a0-9747-6a0c79084430"
      },
      "source": [
        "env = wrap_env(env)\r\n",
        "\r\n",
        "\r\n",
        "model = DQN(all_actions)\r\n",
        "model.to(device)\r\n",
        "optimizer = optim.Adam(model.parameters(), lr=lr)\r\n",
        "\r\n",
        "if not next(model.parameters()).is_cuda:\r\n",
        "    print('The neural network model is not working on GPU!')\r\n",
        "frames=4\r\n",
        "states = deque(maxlen=frames)\r\n",
        "average100 = deque(maxlen=100)\r\n",
        "replay_memory = ReplayMemory(replay_memory_size)\r\n",
        "\r\n",
        "results_memory = []\r\n",
        "steps=0\r\n",
        "for iteration in range(max_iterations):\r\n",
        "    for i in range(frames-1):\r\n",
        "        states.append(torch.zeros(8).to(device))\r\n",
        "    state = env.reset()\r\n",
        "    state_one = noisy_observation(state)\r\n",
        "    states.append(state_one)\r\n",
        "    state=append_states(states)\r\n",
        "    total_reward = 0\r\n",
        "    done = False\r\n",
        "    while not done:\r\n",
        "        action = choose_action(state, epsilon, model)\r\n",
        "        converted_action = action_space.choose(action)\r\n",
        "\r\n",
        "        observation, reward, done, _ = env.step(converted_action)\r\n",
        "        observation_one = noisy_observation(observation)\r\n",
        "        states.append(observation_one)\r\n",
        "        observation = append_states(states)\r\n",
        "        total_reward += reward\r\n",
        "\r\n",
        "        replay_memory.push(state, action, reward, observation, done)\r\n",
        "        state = observation\r\n",
        "\r\n",
        "\r\n",
        "        for i in range(steps_per_action):\r\n",
        "            if steps % reset_target == 0:\r\n",
        "                target_model = copy.deepcopy(model)\r\n",
        "                target_model.to(device)  \r\n",
        "            steps=steps+1        \r\n",
        "            if replay_memory.size() >= batch_size:\r\n",
        "                run_replay_experiments(model, target_model, replay_memory, optimizer, batch_size)\r\n",
        "\r\n",
        "\r\n",
        "    average100.append(total_reward)\r\n",
        "    epsilon *= epsilon_decay\r\n",
        "    print(f'Iteration: {iteration} | Epsilon: {round(epsilon, 2)} | Last Reward: {round(reward, 2)} | Average100: {round(np.average(average100))} | Total Reward: {total_reward}')\r\n",
        "    results_memory.append((iteration, round(np.average(average100))))\r\n",
        "\r\n",
        "    if len(average100) >= 100 and np.average(average100) >= 200:\r\n",
        "        print(f'Finished after {iteration-100} iterations.')\r\n",
        "        break\r\n"
      ],
      "execution_count": null,
      "outputs": [
        {
          "output_type": "stream",
          "text": [
            "Iteration: 0 | Epsilon: 0.97 | Last Reward: -100 | Average100: -304 | Total Reward: -303.6385162147534\n",
            "Iteration: 1 | Epsilon: 0.95 | Last Reward: -100 | Average100: -352 | Total Reward: -400.48221809718365\n",
            "Iteration: 2 | Epsilon: 0.93 | Last Reward: -100 | Average100: -343 | Total Reward: -323.6366062105558\n",
            "Iteration: 3 | Epsilon: 0.9 | Last Reward: -100 | Average100: -340 | Total Reward: -331.1675907227304\n",
            "Iteration: 4 | Epsilon: 0.88 | Last Reward: -100 | Average100: -336 | Total Reward: -321.14245880193005\n",
            "Iteration: 5 | Epsilon: 0.86 | Last Reward: -100 | Average100: -338 | Total Reward: -349.0796099079995\n",
            "Iteration: 6 | Epsilon: 0.84 | Last Reward: -100 | Average100: -328 | Total Reward: -266.85112459245005\n",
            "Iteration: 7 | Epsilon: 0.82 | Last Reward: -100 | Average100: -296 | Total Reward: -68.55905559474364\n",
            "Iteration: 8 | Epsilon: 0.8 | Last Reward: -100 | Average100: -277 | Total Reward: -124.81959215967761\n",
            "Iteration: 9 | Epsilon: 0.78 | Last Reward: -100 | Average100: -281 | Total Reward: -317.8745931236969\n",
            "Iteration: 10 | Epsilon: 0.76 | Last Reward: -100 | Average100: -259 | Total Reward: -37.33429715531533\n",
            "Iteration: 11 | Epsilon: 0.74 | Last Reward: -100 | Average100: -267 | Total Reward: -358.5396821412747\n",
            "Iteration: 12 | Epsilon: 0.72 | Last Reward: -100 | Average100: -281 | Total Reward: -454.4335996750539\n",
            "Iteration: 13 | Epsilon: 0.7 | Last Reward: -100 | Average100: -274 | Total Reward: -180.79004076974047\n",
            "Iteration: 14 | Epsilon: 0.68 | Last Reward: -100 | Average100: -260 | Total Reward: -67.80054927098891\n",
            "Iteration: 15 | Epsilon: 0.67 | Last Reward: -100 | Average100: -274 | Total Reward: -480.8908094828611\n",
            "Iteration: 16 | Epsilon: 0.65 | Last Reward: -100 | Average100: -276 | Total Reward: -301.8217750732696\n",
            "Iteration: 17 | Epsilon: 0.63 | Last Reward: -100 | Average100: -276 | Total Reward: -285.5319086322978\n",
            "Iteration: 18 | Epsilon: 0.62 | Last Reward: -100 | Average100: -265 | Total Reward: -61.80084729681628\n",
            "Iteration: 19 | Epsilon: 0.6 | Last Reward: -100 | Average100: -270 | Total Reward: -360.2849429249665\n",
            "Iteration: 20 | Epsilon: 0.59 | Last Reward: -100 | Average100: -264 | Total Reward: -141.532902840646\n",
            "Iteration: 21 | Epsilon: 0.57 | Last Reward: -100 | Average100: -266 | Total Reward: -307.2734661614734\n",
            "Iteration: 22 | Epsilon: 0.56 | Last Reward: -100 | Average100: -263 | Total Reward: -206.1224982665295\n",
            "Iteration: 23 | Epsilon: 0.54 | Last Reward: -100 | Average100: -253 | Total Reward: -24.73393389165861\n",
            "Iteration: 24 | Epsilon: 0.53 | Last Reward: -100 | Average100: -256 | Total Reward: -317.2681832758957\n",
            "Iteration: 25 | Epsilon: 0.52 | Last Reward: -100 | Average100: -261 | Total Reward: -380.81333936077976\n",
            "Iteration: 26 | Epsilon: 0.5 | Last Reward: -100 | Average100: -257 | Total Reward: -173.4171047239201\n",
            "Iteration: 27 | Epsilon: 0.49 | Last Reward: -100 | Average100: -256 | Total Reward: -206.62798819785053\n",
            "Iteration: 28 | Epsilon: 0.48 | Last Reward: 2.7 | Average100: -249 | Total Reward: -71.17435617054619\n",
            "Iteration: 29 | Epsilon: 0.47 | Last Reward: -0.36 | Average100: -245 | Total Reward: -121.91231139972918\n",
            "Iteration: 30 | Epsilon: 0.46 | Last Reward: 0.84 | Average100: -240 | Total Reward: -78.8139469713578\n",
            "Iteration: 31 | Epsilon: 0.44 | Last Reward: -0.72 | Average100: -234 | Total Reward: -59.055338974696674\n",
            "Iteration: 32 | Epsilon: 0.43 | Last Reward: 2.74 | Average100: -229 | Total Reward: -59.257730449078664\n",
            "Iteration: 33 | Epsilon: 0.42 | Last Reward: -0.04 | Average100: -225 | Total Reward: -112.28288140491047\n",
            "Iteration: 34 | Epsilon: 0.41 | Last Reward: -2.92 | Average100: -219 | Total Reward: -17.023785817165862\n",
            "Iteration: 35 | Epsilon: 0.4 | Last Reward: -2.05 | Average100: -215 | Total Reward: -84.12899471591685\n",
            "Iteration: 36 | Epsilon: 0.39 | Last Reward: -100 | Average100: -216 | Total Reward: -224.96699746417596\n",
            "Iteration: 37 | Epsilon: 0.38 | Last Reward: 19.83 | Average100: -208 | Total Reward: 95.69830120439403\n",
            "Iteration: 38 | Epsilon: 0.37 | Last Reward: -100 | Average100: -209 | Total Reward: -251.8390072807773\n",
            "Iteration: 39 | Epsilon: 0.36 | Last Reward: -100 | Average100: -215 | Total Reward: -455.0538026017508\n",
            "Iteration: 40 | Epsilon: 0.35 | Last Reward: -100 | Average100: -213 | Total Reward: -126.20499973584472\n",
            "Iteration: 41 | Epsilon: 0.35 | Last Reward: 0.25 | Average100: -209 | Total Reward: -48.06700910878251\n",
            "Iteration: 42 | Epsilon: 0.34 | Last Reward: -7.81 | Average100: -203 | Total Reward: 26.14557409858747\n",
            "Iteration: 43 | Epsilon: 0.33 | Last Reward: -0.07 | Average100: -197 | Total Reward: 73.4679332986776\n",
            "Iteration: 44 | Epsilon: 0.32 | Last Reward: -4.36 | Average100: -192 | Total Reward: 48.036240911201105\n",
            "Iteration: 45 | Epsilon: 0.31 | Last Reward: 1.65 | Average100: -188 | Total Reward: -42.88891363711389\n",
            "Iteration: 46 | Epsilon: 0.3 | Last Reward: -8.24 | Average100: -185 | Total Reward: -50.223396923019116\n",
            "Iteration: 47 | Epsilon: 0.3 | Last Reward: -0.92 | Average100: -180 | Total Reward: 63.869729816795726\n",
            "Iteration: 48 | Epsilon: 0.29 | Last Reward: -2.96 | Average100: -177 | Total Reward: -17.041468541740795\n",
            "Iteration: 49 | Epsilon: 0.28 | Last Reward: 2.96 | Average100: -174 | Total Reward: -18.73794477704329\n",
            "Iteration: 50 | Epsilon: 0.27 | Last Reward: -1.32 | Average100: -171 | Total Reward: -34.50572522343496\n",
            "Iteration: 51 | Epsilon: 0.27 | Last Reward: 0.22 | Average100: -168 | Total Reward: -23.49319932509398\n",
            "Iteration: 52 | Epsilon: 0.26 | Last Reward: -100 | Average100: -169 | Total Reward: -216.56773894886783\n",
            "Iteration: 53 | Epsilon: 0.25 | Last Reward: -2.46 | Average100: -166 | Total Reward: -8.08446201945895\n",
            "Iteration: 54 | Epsilon: 0.25 | Last Reward: -0.58 | Average100: -163 | Total Reward: 9.377937832763106\n",
            "Iteration: 55 | Epsilon: 0.24 | Last Reward: -14.45 | Average100: -160 | Total Reward: 22.823681541743085\n",
            "Iteration: 56 | Epsilon: 0.24 | Last Reward: 7.04 | Average100: -157 | Total Reward: -29.910710447577213\n",
            "Iteration: 57 | Epsilon: 0.23 | Last Reward: -1.34 | Average100: -153 | Total Reward: 90.42321384760938\n",
            "Iteration: 58 | Epsilon: 0.22 | Last Reward: 100 | Average100: -148 | Total Reward: 173.06894559324763\n",
            "Iteration: 59 | Epsilon: 0.22 | Last Reward: -0.79 | Average100: -148 | Total Reward: -149.14525631914435\n",
            "Iteration: 60 | Epsilon: 0.21 | Last Reward: 0.02 | Average100: -146 | Total Reward: -24.557438186911977\n",
            "Iteration: 61 | Epsilon: 0.21 | Last Reward: 0.18 | Average100: -144 | Total Reward: -51.5987058329145\n",
            "Iteration: 62 | Epsilon: 0.2 | Last Reward: -1.0 | Average100: -143 | Total Reward: -83.10886092908835\n",
            "Iteration: 63 | Epsilon: 0.2 | Last Reward: -0.05 | Average100: -139 | Total Reward: 131.3948095915779\n",
            "Iteration: 64 | Epsilon: 0.19 | Last Reward: 0.01 | Average100: -135 | Total Reward: 134.58962408062106\n",
            "Iteration: 65 | Epsilon: 0.19 | Last Reward: 0.0 | Average100: -131 | Total Reward: 123.22685201548988\n",
            "Iteration: 66 | Epsilon: 0.18 | Last Reward: -1.06 | Average100: -130 | Total Reward: -68.5931706954208\n",
            "Iteration: 67 | Epsilon: 0.18 | Last Reward: 1.48 | Average100: -128 | Total Reward: -33.87563826891563\n",
            "Iteration: 68 | Epsilon: 0.17 | Last Reward: 7.7 | Average100: -125 | Total Reward: 129.71370878816228\n",
            "Iteration: 69 | Epsilon: 0.17 | Last Reward: 0.02 | Average100: -121 | Total Reward: 98.12667264703312\n",
            "Iteration: 70 | Epsilon: 0.17 | Last Reward: -1.64 | Average100: -118 | Total Reward: 93.5086212850848\n",
            "Iteration: 71 | Epsilon: 0.16 | Last Reward: 100 | Average100: -113 | Total Reward: 280.8899179398579\n",
            "Iteration: 72 | Epsilon: 0.16 | Last Reward: 100 | Average100: -108 | Total Reward: 221.9176102481207\n",
            "Iteration: 73 | Epsilon: 0.15 | Last Reward: 100 | Average100: -104 | Total Reward: 195.65786877340543\n",
            "Iteration: 74 | Epsilon: 0.15 | Last Reward: -1.3 | Average100: -102 | Total Reward: 50.799143695253534\n",
            "Iteration: 75 | Epsilon: 0.15 | Last Reward: 100 | Average100: -97 | Total Reward: 255.16997554190107\n",
            "Iteration: 76 | Epsilon: 0.14 | Last Reward: 1.8 | Average100: -96 | Total Reward: -20.202481316619078\n",
            "Iteration: 77 | Epsilon: 0.14 | Last Reward: 100 | Average100: -93 | Total Reward: 171.25421818790977\n",
            "Iteration: 78 | Epsilon: 0.14 | Last Reward: 100 | Average100: -89 | Total Reward: 243.01430283950887\n",
            "Iteration: 79 | Epsilon: 0.13 | Last Reward: 100 | Average100: -84 | Total Reward: 257.5929913897126\n",
            "Iteration: 80 | Epsilon: 0.13 | Last Reward: 0.32 | Average100: -83 | Total Reward: -10.579621717289582\n",
            "Iteration: 81 | Epsilon: 0.13 | Last Reward: 100 | Average100: -79 | Total Reward: 246.1855917906569\n",
            "Iteration: 82 | Epsilon: 0.12 | Last Reward: -17.8 | Average100: -77 | Total Reward: 96.86420514321163\n",
            "Iteration: 83 | Epsilon: 0.12 | Last Reward: 100 | Average100: -74 | Total Reward: 206.19299417883678\n",
            "Iteration: 84 | Epsilon: 0.12 | Last Reward: 100 | Average100: -70 | Total Reward: 270.6989348984881\n",
            "Iteration: 85 | Epsilon: 0.11 | Last Reward: 100 | Average100: -67 | Total Reward: 204.13854852974274\n",
            "Iteration: 86 | Epsilon: 0.11 | Last Reward: 100 | Average100: -64 | Total Reward: 137.24267944799468\n",
            "Iteration: 87 | Epsilon: 0.11 | Last Reward: 100 | Average100: -61 | Total Reward: 259.39213487300105\n",
            "Iteration: 88 | Epsilon: 0.11 | Last Reward: -100 | Average100: -60 | Total Reward: -20.4045802616573\n",
            "Iteration: 89 | Epsilon: 0.1 | Last Reward: 100 | Average100: -57 | Total Reward: 227.25916872124603\n",
            "Iteration: 90 | Epsilon: 0.1 | Last Reward: 100 | Average100: -53 | Total Reward: 289.4467932067875\n",
            "Iteration: 91 | Epsilon: 0.1 | Last Reward: 100 | Average100: -50 | Total Reward: 257.76050962724406\n",
            "Iteration: 92 | Epsilon: 0.09 | Last Reward: 0.48 | Average100: -50 | Total Reward: -56.597168626215996\n",
            "Iteration: 93 | Epsilon: 0.09 | Last Reward: 100 | Average100: -47 | Total Reward: 262.40223694496103\n",
            "Iteration: 94 | Epsilon: 0.09 | Last Reward: -100 | Average100: -46 | Total Reward: 25.388039164920883\n",
            "Iteration: 95 | Epsilon: 0.09 | Last Reward: 100 | Average100: -43 | Total Reward: 206.8024281725916\n",
            "Iteration: 96 | Epsilon: 0.09 | Last Reward: 100 | Average100: -40 | Total Reward: 248.82486604534787\n",
            "Iteration: 97 | Epsilon: 0.08 | Last Reward: 100 | Average100: -37 | Total Reward: 297.15486101642915\n",
            "Iteration: 98 | Epsilon: 0.08 | Last Reward: 100 | Average100: -34 | Total Reward: 213.52069708049683\n",
            "Iteration: 99 | Epsilon: 0.08 | Last Reward: 100 | Average100: -32 | Total Reward: 183.07096730848133\n",
            "Iteration: 100 | Epsilon: 0.08 | Last Reward: -100 | Average100: -29 | Total Reward: -37.21099421419336\n",
            "Iteration: 101 | Epsilon: 0.08 | Last Reward: 100 | Average100: -23 | Total Reward: 228.55476113976275\n",
            "Iteration: 102 | Epsilon: 0.07 | Last Reward: 100 | Average100: -18 | Total Reward: 221.41180966316352\n",
            "Iteration: 103 | Epsilon: 0.07 | Last Reward: 100 | Average100: -12 | Total Reward: 256.9468683103558\n",
            "Iteration: 104 | Epsilon: 0.07 | Last Reward: 100 | Average100: -7 | Total Reward: 199.35513043968498\n",
            "Iteration: 105 | Epsilon: 0.07 | Last Reward: 100 | Average100: -1 | Total Reward: 210.62793662828193\n",
            "Iteration: 106 | Epsilon: 0.07 | Last Reward: 100 | Average100: 4 | Total Reward: 252.82595420303474\n",
            "Iteration: 107 | Epsilon: 0.06 | Last Reward: 100 | Average100: 7 | Total Reward: 169.4519761456505\n",
            "Iteration: 108 | Epsilon: 0.06 | Last Reward: 100 | Average100: 10 | Total Reward: 246.04355551350662\n",
            "Iteration: 109 | Epsilon: 0.06 | Last Reward: 100 | Average100: 16 | Total Reward: 206.76561251603155\n",
            "Iteration: 110 | Epsilon: 0.06 | Last Reward: 100 | Average100: 18 | Total Reward: 230.43290657501774\n",
            "Iteration: 111 | Epsilon: 0.06 | Last Reward: 100 | Average100: 24 | Total Reward: 177.42276723801467\n",
            "Iteration: 112 | Epsilon: 0.06 | Last Reward: 100 | Average100: 31 | Total Reward: 277.92945890031314\n",
            "Iteration: 113 | Epsilon: 0.06 | Last Reward: 100 | Average100: 35 | Total Reward: 210.928807641317\n",
            "Iteration: 114 | Epsilon: 0.05 | Last Reward: -1.69 | Average100: 35 | Total Reward: -11.472662006571513\n",
            "Iteration: 115 | Epsilon: 0.05 | Last Reward: 100 | Average100: 42 | Total Reward: 203.71079821239056\n",
            "Iteration: 116 | Epsilon: 0.05 | Last Reward: -100 | Average100: 45 | Total Reward: 19.1700724731362\n",
            "Iteration: 117 | Epsilon: 0.05 | Last Reward: 100 | Average100: 50 | Total Reward: 210.08569471036114\n",
            "Iteration: 118 | Epsilon: 0.05 | Last Reward: 100 | Average100: 53 | Total Reward: 154.8299344961888\n",
            "Iteration: 119 | Epsilon: 0.05 | Last Reward: 100 | Average100: 59 | Total Reward: 274.4364104771456\n",
            "Iteration: 120 | Epsilon: 0.05 | Last Reward: 100 | Average100: 63 | Total Reward: 285.5559989240835\n",
            "Iteration: 121 | Epsilon: 0.05 | Last Reward: 100 | Average100: 69 | Total Reward: 250.07800328948633\n",
            "Iteration: 122 | Epsilon: 0.04 | Last Reward: 100 | Average100: 73 | Total Reward: 222.42191720420334\n",
            "Iteration: 123 | Epsilon: 0.04 | Last Reward: 100 | Average100: 75 | Total Reward: 202.23956261711194\n",
            "Iteration: 124 | Epsilon: 0.04 | Last Reward: 100 | Average100: 81 | Total Reward: 250.18023329260643\n",
            "Iteration: 125 | Epsilon: 0.04 | Last Reward: 100 | Average100: 88 | Total Reward: 268.9260995903285\n",
            "Iteration: 126 | Epsilon: 0.04 | Last Reward: 100 | Average100: 92 | Total Reward: 270.39195077131194\n",
            "Iteration: 127 | Epsilon: 0.04 | Last Reward: 100 | Average100: 97 | Total Reward: 250.65114445170204\n",
            "Iteration: 128 | Epsilon: 0.04 | Last Reward: 100 | Average100: 100 | Total Reward: 243.41906661531775\n",
            "Iteration: 129 | Epsilon: 0.04 | Last Reward: -100 | Average100: 99 | Total Reward: -170.26266635507466\n",
            "Iteration: 130 | Epsilon: 0.04 | Last Reward: 100 | Average100: 102 | Total Reward: 247.26143421594824\n",
            "Iteration: 131 | Epsilon: 0.04 | Last Reward: 100 | Average100: 106 | Total Reward: 280.42402189663756\n",
            "Iteration: 132 | Epsilon: 0.03 | Last Reward: 100 | Average100: 109 | Total Reward: 287.20768233855296\n",
            "Iteration: 133 | Epsilon: 0.03 | Last Reward: 100 | Average100: 112 | Total Reward: 192.4633268368343\n",
            "Iteration: 134 | Epsilon: 0.03 | Last Reward: -100 | Average100: 113 | Total Reward: 49.90587183285365\n",
            "Iteration: 135 | Epsilon: 0.03 | Last Reward: -100 | Average100: 115 | Total Reward: 82.51920435633619\n",
            "Iteration: 136 | Epsilon: 0.03 | Last Reward: 100 | Average100: 120 | Total Reward: 294.0604208488253\n",
            "Iteration: 137 | Epsilon: 0.03 | Last Reward: 100 | Average100: 121 | Total Reward: 202.39970159406522\n",
            "Iteration: 138 | Epsilon: 0.03 | Last Reward: 100 | Average100: 126 | Total Reward: 279.56286451081706\n",
            "Iteration: 139 | Epsilon: 0.03 | Last Reward: 100 | Average100: 133 | Total Reward: 264.73709044682914\n",
            "Iteration: 140 | Epsilon: 0.03 | Last Reward: 100 | Average100: 137 | Total Reward: 268.0263085532029\n",
            "Iteration: 141 | Epsilon: 0.03 | Last Reward: 100 | Average100: 141 | Total Reward: 268.31833721317713\n",
            "Iteration: 142 | Epsilon: 0.03 | Last Reward: 100 | Average100: 142 | Total Reward: 161.47255522548494\n",
            "Iteration: 143 | Epsilon: 0.03 | Last Reward: 100 | Average100: 144 | Total Reward: 254.0508946744184\n",
            "Iteration: 144 | Epsilon: 0.03 | Last Reward: 100 | Average100: 146 | Total Reward: 269.07602664286475\n",
            "Iteration: 145 | Epsilon: 0.02 | Last Reward: 100 | Average100: 149 | Total Reward: 244.05213208158847\n",
            "Iteration: 146 | Epsilon: 0.02 | Last Reward: 100 | Average100: 151 | Total Reward: 211.9334866867158\n",
            "Iteration: 147 | Epsilon: 0.02 | Last Reward: 100 | Average100: 153 | Total Reward: 262.7111248454444\n",
            "Iteration: 148 | Epsilon: 0.02 | Last Reward: 100 | Average100: 156 | Total Reward: 287.457780580049\n",
            "Iteration: 149 | Epsilon: 0.02 | Last Reward: 100 | Average100: 159 | Total Reward: 247.3461926774632\n",
            "Iteration: 150 | Epsilon: 0.02 | Last Reward: 100 | Average100: 162 | Total Reward: 230.06752240384728\n",
            "Iteration: 151 | Epsilon: 0.02 | Last Reward: 100 | Average100: 165 | Total Reward: 258.92082996112526\n",
            "Iteration: 152 | Epsilon: 0.02 | Last Reward: 100 | Average100: 169 | Total Reward: 265.3599294627819\n",
            "Iteration: 153 | Epsilon: 0.02 | Last Reward: 100 | Average100: 172 | Total Reward: 232.53993032073456\n",
            "Iteration: 154 | Epsilon: 0.02 | Last Reward: 100 | Average100: 174 | Total Reward: 254.65460788106643\n",
            "Iteration: 155 | Epsilon: 0.02 | Last Reward: 100 | Average100: 177 | Total Reward: 316.34093457229966\n",
            "Iteration: 156 | Epsilon: 0.02 | Last Reward: 100 | Average100: 180 | Total Reward: 246.91085897805928\n",
            "Iteration: 157 | Epsilon: 0.02 | Last Reward: 100 | Average100: 181 | Total Reward: 229.8789121418873\n",
            "Iteration: 158 | Epsilon: 0.02 | Last Reward: 100 | Average100: 182 | Total Reward: 227.3993272255543\n",
            "Iteration: 159 | Epsilon: 0.02 | Last Reward: 100 | Average100: 186 | Total Reward: 254.2938523160322\n",
            "Iteration: 160 | Epsilon: 0.02 | Last Reward: 100 | Average100: 189 | Total Reward: 238.93682738262697\n",
            "Iteration: 161 | Epsilon: 0.02 | Last Reward: 100 | Average100: 192 | Total Reward: 290.9432343985063\n",
            "Iteration: 162 | Epsilon: 0.02 | Last Reward: 100 | Average100: 195 | Total Reward: 256.53059075843396\n",
            "Iteration: 163 | Epsilon: 0.02 | Last Reward: 100 | Average100: 197 | Total Reward: 270.2505205827772\n",
            "Iteration: 164 | Epsilon: 0.02 | Last Reward: 100 | Average100: 198 | Total Reward: 238.45307226873805\n",
            "Iteration: 165 | Epsilon: 0.01 | Last Reward: 100 | Average100: 199 | Total Reward: 218.89175377056694\n",
            "Iteration: 166 | Epsilon: 0.01 | Last Reward: 100 | Average100: 202 | Total Reward: 274.0032129372056\n",
            "Finished after 66 iterations.\n"
          ],
          "name": "stdout"
        }
      ]
    },
    {
      "cell_type": "code",
      "metadata": {
        "id": "tNVLgkF-gk_O"
      },
      "source": [
        "# Memory to JSON data.\r\n",
        "with open('/content/gdrive/My Drive/Noisy DQN.json', 'w') as f:\r\n",
        "    json.dump(results_memory, f)"
      ],
      "execution_count": null,
      "outputs": []
    },
    {
      "cell_type": "code",
      "metadata": {
        "id": "qw7m2w5ghKtF",
        "colab": {
          "base_uri": "https://localhost:8080/"
        },
        "outputId": "b36699b7-4952-4e86-bd14-62394cd78b1d"
      },
      "source": [
        "# Upload JSON data to notebook.\r\n",
        "loaded_results_memory = None\r\n",
        "with open('/content/gdrive/My Drive/Noisy DQN.json') as f:\r\n",
        "    loaded_results_memory = json.loads(f.read())\r\n",
        "\r\n",
        "print(loaded_results_memory[0])"
      ],
      "execution_count": null,
      "outputs": [
        {
          "output_type": "stream",
          "text": [
            "[0, -304]\n"
          ],
          "name": "stdout"
        }
      ]
    },
    {
      "cell_type": "code",
      "metadata": {
        "id": "BzyI3vKZQiR6",
        "colab": {
          "base_uri": "https://localhost:8080/",
          "height": 421
        },
        "outputId": "d4b05fe9-eb22-4853-f129-81da137c544d"
      },
      "source": [
        "env.close() \r\n",
        "show_video()"
      ],
      "execution_count": null,
      "outputs": [
        {
          "output_type": "display_data",
          "data": {
            "text/html": [
              "<video alt=\"test\" autoplay \n",
              "                    loop controls style=\"height: 400px;\">\n",
              "                    <source src=\"data:video/mp4;base64,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\" type=\"video/mp4\" />\n",
              "                </video>"
            ],
            "text/plain": [
              "<IPython.core.display.HTML object>"
            ]
          },
          "metadata": {
            "tags": []
          }
        }
      ]
    }
  ]
}