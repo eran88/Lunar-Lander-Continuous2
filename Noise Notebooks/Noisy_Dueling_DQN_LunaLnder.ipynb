{
  "nbformat": 4,
  "nbformat_minor": 0,
  "metadata": {
    "colab": {
      "name": "Noisy Dueling DQN - LunaLnder.ipynb",
      "provenance": [],
      "collapsed_sections": [],
      "toc_visible": true
    },
    "kernelspec": {
      "display_name": "Python 3",
      "name": "python3"
    },
    "accelerator": "GPU"
  },
  "cells": [
    {
      "cell_type": "markdown",
      "metadata": {
        "id": "W-cVn8qQKtJq"
      },
      "source": [
        "Based on the following links to create this notebook:\r\n",
        "\r\n",
        "https://colab.research.google.com/drive/18LdlDDT87eb8cCTHZsXyS9ksQPzL3i6H\r\n",
        "\r\n",
        "https://colab.research.google.com/drive/1tug_bpg8RwrFOI8C6Ed-zo0OgD3yfnWy#scrollTo=bhsj7BTPHepg\r\n",
        "\r\n",
        "https://colab.research.google.com/drive/1tug_bpg8RwrFOI8C6Ed-zo0OgD3yfnWy\r\n",
        "\r\n",
        "\r\n",
        "To run Gym, you have to install prerequisites like xvbf,opengl & other python-dev packages using the following codes."
      ]
    },
    {
      "cell_type": "code",
      "metadata": {
        "colab": {
          "base_uri": "https://localhost:8080/"
        },
        "id": "GmtbAjPPKiFw",
        "outputId": "3ecaae07-344c-45da-e660-c7c3b5e88b83"
      },
      "source": [
        "!pip install gym\r\n",
        "!apt-get install python-opengl -y\r\n",
        "!apt install xvfb -y\r\n",
        "!pip install pyvirtualdisplay\r\n",
        "!pip install piglet\r\n",
        "\r\n",
        "from pyvirtualdisplay import Display\r\n",
        "display = Display(visible=0, size=(1400, 900))\r\n",
        "display.start()"
      ],
      "execution_count": null,
      "outputs": [
        {
          "output_type": "stream",
          "text": [
            "Requirement already satisfied: gym in /usr/local/lib/python3.7/dist-packages (0.17.3)\n",
            "Requirement already satisfied: numpy>=1.10.4 in /usr/local/lib/python3.7/dist-packages (from gym) (1.19.5)\n",
            "Requirement already satisfied: cloudpickle<1.7.0,>=1.2.0 in /usr/local/lib/python3.7/dist-packages (from gym) (1.3.0)\n",
            "Requirement already satisfied: scipy in /usr/local/lib/python3.7/dist-packages (from gym) (1.4.1)\n",
            "Requirement already satisfied: pyglet<=1.5.0,>=1.4.0 in /usr/local/lib/python3.7/dist-packages (from gym) (1.5.0)\n",
            "Requirement already satisfied: future in /usr/local/lib/python3.7/dist-packages (from pyglet<=1.5.0,>=1.4.0->gym) (0.16.0)\n",
            "Reading package lists... Done\n",
            "Building dependency tree       \n",
            "Reading state information... Done\n",
            "python-opengl is already the newest version (3.1.0+dfsg-1).\n",
            "0 upgraded, 0 newly installed, 0 to remove and 29 not upgraded.\n",
            "Reading package lists... Done\n",
            "Building dependency tree       \n",
            "Reading state information... Done\n",
            "xvfb is already the newest version (2:1.19.6-1ubuntu4.8).\n",
            "0 upgraded, 0 newly installed, 0 to remove and 29 not upgraded.\n",
            "Requirement already satisfied: pyvirtualdisplay in /usr/local/lib/python3.7/dist-packages (2.1)\n",
            "Requirement already satisfied: EasyProcess in /usr/local/lib/python3.7/dist-packages (from pyvirtualdisplay) (0.3)\n",
            "Requirement already satisfied: piglet in /usr/local/lib/python3.7/dist-packages (1.0.0)\n",
            "Requirement already satisfied: piglet-templates in /usr/local/lib/python3.7/dist-packages (from piglet) (1.1.0)\n",
            "Requirement already satisfied: markupsafe in /usr/local/lib/python3.7/dist-packages (from piglet-templates->piglet) (1.1.1)\n",
            "Requirement already satisfied: astunparse in /usr/local/lib/python3.7/dist-packages (from piglet-templates->piglet) (1.6.3)\n",
            "Requirement already satisfied: attrs in /usr/local/lib/python3.7/dist-packages (from piglet-templates->piglet) (20.3.0)\n",
            "Requirement already satisfied: Parsley in /usr/local/lib/python3.7/dist-packages (from piglet-templates->piglet) (1.3)\n",
            "Requirement already satisfied: wheel<1.0,>=0.23.0 in /usr/local/lib/python3.7/dist-packages (from astunparse->piglet-templates->piglet) (0.36.2)\n",
            "Requirement already satisfied: six<2.0,>=1.6.1 in /usr/local/lib/python3.7/dist-packages (from astunparse->piglet-templates->piglet) (1.15.0)\n"
          ],
          "name": "stdout"
        },
        {
          "output_type": "execute_result",
          "data": {
            "text/plain": [
              "<pyvirtualdisplay.display.Display at 0x7fee9f8930d0>"
            ]
          },
          "metadata": {
            "tags": []
          },
          "execution_count": 49
        }
      ]
    },
    {
      "cell_type": "code",
      "metadata": {
        "id": "kXkT86s8Yv7W",
        "colab": {
          "base_uri": "https://localhost:8080/"
        },
        "outputId": "471e89b8-529b-402d-8265-51d6da17893f"
      },
      "source": [
        "from google.colab import drive\r\n",
        "drive.mount('/content/gdrive')"
      ],
      "execution_count": null,
      "outputs": [
        {
          "output_type": "stream",
          "text": [
            "Drive already mounted at /content/gdrive; to attempt to forcibly remount, call drive.mount(\"/content/gdrive\", force_remount=True).\n"
          ],
          "name": "stdout"
        }
      ]
    },
    {
      "cell_type": "code",
      "metadata": {
        "id": "Y_hxdz4ALVQ3"
      },
      "source": [
        "# This code creates a virtual display to draw game images on.\r\n",
        "# If you are running locally, just ignore it\r\n",
        "import os\r\n",
        "if type(os.environ.get(\"DISPLAY\")) is not str or len(os.environ.get(\"DISPLAY\")) == 0:\r\n",
        "    !bash ../xvfb start\r\n",
        "    %env DISPLAY = : 1"
      ],
      "execution_count": null,
      "outputs": []
    },
    {
      "cell_type": "code",
      "metadata": {
        "id": "C1GqN0iRLaZk"
      },
      "source": [
        "import json\r\n",
        "import gym\r\n",
        "from gym import logger as gymlogger\r\n",
        "from gym.wrappers import Monitor\r\n",
        "gymlogger.set_level(40) # error only\r\n",
        "import numpy as np\r\n",
        "import random\r\n",
        "import matplotlib\r\n",
        "import matplotlib.pyplot as plt\r\n",
        "%matplotlib inline\r\n",
        "import math\r\n",
        "import glob\r\n",
        "import io\r\n",
        "import base64\r\n",
        "from IPython.display import HTML\r\n",
        "import copy\r\n",
        "from collections import deque\r\n",
        "\r\n",
        "from IPython import display as ipythondisplay\r\n",
        "import torch\r\n",
        "import torchvision\r\n",
        "from torchvision import transforms\r\n",
        "import torch.nn as nn\r\n",
        "import torch.optim as optim\r\n",
        "import torch.nn.functional as F\r\n",
        "from torch.utils.data import Dataset, DataLoader"
      ],
      "execution_count": null,
      "outputs": []
    },
    {
      "cell_type": "code",
      "metadata": {
        "id": "ILbriB_oLn5T"
      },
      "source": [
        "\"\"\"\r\n",
        "Utility functions to enable video recording of gym environment and displaying it\r\n",
        "To enable video, just do \"env = wrap_env(env)\"\"\r\n",
        "\"\"\"\r\n",
        "def show_video():\r\n",
        "    mp4list = glob.glob('video/*.mp4')\r\n",
        "    if len(mp4list) > 0:\r\n",
        "        mp4 = mp4list[0]\r\n",
        "        video = io.open(mp4, 'r+b').read()\r\n",
        "        encoded = base64.b64encode(video)\r\n",
        "        ipythondisplay.display(HTML(data='''<video alt=\"test\" autoplay \r\n",
        "                    loop controls style=\"height: 400px;\">\r\n",
        "                    <source src=\"data:video/mp4;base64,{0}\" type=\"video/mp4\" />\r\n",
        "                </video>'''.format(encoded.decode('ascii'))))\r\n",
        "    else:\r\n",
        "        print(\"Could not find video\")\r\n",
        "\r\n",
        "\r\n",
        "def wrap_env(env):\r\n",
        "    env = Monitor(env, './video', force=True)\r\n",
        "    return env"
      ],
      "execution_count": null,
      "outputs": []
    },
    {
      "cell_type": "code",
      "metadata": {
        "id": "NnR-cqjbLpI4",
        "colab": {
          "base_uri": "https://localhost:8080/"
        },
        "outputId": "47ea6161-a174-4968-dc3f-f472035b94df"
      },
      "source": [
        "!pip install gym[box2d]"
      ],
      "execution_count": null,
      "outputs": [
        {
          "output_type": "stream",
          "text": [
            "Requirement already satisfied: gym[box2d] in /usr/local/lib/python3.7/dist-packages (0.17.3)\n",
            "Requirement already satisfied: pyglet<=1.5.0,>=1.4.0 in /usr/local/lib/python3.7/dist-packages (from gym[box2d]) (1.5.0)\n",
            "Requirement already satisfied: scipy in /usr/local/lib/python3.7/dist-packages (from gym[box2d]) (1.4.1)\n",
            "Requirement already satisfied: numpy>=1.10.4 in /usr/local/lib/python3.7/dist-packages (from gym[box2d]) (1.19.5)\n",
            "Requirement already satisfied: cloudpickle<1.7.0,>=1.2.0 in /usr/local/lib/python3.7/dist-packages (from gym[box2d]) (1.3.0)\n",
            "Requirement already satisfied: box2d-py~=2.3.5; extra == \"box2d\" in /usr/local/lib/python3.7/dist-packages (from gym[box2d]) (2.3.8)\n",
            "Requirement already satisfied: future in /usr/local/lib/python3.7/dist-packages (from pyglet<=1.5.0,>=1.4.0->gym[box2d]) (0.16.0)\n"
          ],
          "name": "stdout"
        }
      ]
    },
    {
      "cell_type": "code",
      "metadata": {
        "id": "yCHLYkMkLzcf",
        "colab": {
          "base_uri": "https://localhost:8080/",
          "height": 286
        },
        "outputId": "e701f66e-b063-4b86-ffdf-e368b696b60d"
      },
      "source": [
        "env = gym.make('LunarLanderContinuous-v2')\r\n",
        "env.reset()\r\n",
        "plt.imshow(env.render('rgb_array'))"
      ],
      "execution_count": null,
      "outputs": [
        {
          "output_type": "execute_result",
          "data": {
            "text/plain": [
              "<matplotlib.image.AxesImage at 0x7fee91cbf450>"
            ]
          },
          "metadata": {
            "tags": []
          },
          "execution_count": 55
        },
        {
          "output_type": "display_data",
          "data": {
            "image/png": "[encoded data removed]",
            "text/plain": [
              "<Figure size 432x288 with 1 Axes>"
            ]
          },
          "metadata": {
            "tags": [],
            "needs_background": "light"
          }
        }
      ]
    },
    {
      "cell_type": "code",
      "metadata": {
        "id": "Wh4v_3zCRepL",
        "colab": {
          "base_uri": "https://localhost:8080/"
        },
        "outputId": "fa5bea6c-2642-4586-9b43-1b5fc9e3ad46"
      },
      "source": [
        "state_size = env.observation_space\r\n",
        "print(\"state size is:\", state_size)\r\n",
        "a = env.action_space\r\n",
        "print(\"action size=\", a)\r\n",
        "state = env.reset()\r\n",
        "print(state)"
      ],
      "execution_count": null,
      "outputs": [
        {
          "output_type": "stream",
          "text": [
            "state size is: Box(-inf, inf, (8,), float32)\n",
            "action size= Box(-1.0, 1.0, (2,), float32)\n",
            "[-0.00652151  1.4150398  -0.6605648   0.18307999  0.0075635   0.14962779\n",
            "  0.          0.        ]\n"
          ],
          "name": "stdout"
        }
      ]
    },
    {
      "cell_type": "markdown",
      "metadata": {
        "id": "yTfAdl7dSS-K"
      },
      "source": [
        "# Action Space\r\n",
        "            #is two floats [main engine, left-right engines].\r\n",
        "            # Main engine: -1..0 off, 0..+1 throttle from 50% to 100% power. Engine can't work with less than 50% power.\r\n",
        "            # Left-right:  -1.0..-0.5 fire left engine, +0.5..+1.0 fire right engine, -0.5..0.5 off\r\n",
        "            self.action_space = spaces.Box(-1, +1, (2,), dtype=np.float32)"
      ]
    },
    {
      "cell_type": "markdown",
      "metadata": {
        "id": "AfJat7i14jfS"
      },
      "source": [
        "# Action Space (continuous to discrete values)"
      ]
    },
    {
      "cell_type": "code",
      "metadata": {
        "id": "odd5_LwaQbSh"
      },
      "source": [
        "class ActionSpace(object):\r\n",
        "    def __init__(self, x_size, y_size):\r\n",
        "        self.x_size = x_size\r\n",
        "        self.y_size = y_size\r\n",
        "        self.cache = {}\r\n",
        "        self.build_actions_cache()\r\n",
        "\r\n",
        "    def build_actions_cache(self):\r\n",
        "        for i in range(self.x_size * self.y_size):\r\n",
        "            self.cache[i] = self.get_value_by_key(i)\r\n",
        "\r\n",
        "    def get_value_by_key(self, key):\r\n",
        "        ind1 = int(key / self.y_size)\r\n",
        "        ind2 = key % self.y_size\r\n",
        "        value1 = 0 + ind1 * (1 / (self.x_size - 1))\r\n",
        "\r\n",
        "        if ind1 == 0:\r\n",
        "            value1 = -1\r\n",
        "        if ind2 == 0:\r\n",
        "            value2 = 0\r\n",
        "        else:\r\n",
        "            half = (self.y_size - 1) / 2\r\n",
        "            if ind2 <= self.y_size/2:\r\n",
        "                value2 = -0.5+- ind2 * (0.5 / (half))\r\n",
        "            else:\r\n",
        "                ind2 = ind2 - half\r\n",
        "                value2 = 0.5 + ind2 * (0.5 / (half))\r\n",
        "\r\n",
        "        return [value1, value2]\r\n",
        "\r\n",
        "    def choose(self, key):\r\n",
        "        return self.cache[key]\r\n",
        "\r\n",
        "\r\n",
        "x_actions = 2\r\n",
        "y_actions = 15  # y_actions must be an odd number.\r\n",
        "all_actions = x_actions * y_actions\r\n",
        "action_space = ActionSpace(x_actions, y_actions)"
      ],
      "execution_count": null,
      "outputs": []
    },
    {
      "cell_type": "markdown",
      "metadata": {
        "id": "47ib0m3U4heI"
      },
      "source": [
        "# DQN Model."
      ]
    },
    {
      "cell_type": "code",
      "metadata": {
        "id": "1GwXRXmsXkuK"
      },
      "source": [
        "class DuelingDQN(nn.Module):\r\n",
        "    def __init__(self, all_actions):\r\n",
        "        super(DuelingDQN, self).__init__()\r\n",
        "\r\n",
        "        self.fc1 = nn.Linear(32, 128)\r\n",
        "        self.fc2 = nn.Linear(128, 256)\r\n",
        "        self.fc3 = nn.Linear(256, 256)\r\n",
        "        self.fc4 = nn.Linear(256, all_actions)\r\n",
        "        self.fc_value = nn.Linear(256, 1)\r\n",
        "\r\n",
        "    def forward(self, x):\r\n",
        "        x = F.relu(self.fc1(x))\r\n",
        "        x = F.relu(self.fc2(x))\r\n",
        "        x = F.relu(self.fc3(x))\r\n",
        "        advantage = self.fc4(x)\r\n",
        "        value = self.fc_value(x)\r\n",
        "        return advantage + value - torch.mean(advantage)"
      ],
      "execution_count": null,
      "outputs": []
    },
    {
      "cell_type": "markdown",
      "metadata": {
        "id": "x757fDnSRJdn"
      },
      "source": [
        "# GPU/CPU"
      ]
    },
    {
      "cell_type": "code",
      "metadata": {
        "id": "k9AU4N9YCGoP",
        "colab": {
          "base_uri": "https://localhost:8080/"
        },
        "outputId": "51aa08ab-113a-4d5e-f003-d52bfc710002"
      },
      "source": [
        "device = None\r\n",
        "if torch.cuda.is_available():\r\n",
        "    print(\"Using GPU.\")\r\n",
        "    device = torch.device('cuda:0')\r\n",
        "else:\r\n",
        "    print(\"Using CPU.\")\r\n",
        "    device = torch.device(\"cpu\")"
      ],
      "execution_count": null,
      "outputs": [
        {
          "output_type": "stream",
          "text": [
            "Using GPU.\n"
          ],
          "name": "stdout"
        }
      ]
    },
    {
      "cell_type": "markdown",
      "metadata": {
        "id": "rLYd9IHLU9sY"
      },
      "source": [
        "# Replay Memory"
      ]
    },
    {
      "cell_type": "code",
      "metadata": {
        "id": "tqrpFa_gRPNC"
      },
      "source": [
        "class ReplayMemory(object):\r\n",
        "    def __init__(self, replay_memory_size):\r\n",
        "        self.memory = deque(maxlen=replay_memory_size)\r\n",
        "\r\n",
        "    def size(self):\r\n",
        "        return len(self.memory)\r\n",
        "\r\n",
        "    def push(self, state, action, reward, observation, done):\r\n",
        "        self.memory.append((state, action, reward, observation, done))\r\n",
        "\r\n",
        "    def sample(self, batch_size):\r\n",
        "        return random.sample(self.memory, batch_size)"
      ],
      "execution_count": null,
      "outputs": []
    },
    {
      "cell_type": "markdown",
      "metadata": {
        "id": "2pdmX8ojQGpd"
      },
      "source": [
        "# Methods"
      ]
    },
    {
      "cell_type": "code",
      "metadata": {
        "id": "lDNbImwBQGXK"
      },
      "source": [
        "def choose_action(state, epsilon, model):\r\n",
        "    model.eval()\r\n",
        "    if np.random.rand() <= epsilon:\r\n",
        "        return np.random.choice(all_actions)\r\n",
        "    else:\r\n",
        "        unsqueeze = state.unsqueeze(0)\r\n",
        "        preds = model(unsqueeze)\r\n",
        "        value, indice = torch.max(preds, 1)\r\n",
        "        return indice[0].item()\r\n",
        "\r\n",
        "\r\n",
        "def run_replay_experiments(model, target_model, replay_memory, optimizer, batch_size):\r\n",
        "    optimizer.zero_grad()\r\n",
        "    model.train()\r\n",
        "    target_model.eval()\r\n",
        "\r\n",
        "    x_batch = []\r\n",
        "    x_target = []\r\n",
        "    samples_batch = replay_memory.sample(batch_size)\r\n",
        "\r\n",
        "    for state, action, reward, observation, done in samples_batch:\r\n",
        "        x_batch.append(state)\r\n",
        "        x_target.append(observation)\r\n",
        "\r\n",
        "    x_batch = torch.stack(x_batch).to(device)\r\n",
        "    x_target = torch.stack(x_target).to(device)\r\n",
        "\r\n",
        "    model_preds = model(x_batch)\r\n",
        "    model_preds_clone = model_preds.clone()\r\n",
        "    target_preds = target_model(x_target)\r\n",
        "    max_values, indices = torch.max(target_preds, 1)\r\n",
        "\r\n",
        "    for index, (state, action, reward, observation, done) in enumerate(samples_batch):\r\n",
        "        if done:\r\n",
        "            model_preds_clone[index][action] = reward\r\n",
        "        else:\r\n",
        "            model_preds_clone[index][action] = reward + gama * max_values[index]\r\n",
        "\r\n",
        "    loss = F.smooth_l1_loss(model_preds, model_preds_clone)\r\n",
        "    loss.backward()\r\n",
        "    optimizer.step()\r\n",
        "def noisy_observation(obs):\r\n",
        "  \r\n",
        "  if not isinstance(obs,(list,np.ndarray)):\r\n",
        "    return obs\r\n",
        "  if(len(obs)<3):\r\n",
        "    return obs\r\n",
        "  mu, sigma = 0, 0.05 # mean and standard deviation\r\n",
        "  s =np.random.normal(mu, sigma, 2)\r\n",
        "  obs[0]=obs[0]+s[0]\r\n",
        "  obs[1]=obs[1]+s[1]\r\n",
        "  return torch.from_numpy(obs).to(device)\r\n",
        "def append_states(states):\r\n",
        "    ans=[]\r\n",
        "    for i in range(len(states)):\r\n",
        "        ans.append(states[i])\r\n",
        "    ans= torch.stack(ans).to(device)\r\n",
        "    ans=torch.reshape(ans,(ans.shape[0]*ans.shape[1],))\r\n",
        "    return ans"
      ],
      "execution_count": null,
      "outputs": []
    },
    {
      "cell_type": "markdown",
      "metadata": {
        "id": "a48wrZOW4OH0"
      },
      "source": [
        "# Parameters."
      ]
    },
    {
      "cell_type": "code",
      "metadata": {
        "id": "OtGLjXTt2cbj"
      },
      "source": [
        "epsilon = 1\r\n",
        "epsilon_decay = 0.975\r\n",
        "\r\n",
        "batch_size = 256\r\n",
        "max_iterations = 50000\r\n",
        "\r\n",
        "reset_target = 200\r\n",
        "steps_per_action = 1\r\n",
        "replay_memory_size = 20000\r\n",
        "\r\n",
        "gama = 0.99\r\n",
        "lr = 0.00005"
      ],
      "execution_count": null,
      "outputs": []
    },
    {
      "cell_type": "markdown",
      "metadata": {
        "id": "4QDVmpFT4Q6I"
      },
      "source": [
        "# Training the model."
      ]
    },
    {
      "cell_type": "code",
      "metadata": {
        "id": "EQaFvJdvM4qX",
        "colab": {
          "base_uri": "https://localhost:8080/"
        },
        "outputId": "b5bfc05c-ddd5-4b3f-f4fc-fdc7747d25f6"
      },
      "source": [
        "env = wrap_env(env)\r\n",
        "\r\n",
        "\r\n",
        "model = DuelingDQN(all_actions)\r\n",
        "model.to(device)\r\n",
        "optimizer = optim.Adam(model.parameters(), lr=lr)\r\n",
        "\r\n",
        "if not next(model.parameters()).is_cuda:\r\n",
        "    print('The neural network model is not working on GPU!')\r\n",
        "frames=4\r\n",
        "states = deque(maxlen=frames)\r\n",
        "average100 = deque(maxlen=100)\r\n",
        "replay_memory = ReplayMemory(replay_memory_size)\r\n",
        "\r\n",
        "results_memory = []\r\n",
        "steps=0\r\n",
        "for iteration in range(max_iterations):\r\n",
        "    for i in range(frames-1):\r\n",
        "        states.append(torch.zeros(8).to(device))\r\n",
        "    state = env.reset()\r\n",
        "    state_one = noisy_observation(state)\r\n",
        "    states.append(state_one)\r\n",
        "    state=append_states(states)\r\n",
        "    total_reward = 0\r\n",
        "    done = False\r\n",
        "    while not done:\r\n",
        "        action = choose_action(state, epsilon, model)\r\n",
        "        converted_action = action_space.choose(action)\r\n",
        "\r\n",
        "        observation, reward, done, _ = env.step(converted_action)\r\n",
        "        observation_one = noisy_observation(observation)\r\n",
        "        states.append(observation_one)\r\n",
        "        observation = append_states(states)\r\n",
        "        total_reward += reward\r\n",
        "\r\n",
        "        replay_memory.push(state, action, reward, observation, done)\r\n",
        "        state = observation\r\n",
        "\r\n",
        "\r\n",
        "        for i in range(steps_per_action):\r\n",
        "            if steps % reset_target == 0:\r\n",
        "                target_model = copy.deepcopy(model)\r\n",
        "                target_model.to(device)  \r\n",
        "            steps=steps+1        \r\n",
        "            if replay_memory.size() >= batch_size:\r\n",
        "                run_replay_experiments(model, target_model, replay_memory, optimizer, batch_size)\r\n",
        "\r\n",
        "\r\n",
        "    average100.append(total_reward)\r\n",
        "    epsilon *= epsilon_decay\r\n",
        "    print(f'Iteration: {iteration} | Epsilon: {round(epsilon, 2)} | Last Reward: {round(reward, 2)} | Average100: {round(np.average(average100))} | Total Reward: {total_reward}')\r\n",
        "    results_memory.append((iteration, round(np.average(average100))))\r\n",
        "\r\n",
        "    if len(average100) >= 100 and np.average(average100) >= 200:\r\n",
        "        print(f'Finished after {iteration-100} iterations.')\r\n",
        "        break"
      ],
      "execution_count": null,
      "outputs": [
        {
          "output_type": "stream",
          "text": [
            "Iteration: 0 | Epsilon: 0.97 | Last Reward: -100 | Average100: -600 | Total Reward: -600.2090103739486\n",
            "Iteration: 1 | Epsilon: 0.95 | Last Reward: -100 | Average100: -435 | Total Reward: -269.48959203724417\n",
            "Iteration: 2 | Epsilon: 0.93 | Last Reward: -100 | Average100: -440 | Total Reward: -450.32371297963476\n",
            "Iteration: 3 | Epsilon: 0.9 | Last Reward: -100 | Average100: -381 | Total Reward: -203.09680812836723\n",
            "Iteration: 4 | Epsilon: 0.88 | Last Reward: -100 | Average100: -366 | Total Reward: -306.95558356490415\n",
            "Iteration: 5 | Epsilon: 0.86 | Last Reward: -100 | Average100: -387 | Total Reward: -490.4518911828285\n",
            "Iteration: 6 | Epsilon: 0.84 | Last Reward: -100 | Average100: -356 | Total Reward: -170.48788109530682\n",
            "Iteration: 7 | Epsilon: 0.82 | Last Reward: -100 | Average100: -337 | Total Reward: -204.93877317939916\n",
            "Iteration: 8 | Epsilon: 0.8 | Last Reward: -100 | Average100: -345 | Total Reward: -406.3252383284044\n",
            "Iteration: 9 | Epsilon: 0.78 | Last Reward: -100 | Average100: -330 | Total Reward: -198.3146370720266\n",
            "Iteration: 10 | Epsilon: 0.76 | Last Reward: -100 | Average100: -326 | Total Reward: -284.84795673943734\n",
            "Iteration: 11 | Epsilon: 0.74 | Last Reward: -100 | Average100: -308 | Total Reward: -106.37407832030792\n",
            "Iteration: 12 | Epsilon: 0.72 | Last Reward: -100 | Average100: -304 | Total Reward: -266.0739897238983\n",
            "Iteration: 13 | Epsilon: 0.7 | Last Reward: -100 | Average100: -286 | Total Reward: -39.57158181203815\n",
            "Iteration: 14 | Epsilon: 0.68 | Last Reward: -100 | Average100: -283 | Total Reward: -246.72292504714474\n",
            "Iteration: 15 | Epsilon: 0.67 | Last Reward: -100 | Average100: -277 | Total Reward: -189.5389023244726\n",
            "Iteration: 16 | Epsilon: 0.65 | Last Reward: -100 | Average100: -259 | Total Reward: 22.89289916894144\n",
            "Iteration: 17 | Epsilon: 0.63 | Last Reward: -100 | Average100: -251 | Total Reward: -112.98263783555377\n",
            "Iteration: 18 | Epsilon: 0.62 | Last Reward: 9.39 | Average100: -238 | Total Reward: 1.8143980691903554\n",
            "Iteration: 19 | Epsilon: 0.6 | Last Reward: 3.48 | Average100: -229 | Total Reward: -51.445543859410456\n",
            "Iteration: 20 | Epsilon: 0.59 | Last Reward: -0.84 | Average100: -217 | Total Reward: 19.799311114180306\n",
            "Iteration: 21 | Epsilon: 0.57 | Last Reward: -9.96 | Average100: -207 | Total Reward: -8.320214500176506\n",
            "Iteration: 22 | Epsilon: 0.56 | Last Reward: -100 | Average100: -209 | Total Reward: -236.08688631456403\n",
            "Iteration: 23 | Epsilon: 0.54 | Last Reward: 0.05 | Average100: -198 | Total Reward: 36.00414609931626\n",
            "Iteration: 24 | Epsilon: 0.53 | Last Reward: -100 | Average100: -200 | Total Reward: -240.5325924493978\n",
            "Iteration: 25 | Epsilon: 0.52 | Last Reward: -1.36 | Average100: -191 | Total Reward: 44.41265538856243\n",
            "Iteration: 26 | Epsilon: 0.5 | Last Reward: 1.09 | Average100: -183 | Total Reward: 15.41492044381874\n",
            "Iteration: 27 | Epsilon: 0.49 | Last Reward: 0.48 | Average100: -175 | Total Reward: 53.36670799170815\n",
            "Iteration: 28 | Epsilon: 0.48 | Last Reward: -2.01 | Average100: -166 | Total Reward: 67.3577243639552\n",
            "Iteration: 29 | Epsilon: 0.47 | Last Reward: -0.47 | Average100: -159 | Total Reward: 56.37198547559601\n",
            "Iteration: 30 | Epsilon: 0.46 | Last Reward: -0.18 | Average100: -150 | Total Reward: 109.31127972858236\n",
            "Iteration: 31 | Epsilon: 0.44 | Last Reward: -100 | Average100: -146 | Total Reward: -21.964747261712134\n",
            "Iteration: 32 | Epsilon: 0.43 | Last Reward: -100 | Average100: -143 | Total Reward: -49.19962386134614\n",
            "Iteration: 33 | Epsilon: 0.42 | Last Reward: -1.72 | Average100: -137 | Total Reward: 78.92133356935463\n",
            "Iteration: 34 | Epsilon: 0.41 | Last Reward: 0.63 | Average100: -131 | Total Reward: 72.86041914637428\n",
            "Iteration: 35 | Epsilon: 0.4 | Last Reward: -0.76 | Average100: -124 | Total Reward: 111.2364266595156\n",
            "Iteration: 36 | Epsilon: 0.39 | Last Reward: 0.76 | Average100: -120 | Total Reward: 41.85511248688196\n",
            "Iteration: 37 | Epsilon: 0.38 | Last Reward: -0.1 | Average100: -115 | Total Reward: 47.077701099882155\n",
            "Iteration: 38 | Epsilon: 0.37 | Last Reward: -0.4 | Average100: -109 | Total Reward: 135.35621184850302\n",
            "Iteration: 39 | Epsilon: 0.36 | Last Reward: -3.92 | Average100: -103 | Total Reward: 113.67675074493005\n",
            "Iteration: 40 | Epsilon: 0.35 | Last Reward: -0.04 | Average100: -98 | Total Reward: 100.59197650778302\n",
            "Iteration: 41 | Epsilon: 0.35 | Last Reward: 1.45 | Average100: -94 | Total Reward: 89.43226051884542\n",
            "Iteration: 42 | Epsilon: 0.34 | Last Reward: 1.11 | Average100: -89 | Total Reward: 88.45123884070222\n",
            "Iteration: 43 | Epsilon: 0.33 | Last Reward: 10.8 | Average100: -85 | Total Reward: 93.61417224643364\n",
            "Iteration: 44 | Epsilon: 0.32 | Last Reward: -4.04 | Average100: -81 | Total Reward: 111.88456014029342\n",
            "Iteration: 45 | Epsilon: 0.31 | Last Reward: -100 | Average100: -78 | Total Reward: 56.11000271941319\n",
            "Iteration: 46 | Epsilon: 0.3 | Last Reward: -100 | Average100: -76 | Total Reward: 8.979247585195793\n",
            "Iteration: 47 | Epsilon: 0.3 | Last Reward: -0.03 | Average100: -72 | Total Reward: 145.1920597314822\n",
            "Iteration: 48 | Epsilon: 0.29 | Last Reward: -100 | Average100: -70 | Total Reward: -4.49885233312915\n",
            "Iteration: 49 | Epsilon: 0.28 | Last Reward: 7.8 | Average100: -67 | Total Reward: 102.68099052167388\n",
            "Iteration: 50 | Epsilon: 0.27 | Last Reward: 0.14 | Average100: -63 | Total Reward: 137.86457800216928\n",
            "Iteration: 51 | Epsilon: 0.27 | Last Reward: 0.12 | Average100: -59 | Total Reward: 109.49944700965207\n",
            "Iteration: 52 | Epsilon: 0.26 | Last Reward: -100 | Average100: -58 | Total Reward: 19.61686655396079\n",
            "Iteration: 53 | Epsilon: 0.25 | Last Reward: -100 | Average100: -56 | Total Reward: 43.2886572941363\n",
            "Iteration: 54 | Epsilon: 0.25 | Last Reward: -0.14 | Average100: -52 | Total Reward: 150.9280071346053\n",
            "Iteration: 55 | Epsilon: 0.24 | Last Reward: -100 | Average100: -51 | Total Reward: 36.84596065812835\n",
            "Iteration: 56 | Epsilon: 0.24 | Last Reward: -0.22 | Average100: -48 | Total Reward: 110.6362009580276\n",
            "Iteration: 57 | Epsilon: 0.23 | Last Reward: -100 | Average100: -47 | Total Reward: 25.843345840881014\n",
            "Iteration: 58 | Epsilon: 0.22 | Last Reward: -100 | Average100: -46 | Total Reward: -34.45779608979193\n",
            "Iteration: 59 | Epsilon: 0.22 | Last Reward: -0.37 | Average100: -44 | Total Reward: 111.65143165257416\n",
            "Iteration: 60 | Epsilon: 0.21 | Last Reward: -100 | Average100: -42 | Total Reward: 34.081181430952086\n",
            "Iteration: 61 | Epsilon: 0.21 | Last Reward: -100 | Average100: -42 | Total Reward: -39.574801370199836\n",
            "Iteration: 62 | Epsilon: 0.2 | Last Reward: -100 | Average100: -42 | Total Reward: 9.961777495836614\n",
            "Iteration: 63 | Epsilon: 0.2 | Last Reward: -100 | Average100: -42 | Total Reward: -67.04198775370017\n",
            "Iteration: 64 | Epsilon: 0.19 | Last Reward: -100 | Average100: -41 | Total Reward: 29.74333197332649\n",
            "Iteration: 65 | Epsilon: 0.19 | Last Reward: -100 | Average100: -40 | Total Reward: 29.29344759919084\n",
            "Iteration: 66 | Epsilon: 0.18 | Last Reward: -100 | Average100: -38 | Total Reward: 53.87200832314855\n",
            "Iteration: 67 | Epsilon: 0.18 | Last Reward: 0.09 | Average100: -36 | Total Reward: 140.26303141685187\n",
            "Iteration: 68 | Epsilon: 0.17 | Last Reward: -100 | Average100: -35 | Total Reward: 24.941352116917727\n",
            "Iteration: 69 | Epsilon: 0.17 | Last Reward: -100 | Average100: -34 | Total Reward: -2.6028305815614488\n",
            "Iteration: 70 | Epsilon: 0.17 | Last Reward: -100 | Average100: -34 | Total Reward: 22.98920575813925\n",
            "Iteration: 71 | Epsilon: 0.16 | Last Reward: -100 | Average100: -33 | Total Reward: 29.407051321425286\n",
            "Iteration: 72 | Epsilon: 0.16 | Last Reward: -100 | Average100: -32 | Total Reward: 12.304073330812258\n",
            "Iteration: 73 | Epsilon: 0.15 | Last Reward: -100 | Average100: -31 | Total Reward: 32.731474432302264\n",
            "Iteration: 74 | Epsilon: 0.15 | Last Reward: -100 | Average100: -30 | Total Reward: 49.96777323620026\n",
            "Iteration: 75 | Epsilon: 0.15 | Last Reward: 100 | Average100: -27 | Total Reward: 229.06287410383217\n",
            "Iteration: 76 | Epsilon: 0.14 | Last Reward: -100 | Average100: -26 | Total Reward: 15.62362336940545\n",
            "Iteration: 77 | Epsilon: 0.14 | Last Reward: 0.48 | Average100: -24 | Total Reward: 123.2556953387833\n",
            "Iteration: 78 | Epsilon: 0.14 | Last Reward: 100 | Average100: -21 | Total Reward: 225.09584494538748\n",
            "Iteration: 79 | Epsilon: 0.13 | Last Reward: 11.18 | Average100: -19 | Total Reward: 162.51979646310127\n",
            "Iteration: 80 | Epsilon: 0.13 | Last Reward: 100 | Average100: -15 | Total Reward: 261.2269925374507\n",
            "Iteration: 81 | Epsilon: 0.13 | Last Reward: -0.14 | Average100: -13 | Total Reward: 138.4888934956381\n",
            "Iteration: 82 | Epsilon: 0.12 | Last Reward: -0.05 | Average100: -12 | Total Reward: 119.137774826642\n",
            "Iteration: 83 | Epsilon: 0.12 | Last Reward: 0.54 | Average100: -10 | Total Reward: 158.12277647459723\n",
            "Iteration: 84 | Epsilon: 0.12 | Last Reward: 100 | Average100: -7 | Total Reward: 216.00655348899068\n",
            "Iteration: 85 | Epsilon: 0.11 | Last Reward: 100 | Average100: -5 | Total Reward: 215.33257190028698\n",
            "Iteration: 86 | Epsilon: 0.11 | Last Reward: -4.67 | Average100: -4 | Total Reward: 87.76061677843447\n",
            "Iteration: 87 | Epsilon: 0.11 | Last Reward: 100 | Average100: -1 | Total Reward: 201.89636920870836\n",
            "Iteration: 88 | Epsilon: 0.11 | Last Reward: 100 | Average100: 1 | Total Reward: 222.87955451696996\n",
            "Iteration: 89 | Epsilon: 0.1 | Last Reward: -0.03 | Average100: 3 | Total Reward: 183.2553111589476\n",
            "Iteration: 90 | Epsilon: 0.1 | Last Reward: 100 | Average100: 6 | Total Reward: 209.00855273984445\n",
            "Iteration: 91 | Epsilon: 0.1 | Last Reward: -1.98 | Average100: 7 | Total Reward: 121.27244197475953\n",
            "Iteration: 92 | Epsilon: 0.09 | Last Reward: -100 | Average100: 7 | Total Reward: 9.161158926584477\n",
            "Iteration: 93 | Epsilon: 0.09 | Last Reward: -0.29 | Average100: 8 | Total Reward: 158.7421426240571\n",
            "Iteration: 94 | Epsilon: 0.09 | Last Reward: 100 | Average100: 11 | Total Reward: 244.3476307177024\n",
            "Iteration: 95 | Epsilon: 0.09 | Last Reward: 100 | Average100: 13 | Total Reward: 227.79487869151146\n",
            "Iteration: 96 | Epsilon: 0.09 | Last Reward: 100 | Average100: 15 | Total Reward: 214.0295335633515\n",
            "Iteration: 97 | Epsilon: 0.08 | Last Reward: 100 | Average100: 17 | Total Reward: 225.9251093164146\n",
            "Iteration: 98 | Epsilon: 0.08 | Last Reward: 100 | Average100: 20 | Total Reward: 256.27508341955854\n",
            "Iteration: 99 | Epsilon: 0.08 | Last Reward: 100 | Average100: 22 | Total Reward: 237.0715493381106\n",
            "Iteration: 100 | Epsilon: 0.08 | Last Reward: 100 | Average100: 30 | Total Reward: 237.94656780144334\n",
            "Iteration: 101 | Epsilon: 0.08 | Last Reward: 100 | Average100: 36 | Total Reward: 268.91546923398204\n",
            "Iteration: 102 | Epsilon: 0.07 | Last Reward: 100 | Average100: 43 | Total Reward: 258.0821804964155\n",
            "Iteration: 103 | Epsilon: 0.07 | Last Reward: 100 | Average100: 47 | Total Reward: 231.1218445335546\n",
            "Iteration: 104 | Epsilon: 0.07 | Last Reward: 0.1 | Average100: 52 | Total Reward: 158.98902984316607\n",
            "Iteration: 105 | Epsilon: 0.07 | Last Reward: 100 | Average100: 59 | Total Reward: 264.8231391238171\n",
            "Iteration: 106 | Epsilon: 0.07 | Last Reward: 100 | Average100: 64 | Total Reward: 282.7926051922752\n",
            "Iteration: 107 | Epsilon: 0.06 | Last Reward: 0.04 | Average100: 68 | Total Reward: 150.4267422085445\n",
            "Iteration: 108 | Epsilon: 0.06 | Last Reward: 0.01 | Average100: 73 | Total Reward: 162.7417561232212\n",
            "Iteration: 109 | Epsilon: 0.06 | Last Reward: 100 | Average100: 77 | Total Reward: 207.31786826459654\n",
            "Iteration: 110 | Epsilon: 0.06 | Last Reward: 100 | Average100: 83 | Total Reward: 256.83196538586697\n",
            "Iteration: 111 | Epsilon: 0.06 | Last Reward: -100 | Average100: 84 | Total Reward: 13.739249952077145\n",
            "Iteration: 112 | Epsilon: 0.06 | Last Reward: 100 | Average100: 89 | Total Reward: 234.08114124829459\n",
            "Iteration: 113 | Epsilon: 0.06 | Last Reward: 100 | Average100: 92 | Total Reward: 253.48722328095963\n",
            "Iteration: 114 | Epsilon: 0.05 | Last Reward: 100 | Average100: 97 | Total Reward: 281.8500200286795\n",
            "Iteration: 115 | Epsilon: 0.05 | Last Reward: 100 | Average100: 101 | Total Reward: 236.05842450555988\n",
            "Iteration: 116 | Epsilon: 0.05 | Last Reward: 100 | Average100: 104 | Total Reward: 271.9694289220865\n",
            "Iteration: 117 | Epsilon: 0.05 | Last Reward: -0.02 | Average100: 106 | Total Reward: 137.02395983266737\n",
            "Iteration: 118 | Epsilon: 0.05 | Last Reward: 100 | Average100: 109 | Total Reward: 255.1481852155205\n",
            "Iteration: 119 | Epsilon: 0.05 | Last Reward: 100 | Average100: 111 | Total Reward: 174.31304666371003\n",
            "Iteration: 120 | Epsilon: 0.05 | Last Reward: 100 | Average100: 114 | Total Reward: 270.94379415320566\n",
            "Iteration: 121 | Epsilon: 0.05 | Last Reward: 100 | Average100: 116 | Total Reward: 230.61254932732146\n",
            "Iteration: 122 | Epsilon: 0.04 | Last Reward: 100 | Average100: 121 | Total Reward: 252.58521368106997\n",
            "Iteration: 123 | Epsilon: 0.04 | Last Reward: 100 | Average100: 123 | Total Reward: 226.23839537973583\n",
            "Iteration: 124 | Epsilon: 0.04 | Last Reward: 100 | Average100: 128 | Total Reward: 252.11836591214464\n",
            "Iteration: 125 | Epsilon: 0.04 | Last Reward: 100 | Average100: 130 | Total Reward: 262.4625062522352\n",
            "Iteration: 126 | Epsilon: 0.04 | Last Reward: 100 | Average100: 132 | Total Reward: 245.66709379805022\n",
            "Iteration: 127 | Epsilon: 0.04 | Last Reward: -100 | Average100: 132 | Total Reward: 56.84921728462689\n",
            "Iteration: 128 | Epsilon: 0.04 | Last Reward: 100 | Average100: 134 | Total Reward: 278.52829444304143\n",
            "Iteration: 129 | Epsilon: 0.04 | Last Reward: 100 | Average100: 136 | Total Reward: 211.91188381866834\n",
            "Iteration: 130 | Epsilon: 0.04 | Last Reward: 100 | Average100: 138 | Total Reward: 284.08596492067375\n",
            "Iteration: 131 | Epsilon: 0.04 | Last Reward: 100 | Average100: 141 | Total Reward: 286.0931710497741\n",
            "Iteration: 132 | Epsilon: 0.03 | Last Reward: 100 | Average100: 144 | Total Reward: 253.0626944641106\n",
            "Iteration: 133 | Epsilon: 0.03 | Last Reward: 100 | Average100: 145 | Total Reward: 247.10856204348605\n",
            "Iteration: 134 | Epsilon: 0.03 | Last Reward: 100 | Average100: 147 | Total Reward: 257.83978954824784\n",
            "Iteration: 135 | Epsilon: 0.03 | Last Reward: 100 | Average100: 149 | Total Reward: 268.98729001610025\n",
            "Iteration: 136 | Epsilon: 0.03 | Last Reward: 100 | Average100: 151 | Total Reward: 294.01164936180976\n",
            "Iteration: 137 | Epsilon: 0.03 | Last Reward: 100 | Average100: 154 | Total Reward: 273.424050083667\n",
            "Iteration: 138 | Epsilon: 0.03 | Last Reward: 0.0 | Average100: 154 | Total Reward: 172.35630546479626\n",
            "Iteration: 139 | Epsilon: 0.03 | Last Reward: 100 | Average100: 155 | Total Reward: 239.03756496622097\n",
            "Iteration: 140 | Epsilon: 0.03 | Last Reward: 100 | Average100: 157 | Total Reward: 284.0610406390838\n",
            "Iteration: 141 | Epsilon: 0.03 | Last Reward: 100 | Average100: 159 | Total Reward: 235.42997350433845\n",
            "Iteration: 142 | Epsilon: 0.03 | Last Reward: 100 | Average100: 161 | Total Reward: 281.8540434582169\n",
            "Iteration: 143 | Epsilon: 0.03 | Last Reward: 100 | Average100: 162 | Total Reward: 261.96900168327073\n",
            "Iteration: 144 | Epsilon: 0.03 | Last Reward: 100 | Average100: 164 | Total Reward: 282.3252753210145\n",
            "Iteration: 145 | Epsilon: 0.02 | Last Reward: 100 | Average100: 166 | Total Reward: 276.22255934849517\n",
            "Iteration: 146 | Epsilon: 0.02 | Last Reward: 100 | Average100: 169 | Total Reward: 259.87946500972373\n",
            "Iteration: 147 | Epsilon: 0.02 | Last Reward: 100 | Average100: 170 | Total Reward: 246.13242046981364\n",
            "Iteration: 148 | Epsilon: 0.02 | Last Reward: 100 | Average100: 172 | Total Reward: 243.95629761067966\n",
            "Iteration: 149 | Epsilon: 0.02 | Last Reward: 100 | Average100: 174 | Total Reward: 255.7244969792595\n",
            "Iteration: 150 | Epsilon: 0.02 | Last Reward: 100 | Average100: 175 | Total Reward: 268.437797099769\n",
            "Iteration: 151 | Epsilon: 0.02 | Last Reward: -100 | Average100: 174 | Total Reward: 11.1913400369437\n",
            "Iteration: 152 | Epsilon: 0.02 | Last Reward: 100 | Average100: 176 | Total Reward: 255.2172256542441\n",
            "Iteration: 153 | Epsilon: 0.02 | Last Reward: 100 | Average100: 179 | Total Reward: 270.95416705678247\n",
            "Iteration: 154 | Epsilon: 0.02 | Last Reward: 100 | Average100: 180 | Total Reward: 271.20972959387313\n",
            "Iteration: 155 | Epsilon: 0.02 | Last Reward: 100 | Average100: 182 | Total Reward: 246.54831352048944\n",
            "Iteration: 156 | Epsilon: 0.02 | Last Reward: 100 | Average100: 184 | Total Reward: 281.1780823456975\n",
            "Iteration: 157 | Epsilon: 0.02 | Last Reward: 100 | Average100: 186 | Total Reward: 256.561174417249\n",
            "Iteration: 158 | Epsilon: 0.02 | Last Reward: 100 | Average100: 189 | Total Reward: 271.00630747440204\n",
            "Iteration: 159 | Epsilon: 0.02 | Last Reward: 100 | Average100: 191 | Total Reward: 272.3085542278613\n",
            "Iteration: 160 | Epsilon: 0.02 | Last Reward: 100 | Average100: 193 | Total Reward: 265.00616851791295\n",
            "Iteration: 161 | Epsilon: 0.02 | Last Reward: 100 | Average100: 196 | Total Reward: 224.04867958084813\n",
            "Iteration: 162 | Epsilon: 0.02 | Last Reward: 100 | Average100: 198 | Total Reward: 253.3918282005975\n",
            "Iteration: 163 | Epsilon: 0.02 | Last Reward: -0.02 | Average100: 200 | Total Reward: 179.83361011596594\n",
            "Finished after 63 iterations.\n"
          ],
          "name": "stdout"
        }
      ]
    },
    {
      "cell_type": "code",
      "metadata": {
        "id": "tNVLgkF-gk_O"
      },
      "source": [
        "# Memory to JSON data.\r\n",
        "with open('/content/gdrive/My Drive/Noisy Dueling DQN.json', 'w') as f:\r\n",
        "    json.dump(results_memory, f)"
      ],
      "execution_count": null,
      "outputs": []
    },
    {
      "cell_type": "code",
      "metadata": {
        "id": "qw7m2w5ghKtF",
        "colab": {
          "base_uri": "https://localhost:8080/"
        },
        "outputId": "fd7a26a2-2133-4a43-8c20-d7a1a3323664"
      },
      "source": [
        "# Upload JSON data to notebook.\r\n",
        "loaded_results_memory = None\r\n",
        "with open('/content/gdrive/My Drive/Noisy Dueling DQN.json') as f:\r\n",
        "    loaded_results_memory = json.loads(f.read())\r\n",
        "\r\n",
        "print(loaded_results_memory[0])"
      ],
      "execution_count": null,
      "outputs": [
        {
          "output_type": "stream",
          "text": [
            "[0, -600]\n"
          ],
          "name": "stdout"
        }
      ]
    },
    {
      "cell_type": "code",
      "metadata": {
        "id": "BzyI3vKZQiR6",
        "colab": {
          "base_uri": "https://localhost:8080/"
        },
        "outputId": "3359dfe1-1004-4a30-8f50-acd3151188aa"
      },
      "source": [
        "env.close() \r\n",
        "show_video()"
      ],
      "execution_count": null,
      "outputs": [
        {
          "output_type": "display_data",
          "data": {
            "text/html": [
              "<video alt=\"test\" autoplay \n",
              "                    loop controls style=\"height: 400px;\">\n",
              "                    <source src=\"data:video/mp4;base64,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\" type=\"video/mp4\" />\n",
              "                </video>"
            ],
            "text/plain": [
              "<IPython.core.display.HTML object>"
            ]
          },
          "metadata": {
            "tags": []
          }
        }
      ]
    }
  ]
}