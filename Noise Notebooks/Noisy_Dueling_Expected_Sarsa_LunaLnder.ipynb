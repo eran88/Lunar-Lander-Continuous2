{
  "nbformat": 4,
  "nbformat_minor": 0,
  "metadata": {
    "colab": {
      "name": "Noisy Dueling Expected Sarsa  - LunaLnder.ipynb",
      "provenance": [],
      "collapsed_sections": [],
      "toc_visible": true
    },
    "kernelspec": {
      "display_name": "Python 3",
      "name": "python3"
    },
    "accelerator": "GPU"
  },
  "cells": [
    {
      "cell_type": "markdown",
      "metadata": {
        "id": "W-cVn8qQKtJq"
      },
      "source": [
        "Based on the following links to create this notebook:\r\n",
        "\r\n",
        "https://colab.research.google.com/drive/18LdlDDT87eb8cCTHZsXyS9ksQPzL3i6H\r\n",
        "\r\n",
        "https://colab.research.google.com/drive/1tug_bpg8RwrFOI8C6Ed-zo0OgD3yfnWy#scrollTo=bhsj7BTPHepg\r\n",
        "\r\n",
        "https://colab.research.google.com/drive/1tug_bpg8RwrFOI8C6Ed-zo0OgD3yfnWy\r\n",
        "\r\n",
        "\r\n",
        "To run Gym, you have to install prerequisites like xvbf,opengl & other python-dev packages using the following codes."
      ]
    },
    {
      "cell_type": "code",
      "metadata": {
        "colab": {
          "base_uri": "https://localhost:8080/"
        },
        "id": "GmtbAjPPKiFw",
        "outputId": "9207c656-fdd8-46ff-b203-3cfedfdca9b2"
      },
      "source": [
        "!pip install gym\r\n",
        "!apt-get install python-opengl -y\r\n",
        "!apt install xvfb -y\r\n",
        "!pip install pyvirtualdisplay\r\n",
        "!pip install piglet\r\n",
        "\r\n",
        "from pyvirtualdisplay import Display\r\n",
        "display = Display(visible=0, size=(1400, 900))\r\n",
        "display.start()"
      ],
      "execution_count": null,
      "outputs": [
        {
          "output_type": "stream",
          "text": [
            "Requirement already satisfied: gym in /usr/local/lib/python3.7/dist-packages (0.17.3)\n",
            "Requirement already satisfied: cloudpickle<1.7.0,>=1.2.0 in /usr/local/lib/python3.7/dist-packages (from gym) (1.3.0)\n",
            "Requirement already satisfied: scipy in /usr/local/lib/python3.7/dist-packages (from gym) (1.4.1)\n",
            "Requirement already satisfied: pyglet<=1.5.0,>=1.4.0 in /usr/local/lib/python3.7/dist-packages (from gym) (1.5.0)\n",
            "Requirement already satisfied: numpy>=1.10.4 in /usr/local/lib/python3.7/dist-packages (from gym) (1.19.5)\n",
            "Requirement already satisfied: future in /usr/local/lib/python3.7/dist-packages (from pyglet<=1.5.0,>=1.4.0->gym) (0.16.0)\n",
            "Reading package lists... Done\n",
            "Building dependency tree       \n",
            "Reading state information... Done\n",
            "python-opengl is already the newest version (3.1.0+dfsg-1).\n",
            "0 upgraded, 0 newly installed, 0 to remove and 29 not upgraded.\n",
            "Reading package lists... Done\n",
            "Building dependency tree       \n",
            "Reading state information... Done\n",
            "xvfb is already the newest version (2:1.19.6-1ubuntu4.8).\n",
            "0 upgraded, 0 newly installed, 0 to remove and 29 not upgraded.\n",
            "Requirement already satisfied: pyvirtualdisplay in /usr/local/lib/python3.7/dist-packages (2.1)\n",
            "Requirement already satisfied: EasyProcess in /usr/local/lib/python3.7/dist-packages (from pyvirtualdisplay) (0.3)\n",
            "Requirement already satisfied: piglet in /usr/local/lib/python3.7/dist-packages (1.0.0)\n",
            "Requirement already satisfied: piglet-templates in /usr/local/lib/python3.7/dist-packages (from piglet) (1.1.0)\n",
            "Requirement already satisfied: markupsafe in /usr/local/lib/python3.7/dist-packages (from piglet-templates->piglet) (1.1.1)\n",
            "Requirement already satisfied: attrs in /usr/local/lib/python3.7/dist-packages (from piglet-templates->piglet) (20.3.0)\n",
            "Requirement already satisfied: Parsley in /usr/local/lib/python3.7/dist-packages (from piglet-templates->piglet) (1.3)\n",
            "Requirement already satisfied: astunparse in /usr/local/lib/python3.7/dist-packages (from piglet-templates->piglet) (1.6.3)\n",
            "Requirement already satisfied: wheel<1.0,>=0.23.0 in /usr/local/lib/python3.7/dist-packages (from astunparse->piglet-templates->piglet) (0.36.2)\n",
            "Requirement already satisfied: six<2.0,>=1.6.1 in /usr/local/lib/python3.7/dist-packages (from astunparse->piglet-templates->piglet) (1.15.0)\n"
          ],
          "name": "stdout"
        },
        {
          "output_type": "execute_result",
          "data": {
            "text/plain": [
              "<pyvirtualdisplay.display.Display at 0x7f71401d2c90>"
            ]
          },
          "metadata": {
            "tags": []
          },
          "execution_count": 67
        }
      ]
    },
    {
      "cell_type": "code",
      "metadata": {
        "colab": {
          "base_uri": "https://localhost:8080/"
        },
        "id": "kXkT86s8Yv7W",
        "outputId": "5825cd4f-7fcb-477c-897b-b2144e366077"
      },
      "source": [
        "from google.colab import drive\r\n",
        "drive.mount('/content/gdrive')"
      ],
      "execution_count": null,
      "outputs": [
        {
          "output_type": "stream",
          "text": [
            "Drive already mounted at /content/gdrive; to attempt to forcibly remount, call drive.mount(\"/content/gdrive\", force_remount=True).\n"
          ],
          "name": "stdout"
        }
      ]
    },
    {
      "cell_type": "code",
      "metadata": {
        "id": "Y_hxdz4ALVQ3"
      },
      "source": [
        "# This code creates a virtual display to draw game images on.\r\n",
        "# If you are running locally, just ignore it\r\n",
        "import os\r\n",
        "if type(os.environ.get(\"DISPLAY\")) is not str or len(os.environ.get(\"DISPLAY\")) == 0:\r\n",
        "    !bash ../xvfb start\r\n",
        "    %env DISPLAY = : 1"
      ],
      "execution_count": null,
      "outputs": []
    },
    {
      "cell_type": "code",
      "metadata": {
        "id": "C1GqN0iRLaZk"
      },
      "source": [
        "import json\r\n",
        "import gym\r\n",
        "from gym import logger as gymlogger\r\n",
        "from gym.wrappers import Monitor\r\n",
        "gymlogger.set_level(40) # error only\r\n",
        "import numpy as np\r\n",
        "import random\r\n",
        "import matplotlib\r\n",
        "import matplotlib.pyplot as plt\r\n",
        "%matplotlib inline\r\n",
        "import math\r\n",
        "import glob\r\n",
        "import io\r\n",
        "import base64\r\n",
        "from IPython.display import HTML\r\n",
        "import copy\r\n",
        "from collections import deque\r\n",
        "\r\n",
        "from IPython import display as ipythondisplay\r\n",
        "import torch\r\n",
        "import torchvision\r\n",
        "from torchvision import transforms\r\n",
        "import torch.nn as nn\r\n",
        "import torch.optim as optim\r\n",
        "import torch.nn.functional as F\r\n",
        "from torch.utils.data import Dataset, DataLoader"
      ],
      "execution_count": null,
      "outputs": []
    },
    {
      "cell_type": "code",
      "metadata": {
        "id": "ILbriB_oLn5T"
      },
      "source": [
        "\"\"\"\r\n",
        "Utility functions to enable video recording of gym environment and displaying it\r\n",
        "To enable video, just do \"env = wrap_env(env)\"\"\r\n",
        "\"\"\"\r\n",
        "def show_video():\r\n",
        "    mp4list = glob.glob('video/*.mp4')\r\n",
        "    if len(mp4list) > 0:\r\n",
        "        mp4 = mp4list[0]\r\n",
        "        video = io.open(mp4, 'r+b').read()\r\n",
        "        encoded = base64.b64encode(video)\r\n",
        "        ipythondisplay.display(HTML(data='''<video alt=\"test\" autoplay \r\n",
        "                    loop controls style=\"height: 400px;\">\r\n",
        "                    <source src=\"data:video/mp4;base64,{0}\" type=\"video/mp4\" />\r\n",
        "                </video>'''.format(encoded.decode('ascii'))))\r\n",
        "    else:\r\n",
        "        print(\"Could not find video\")\r\n",
        "\r\n",
        "\r\n",
        "def wrap_env(env):\r\n",
        "    env = Monitor(env, './video', force=True)\r\n",
        "    return env"
      ],
      "execution_count": null,
      "outputs": []
    },
    {
      "cell_type": "code",
      "metadata": {
        "colab": {
          "base_uri": "https://localhost:8080/"
        },
        "id": "NnR-cqjbLpI4",
        "outputId": "1ffd7228-3810-4bee-eb6d-cb2e5f3f1fe8"
      },
      "source": [
        "!pip install gym[box2d]"
      ],
      "execution_count": null,
      "outputs": [
        {
          "output_type": "stream",
          "text": [
            "Requirement already satisfied: gym[box2d] in /usr/local/lib/python3.7/dist-packages (0.17.3)\n",
            "Requirement already satisfied: cloudpickle<1.7.0,>=1.2.0 in /usr/local/lib/python3.7/dist-packages (from gym[box2d]) (1.3.0)\n",
            "Requirement already satisfied: numpy>=1.10.4 in /usr/local/lib/python3.7/dist-packages (from gym[box2d]) (1.19.5)\n",
            "Requirement already satisfied: pyglet<=1.5.0,>=1.4.0 in /usr/local/lib/python3.7/dist-packages (from gym[box2d]) (1.5.0)\n",
            "Requirement already satisfied: scipy in /usr/local/lib/python3.7/dist-packages (from gym[box2d]) (1.4.1)\n",
            "Requirement already satisfied: box2d-py~=2.3.5; extra == \"box2d\" in /usr/local/lib/python3.7/dist-packages (from gym[box2d]) (2.3.8)\n",
            "Requirement already satisfied: future in /usr/local/lib/python3.7/dist-packages (from pyglet<=1.5.0,>=1.4.0->gym[box2d]) (0.16.0)\n"
          ],
          "name": "stdout"
        }
      ]
    },
    {
      "cell_type": "code",
      "metadata": {
        "id": "yCHLYkMkLzcf",
        "colab": {
          "base_uri": "https://localhost:8080/",
          "height": 286
        },
        "outputId": "b35e34b5-0db1-426f-bdc4-f26bc05f0346"
      },
      "source": [
        "env = gym.make('LunarLanderContinuous-v2')\r\n",
        "env.reset()\r\n",
        "plt.imshow(env.render('rgb_array'))"
      ],
      "execution_count": null,
      "outputs": [
        {
          "output_type": "execute_result",
          "data": {
            "text/plain": [
              "<matplotlib.image.AxesImage at 0x7f71402ac350>"
            ]
          },
          "metadata": {
            "tags": []
          },
          "execution_count": 73
        },
        {
          "output_type": "display_data",
          "data": {
            "image/png": "[encoded data removed]",
            "text/plain": [
              "<Figure size 432x288 with 1 Axes>"
            ]
          },
          "metadata": {
            "tags": [],
            "needs_background": "light"
          }
        }
      ]
    },
    {
      "cell_type": "code",
      "metadata": {
        "id": "Wh4v_3zCRepL",
        "colab": {
          "base_uri": "https://localhost:8080/"
        },
        "outputId": "130fabba-4ad1-4285-b5f5-743987bd6959"
      },
      "source": [
        "state_size = env.observation_space\r\n",
        "print(\"state size is:\", state_size)\r\n",
        "a = env.action_space\r\n",
        "print(\"action size=\", a)\r\n",
        "state = env.reset()\r\n",
        "print(state)"
      ],
      "execution_count": null,
      "outputs": [
        {
          "output_type": "stream",
          "text": [
            "state size is: Box(-inf, inf, (8,), float32)\n",
            "action size= Box(-1.0, 1.0, (2,), float32)\n",
            "[-0.00382357  1.4051385  -0.38729906 -0.25697383  0.00443732  0.0877289\n",
            "  0.          0.        ]\n"
          ],
          "name": "stdout"
        }
      ]
    },
    {
      "cell_type": "markdown",
      "metadata": {
        "id": "yTfAdl7dSS-K"
      },
      "source": [
        "# Action Space\r\n",
        "            #is two floats [main engine, left-right engines].\r\n",
        "            # Main engine: -1..0 off, 0..+1 throttle from 50% to 100% power. Engine can't work with less than 50% power.\r\n",
        "            # Left-right:  -1.0..-0.5 fire left engine, +0.5..+1.0 fire right engine, -0.5..0.5 off\r\n",
        "            self.action_space = spaces.Box(-1, +1, (2,), dtype=np.float32)"
      ]
    },
    {
      "cell_type": "markdown",
      "metadata": {
        "id": "AfJat7i14jfS"
      },
      "source": [
        "# Action Space (continuous to discrete values)"
      ]
    },
    {
      "cell_type": "code",
      "metadata": {
        "id": "odd5_LwaQbSh"
      },
      "source": [
        "class ActionSpace(object):\r\n",
        "    def __init__(self, x_size, y_size):\r\n",
        "        self.x_size = x_size\r\n",
        "        self.y_size = y_size\r\n",
        "        self.cache = {}\r\n",
        "        self.build_actions_cache()\r\n",
        "\r\n",
        "    def build_actions_cache(self):\r\n",
        "        for i in range(self.x_size * self.y_size):\r\n",
        "            self.cache[i] = self.get_value_by_key(i)\r\n",
        "\r\n",
        "    def get_value_by_key(self, key):\r\n",
        "        ind1 = int(key / self.y_size)\r\n",
        "        ind2 = key % self.y_size\r\n",
        "        value1 = 0 + ind1 * (1 / (self.x_size - 1))\r\n",
        "\r\n",
        "        if ind1 == 0:\r\n",
        "            value1 = -1\r\n",
        "        if ind2 == 0:\r\n",
        "            value2 = 0\r\n",
        "        else:\r\n",
        "            half = (self.y_size - 1) / 2\r\n",
        "            if ind2 <= self.y_size/2:\r\n",
        "                value2 = -0.5+- ind2 * (0.5 / (half))\r\n",
        "            else:\r\n",
        "                ind2 = ind2 - half\r\n",
        "                value2 = 0.5 + ind2 * (0.5 / (half))\r\n",
        "\r\n",
        "        return [value1, value2]\r\n",
        "\r\n",
        "    def choose(self, key):\r\n",
        "        return self.cache[key]\r\n",
        "\r\n",
        "\r\n",
        "x_actions = 2\r\n",
        "y_actions = 15  # y_actions must be an odd number.\r\n",
        "all_actions = x_actions * y_actions\r\n",
        "action_space = ActionSpace(x_actions, y_actions)"
      ],
      "execution_count": null,
      "outputs": []
    },
    {
      "cell_type": "markdown",
      "metadata": {
        "id": "47ib0m3U4heI"
      },
      "source": [
        "# DQN Model."
      ]
    },
    {
      "cell_type": "code",
      "metadata": {
        "id": "1GwXRXmsXkuK"
      },
      "source": [
        "class DuelingDQN(nn.Module):\r\n",
        "    def __init__(self, all_actions):\r\n",
        "        super(DuelingDQN, self).__init__()\r\n",
        "\r\n",
        "        self.fc1 = nn.Linear(32, 128)\r\n",
        "        self.fc2 = nn.Linear(128, 256)\r\n",
        "        self.fc3 = nn.Linear(256, 256)\r\n",
        "        self.fc4 = nn.Linear(256, all_actions)\r\n",
        "        self.fc_value = nn.Linear(256, 1)\r\n",
        "\r\n",
        "    def forward(self, x):\r\n",
        "        x = F.relu(self.fc1(x))\r\n",
        "        x = F.relu(self.fc2(x))\r\n",
        "        x = F.relu(self.fc3(x))\r\n",
        "        advantage = self.fc4(x)\r\n",
        "        value = self.fc_value(x)\r\n",
        "        return advantage + value - torch.mean(advantage)"
      ],
      "execution_count": null,
      "outputs": []
    },
    {
      "cell_type": "markdown",
      "metadata": {
        "id": "x757fDnSRJdn"
      },
      "source": [
        "# GPU/CPU"
      ]
    },
    {
      "cell_type": "code",
      "metadata": {
        "colab": {
          "base_uri": "https://localhost:8080/"
        },
        "id": "k9AU4N9YCGoP",
        "outputId": "3339059c-02ea-435f-a50e-3362ebada9f6"
      },
      "source": [
        "device = None\r\n",
        "if torch.cuda.is_available():\r\n",
        "    print(\"Using GPU.\")\r\n",
        "    device = torch.device('cuda:0')\r\n",
        "else:\r\n",
        "    print(\"Using CPU.\")\r\n",
        "    device = torch.device(\"cpu\")"
      ],
      "execution_count": null,
      "outputs": [
        {
          "output_type": "stream",
          "text": [
            "Using GPU.\n"
          ],
          "name": "stdout"
        }
      ]
    },
    {
      "cell_type": "markdown",
      "metadata": {
        "id": "rLYd9IHLU9sY"
      },
      "source": [
        "# Replay Memory"
      ]
    },
    {
      "cell_type": "code",
      "metadata": {
        "id": "tqrpFa_gRPNC"
      },
      "source": [
        "class ReplayMemory(object):\r\n",
        "    def __init__(self, replay_memory_size):\r\n",
        "        self.memory = deque(maxlen=replay_memory_size)\r\n",
        "\r\n",
        "    def size(self):\r\n",
        "        return len(self.memory)\r\n",
        "\r\n",
        "    def push(self, state, action, reward, observation, done):\r\n",
        "        self.memory.append((state, action, reward, observation, done))\r\n",
        "\r\n",
        "    def sample(self, batch_size):\r\n",
        "        return random.sample(self.memory, batch_size)"
      ],
      "execution_count": null,
      "outputs": []
    },
    {
      "cell_type": "markdown",
      "metadata": {
        "id": "2pdmX8ojQGpd"
      },
      "source": [
        "# Methods"
      ]
    },
    {
      "cell_type": "code",
      "metadata": {
        "id": "lDNbImwBQGXK"
      },
      "source": [
        "def choose_action(state, epsilon, model):\r\n",
        "    model.eval()\r\n",
        "    if np.random.rand() <= epsilon:\r\n",
        "        return np.random.choice(all_actions)\r\n",
        "    else:\r\n",
        "        unsqueeze = state.unsqueeze(0)\r\n",
        "        preds = model(unsqueeze)\r\n",
        "        value, indice = torch.max(preds, 1)\r\n",
        "        return indice[0].item()\r\n",
        "\r\n",
        "\r\n",
        "def run_replay_experiments(model, target_model, replay_memory, optimizer, batch_size,epsilon):\r\n",
        "    optimizer.zero_grad()\r\n",
        "    model.train()\r\n",
        "    target_model.eval()\r\n",
        "\r\n",
        "    x_batch = []\r\n",
        "    x_target = []\r\n",
        "    samples_batch = replay_memory.sample(batch_size)\r\n",
        "\r\n",
        "    for state, action, reward, observation, done in samples_batch:\r\n",
        "        x_batch.append(state)\r\n",
        "        x_target.append(observation)\r\n",
        "\r\n",
        "    x_batch = torch.stack(x_batch).to(device)\r\n",
        "    x_target = torch.stack(x_target).to(device)\r\n",
        "\r\n",
        "    model_preds = model(x_batch)\r\n",
        "    model_preds_clone = model_preds.clone()\r\n",
        "    target_preds = target_model(x_target)\r\n",
        "    max_values, indices = torch.max(target_preds, 1)\r\n",
        "    average_values=torch.mean(target_preds,dim=1)\r\n",
        "    max_values=max_values*(1-epsilon)+average_values*(epsilon)\r\n",
        "    for index, (state, action, reward, observation, done) in enumerate(samples_batch):\r\n",
        "        if done:\r\n",
        "            model_preds_clone[index][action] = reward\r\n",
        "        else:\r\n",
        "            model_preds_clone[index][action] = reward + gama * max_values[index]\r\n",
        "\r\n",
        "    loss = F.smooth_l1_loss(model_preds, model_preds_clone)\r\n",
        "    loss.backward()\r\n",
        "    optimizer.step()\r\n",
        "def noisy_observation(obs):\r\n",
        "  \r\n",
        "  if not isinstance(obs,(list,np.ndarray)):\r\n",
        "    return obs\r\n",
        "  if(len(obs)<3):\r\n",
        "    return obs\r\n",
        "  mu, sigma = 0, 0.05 # mean and standard deviation\r\n",
        "  s =np.random.normal(mu, sigma, 2)\r\n",
        "  obs[0]=obs[0]+s[0]\r\n",
        "  obs[1]=obs[1]+s[1]\r\n",
        "  return torch.from_numpy(obs).to(device)\r\n",
        "def append_states(states):\r\n",
        "    ans=[]\r\n",
        "    for i in range(len(states)):\r\n",
        "        ans.append(states[i])\r\n",
        "    ans= torch.stack(ans).to(device)\r\n",
        "    ans=torch.reshape(ans,(ans.shape[0]*ans.shape[1],))\r\n",
        "    return ans"
      ],
      "execution_count": null,
      "outputs": []
    },
    {
      "cell_type": "markdown",
      "metadata": {
        "id": "a48wrZOW4OH0"
      },
      "source": [
        "# Parameters."
      ]
    },
    {
      "cell_type": "code",
      "metadata": {
        "id": "OtGLjXTt2cbj"
      },
      "source": [
        "epsilon = 1\r\n",
        "epsilon_decay = 0.975\r\n",
        "\r\n",
        "batch_size = 256\r\n",
        "max_iterations = 50000\r\n",
        "\r\n",
        "reset_target = 200\r\n",
        "steps_per_action = 1\r\n",
        "replay_memory_size = 20000\r\n",
        "\r\n",
        "gama = 0.99\r\n",
        "lr = 0.00005"
      ],
      "execution_count": null,
      "outputs": []
    },
    {
      "cell_type": "markdown",
      "metadata": {
        "id": "4QDVmpFT4Q6I"
      },
      "source": [
        "# Training the model."
      ]
    },
    {
      "cell_type": "code",
      "metadata": {
        "id": "EQaFvJdvM4qX",
        "colab": {
          "base_uri": "https://localhost:8080/"
        },
        "outputId": "26281572-902b-42c2-8b3d-51bbdca687c0"
      },
      "source": [
        "env = wrap_env(env)\r\n",
        "\r\n",
        "\r\n",
        "model = DuelingDQN(all_actions)\r\n",
        "model.to(device)\r\n",
        "optimizer = optim.Adam(model.parameters(), lr=lr)\r\n",
        "\r\n",
        "if not next(model.parameters()).is_cuda:\r\n",
        "    print('The neural network model is not working on GPU!')\r\n",
        "frames=4\r\n",
        "states = deque(maxlen=frames)\r\n",
        "average100 = deque(maxlen=100)\r\n",
        "replay_memory = ReplayMemory(replay_memory_size)\r\n",
        "\r\n",
        "results_memory = []\r\n",
        "steps=0\r\n",
        "for iteration in range(max_iterations):\r\n",
        "    for i in range(frames-1):\r\n",
        "        states.append(torch.zeros(8).to(device))\r\n",
        "    state = env.reset()\r\n",
        "    state_one = noisy_observation(state)\r\n",
        "    states.append(state_one)\r\n",
        "    state=append_states(states)\r\n",
        "    total_reward = 0\r\n",
        "    done = False\r\n",
        "    while not done:\r\n",
        "        action = choose_action(state, epsilon, model)\r\n",
        "        converted_action = action_space.choose(action)\r\n",
        "\r\n",
        "        observation, reward, done, _ = env.step(converted_action)\r\n",
        "        observation_one = noisy_observation(observation)\r\n",
        "        states.append(observation_one)\r\n",
        "        observation = append_states(states)\r\n",
        "        total_reward += reward\r\n",
        "\r\n",
        "        replay_memory.push(state, action, reward, observation, done)\r\n",
        "        state = observation\r\n",
        "\r\n",
        "\r\n",
        "        for i in range(steps_per_action):\r\n",
        "            if steps % reset_target == 0:\r\n",
        "                target_model = copy.deepcopy(model)\r\n",
        "                target_model.to(device)  \r\n",
        "            steps=steps+1        \r\n",
        "            if replay_memory.size() >= batch_size:\r\n",
        "                run_replay_experiments(model, target_model, replay_memory, optimizer, batch_size,epsilon)\r\n",
        "\r\n",
        "\r\n",
        "    average100.append(total_reward)\r\n",
        "    epsilon *= epsilon_decay\r\n",
        "    print(f'Iteration: {iteration} | Epsilon: {round(epsilon, 2)} | Last Reward: {round(reward, 2)} | Average100: {round(np.average(average100))} | Total Reward: {total_reward}')\r\n",
        "    results_memory.append((iteration, round(np.average(average100))))\r\n",
        "\r\n",
        "    if len(average100) >= 100 and np.average(average100) >= 200:\r\n",
        "        print(f'Finished after {iteration-100} iterations.')\r\n",
        "        break\r\n"
      ],
      "execution_count": null,
      "outputs": [
        {
          "output_type": "stream",
          "text": [
            "Iteration: 0 | Epsilon: 0.97 | Last Reward: -100 | Average100: -198 | Total Reward: -197.58446733899248\n",
            "Iteration: 1 | Epsilon: 0.95 | Last Reward: -100 | Average100: -215 | Total Reward: -231.87057619302269\n",
            "Iteration: 2 | Epsilon: 0.93 | Last Reward: -100 | Average100: -235 | Total Reward: -276.5190616022849\n",
            "Iteration: 3 | Epsilon: 0.9 | Last Reward: -100 | Average100: -286 | Total Reward: -439.15617297492764\n",
            "Iteration: 4 | Epsilon: 0.88 | Last Reward: -100 | Average100: -281 | Total Reward: -260.9315826555911\n",
            "Iteration: 5 | Epsilon: 0.86 | Last Reward: -100 | Average100: -276 | Total Reward: -251.85655207947266\n",
            "Iteration: 6 | Epsilon: 0.84 | Last Reward: -100 | Average100: -270 | Total Reward: -229.02918919747452\n",
            "Iteration: 7 | Epsilon: 0.82 | Last Reward: -100 | Average100: -252 | Total Reward: -126.83285498116689\n",
            "Iteration: 8 | Epsilon: 0.8 | Last Reward: -100 | Average100: -228 | Total Reward: -40.02918330527754\n",
            "Iteration: 9 | Epsilon: 0.78 | Last Reward: -100 | Average100: -220 | Total Reward: -147.30035372502965\n",
            "Iteration: 10 | Epsilon: 0.76 | Last Reward: -100 | Average100: -225 | Total Reward: -278.768678117463\n",
            "Iteration: 11 | Epsilon: 0.74 | Last Reward: -100 | Average100: -226 | Total Reward: -237.5546915254173\n",
            "Iteration: 12 | Epsilon: 0.72 | Last Reward: -100 | Average100: -238 | Total Reward: -380.08203324313405\n",
            "Iteration: 13 | Epsilon: 0.7 | Last Reward: -100 | Average100: -236 | Total Reward: -200.18322183161854\n",
            "Iteration: 14 | Epsilon: 0.68 | Last Reward: -100 | Average100: -228 | Total Reward: -120.81411167243797\n",
            "Iteration: 15 | Epsilon: 0.67 | Last Reward: -100 | Average100: -240 | Total Reward: -423.2833188067749\n",
            "Iteration: 16 | Epsilon: 0.65 | Last Reward: -100 | Average100: -248 | Total Reward: -370.32687199938545\n",
            "Iteration: 17 | Epsilon: 0.63 | Last Reward: -100 | Average100: -243 | Total Reward: -168.9412656215018\n",
            "Iteration: 18 | Epsilon: 0.62 | Last Reward: -100 | Average100: -242 | Total Reward: -221.9942995815489\n",
            "Iteration: 19 | Epsilon: 0.6 | Last Reward: -1.0 | Average100: -235 | Total Reward: -104.39524629089121\n",
            "Iteration: 20 | Epsilon: 0.59 | Last Reward: -0.12 | Average100: -230 | Total Reward: -129.9041661423896\n",
            "Iteration: 21 | Epsilon: 0.57 | Last Reward: -13.05 | Average100: -226 | Total Reward: -138.138653760286\n",
            "Iteration: 22 | Epsilon: 0.56 | Last Reward: 1.6 | Average100: -220 | Total Reward: -88.51584874621187\n",
            "Iteration: 23 | Epsilon: 0.54 | Last Reward: -0.04 | Average100: -213 | Total Reward: -52.095134445053425\n",
            "Iteration: 24 | Epsilon: 0.53 | Last Reward: -0.36 | Average100: -202 | Total Reward: 66.40734795042894\n",
            "Iteration: 25 | Epsilon: 0.52 | Last Reward: 0.16 | Average100: -192 | Total Reward: 63.92082953799039\n",
            "Iteration: 26 | Epsilon: 0.5 | Last Reward: -100 | Average100: -194 | Total Reward: -245.97722282318813\n",
            "Iteration: 27 | Epsilon: 0.49 | Last Reward: -100 | Average100: -195 | Total Reward: -227.3128549092425\n",
            "Iteration: 28 | Epsilon: 0.48 | Last Reward: -100 | Average100: -200 | Total Reward: -340.47073334465927\n",
            "Iteration: 29 | Epsilon: 0.47 | Last Reward: -0.11 | Average100: -192 | Total Reward: 25.781431881830606\n",
            "Iteration: 30 | Epsilon: 0.46 | Last Reward: -0.07 | Average100: -186 | Total Reward: -7.2162331146146395\n",
            "Iteration: 31 | Epsilon: 0.44 | Last Reward: -100 | Average100: -183 | Total Reward: -80.97022511239862\n",
            "Iteration: 32 | Epsilon: 0.43 | Last Reward: -0.1 | Average100: -179 | Total Reward: -40.7693959240567\n",
            "Iteration: 33 | Epsilon: 0.42 | Last Reward: -100 | Average100: -176 | Total Reward: -65.3659944878263\n",
            "Iteration: 34 | Epsilon: 0.41 | Last Reward: -0.18 | Average100: -170 | Total Reward: 24.440732761380612\n",
            "Iteration: 35 | Epsilon: 0.4 | Last Reward: 0.17 | Average100: -165 | Total Reward: -8.67812145775499\n",
            "Iteration: 36 | Epsilon: 0.39 | Last Reward: -0.06 | Average100: -161 | Total Reward: -13.207074553711163\n",
            "Iteration: 37 | Epsilon: 0.38 | Last Reward: 1.0 | Average100: -157 | Total Reward: 1.7835286508602646\n",
            "Iteration: 38 | Epsilon: 0.37 | Last Reward: 3.96 | Average100: -152 | Total Reward: 32.869497941860416\n",
            "Iteration: 39 | Epsilon: 0.36 | Last Reward: 1.0 | Average100: -150 | Total Reward: -57.771372906554326\n",
            "Iteration: 40 | Epsilon: 0.35 | Last Reward: -3.23 | Average100: -147 | Total Reward: -38.35786880466072\n",
            "Iteration: 41 | Epsilon: 0.35 | Last Reward: -1.37 | Average100: -145 | Total Reward: -70.76204886844162\n",
            "Iteration: 42 | Epsilon: 0.34 | Last Reward: 0.85 | Average100: -144 | Total Reward: -114.60857947683638\n",
            "Iteration: 43 | Epsilon: 0.33 | Last Reward: 0.47 | Average100: -143 | Total Reward: -81.50777553995087\n",
            "Iteration: 44 | Epsilon: 0.32 | Last Reward: -1.54 | Average100: -142 | Total Reward: -83.74927449332961\n",
            "Iteration: 45 | Epsilon: 0.31 | Last Reward: -1.35 | Average100: -140 | Total Reward: -51.60313587324889\n",
            "Iteration: 46 | Epsilon: 0.3 | Last Reward: -1.88 | Average100: -139 | Total Reward: -81.14196203207882\n",
            "Iteration: 47 | Epsilon: 0.3 | Last Reward: 0.2 | Average100: -137 | Total Reward: -64.18891212105113\n",
            "Iteration: 48 | Epsilon: 0.29 | Last Reward: -0.08 | Average100: -135 | Total Reward: -24.31899311503461\n",
            "Iteration: 49 | Epsilon: 0.28 | Last Reward: 0.5 | Average100: -133 | Total Reward: -42.78933366066278\n",
            "Iteration: 50 | Epsilon: 0.27 | Last Reward: -0.94 | Average100: -129 | Total Reward: 37.72023340079658\n",
            "Iteration: 51 | Epsilon: 0.27 | Last Reward: 0.0 | Average100: -127 | Total Reward: 5.779081597367571\n",
            "Iteration: 52 | Epsilon: 0.26 | Last Reward: -1.78 | Average100: -126 | Total Reward: -65.3902915281263\n",
            "Iteration: 53 | Epsilon: 0.25 | Last Reward: -0.83 | Average100: -122 | Total Reward: 64.80289237327612\n",
            "Iteration: 54 | Epsilon: 0.25 | Last Reward: -1.29 | Average100: -120 | Total Reward: -0.949406606726152\n",
            "Iteration: 55 | Epsilon: 0.24 | Last Reward: -100 | Average100: -118 | Total Reward: -17.466313769524845\n",
            "Iteration: 56 | Epsilon: 0.24 | Last Reward: 0.04 | Average100: -115 | Total Reward: 55.52850857702899\n",
            "Iteration: 57 | Epsilon: 0.23 | Last Reward: -0.88 | Average100: -112 | Total Reward: 56.34214258581767\n",
            "Iteration: 58 | Epsilon: 0.22 | Last Reward: -0.08 | Average100: -109 | Total Reward: 78.04571882092723\n",
            "Iteration: 59 | Epsilon: 0.22 | Last Reward: -0.8 | Average100: -108 | Total Reward: -34.294205461380386\n",
            "Iteration: 60 | Epsilon: 0.21 | Last Reward: 11.19 | Average100: -106 | Total Reward: 2.505040678693522\n",
            "Iteration: 61 | Epsilon: 0.21 | Last Reward: -2.68 | Average100: -105 | Total Reward: -54.550803433364756\n",
            "Iteration: 62 | Epsilon: 0.2 | Last Reward: -1.27 | Average100: -102 | Total Reward: 83.88686129721579\n",
            "Iteration: 63 | Epsilon: 0.2 | Last Reward: 0.0 | Average100: -98 | Total Reward: 129.50248535552873\n",
            "Iteration: 64 | Epsilon: 0.19 | Last Reward: -100 | Average100: -97 | Total Reward: -28.951469063105392\n",
            "Iteration: 65 | Epsilon: 0.19 | Last Reward: 0.02 | Average100: -94 | Total Reward: 148.51383990520387\n",
            "Iteration: 66 | Epsilon: 0.18 | Last Reward: -1.57 | Average100: -90 | Total Reward: 119.08219499737932\n",
            "Iteration: 67 | Epsilon: 0.18 | Last Reward: -2.22 | Average100: -88 | Total Reward: 107.08034605225919\n",
            "Iteration: 68 | Epsilon: 0.17 | Last Reward: 0.12 | Average100: -85 | Total Reward: 64.72058321549125\n",
            "Iteration: 69 | Epsilon: 0.17 | Last Reward: 0.56 | Average100: -84 | Total Reward: 29.851941785595844\n",
            "Iteration: 70 | Epsilon: 0.17 | Last Reward: 0.01 | Average100: -81 | Total Reward: 104.26695978471538\n",
            "Iteration: 71 | Epsilon: 0.16 | Last Reward: 100 | Average100: -76 | Total Reward: 264.19637128792453\n",
            "Iteration: 72 | Epsilon: 0.16 | Last Reward: 100 | Average100: -72 | Total Reward: 207.7566657983386\n",
            "Iteration: 73 | Epsilon: 0.15 | Last Reward: 100 | Average100: -69 | Total Reward: 161.5838298291024\n",
            "Iteration: 74 | Epsilon: 0.15 | Last Reward: 100 | Average100: -66 | Total Reward: 187.63860562512372\n",
            "Iteration: 75 | Epsilon: 0.15 | Last Reward: -0.1 | Average100: -64 | Total Reward: 57.134088054125264\n",
            "Iteration: 76 | Epsilon: 0.14 | Last Reward: 100 | Average100: -61 | Total Reward: 168.48245713314483\n",
            "Iteration: 77 | Epsilon: 0.14 | Last Reward: 100 | Average100: -58 | Total Reward: 187.72649324869\n",
            "Iteration: 78 | Epsilon: 0.14 | Last Reward: 100 | Average100: -55 | Total Reward: 174.62990751209063\n",
            "Iteration: 79 | Epsilon: 0.13 | Last Reward: 100 | Average100: -51 | Total Reward: 244.49691204193917\n",
            "Iteration: 80 | Epsilon: 0.13 | Last Reward: 100 | Average100: -47 | Total Reward: 263.3886552305487\n",
            "Iteration: 81 | Epsilon: 0.13 | Last Reward: 100 | Average100: -44 | Total Reward: 260.3812557792289\n",
            "Iteration: 82 | Epsilon: 0.12 | Last Reward: 100 | Average100: -40 | Total Reward: 227.40412145976796\n",
            "Iteration: 83 | Epsilon: 0.12 | Last Reward: 100 | Average100: -37 | Total Reward: 254.59213322032403\n",
            "Iteration: 84 | Epsilon: 0.12 | Last Reward: -0.14 | Average100: -35 | Total Reward: 134.77474812578308\n",
            "Iteration: 85 | Epsilon: 0.11 | Last Reward: 0.07 | Average100: -33 | Total Reward: 159.50585915064698\n",
            "Iteration: 86 | Epsilon: 0.11 | Last Reward: 100 | Average100: -29 | Total Reward: 237.8218622736772\n",
            "Iteration: 87 | Epsilon: 0.11 | Last Reward: 100 | Average100: -26 | Total Reward: 275.8230364557154\n",
            "Iteration: 88 | Epsilon: 0.11 | Last Reward: 100 | Average100: -24 | Total Reward: 184.9920356854392\n",
            "Iteration: 89 | Epsilon: 0.1 | Last Reward: 100 | Average100: -20 | Total Reward: 267.17259934291417\n",
            "Iteration: 90 | Epsilon: 0.1 | Last Reward: 100 | Average100: -18 | Total Reward: 234.2203336755265\n",
            "Iteration: 91 | Epsilon: 0.1 | Last Reward: 100 | Average100: -15 | Total Reward: 223.22243795288094\n",
            "Iteration: 92 | Epsilon: 0.09 | Last Reward: 100 | Average100: -12 | Total Reward: 263.8396296845618\n",
            "Iteration: 93 | Epsilon: 0.09 | Last Reward: -100 | Average100: -12 | Total Reward: -39.35475535980684\n",
            "Iteration: 94 | Epsilon: 0.09 | Last Reward: 100 | Average100: -9 | Total Reward: 287.75943330760344\n",
            "Iteration: 95 | Epsilon: 0.09 | Last Reward: 100 | Average100: -7 | Total Reward: 206.0856798069886\n",
            "Iteration: 96 | Epsilon: 0.09 | Last Reward: 100 | Average100: -4 | Total Reward: 234.1141415876336\n",
            "Iteration: 97 | Epsilon: 0.08 | Last Reward: -100 | Average100: -4 | Total Reward: 2.743594019954841\n",
            "Iteration: 98 | Epsilon: 0.08 | Last Reward: 100 | Average100: -2 | Total Reward: 208.91813549477968\n",
            "Iteration: 99 | Epsilon: 0.08 | Last Reward: 100 | Average100: 0 | Total Reward: 222.96351068509642\n",
            "Iteration: 100 | Epsilon: 0.08 | Last Reward: 100 | Average100: 5 | Total Reward: 244.34864139370262\n",
            "Iteration: 101 | Epsilon: 0.08 | Last Reward: 100 | Average100: 9 | Total Reward: 239.0299723639035\n",
            "Iteration: 102 | Epsilon: 0.07 | Last Reward: -0.34 | Average100: 14 | Total Reward: 153.63794432281654\n",
            "Iteration: 103 | Epsilon: 0.07 | Last Reward: -100 | Average100: 18 | Total Reward: 30.088529466435432\n",
            "Iteration: 104 | Epsilon: 0.07 | Last Reward: 100 | Average100: 23 | Total Reward: 219.19219953456442\n",
            "Iteration: 105 | Epsilon: 0.07 | Last Reward: 100 | Average100: 28 | Total Reward: 241.21763053749038\n",
            "Iteration: 106 | Epsilon: 0.07 | Last Reward: 100 | Average100: 33 | Total Reward: 270.81774051056505\n",
            "Iteration: 107 | Epsilon: 0.06 | Last Reward: 100 | Average100: 36 | Total Reward: 181.02230754604182\n",
            "Iteration: 108 | Epsilon: 0.06 | Last Reward: 100 | Average100: 39 | Total Reward: 288.45547319560046\n",
            "Iteration: 109 | Epsilon: 0.06 | Last Reward: 100 | Average100: 43 | Total Reward: 213.41542482341887\n",
            "Iteration: 110 | Epsilon: 0.06 | Last Reward: 100 | Average100: 48 | Total Reward: 211.33767387199381\n",
            "Iteration: 111 | Epsilon: 0.06 | Last Reward: -0.36 | Average100: 50 | Total Reward: -46.456504564228865\n",
            "Iteration: 112 | Epsilon: 0.06 | Last Reward: 100 | Average100: 56 | Total Reward: 278.36863849238273\n",
            "Iteration: 113 | Epsilon: 0.06 | Last Reward: 100 | Average100: 60 | Total Reward: 219.43628746691786\n",
            "Iteration: 114 | Epsilon: 0.05 | Last Reward: 100 | Average100: 64 | Total Reward: 242.01615274652195\n",
            "Iteration: 115 | Epsilon: 0.05 | Last Reward: 0.0 | Average100: 69 | Total Reward: 42.24311658553472\n",
            "Iteration: 116 | Epsilon: 0.05 | Last Reward: 100 | Average100: 75 | Total Reward: 238.00542111409982\n",
            "Iteration: 117 | Epsilon: 0.05 | Last Reward: 100 | Average100: 79 | Total Reward: 259.3193970033898\n",
            "Iteration: 118 | Epsilon: 0.05 | Last Reward: 100 | Average100: 84 | Total Reward: 216.1204624874445\n",
            "Iteration: 119 | Epsilon: 0.05 | Last Reward: 100 | Average100: 87 | Total Reward: 270.2710507132667\n",
            "Iteration: 120 | Epsilon: 0.05 | Last Reward: 100 | Average100: 91 | Total Reward: 245.46547363194514\n",
            "Iteration: 121 | Epsilon: 0.05 | Last Reward: 100 | Average100: 95 | Total Reward: 252.32712852720158\n",
            "Iteration: 122 | Epsilon: 0.04 | Last Reward: 100 | Average100: 99 | Total Reward: 268.0312682565291\n",
            "Iteration: 123 | Epsilon: 0.04 | Last Reward: 100 | Average100: 102 | Total Reward: 280.4868895015861\n",
            "Iteration: 124 | Epsilon: 0.04 | Last Reward: 100 | Average100: 104 | Total Reward: 268.70943252446216\n",
            "Iteration: 125 | Epsilon: 0.04 | Last Reward: 100 | Average100: 106 | Total Reward: 235.22393591955662\n",
            "Iteration: 126 | Epsilon: 0.04 | Last Reward: 100 | Average100: 111 | Total Reward: 251.2375143488852\n",
            "Iteration: 127 | Epsilon: 0.04 | Last Reward: -100 | Average100: 113 | Total Reward: 7.365133459229227\n",
            "Iteration: 128 | Epsilon: 0.04 | Last Reward: 100 | Average100: 119 | Total Reward: 237.6598115272216\n",
            "Iteration: 129 | Epsilon: 0.04 | Last Reward: 100 | Average100: 120 | Total Reward: 200.14246429780388\n",
            "Iteration: 130 | Epsilon: 0.04 | Last Reward: 100 | Average100: 123 | Total Reward: 270.48523113405855\n",
            "Iteration: 131 | Epsilon: 0.04 | Last Reward: -100 | Average100: 124 | Total Reward: 47.21951247046297\n",
            "Iteration: 132 | Epsilon: 0.03 | Last Reward: 100 | Average100: 128 | Total Reward: 269.26020384071285\n",
            "Iteration: 133 | Epsilon: 0.03 | Last Reward: -100 | Average100: 129 | Total Reward: 57.3374189731818\n",
            "Iteration: 134 | Epsilon: 0.03 | Last Reward: 100 | Average100: 131 | Total Reward: 225.0944508540261\n",
            "Iteration: 135 | Epsilon: 0.03 | Last Reward: 100 | Average100: 134 | Total Reward: 276.00480382175374\n",
            "Iteration: 136 | Epsilon: 0.03 | Last Reward: 100 | Average100: 136 | Total Reward: 267.168280381052\n",
            "Iteration: 137 | Epsilon: 0.03 | Last Reward: 100 | Average100: 139 | Total Reward: 274.24554528452273\n",
            "Iteration: 138 | Epsilon: 0.03 | Last Reward: 100 | Average100: 142 | Total Reward: 271.2555358319574\n",
            "Iteration: 139 | Epsilon: 0.03 | Last Reward: 100 | Average100: 145 | Total Reward: 276.20707414599434\n",
            "Iteration: 140 | Epsilon: 0.03 | Last Reward: 100 | Average100: 148 | Total Reward: 286.3414552709887\n",
            "Iteration: 141 | Epsilon: 0.03 | Last Reward: 100 | Average100: 151 | Total Reward: 249.38555062677108\n",
            "Iteration: 142 | Epsilon: 0.03 | Last Reward: 100 | Average100: 155 | Total Reward: 282.0134239008478\n",
            "Iteration: 143 | Epsilon: 0.03 | Last Reward: 100 | Average100: 159 | Total Reward: 274.5889820952434\n",
            "Iteration: 144 | Epsilon: 0.03 | Last Reward: 100 | Average100: 162 | Total Reward: 248.49166370917945\n",
            "Iteration: 145 | Epsilon: 0.02 | Last Reward: 100 | Average100: 165 | Total Reward: 276.17765061454793\n",
            "Iteration: 146 | Epsilon: 0.02 | Last Reward: 100 | Average100: 169 | Total Reward: 249.32166696142139\n",
            "Iteration: 147 | Epsilon: 0.02 | Last Reward: 100 | Average100: 172 | Total Reward: 290.10135646606716\n",
            "Iteration: 148 | Epsilon: 0.02 | Last Reward: 100 | Average100: 175 | Total Reward: 257.8636532941385\n",
            "Iteration: 149 | Epsilon: 0.02 | Last Reward: 100 | Average100: 178 | Total Reward: 267.183853064818\n",
            "Iteration: 150 | Epsilon: 0.02 | Last Reward: -100 | Average100: 176 | Total Reward: -171.59957352385783\n",
            "Iteration: 151 | Epsilon: 0.02 | Last Reward: 100 | Average100: 178 | Total Reward: 223.34880869130444\n",
            "Iteration: 152 | Epsilon: 0.02 | Last Reward: 100 | Average100: 182 | Total Reward: 264.8292203360285\n",
            "Iteration: 153 | Epsilon: 0.02 | Last Reward: 100 | Average100: 183 | Total Reward: 240.7451674323277\n",
            "Iteration: 154 | Epsilon: 0.02 | Last Reward: 100 | Average100: 186 | Total Reward: 290.27884503321036\n",
            "Iteration: 155 | Epsilon: 0.02 | Last Reward: 100 | Average100: 189 | Total Reward: 293.0973799074209\n",
            "Iteration: 156 | Epsilon: 0.02 | Last Reward: 100 | Average100: 192 | Total Reward: 279.63570066741255\n",
            "Iteration: 157 | Epsilon: 0.02 | Last Reward: 100 | Average100: 193 | Total Reward: 216.0330294791\n",
            "Iteration: 158 | Epsilon: 0.02 | Last Reward: 100 | Average100: 195 | Total Reward: 279.783706110244\n",
            "Iteration: 159 | Epsilon: 0.02 | Last Reward: 100 | Average100: 198 | Total Reward: 258.65771445435223\n",
            "Iteration: 160 | Epsilon: 0.02 | Last Reward: 100 | Average100: 201 | Total Reward: 305.7629185189526\n",
            "Finished after 60 iterations.\n"
          ],
          "name": "stdout"
        }
      ]
    },
    {
      "cell_type": "code",
      "metadata": {
        "id": "tNVLgkF-gk_O"
      },
      "source": [
        "# Memory to JSON data.\r\n",
        "with open('/content/gdrive/My Drive/Noisy Dueling Expected Sarsa.json', 'w') as f:\r\n",
        "    json.dump(results_memory, f)"
      ],
      "execution_count": null,
      "outputs": []
    },
    {
      "cell_type": "code",
      "metadata": {
        "id": "qw7m2w5ghKtF",
        "colab": {
          "base_uri": "https://localhost:8080/"
        },
        "outputId": "4262c7d1-c969-4507-ab62-f8edab921a64"
      },
      "source": [
        "# Upload JSON data to notebook.\r\n",
        "loaded_results_memory = None\r\n",
        "with open('/content/gdrive/My Drive/Noisy Dueling Expected Sarsa.json') as f:\r\n",
        "    loaded_results_memory = json.loads(f.read())\r\n",
        "\r\n",
        "print(loaded_results_memory[0])"
      ],
      "execution_count": null,
      "outputs": [
        {
          "output_type": "stream",
          "text": [
            "[0, -198]\n"
          ],
          "name": "stdout"
        }
      ]
    },
    {
      "cell_type": "code",
      "metadata": {
        "id": "BzyI3vKZQiR6",
        "colab": {
          "base_uri": "https://localhost:8080/"
        },
        "outputId": "c5262217-6a36-4702-8f52-38d666331f08"
      },
      "source": [
        "env.close() \r\n",
        "show_video()"
      ],
      "execution_count": null,
      "outputs": [
        {
          "output_type": "display_data",
          "data": {
            "text/html": [
              "<video alt=\"test\" autoplay \n",
              "                    loop controls style=\"height: 400px;\">\n",
              "                    <source src=\"data:video/mp4;base64,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\" type=\"video/mp4\" />\n",
              "                </video>"
            ],
            "text/plain": [
              "<IPython.core.display.HTML object>"
            ]
          },
          "metadata": {
            "tags": []
          }
        }
      ]
    }
  ]
}