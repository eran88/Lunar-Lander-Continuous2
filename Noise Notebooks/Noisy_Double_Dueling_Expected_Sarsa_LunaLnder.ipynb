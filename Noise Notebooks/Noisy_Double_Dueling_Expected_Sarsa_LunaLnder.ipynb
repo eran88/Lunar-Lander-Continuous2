{
  "nbformat": 4,
  "nbformat_minor": 0,
  "metadata": {
    "colab": {
      "name": "Noisy Double Dueling Expected Sarsa - LunaLnder.ipynb",
      "provenance": [],
      "collapsed_sections": [],
      "toc_visible": true
    },
    "kernelspec": {
      "display_name": "Python 3",
      "name": "python3"
    },
    "accelerator": "GPU"
  },
  "cells": [
    {
      "cell_type": "markdown",
      "metadata": {
        "id": "W-cVn8qQKtJq"
      },
      "source": [
        "Based on the following links to create this notebook:\r\n",
        "\r\n",
        "https://colab.research.google.com/drive/18LdlDDT87eb8cCTHZsXyS9ksQPzL3i6H\r\n",
        "\r\n",
        "https://colab.research.google.com/drive/1tug_bpg8RwrFOI8C6Ed-zo0OgD3yfnWy#scrollTo=bhsj7BTPHepg\r\n",
        "\r\n",
        "https://colab.research.google.com/drive/1tug_bpg8RwrFOI8C6Ed-zo0OgD3yfnWy\r\n",
        "\r\n",
        "\r\n",
        "To run Gym, you have to install prerequisites like xvbf,opengl & other python-dev packages using the following codes."
      ]
    },
    {
      "cell_type": "code",
      "metadata": {
        "colab": {
          "base_uri": "https://localhost:8080/"
        },
        "id": "GmtbAjPPKiFw",
        "outputId": "f90a581f-46f0-4aa3-a741-2c36c33e96f9"
      },
      "source": [
        "!pip install gym\r\n",
        "!apt-get install python-opengl -y\r\n",
        "!apt install xvfb -y\r\n",
        "!pip install pyvirtualdisplay\r\n",
        "!pip install piglet\r\n",
        "\r\n",
        "from pyvirtualdisplay import Display\r\n",
        "display = Display(visible=0, size=(1400, 900))\r\n",
        "display.start()"
      ],
      "execution_count": null,
      "outputs": [
        {
          "output_type": "stream",
          "text": [
            "Requirement already satisfied: gym in /usr/local/lib/python3.7/dist-packages (0.17.3)\n",
            "Requirement already satisfied: scipy in /usr/local/lib/python3.7/dist-packages (from gym) (1.4.1)\n",
            "Requirement already satisfied: pyglet<=1.5.0,>=1.4.0 in /usr/local/lib/python3.7/dist-packages (from gym) (1.5.0)\n",
            "Requirement already satisfied: cloudpickle<1.7.0,>=1.2.0 in /usr/local/lib/python3.7/dist-packages (from gym) (1.3.0)\n",
            "Requirement already satisfied: numpy>=1.10.4 in /usr/local/lib/python3.7/dist-packages (from gym) (1.19.5)\n",
            "Requirement already satisfied: future in /usr/local/lib/python3.7/dist-packages (from pyglet<=1.5.0,>=1.4.0->gym) (0.16.0)\n",
            "Reading package lists... Done\n",
            "Building dependency tree       \n",
            "Reading state information... Done\n",
            "python-opengl is already the newest version (3.1.0+dfsg-1).\n",
            "0 upgraded, 0 newly installed, 0 to remove and 29 not upgraded.\n",
            "Reading package lists... Done\n",
            "Building dependency tree       \n",
            "Reading state information... Done\n",
            "xvfb is already the newest version (2:1.19.6-1ubuntu4.8).\n",
            "0 upgraded, 0 newly installed, 0 to remove and 29 not upgraded.\n",
            "Requirement already satisfied: pyvirtualdisplay in /usr/local/lib/python3.7/dist-packages (2.1)\n",
            "Requirement already satisfied: EasyProcess in /usr/local/lib/python3.7/dist-packages (from pyvirtualdisplay) (0.3)\n",
            "Requirement already satisfied: piglet in /usr/local/lib/python3.7/dist-packages (1.0.0)\n",
            "Requirement already satisfied: piglet-templates in /usr/local/lib/python3.7/dist-packages (from piglet) (1.1.0)\n",
            "Requirement already satisfied: markupsafe in /usr/local/lib/python3.7/dist-packages (from piglet-templates->piglet) (1.1.1)\n",
            "Requirement already satisfied: astunparse in /usr/local/lib/python3.7/dist-packages (from piglet-templates->piglet) (1.6.3)\n",
            "Requirement already satisfied: attrs in /usr/local/lib/python3.7/dist-packages (from piglet-templates->piglet) (20.3.0)\n",
            "Requirement already satisfied: Parsley in /usr/local/lib/python3.7/dist-packages (from piglet-templates->piglet) (1.3)\n",
            "Requirement already satisfied: six<2.0,>=1.6.1 in /usr/local/lib/python3.7/dist-packages (from astunparse->piglet-templates->piglet) (1.15.0)\n",
            "Requirement already satisfied: wheel<1.0,>=0.23.0 in /usr/local/lib/python3.7/dist-packages (from astunparse->piglet-templates->piglet) (0.36.2)\n"
          ],
          "name": "stdout"
        },
        {
          "output_type": "execute_result",
          "data": {
            "text/plain": [
              "<pyvirtualdisplay.display.Display at 0x7ff6badcb410>"
            ]
          },
          "metadata": {
            "tags": []
          },
          "execution_count": 1
        }
      ]
    },
    {
      "cell_type": "code",
      "metadata": {
        "colab": {
          "base_uri": "https://localhost:8080/"
        },
        "id": "kXkT86s8Yv7W",
        "outputId": "9484237d-04d8-469c-af41-ba0a5e1381de"
      },
      "source": [
        "from google.colab import drive\r\n",
        "drive.mount('/content/gdrive')"
      ],
      "execution_count": null,
      "outputs": [
        {
          "output_type": "stream",
          "text": [
            "Drive already mounted at /content/gdrive; to attempt to forcibly remount, call drive.mount(\"/content/gdrive\", force_remount=True).\n"
          ],
          "name": "stdout"
        }
      ]
    },
    {
      "cell_type": "code",
      "metadata": {
        "id": "Y_hxdz4ALVQ3"
      },
      "source": [
        "# This code creates a virtual display to draw game images on.\r\n",
        "# If you are running locally, just ignore it\r\n",
        "import os\r\n",
        "if type(os.environ.get(\"DISPLAY\")) is not str or len(os.environ.get(\"DISPLAY\")) == 0:\r\n",
        "    !bash ../xvfb start\r\n",
        "    %env DISPLAY = : 1"
      ],
      "execution_count": null,
      "outputs": []
    },
    {
      "cell_type": "code",
      "metadata": {
        "id": "C1GqN0iRLaZk"
      },
      "source": [
        "import json\r\n",
        "import gym\r\n",
        "from gym import logger as gymlogger\r\n",
        "from gym.wrappers import Monitor\r\n",
        "gymlogger.set_level(40) # error only\r\n",
        "import numpy as np\r\n",
        "import random\r\n",
        "import matplotlib\r\n",
        "import matplotlib.pyplot as plt\r\n",
        "%matplotlib inline\r\n",
        "import math\r\n",
        "import glob\r\n",
        "import io\r\n",
        "import base64\r\n",
        "from IPython.display import HTML\r\n",
        "import copy\r\n",
        "from collections import deque\r\n",
        "\r\n",
        "from IPython import display as ipythondisplay\r\n",
        "import torch\r\n",
        "import torchvision\r\n",
        "from torchvision import transforms\r\n",
        "import torch.nn as nn\r\n",
        "import torch.optim as optim\r\n",
        "import torch.nn.functional as F\r\n",
        "from torch.utils.data import Dataset, DataLoader"
      ],
      "execution_count": null,
      "outputs": []
    },
    {
      "cell_type": "code",
      "metadata": {
        "id": "ILbriB_oLn5T"
      },
      "source": [
        "\"\"\"\r\n",
        "Utility functions to enable video recording of gym environment and displaying it\r\n",
        "To enable video, just do \"env = wrap_env(env)\"\"\r\n",
        "\"\"\"\r\n",
        "def show_video():\r\n",
        "    mp4list = glob.glob('video/*.mp4')\r\n",
        "    if len(mp4list) > 0:\r\n",
        "        mp4 = mp4list[0]\r\n",
        "        video = io.open(mp4, 'r+b').read()\r\n",
        "        encoded = base64.b64encode(video)\r\n",
        "        ipythondisplay.display(HTML(data='''<video alt=\"test\" autoplay \r\n",
        "                    loop controls style=\"height: 400px;\">\r\n",
        "                    <source src=\"data:video/mp4;base64,{0}\" type=\"video/mp4\" />\r\n",
        "                </video>'''.format(encoded.decode('ascii'))))\r\n",
        "    else:\r\n",
        "        print(\"Could not find video\")\r\n",
        "\r\n",
        "\r\n",
        "def wrap_env(env):\r\n",
        "    env = Monitor(env, './video', force=True)\r\n",
        "    return env"
      ],
      "execution_count": null,
      "outputs": []
    },
    {
      "cell_type": "code",
      "metadata": {
        "colab": {
          "base_uri": "https://localhost:8080/"
        },
        "id": "NnR-cqjbLpI4",
        "outputId": "8946d6a7-6ba6-497f-9266-ca567372b7c2"
      },
      "source": [
        "!pip install gym[box2d]"
      ],
      "execution_count": null,
      "outputs": [
        {
          "output_type": "stream",
          "text": [
            "Requirement already satisfied: gym[box2d] in /usr/local/lib/python3.7/dist-packages (0.17.3)\n",
            "Requirement already satisfied: scipy in /usr/local/lib/python3.7/dist-packages (from gym[box2d]) (1.4.1)\n",
            "Requirement already satisfied: pyglet<=1.5.0,>=1.4.0 in /usr/local/lib/python3.7/dist-packages (from gym[box2d]) (1.5.0)\n",
            "Requirement already satisfied: cloudpickle<1.7.0,>=1.2.0 in /usr/local/lib/python3.7/dist-packages (from gym[box2d]) (1.3.0)\n",
            "Requirement already satisfied: numpy>=1.10.4 in /usr/local/lib/python3.7/dist-packages (from gym[box2d]) (1.19.5)\n",
            "Requirement already satisfied: box2d-py~=2.3.5; extra == \"box2d\" in /usr/local/lib/python3.7/dist-packages (from gym[box2d]) (2.3.8)\n",
            "Requirement already satisfied: future in /usr/local/lib/python3.7/dist-packages (from pyglet<=1.5.0,>=1.4.0->gym[box2d]) (0.16.0)\n"
          ],
          "name": "stdout"
        }
      ]
    },
    {
      "cell_type": "code",
      "metadata": {
        "id": "yCHLYkMkLzcf",
        "colab": {
          "base_uri": "https://localhost:8080/",
          "height": 286
        },
        "outputId": "d47401fa-b575-4598-ee7d-cd0acc57471f"
      },
      "source": [
        "env = gym.make('LunarLanderContinuous-v2')\r\n",
        "env.reset()\r\n",
        "plt.imshow(env.render('rgb_array'))"
      ],
      "execution_count": null,
      "outputs": [
        {
          "output_type": "execute_result",
          "data": {
            "text/plain": [
              "<matplotlib.image.AxesImage at 0x7ff6500af610>"
            ]
          },
          "metadata": {
            "tags": []
          },
          "execution_count": 7
        },
        {
          "output_type": "display_data",
          "data": {
            "image/png": "[encoded data removed]",
            "text/plain": [
              "<Figure size 432x288 with 1 Axes>"
            ]
          },
          "metadata": {
            "tags": [],
            "needs_background": "light"
          }
        }
      ]
    },
    {
      "cell_type": "code",
      "metadata": {
        "id": "Wh4v_3zCRepL",
        "colab": {
          "base_uri": "https://localhost:8080/"
        },
        "outputId": "3f24aa88-2d8c-49a8-d2fd-61d834a0b396"
      },
      "source": [
        "state_size = env.observation_space\r\n",
        "print(\"state size is:\", state_size)\r\n",
        "a = env.action_space\r\n",
        "print(\"action size=\", a)\r\n",
        "state = env.reset()\r\n",
        "print(state)"
      ],
      "execution_count": null,
      "outputs": [
        {
          "output_type": "stream",
          "text": [
            "state size is: Box(-inf, inf, (8,), float32)\n",
            "action size= Box(-1.0, 1.0, (2,), float32)\n",
            "[ 0.00306206  1.4024651   0.31013864 -0.37577876 -0.00354138 -0.07025102\n",
            "  0.          0.        ]\n"
          ],
          "name": "stdout"
        }
      ]
    },
    {
      "cell_type": "markdown",
      "metadata": {
        "id": "yTfAdl7dSS-K"
      },
      "source": [
        "# Action Space\r\n",
        "            #is two floats [main engine, left-right engines].\r\n",
        "            # Main engine: -1..0 off, 0..+1 throttle from 50% to 100% power. Engine can't work with less than 50% power.\r\n",
        "            # Left-right:  -1.0..-0.5 fire left engine, +0.5..+1.0 fire right engine, -0.5..0.5 off\r\n",
        "            self.action_space = spaces.Box(-1, +1, (2,), dtype=np.float32)"
      ]
    },
    {
      "cell_type": "markdown",
      "metadata": {
        "id": "AfJat7i14jfS"
      },
      "source": [
        "# Action Space (continuous to discrete values)"
      ]
    },
    {
      "cell_type": "code",
      "metadata": {
        "id": "odd5_LwaQbSh"
      },
      "source": [
        "class ActionSpace(object):\r\n",
        "    def __init__(self, x_size, y_size):\r\n",
        "        self.x_size = x_size\r\n",
        "        self.y_size = y_size\r\n",
        "        self.cache = {}\r\n",
        "        self.build_actions_cache()\r\n",
        "\r\n",
        "    def build_actions_cache(self):\r\n",
        "        for i in range(self.x_size * self.y_size):\r\n",
        "            self.cache[i] = self.get_value_by_key(i)\r\n",
        "\r\n",
        "    def get_value_by_key(self, key):\r\n",
        "        ind1 = int(key / self.y_size)\r\n",
        "        ind2 = key % self.y_size\r\n",
        "        value1 = 0 + ind1 * (1 / (self.x_size - 1))\r\n",
        "\r\n",
        "        if ind1 == 0:\r\n",
        "            value1 = -1\r\n",
        "        if ind2 == 0:\r\n",
        "            value2 = 0\r\n",
        "        else:\r\n",
        "            half = (self.y_size - 1) / 2\r\n",
        "            if ind2 <= self.y_size/2:\r\n",
        "                value2 = -0.5+- ind2 * (0.5 / (half))\r\n",
        "            else:\r\n",
        "                ind2 = ind2 - half\r\n",
        "                value2 = 0.5 + ind2 * (0.5 / (half))\r\n",
        "\r\n",
        "        return [value1, value2]\r\n",
        "\r\n",
        "    def choose(self, key):\r\n",
        "        return self.cache[key]\r\n",
        "\r\n",
        "\r\n",
        "x_actions = 2\r\n",
        "y_actions = 15  # y_actions must be an odd number.\r\n",
        "all_actions = x_actions * y_actions\r\n",
        "action_space = ActionSpace(x_actions, y_actions)"
      ],
      "execution_count": null,
      "outputs": []
    },
    {
      "cell_type": "markdown",
      "metadata": {
        "id": "47ib0m3U4heI"
      },
      "source": [
        "# DQN Model."
      ]
    },
    {
      "cell_type": "code",
      "metadata": {
        "id": "1GwXRXmsXkuK"
      },
      "source": [
        "class DuelingDQN(nn.Module):\r\n",
        "    def __init__(self, all_actions):\r\n",
        "        super(DuelingDQN, self).__init__()\r\n",
        "\r\n",
        "        self.fc1 = nn.Linear(32, 128)\r\n",
        "        self.fc2 = nn.Linear(128, 256)\r\n",
        "        self.fc3 = nn.Linear(256, 256)\r\n",
        "        self.fc4 = nn.Linear(256, all_actions)\r\n",
        "        self.fc_value = nn.Linear(256, 1)\r\n",
        "\r\n",
        "    def forward(self, x):\r\n",
        "        x = F.relu(self.fc1(x))\r\n",
        "        x = F.relu(self.fc2(x))\r\n",
        "        x = F.relu(self.fc3(x))\r\n",
        "        advantage = self.fc4(x)\r\n",
        "        value = self.fc_value(x)\r\n",
        "        return advantage + value - torch.mean(advantage)"
      ],
      "execution_count": null,
      "outputs": []
    },
    {
      "cell_type": "markdown",
      "metadata": {
        "id": "x757fDnSRJdn"
      },
      "source": [
        "# GPU/CPU"
      ]
    },
    {
      "cell_type": "code",
      "metadata": {
        "colab": {
          "base_uri": "https://localhost:8080/"
        },
        "id": "k9AU4N9YCGoP",
        "outputId": "197bcc3f-1891-4a44-e7ca-d1d7b4d5a95f"
      },
      "source": [
        "device = None\r\n",
        "if torch.cuda.is_available():\r\n",
        "    print(\"Using GPU.\")\r\n",
        "    device = torch.device('cuda:0')\r\n",
        "else:\r\n",
        "    print(\"Using CPU.\")\r\n",
        "    device = torch.device(\"cpu\")"
      ],
      "execution_count": null,
      "outputs": [
        {
          "output_type": "stream",
          "text": [
            "Using GPU.\n"
          ],
          "name": "stdout"
        }
      ]
    },
    {
      "cell_type": "markdown",
      "metadata": {
        "id": "rLYd9IHLU9sY"
      },
      "source": [
        "# Replay Memory"
      ]
    },
    {
      "cell_type": "code",
      "metadata": {
        "id": "tqrpFa_gRPNC"
      },
      "source": [
        "class ReplayMemory(object):\r\n",
        "    def __init__(self, replay_memory_size):\r\n",
        "        self.memory = deque(maxlen=replay_memory_size)\r\n",
        "\r\n",
        "    def size(self):\r\n",
        "        return len(self.memory)\r\n",
        "\r\n",
        "    def push(self, state, action, reward, observation, done):\r\n",
        "        self.memory.append((state, action, reward, observation, done))\r\n",
        "\r\n",
        "    def sample(self, batch_size):\r\n",
        "        return random.sample(self.memory, batch_size)"
      ],
      "execution_count": null,
      "outputs": []
    },
    {
      "cell_type": "markdown",
      "metadata": {
        "id": "2pdmX8ojQGpd"
      },
      "source": [
        "# Methods"
      ]
    },
    {
      "cell_type": "code",
      "metadata": {
        "id": "lDNbImwBQGXK"
      },
      "source": [
        "def choose_action(state, epsilon, model):\r\n",
        "    model.eval()\r\n",
        "    if np.random.rand() <= epsilon:\r\n",
        "        return np.random.choice(all_actions)\r\n",
        "    else:\r\n",
        "        unsqueeze = state.unsqueeze(0)\r\n",
        "        preds = model(unsqueeze)\r\n",
        "        value, indice = torch.max(preds, 1)\r\n",
        "        return indice[0].item()\r\n",
        "\r\n",
        "\r\n",
        "def run_replay_experiments(model, target_model, replay_memory, optimizer, batch_size,epsilon):\r\n",
        "    optimizer.zero_grad()\r\n",
        "    model.eval()\r\n",
        "    target_model.eval()\r\n",
        "\r\n",
        "    x_batch = []\r\n",
        "    x_target = []\r\n",
        "    samples_batch = replay_memory.sample(batch_size)\r\n",
        "\r\n",
        "    for state, action, reward, observation, done in samples_batch:\r\n",
        "        x_batch.append(state)\r\n",
        "        x_target.append(observation)\r\n",
        "\r\n",
        " \r\n",
        "    x_batch = torch.stack(x_batch).to(device)\r\n",
        "    x_target = torch.stack(x_target).to(device)\r\n",
        "\r\n",
        "    model_target_preds = model(x_target)\r\n",
        "    target_preds = target_model(x_target)\r\n",
        "    _, indices = torch.max(model_target_preds, 1)\r\n",
        "\r\n",
        "    max_values = []\r\n",
        "    for i in range(len(indices)):\r\n",
        "        max_values.append(target_preds[i][indices[i]])\r\n",
        "    max_values = torch.FloatTensor(max_values).to(device)    \r\n",
        "    average_values=torch.mean(target_preds,dim=1)\r\n",
        "    max_values=max_values*(1-epsilon)+average_values*(epsilon)\r\n",
        "    model.train()\r\n",
        "\r\n",
        "    model_preds = model(x_batch)\r\n",
        "    model_preds_clone = model_preds.clone()    \r\n",
        "    for index, (state, action, reward, observation, done) in enumerate(samples_batch):\r\n",
        "        if done:\r\n",
        "            model_preds_clone[index][action] = reward\r\n",
        "        else:\r\n",
        "            model_preds_clone[index][action] = reward + gama * max_values[index]\r\n",
        "\r\n",
        "    loss = F.smooth_l1_loss(model_preds, model_preds_clone)\r\n",
        "    loss.backward()\r\n",
        "    optimizer.step()\r\n",
        "def noisy_observation(obs):\r\n",
        "  \r\n",
        "  if not isinstance(obs,(list,np.ndarray)):\r\n",
        "    return obs\r\n",
        "  if(len(obs)<3):\r\n",
        "    return obs\r\n",
        "  mu, sigma = 0, 0.05 # mean and standard deviation\r\n",
        "  s =np.random.normal(mu, sigma, 2)\r\n",
        "  obs[0]=obs[0]+s[0]\r\n",
        "  obs[1]=obs[1]+s[1]\r\n",
        "  return torch.from_numpy(obs).to(device)\r\n",
        "def append_states(states):\r\n",
        "    ans=[]\r\n",
        "    for i in range(len(states)):\r\n",
        "        ans.append(states[i])\r\n",
        "    ans= torch.stack(ans).to(device)\r\n",
        "    ans=torch.reshape(ans,(ans.shape[0]*ans.shape[1],))\r\n",
        "    return ans    "
      ],
      "execution_count": null,
      "outputs": []
    },
    {
      "cell_type": "markdown",
      "metadata": {
        "id": "a48wrZOW4OH0"
      },
      "source": [
        "# Parameters."
      ]
    },
    {
      "cell_type": "code",
      "metadata": {
        "id": "OtGLjXTt2cbj"
      },
      "source": [
        "epsilon = 1\r\n",
        "epsilon_decay = 0.975\r\n",
        "\r\n",
        "batch_size = 256\r\n",
        "max_iterations = 50000\r\n",
        "\r\n",
        "reset_target = 200\r\n",
        "steps_per_action = 1\r\n",
        "replay_memory_size = 20000\r\n",
        "\r\n",
        "gama = 0.99\r\n",
        "lr = 0.00005"
      ],
      "execution_count": null,
      "outputs": []
    },
    {
      "cell_type": "markdown",
      "metadata": {
        "id": "4QDVmpFT4Q6I"
      },
      "source": [
        "# Training the model."
      ]
    },
    {
      "cell_type": "code",
      "metadata": {
        "id": "EQaFvJdvM4qX",
        "colab": {
          "base_uri": "https://localhost:8080/"
        },
        "outputId": "f0532a18-5f68-4326-8527-f8e7590cfa2c"
      },
      "source": [
        "env = wrap_env(env)\r\n",
        "\r\n",
        "\r\n",
        "model = DuelingDQN(all_actions)\r\n",
        "model.to(device)\r\n",
        "optimizer = optim.Adam(model.parameters(), lr=lr)\r\n",
        "\r\n",
        "if not next(model.parameters()).is_cuda:\r\n",
        "    print('The neural network model is not working on GPU!')\r\n",
        "frames=4\r\n",
        "states = deque(maxlen=frames)\r\n",
        "average100 = deque(maxlen=100)\r\n",
        "replay_memory = ReplayMemory(replay_memory_size)\r\n",
        "\r\n",
        "results_memory = []\r\n",
        "steps=0\r\n",
        "for iteration in range(max_iterations):\r\n",
        "    for i in range(frames-1):\r\n",
        "        states.append(torch.zeros(8).to(device))\r\n",
        "    state = env.reset()\r\n",
        "    state_one = noisy_observation(state)\r\n",
        "    states.append(state_one)\r\n",
        "    state=append_states(states)\r\n",
        "    total_reward = 0\r\n",
        "    done = False\r\n",
        "    while not done:\r\n",
        "        action = choose_action(state, epsilon, model)\r\n",
        "        converted_action = action_space.choose(action)\r\n",
        "\r\n",
        "        observation, reward, done, _ = env.step(converted_action)\r\n",
        "        observation_one = noisy_observation(observation)\r\n",
        "        states.append(observation_one)\r\n",
        "        observation = append_states(states)\r\n",
        "        total_reward += reward\r\n",
        "\r\n",
        "        replay_memory.push(state, action, reward, observation, done)\r\n",
        "        state = observation\r\n",
        "\r\n",
        "\r\n",
        "        for i in range(steps_per_action):\r\n",
        "            if steps % reset_target == 0:\r\n",
        "                target_model = copy.deepcopy(model)\r\n",
        "                target_model.to(device)  \r\n",
        "            steps=steps+1        \r\n",
        "            if replay_memory.size() >= batch_size:\r\n",
        "                run_replay_experiments(model, target_model, replay_memory, optimizer, batch_size,epsilon)\r\n",
        "\r\n",
        "\r\n",
        "    average100.append(total_reward)\r\n",
        "    epsilon *= epsilon_decay\r\n",
        "    print(f'Iteration: {iteration} | Epsilon: {round(epsilon, 2)} | Last Reward: {round(reward, 2)} | Average100: {round(np.average(average100))} | Total Reward: {total_reward}')\r\n",
        "    results_memory.append((iteration, round(np.average(average100))))\r\n",
        "\r\n",
        "    if len(average100) >= 100 and np.average(average100) >= 200:\r\n",
        "        print(f'Finished after {iteration-100} iterations.')\r\n",
        "        break\r\n"
      ],
      "execution_count": null,
      "outputs": [
        {
          "output_type": "stream",
          "text": [
            "Iteration: 0 | Epsilon: 0.97 | Last Reward: -100 | Average100: -475 | Total Reward: -474.93995727807675\n",
            "Iteration: 1 | Epsilon: 0.95 | Last Reward: -100 | Average100: -473 | Total Reward: -471.1755532280283\n",
            "Iteration: 2 | Epsilon: 0.93 | Last Reward: -100 | Average100: -467 | Total Reward: -455.0416238670108\n",
            "Iteration: 3 | Epsilon: 0.9 | Last Reward: -100 | Average100: -365 | Total Reward: -59.91129450001803\n",
            "Iteration: 4 | Epsilon: 0.88 | Last Reward: -100 | Average100: -369 | Total Reward: -385.9588133597968\n",
            "Iteration: 5 | Epsilon: 0.86 | Last Reward: -100 | Average100: -388 | Total Reward: -478.518567318481\n",
            "Iteration: 6 | Epsilon: 0.84 | Last Reward: -100 | Average100: -346 | Total Reward: -93.9702302052983\n",
            "Iteration: 7 | Epsilon: 0.82 | Last Reward: -100 | Average100: -323 | Total Reward: -168.03374438208596\n",
            "Iteration: 8 | Epsilon: 0.8 | Last Reward: -100 | Average100: -301 | Total Reward: -121.60051059363866\n",
            "Iteration: 9 | Epsilon: 0.78 | Last Reward: -100 | Average100: -279 | Total Reward: -76.96540735002642\n",
            "Iteration: 10 | Epsilon: 0.76 | Last Reward: -100 | Average100: -274 | Total Reward: -225.45960337937777\n",
            "Iteration: 11 | Epsilon: 0.74 | Last Reward: -100 | Average100: -272 | Total Reward: -252.84830677649248\n",
            "Iteration: 12 | Epsilon: 0.72 | Last Reward: -100 | Average100: -282 | Total Reward: -399.42361224959745\n",
            "Iteration: 13 | Epsilon: 0.7 | Last Reward: -100 | Average100: -291 | Total Reward: -415.1034420244021\n",
            "Iteration: 14 | Epsilon: 0.68 | Last Reward: -100 | Average100: -293 | Total Reward: -315.3911621076928\n",
            "Iteration: 15 | Epsilon: 0.67 | Last Reward: -100 | Average100: -289 | Total Reward: -225.73517807632976\n",
            "Iteration: 16 | Epsilon: 0.65 | Last Reward: -100 | Average100: -284 | Total Reward: -207.41853752360396\n",
            "Iteration: 17 | Epsilon: 0.63 | Last Reward: -100 | Average100: -276 | Total Reward: -139.24771595138472\n",
            "Iteration: 18 | Epsilon: 0.62 | Last Reward: -0.51 | Average100: -259 | Total Reward: 41.15500813743133\n",
            "Iteration: 19 | Epsilon: 0.6 | Last Reward: 1.67 | Average100: -251 | Total Reward: -85.84874187196277\n",
            "Iteration: 20 | Epsilon: 0.59 | Last Reward: 1.27 | Average100: -241 | Total Reward: -55.895068625372275\n",
            "Iteration: 21 | Epsilon: 0.57 | Last Reward: -2.33 | Average100: -231 | Total Reward: -24.483667812223935\n",
            "Iteration: 22 | Epsilon: 0.56 | Last Reward: 8.73 | Average100: -219 | Total Reward: 60.65775547099536\n",
            "Iteration: 23 | Epsilon: 0.54 | Last Reward: -100 | Average100: -213 | Total Reward: -74.78116760655823\n",
            "Iteration: 24 | Epsilon: 0.53 | Last Reward: -0.36 | Average100: -206 | Total Reward: -34.0161504359147\n",
            "Iteration: 25 | Epsilon: 0.52 | Last Reward: 0.06 | Average100: -196 | Total Reward: 38.76067752731264\n",
            "Iteration: 26 | Epsilon: 0.5 | Last Reward: 9.15 | Average100: -187 | Total Reward: 48.881192376514576\n",
            "Iteration: 27 | Epsilon: 0.49 | Last Reward: 0.29 | Average100: -180 | Total Reward: 18.202348811889095\n",
            "Iteration: 28 | Epsilon: 0.48 | Last Reward: -3.14 | Average100: -175 | Total Reward: -41.326666607952376\n",
            "Iteration: 29 | Epsilon: 0.47 | Last Reward: -0.41 | Average100: -167 | Total Reward: 71.8113651010588\n",
            "Iteration: 30 | Epsilon: 0.46 | Last Reward: 7.59 | Average100: -160 | Total Reward: 40.395530984254464\n",
            "Iteration: 31 | Epsilon: 0.44 | Last Reward: -1.97 | Average100: -154 | Total Reward: 42.53752900297102\n",
            "Iteration: 32 | Epsilon: 0.43 | Last Reward: -100 | Average100: -149 | Total Reward: -11.550325145963285\n",
            "Iteration: 33 | Epsilon: 0.42 | Last Reward: 0.67 | Average100: -146 | Total Reward: -34.556399851265844\n",
            "Iteration: 34 | Epsilon: 0.41 | Last Reward: -2.39 | Average100: -141 | Total Reward: 20.721479976456877\n",
            "Iteration: 35 | Epsilon: 0.4 | Last Reward: -2.54 | Average100: -140 | Total Reward: -88.27472252465854\n",
            "Iteration: 36 | Epsilon: 0.39 | Last Reward: -1.33 | Average100: -137 | Total Reward: -51.60497331719875\n",
            "Iteration: 37 | Epsilon: 0.38 | Last Reward: -3.35 | Average100: -131 | Total Reward: 114.67874764769883\n",
            "Iteration: 38 | Epsilon: 0.37 | Last Reward: -17.88 | Average100: -127 | Total Reward: 0.7201510478251691\n",
            "Iteration: 39 | Epsilon: 0.36 | Last Reward: 2.3 | Average100: -122 | Total Reward: 78.81603142122408\n",
            "Iteration: 40 | Epsilon: 0.35 | Last Reward: -0.15 | Average100: -117 | Total Reward: 87.56430953548927\n",
            "Iteration: 41 | Epsilon: 0.35 | Last Reward: -1.06 | Average100: -113 | Total Reward: 70.42585677256206\n",
            "Iteration: 42 | Epsilon: 0.34 | Last Reward: -0.38 | Average100: -109 | Total Reward: 25.411885765910466\n",
            "Iteration: 43 | Epsilon: 0.33 | Last Reward: -2.73 | Average100: -106 | Total Reward: 48.36822265939072\n",
            "Iteration: 44 | Epsilon: 0.32 | Last Reward: -7.82 | Average100: -102 | Total Reward: 54.33337069130158\n",
            "Iteration: 45 | Epsilon: 0.31 | Last Reward: 1.29 | Average100: -98 | Total Reward: 114.34434190558896\n",
            "Iteration: 46 | Epsilon: 0.3 | Last Reward: -18.56 | Average100: -95 | Total Reward: 27.108872915277228\n",
            "Iteration: 47 | Epsilon: 0.3 | Last Reward: 0.42 | Average100: -91 | Total Reward: 117.8958213762971\n",
            "Iteration: 48 | Epsilon: 0.29 | Last Reward: -0.02 | Average100: -87 | Total Reward: 97.38776035417527\n",
            "Iteration: 49 | Epsilon: 0.28 | Last Reward: -1.52 | Average100: -87 | Total Reward: -99.40078503340024\n",
            "Iteration: 50 | Epsilon: 0.27 | Last Reward: -2.38 | Average100: -88 | Total Reward: -122.63030585563075\n",
            "Iteration: 51 | Epsilon: 0.27 | Last Reward: -0.35 | Average100: -83 | Total Reward: 140.79745254347534\n",
            "Iteration: 52 | Epsilon: 0.26 | Last Reward: -0.08 | Average100: -80 | Total Reward: 75.35615198910395\n",
            "Iteration: 53 | Epsilon: 0.25 | Last Reward: -0.4 | Average100: -78 | Total Reward: 61.36739805778441\n",
            "Iteration: 54 | Epsilon: 0.25 | Last Reward: -9.34 | Average100: -76 | Total Reward: 35.316801879405865\n",
            "Iteration: 55 | Epsilon: 0.24 | Last Reward: 1.08 | Average100: -73 | Total Reward: 83.83581789796995\n",
            "Iteration: 56 | Epsilon: 0.24 | Last Reward: 0.01 | Average100: -70 | Total Reward: 73.37787442099214\n",
            "Iteration: 57 | Epsilon: 0.23 | Last Reward: -0.09 | Average100: -67 | Total Reward: 100.39602867471258\n",
            "Iteration: 58 | Epsilon: 0.22 | Last Reward: -11.13 | Average100: -64 | Total Reward: 105.21346392071138\n",
            "Iteration: 59 | Epsilon: 0.22 | Last Reward: 8.64 | Average100: -62 | Total Reward: 71.58893670525896\n",
            "Iteration: 60 | Epsilon: 0.21 | Last Reward: -4.0 | Average100: -59 | Total Reward: 124.92165661281716\n",
            "Iteration: 61 | Epsilon: 0.21 | Last Reward: -0.0 | Average100: -56 | Total Reward: 146.88210123002273\n",
            "Iteration: 62 | Epsilon: 0.2 | Last Reward: 0.57 | Average100: -53 | Total Reward: 93.89970940755728\n",
            "Iteration: 63 | Epsilon: 0.2 | Last Reward: -0.09 | Average100: -52 | Total Reward: 58.142799978104115\n",
            "Iteration: 64 | Epsilon: 0.19 | Last Reward: -100 | Average100: -51 | Total Reward: -45.48194916952201\n",
            "Iteration: 65 | Epsilon: 0.19 | Last Reward: -100 | Average100: -51 | Total Reward: -50.00035506073239\n",
            "Iteration: 66 | Epsilon: 0.18 | Last Reward: 100 | Average100: -48 | Total Reward: 183.07126154342416\n",
            "Iteration: 67 | Epsilon: 0.18 | Last Reward: -0.93 | Average100: -45 | Total Reward: 128.08707962847112\n",
            "Iteration: 68 | Epsilon: 0.17 | Last Reward: 0.0 | Average100: -43 | Total Reward: 96.93501726977325\n",
            "Iteration: 69 | Epsilon: 0.17 | Last Reward: 100 | Average100: -40 | Total Reward: 208.3564781404698\n",
            "Iteration: 70 | Epsilon: 0.17 | Last Reward: 1.08 | Average100: -40 | Total Reward: -68.38549893655109\n",
            "Iteration: 71 | Epsilon: 0.16 | Last Reward: -0.04 | Average100: -39 | Total Reward: 24.20265607058434\n",
            "Iteration: 72 | Epsilon: 0.16 | Last Reward: -100 | Average100: -38 | Total Reward: 20.307193348750488\n",
            "Iteration: 73 | Epsilon: 0.15 | Last Reward: 100 | Average100: -36 | Total Reward: 110.59498593025626\n",
            "Iteration: 74 | Epsilon: 0.15 | Last Reward: 100 | Average100: -33 | Total Reward: 254.62333286777027\n",
            "Iteration: 75 | Epsilon: 0.15 | Last Reward: -2.2 | Average100: -31 | Total Reward: 109.6208654141457\n",
            "Iteration: 76 | Epsilon: 0.14 | Last Reward: -100 | Average100: -30 | Total Reward: 2.5584693106272454\n",
            "Iteration: 77 | Epsilon: 0.14 | Last Reward: -0.26 | Average100: -28 | Total Reward: 136.20300457463802\n",
            "Iteration: 78 | Epsilon: 0.14 | Last Reward: -0.19 | Average100: -26 | Total Reward: 141.78474830529797\n",
            "Iteration: 79 | Epsilon: 0.13 | Last Reward: 100 | Average100: -22 | Total Reward: 250.14662619569074\n",
            "Iteration: 80 | Epsilon: 0.13 | Last Reward: 100 | Average100: -20 | Total Reward: 206.3111264992923\n",
            "Iteration: 81 | Epsilon: 0.13 | Last Reward: -100 | Average100: -20 | Total Reward: -22.86869637109588\n",
            "Iteration: 82 | Epsilon: 0.12 | Last Reward: -100 | Average100: -20 | Total Reward: -37.40353596863891\n",
            "Iteration: 83 | Epsilon: 0.12 | Last Reward: -2.23 | Average100: -18 | Total Reward: 112.39599328896216\n",
            "Iteration: 84 | Epsilon: 0.12 | Last Reward: 100 | Average100: -16 | Total Reward: 213.43106028074618\n",
            "Iteration: 85 | Epsilon: 0.11 | Last Reward: 100 | Average100: -13 | Total Reward: 228.24910004886954\n",
            "Iteration: 86 | Epsilon: 0.11 | Last Reward: 100 | Average100: -10 | Total Reward: 195.0907440731485\n",
            "Iteration: 87 | Epsilon: 0.11 | Last Reward: 100 | Average100: -8 | Total Reward: 181.39916852416388\n",
            "Iteration: 88 | Epsilon: 0.11 | Last Reward: 100 | Average100: -5 | Total Reward: 259.9582674942801\n",
            "Iteration: 89 | Epsilon: 0.1 | Last Reward: 100 | Average100: -3 | Total Reward: 217.86135818356283\n",
            "Iteration: 90 | Epsilon: 0.1 | Last Reward: 100 | Average100: 0 | Total Reward: 222.99565990541032\n",
            "Iteration: 91 | Epsilon: 0.1 | Last Reward: 100 | Average100: 2 | Total Reward: 182.06635984071744\n",
            "Iteration: 92 | Epsilon: 0.09 | Last Reward: 100 | Average100: 4 | Total Reward: 208.12394944149736\n",
            "Iteration: 93 | Epsilon: 0.09 | Last Reward: -100 | Average100: 4 | Total Reward: -28.33644551081369\n",
            "Iteration: 94 | Epsilon: 0.09 | Last Reward: -100 | Average100: 3 | Total Reward: -18.073980350694683\n",
            "Iteration: 95 | Epsilon: 0.09 | Last Reward: 100 | Average100: 5 | Total Reward: 185.1623791177295\n",
            "Iteration: 96 | Epsilon: 0.09 | Last Reward: 100 | Average100: 8 | Total Reward: 228.74247080709694\n",
            "Iteration: 97 | Epsilon: 0.08 | Last Reward: -0.01 | Average100: 9 | Total Reward: 101.3864289068392\n",
            "Iteration: 98 | Epsilon: 0.08 | Last Reward: 8.76 | Average100: 9 | Total Reward: 89.63437491343733\n",
            "Iteration: 99 | Epsilon: 0.08 | Last Reward: 100 | Average100: 12 | Total Reward: 250.2303713693983\n",
            "Iteration: 100 | Epsilon: 0.08 | Last Reward: -0.02 | Average100: 18 | Total Reward: 107.78970129994715\n",
            "Iteration: 101 | Epsilon: 0.08 | Last Reward: 100 | Average100: 25 | Total Reward: 241.9832979623158\n",
            "Iteration: 102 | Epsilon: 0.07 | Last Reward: 100 | Average100: 31 | Total Reward: 186.5922800850605\n",
            "Iteration: 103 | Epsilon: 0.07 | Last Reward: 100 | Average100: 35 | Total Reward: 273.53177121288604\n",
            "Iteration: 104 | Epsilon: 0.07 | Last Reward: 100 | Average100: 41 | Total Reward: 237.24770060812514\n",
            "Iteration: 105 | Epsilon: 0.07 | Last Reward: 100 | Average100: 48 | Total Reward: 221.95718557656858\n",
            "Iteration: 106 | Epsilon: 0.07 | Last Reward: -2.92 | Average100: 48 | Total Reward: -53.5255384858164\n",
            "Iteration: 107 | Epsilon: 0.06 | Last Reward: 100 | Average100: 52 | Total Reward: 248.83139735559263\n",
            "Iteration: 108 | Epsilon: 0.06 | Last Reward: 100 | Average100: 56 | Total Reward: 243.80741801639402\n",
            "Iteration: 109 | Epsilon: 0.06 | Last Reward: 100 | Average100: 59 | Total Reward: 272.6018070097729\n",
            "Iteration: 110 | Epsilon: 0.06 | Last Reward: 100 | Average100: 64 | Total Reward: 221.51977830250993\n",
            "Iteration: 111 | Epsilon: 0.06 | Last Reward: 100 | Average100: 69 | Total Reward: 234.876024917518\n",
            "Iteration: 112 | Epsilon: 0.06 | Last Reward: -100 | Average100: 72 | Total Reward: -54.01215204814079\n",
            "Iteration: 113 | Epsilon: 0.06 | Last Reward: 100 | Average100: 79 | Total Reward: 224.54042765080442\n",
            "Iteration: 114 | Epsilon: 0.05 | Last Reward: 100 | Average100: 84 | Total Reward: 261.1215281034893\n",
            "Iteration: 115 | Epsilon: 0.05 | Last Reward: -100 | Average100: 87 | Total Reward: 7.850819720615775\n",
            "Iteration: 116 | Epsilon: 0.05 | Last Reward: -100 | Average100: 88 | Total Reward: -40.20045771123417\n",
            "Iteration: 117 | Epsilon: 0.05 | Last Reward: 100 | Average100: 92 | Total Reward: 190.19646590863124\n",
            "Iteration: 118 | Epsilon: 0.05 | Last Reward: 100 | Average100: 94 | Total Reward: 229.45461569680813\n",
            "Iteration: 119 | Epsilon: 0.05 | Last Reward: 100 | Average100: 96 | Total Reward: 184.5943508228775\n",
            "Iteration: 120 | Epsilon: 0.05 | Last Reward: 100 | Average100: 99 | Total Reward: 225.55608519827763\n",
            "Iteration: 121 | Epsilon: 0.05 | Last Reward: 100 | Average100: 102 | Total Reward: 230.87397143337984\n",
            "Iteration: 122 | Epsilon: 0.04 | Last Reward: 100 | Average100: 103 | Total Reward: 209.79688048930564\n",
            "Iteration: 123 | Epsilon: 0.04 | Last Reward: 100 | Average100: 106 | Total Reward: 227.88565462750782\n",
            "Iteration: 124 | Epsilon: 0.04 | Last Reward: 0.0 | Average100: 108 | Total Reward: 129.95470390402136\n",
            "Iteration: 125 | Epsilon: 0.04 | Last Reward: 100 | Average100: 110 | Total Reward: 229.71106872920748\n",
            "Iteration: 126 | Epsilon: 0.04 | Last Reward: 100 | Average100: 111 | Total Reward: 209.2288093025138\n",
            "Iteration: 127 | Epsilon: 0.04 | Last Reward: 100 | Average100: 113 | Total Reward: 193.91153452051978\n",
            "Iteration: 128 | Epsilon: 0.04 | Last Reward: 100 | Average100: 116 | Total Reward: 237.31471352885623\n",
            "Iteration: 129 | Epsilon: 0.04 | Last Reward: 100 | Average100: 118 | Total Reward: 235.36666824186727\n",
            "Iteration: 130 | Epsilon: 0.04 | Last Reward: 100 | Average100: 120 | Total Reward: 265.9506935138708\n",
            "Iteration: 131 | Epsilon: 0.04 | Last Reward: 100 | Average100: 121 | Total Reward: 202.14081033611708\n",
            "Iteration: 132 | Epsilon: 0.03 | Last Reward: 100 | Average100: 124 | Total Reward: 228.0530766011171\n",
            "Iteration: 133 | Epsilon: 0.03 | Last Reward: 100 | Average100: 126 | Total Reward: 221.024406109297\n",
            "Iteration: 134 | Epsilon: 0.03 | Last Reward: 100 | Average100: 128 | Total Reward: 196.1870376499669\n",
            "Iteration: 135 | Epsilon: 0.03 | Last Reward: -100 | Average100: 128 | Total Reward: -96.31527284157974\n",
            "Iteration: 136 | Epsilon: 0.03 | Last Reward: 100 | Average100: 131 | Total Reward: 240.46408384764192\n",
            "Iteration: 137 | Epsilon: 0.03 | Last Reward: 100 | Average100: 132 | Total Reward: 185.37357878396955\n",
            "Iteration: 138 | Epsilon: 0.03 | Last Reward: 100 | Average100: 134 | Total Reward: 227.77266366607495\n",
            "Iteration: 139 | Epsilon: 0.03 | Last Reward: 100 | Average100: 136 | Total Reward: 256.33171319916613\n",
            "Iteration: 140 | Epsilon: 0.03 | Last Reward: 100 | Average100: 137 | Total Reward: 259.5592963496509\n",
            "Iteration: 141 | Epsilon: 0.03 | Last Reward: 100 | Average100: 139 | Total Reward: 263.8078719634824\n",
            "Iteration: 142 | Epsilon: 0.03 | Last Reward: 100 | Average100: 142 | Total Reward: 249.6196592199661\n",
            "Iteration: 143 | Epsilon: 0.03 | Last Reward: 100 | Average100: 144 | Total Reward: 254.25832538977895\n",
            "Iteration: 144 | Epsilon: 0.03 | Last Reward: 100 | Average100: 146 | Total Reward: 245.12271899264996\n",
            "Iteration: 145 | Epsilon: 0.02 | Last Reward: 100 | Average100: 146 | Total Reward: 173.77943140220776\n",
            "Iteration: 146 | Epsilon: 0.02 | Last Reward: 100 | Average100: 148 | Total Reward: 262.24794662319005\n",
            "Iteration: 147 | Epsilon: 0.02 | Last Reward: 100 | Average100: 149 | Total Reward: 195.06808323599188\n",
            "Iteration: 148 | Epsilon: 0.02 | Last Reward: 1.27 | Average100: 148 | Total Reward: -34.58133351976275\n",
            "Iteration: 149 | Epsilon: 0.02 | Last Reward: 100 | Average100: 151 | Total Reward: 222.0167194588327\n",
            "Iteration: 150 | Epsilon: 0.02 | Last Reward: 100 | Average100: 154 | Total Reward: 161.51717493798182\n",
            "Iteration: 151 | Epsilon: 0.02 | Last Reward: -1.26 | Average100: 152 | Total Reward: -69.62345812675916\n",
            "Iteration: 152 | Epsilon: 0.02 | Last Reward: 100 | Average100: 153 | Total Reward: 181.04475058409804\n",
            "Iteration: 153 | Epsilon: 0.02 | Last Reward: -100 | Average100: 151 | Total Reward: -118.88309785861895\n",
            "Iteration: 154 | Epsilon: 0.02 | Last Reward: -100 | Average100: 148 | Total Reward: -267.70298274320135\n",
            "Iteration: 155 | Epsilon: 0.02 | Last Reward: -100 | Average100: 147 | Total Reward: -69.26318021375424\n",
            "Iteration: 156 | Epsilon: 0.02 | Last Reward: 100 | Average100: 147 | Total Reward: 133.5237578871148\n",
            "Iteration: 157 | Epsilon: 0.02 | Last Reward: -100 | Average100: 143 | Total Reward: -296.20004860897336\n",
            "Iteration: 158 | Epsilon: 0.02 | Last Reward: 11.2 | Average100: 142 | Total Reward: -28.54054662641122\n",
            "Iteration: 159 | Epsilon: 0.02 | Last Reward: 100 | Average100: 143 | Total Reward: 224.8374812885461\n",
            "Iteration: 160 | Epsilon: 0.02 | Last Reward: 100 | Average100: 145 | Total Reward: 233.88083927217286\n",
            "Iteration: 161 | Epsilon: 0.02 | Last Reward: 8.2 | Average100: 142 | Total Reward: -56.16254454073665\n",
            "Iteration: 162 | Epsilon: 0.02 | Last Reward: -100 | Average100: 141 | Total Reward: -56.78139575780788\n",
            "Iteration: 163 | Epsilon: 0.02 | Last Reward: 100 | Average100: 143 | Total Reward: 259.16738981495314\n",
            "Iteration: 164 | Epsilon: 0.02 | Last Reward: 100 | Average100: 146 | Total Reward: 223.86180800959158\n",
            "Iteration: 165 | Epsilon: 0.01 | Last Reward: 0.07 | Average100: 148 | Total Reward: 150.10547869282817\n",
            "Iteration: 166 | Epsilon: 0.01 | Last Reward: 100 | Average100: 148 | Total Reward: 253.70869939161466\n",
            "Iteration: 167 | Epsilon: 0.01 | Last Reward: 100 | Average100: 149 | Total Reward: 220.78914894013317\n",
            "Iteration: 168 | Epsilon: 0.01 | Last Reward: -2.96 | Average100: 148 | Total Reward: 8.396908792502778\n",
            "Iteration: 169 | Epsilon: 0.01 | Last Reward: 100 | Average100: 149 | Total Reward: 272.2292187115112\n",
            "Iteration: 170 | Epsilon: 0.01 | Last Reward: 100 | Average100: 152 | Total Reward: 260.9467403434751\n",
            "Iteration: 171 | Epsilon: 0.01 | Last Reward: 100 | Average100: 154 | Total Reward: 218.76212192726314\n",
            "Iteration: 172 | Epsilon: 0.01 | Last Reward: 100 | Average100: 157 | Total Reward: 272.3533514673535\n",
            "Iteration: 173 | Epsilon: 0.01 | Last Reward: 100 | Average100: 158 | Total Reward: 253.45592149437022\n",
            "Iteration: 174 | Epsilon: 0.01 | Last Reward: 100 | Average100: 158 | Total Reward: 277.0147072350447\n",
            "Iteration: 175 | Epsilon: 0.01 | Last Reward: 100 | Average100: 160 | Total Reward: 245.01456372700451\n",
            "Iteration: 176 | Epsilon: 0.01 | Last Reward: -100 | Average100: 160 | Total Reward: 18.054166471302793\n",
            "Iteration: 177 | Epsilon: 0.01 | Last Reward: 100 | Average100: 161 | Total Reward: 237.65842268526308\n",
            "Iteration: 178 | Epsilon: 0.01 | Last Reward: 100 | Average100: 162 | Total Reward: 225.80680267670718\n",
            "Iteration: 179 | Epsilon: 0.01 | Last Reward: 100 | Average100: 162 | Total Reward: 251.2041775200039\n",
            "Iteration: 180 | Epsilon: 0.01 | Last Reward: 100 | Average100: 163 | Total Reward: 283.4482757159708\n",
            "Iteration: 181 | Epsilon: 0.01 | Last Reward: 100 | Average100: 166 | Total Reward: 278.0509810285954\n",
            "Iteration: 182 | Epsilon: 0.01 | Last Reward: -100 | Average100: 165 | Total Reward: -68.82843820859802\n",
            "Iteration: 183 | Epsilon: 0.01 | Last Reward: -1.97 | Average100: 164 | Total Reward: -62.19279883716111\n",
            "Iteration: 184 | Epsilon: 0.01 | Last Reward: 100 | Average100: 164 | Total Reward: 265.9789294494859\n",
            "Iteration: 185 | Epsilon: 0.01 | Last Reward: 100 | Average100: 165 | Total Reward: 272.3371713247367\n",
            "Iteration: 186 | Epsilon: 0.01 | Last Reward: 100 | Average100: 165 | Total Reward: 264.65477450414414\n",
            "Iteration: 187 | Epsilon: 0.01 | Last Reward: 100 | Average100: 164 | Total Reward: 71.45571417607927\n",
            "Iteration: 188 | Epsilon: 0.01 | Last Reward: 100 | Average100: 164 | Total Reward: 272.2791526970509\n",
            "Iteration: 189 | Epsilon: 0.01 | Last Reward: 100 | Average100: 164 | Total Reward: 227.36833852422444\n",
            "Iteration: 190 | Epsilon: 0.01 | Last Reward: -2.12 | Average100: 162 | Total Reward: -24.45335250420743\n",
            "Iteration: 191 | Epsilon: 0.01 | Last Reward: 100 | Average100: 163 | Total Reward: 250.91996737973452\n",
            "Iteration: 192 | Epsilon: 0.01 | Last Reward: 100 | Average100: 163 | Total Reward: 203.74576259447815\n",
            "Iteration: 193 | Epsilon: 0.01 | Last Reward: 100 | Average100: 165 | Total Reward: 227.76358956173726\n",
            "Iteration: 194 | Epsilon: 0.01 | Last Reward: 100 | Average100: 168 | Total Reward: 263.60247657260015\n",
            "Iteration: 195 | Epsilon: 0.01 | Last Reward: 100 | Average100: 168 | Total Reward: 221.1645911091801\n",
            "Iteration: 196 | Epsilon: 0.01 | Last Reward: 100 | Average100: 168 | Total Reward: 250.65653669910705\n",
            "Iteration: 197 | Epsilon: 0.01 | Last Reward: -0.76 | Average100: 167 | Total Reward: -48.25850918881768\n",
            "Iteration: 198 | Epsilon: 0.01 | Last Reward: 100 | Average100: 168 | Total Reward: 159.01262771410913\n",
            "Iteration: 199 | Epsilon: 0.01 | Last Reward: -2.3 | Average100: 165 | Total Reward: -42.89054712517852\n",
            "Iteration: 200 | Epsilon: 0.01 | Last Reward: 100 | Average100: 166 | Total Reward: 243.14646817145945\n",
            "Iteration: 201 | Epsilon: 0.01 | Last Reward: 2.76 | Average100: 163 | Total Reward: -91.54770716291968\n",
            "Iteration: 202 | Epsilon: 0.01 | Last Reward: -0.46 | Average100: 160 | Total Reward: -45.7268456727302\n",
            "Iteration: 203 | Epsilon: 0.01 | Last Reward: 100 | Average100: 160 | Total Reward: 253.72638284170284\n",
            "Iteration: 204 | Epsilon: 0.01 | Last Reward: 0.87 | Average100: 157 | Total Reward: -53.72083659356046\n",
            "Iteration: 205 | Epsilon: 0.01 | Last Reward: -2.18 | Average100: 155 | Total Reward: -46.73390631625989\n",
            "Iteration: 206 | Epsilon: 0.01 | Last Reward: 100 | Average100: 157 | Total Reward: 227.7671660393508\n",
            "Iteration: 207 | Epsilon: 0.01 | Last Reward: 100 | Average100: 157 | Total Reward: 245.24086605461002\n",
            "Iteration: 208 | Epsilon: 0.01 | Last Reward: 100 | Average100: 158 | Total Reward: 260.0764909193255\n",
            "Iteration: 209 | Epsilon: 0.0 | Last Reward: 100 | Average100: 157 | Total Reward: 260.91086287347815\n",
            "Iteration: 210 | Epsilon: 0.0 | Last Reward: 100 | Average100: 158 | Total Reward: 245.76707157032965\n",
            "Iteration: 211 | Epsilon: 0.0 | Last Reward: -0.29 | Average100: 155 | Total Reward: -59.56694143525897\n",
            "Iteration: 212 | Epsilon: 0.0 | Last Reward: 100 | Average100: 158 | Total Reward: 230.2373726844884\n",
            "Iteration: 213 | Epsilon: 0.0 | Last Reward: 100 | Average100: 158 | Total Reward: 266.7192481814467\n",
            "Iteration: 214 | Epsilon: 0.0 | Last Reward: 100 | Average100: 158 | Total Reward: 263.96388092036256\n",
            "Iteration: 215 | Epsilon: 0.0 | Last Reward: 100 | Average100: 161 | Total Reward: 263.79682334850975\n",
            "Iteration: 216 | Epsilon: 0.0 | Last Reward: 100 | Average100: 164 | Total Reward: 288.0672269974352\n",
            "Iteration: 217 | Epsilon: 0.0 | Last Reward: 100 | Average100: 165 | Total Reward: 256.1640678477838\n",
            "Iteration: 218 | Epsilon: 0.0 | Last Reward: 100 | Average100: 165 | Total Reward: 269.78663079923314\n",
            "Iteration: 219 | Epsilon: 0.0 | Last Reward: 100 | Average100: 166 | Total Reward: 284.8855747122426\n",
            "Iteration: 220 | Epsilon: 0.0 | Last Reward: 100 | Average100: 166 | Total Reward: 255.42078439285098\n",
            "Iteration: 221 | Epsilon: 0.0 | Last Reward: 0.35 | Average100: 163 | Total Reward: -74.96235214356541\n",
            "Iteration: 222 | Epsilon: 0.0 | Last Reward: 100 | Average100: 164 | Total Reward: 256.60737912758293\n",
            "Iteration: 223 | Epsilon: 0.0 | Last Reward: 100 | Average100: 164 | Total Reward: 235.9592308806144\n",
            "Iteration: 224 | Epsilon: 0.0 | Last Reward: 100 | Average100: 165 | Total Reward: 261.1805107569081\n",
            "Iteration: 225 | Epsilon: 0.0 | Last Reward: 100 | Average100: 166 | Total Reward: 276.15941530859504\n",
            "Iteration: 226 | Epsilon: 0.0 | Last Reward: 100 | Average100: 166 | Total Reward: 276.2983104990207\n",
            "Iteration: 227 | Epsilon: 0.0 | Last Reward: 100 | Average100: 167 | Total Reward: 278.7564750061945\n",
            "Iteration: 228 | Epsilon: 0.0 | Last Reward: 100 | Average100: 167 | Total Reward: 272.14361286686716\n",
            "Iteration: 229 | Epsilon: 0.0 | Last Reward: 100 | Average100: 168 | Total Reward: 282.89115679672557\n",
            "Iteration: 230 | Epsilon: 0.0 | Last Reward: 100 | Average100: 167 | Total Reward: 206.16898380281614\n",
            "Iteration: 231 | Epsilon: 0.0 | Last Reward: 100 | Average100: 168 | Total Reward: 239.60933315245347\n",
            "Iteration: 232 | Epsilon: 0.0 | Last Reward: 100 | Average100: 168 | Total Reward: 288.29968481716907\n",
            "Iteration: 233 | Epsilon: 0.0 | Last Reward: 100 | Average100: 169 | Total Reward: 245.91913520072424\n",
            "Iteration: 234 | Epsilon: 0.0 | Last Reward: 100 | Average100: 169 | Total Reward: 293.7730482007405\n",
            "Iteration: 235 | Epsilon: 0.0 | Last Reward: 100 | Average100: 172 | Total Reward: 201.6413277026353\n",
            "Iteration: 236 | Epsilon: 0.0 | Last Reward: 100 | Average100: 173 | Total Reward: 281.55173230301125\n",
            "Iteration: 237 | Epsilon: 0.0 | Last Reward: 100 | Average100: 174 | Total Reward: 260.81644305509633\n",
            "Iteration: 238 | Epsilon: 0.0 | Last Reward: 100 | Average100: 174 | Total Reward: 291.1195575697675\n",
            "Iteration: 239 | Epsilon: 0.0 | Last Reward: 100 | Average100: 175 | Total Reward: 289.7800209734245\n",
            "Iteration: 240 | Epsilon: 0.0 | Last Reward: 100 | Average100: 175 | Total Reward: 255.03624312405896\n",
            "Iteration: 241 | Epsilon: 0.0 | Last Reward: -0.09 | Average100: 172 | Total Reward: 39.418051653795075\n",
            "Iteration: 242 | Epsilon: 0.0 | Last Reward: 100 | Average100: 172 | Total Reward: 240.5885920135054\n",
            "Iteration: 243 | Epsilon: 0.0 | Last Reward: -100 | Average100: 170 | Total Reward: 50.41223520334404\n",
            "Iteration: 244 | Epsilon: 0.0 | Last Reward: 100 | Average100: 170 | Total Reward: 265.22088688238784\n",
            "Iteration: 245 | Epsilon: 0.0 | Last Reward: 100 | Average100: 171 | Total Reward: 230.91018348589884\n",
            "Iteration: 246 | Epsilon: 0.0 | Last Reward: 100 | Average100: 171 | Total Reward: 263.4572951525936\n",
            "Iteration: 247 | Epsilon: 0.0 | Last Reward: 100 | Average100: 172 | Total Reward: 305.9279393347472\n",
            "Iteration: 248 | Epsilon: 0.0 | Last Reward: 100 | Average100: 175 | Total Reward: 255.01560364046355\n",
            "Iteration: 249 | Epsilon: 0.0 | Last Reward: 100 | Average100: 175 | Total Reward: 206.22877256711655\n",
            "Iteration: 250 | Epsilon: 0.0 | Last Reward: 100 | Average100: 176 | Total Reward: 247.9678605991106\n",
            "Iteration: 251 | Epsilon: 0.0 | Last Reward: 100 | Average100: 179 | Total Reward: 233.37894766361347\n",
            "Iteration: 252 | Epsilon: 0.0 | Last Reward: -9.64 | Average100: 177 | Total Reward: -24.009330407599766\n",
            "Iteration: 253 | Epsilon: 0.0 | Last Reward: 100 | Average100: 179 | Total Reward: 164.05823301429487\n",
            "Iteration: 254 | Epsilon: 0.0 | Last Reward: 100 | Average100: 185 | Total Reward: 239.1561006438012\n",
            "Iteration: 255 | Epsilon: 0.0 | Last Reward: 100 | Average100: 188 | Total Reward: 269.74896820760756\n",
            "Iteration: 256 | Epsilon: 0.0 | Last Reward: 100 | Average100: 189 | Total Reward: 249.4910591563067\n",
            "Iteration: 257 | Epsilon: 0.0 | Last Reward: 100 | Average100: 194 | Total Reward: 242.18070591760147\n",
            "Iteration: 258 | Epsilon: 0.0 | Last Reward: 100 | Average100: 198 | Total Reward: 293.28534236596346\n",
            "Iteration: 259 | Epsilon: 0.0 | Last Reward: 100 | Average100: 198 | Total Reward: 269.0905232945613\n",
            "Iteration: 260 | Epsilon: 0.0 | Last Reward: 100 | Average100: 199 | Total Reward: 272.8517964324581\n",
            "Iteration: 261 | Epsilon: 0.0 | Last Reward: 100 | Average100: 202 | Total Reward: 257.6216456449513\n",
            "Finished after 161 iterations.\n"
          ],
          "name": "stdout"
        }
      ]
    },
    {
      "cell_type": "code",
      "metadata": {
        "id": "tNVLgkF-gk_O"
      },
      "source": [
        "# Memory to JSON data.\r\n",
        "with open('/content/gdrive/My Drive/Noisy Double Dueling Expected Sarsa.json', 'w') as f:\r\n",
        "    json.dump(results_memory, f)"
      ],
      "execution_count": null,
      "outputs": []
    },
    {
      "cell_type": "code",
      "metadata": {
        "id": "qw7m2w5ghKtF",
        "colab": {
          "base_uri": "https://localhost:8080/"
        },
        "outputId": "8309fb3c-4893-48a1-a730-bfebeb1042d5"
      },
      "source": [
        "# Upload JSON data to notebook.\r\n",
        "loaded_results_memory = None\r\n",
        "with open('/content/gdrive/My Drive/Noisy Double Dueling Expected Sarsa.json') as f:\r\n",
        "    loaded_results_memory = json.loads(f.read())\r\n",
        "\r\n",
        "print(loaded_results_memory[0])"
      ],
      "execution_count": null,
      "outputs": [
        {
          "output_type": "stream",
          "text": [
            "[0, -475]\n"
          ],
          "name": "stdout"
        }
      ]
    },
    {
      "cell_type": "code",
      "metadata": {
        "id": "BzyI3vKZQiR6",
        "colab": {
          "base_uri": "https://localhost:8080/"
        },
        "outputId": "9f86c1b6-5891-4a3b-a8ab-2c736e572c5c"
      },
      "source": [
        "env.close() \r\n",
        "show_video()"
      ],
      "execution_count": null,
      "outputs": [
        {
          "output_type": "display_data",
          "data": {
            "text/html": [
              "<video alt=\"test\" autoplay \n",
              "                    loop controls style=\"height: 400px;\">\n",
              "                    <source src=\"data:video/mp4;base64,AAAAIGZ0eXBpc29tAAACAGlzb21pc28yYXZjMW1wNDEAAAAIZnJlZQABV7BtZGF0AAACrgYF//+q3EXpvebZSLeWLNgg2SPu73gyNjQgLSBjb3JlIDE1MiByMjg1NCBlOWE1OTAzIC0gSC4yNjQvTVBFRy00IEFWQyBjb2RlYyAtIENvcHlsZWZ0IDIwMDMtMjAxNyAtIGh0dHA6Ly93d3cudmlkZW9sYW4ub3JnL3gyNjQuaHRtbCAtIG9wdGlvbnM6IGNhYmFjPTEgcmVmPTMgZGVibG9jaz0xOjA6MCBhbmFseXNlPTB4MzoweDExMyBtZT1oZXggc3VibWU9NyBwc3k9MSBwc3lfcmQ9MS4wMDowLjAwIG1peGVkX3JlZj0xIG1lX3JhbmdlPTE2IGNocm9tYV9tZT0xIHRyZWxsaXM9MSA4eDhkY3Q9MSBjcW09MCBkZWFkem9uZT0yMSwxMSBmYXN0X3Bza2lwPTEgY2hyb21hX3FwX29mZnNldD0tMiB0aHJlYWRzPTMgbG9va2FoZWFkX3RocmVhZHM9MSBzbGljZWRfdGhyZWFkcz0wIG5yPTAgZGVjaW1hdGU9MSBpbnRlcmxhY2VkPTAgYmx1cmF5X2NvbXBhdD0wIGNvbnN0cmFpbmVkX2ludHJhPTAgYmZyYW1lcz0zIGJfcHlyYW1pZD0yIGJfYWRhcHQ9MSBiX2JpYXM9MCBkaXJlY3Q9MSB3ZWlnaHRiPTEgb3Blbl9nb3A9MCB3ZWlnaHRwPTIga2V5aW50PTI1MCBrZXlpbnRfbWluPTI1IHNjZW5lY3V0PTQwIGludHJhX3JlZnJlc2g9MCByY19sb29rYWhlYWQ9NDAgcmM9Y3JmIG1idHJlZT0xIGNyZj0yMy4wIHFjb21wPTAuNjAgcXBtaW49MCBxcG1heD02OSBxcHN0ZXA9NCBpcF9yYXRpbz0xLjQwIGFxPTE6MS4wMACAAAAGBmWIhAAv//72rvzLK3R+lS4dWXuzUfLoSXL9iDB9vHJW7RjrmHQO8LoK0RONmArsY5qZ6BQSGiW1yzje3FSLY7kBDr+WU47q+Nr3hnHGhIcWzaxhwHiVCtBMqO8dv2MX4hHg8A/+RTS76bKXerNQVP1eOjqinAVQbnIXZLCT7Dpm7T1CRsV5wPwAt0gvueQdgno0p8hbnAOx6ZnClYupNLe8vUWHerr2SlMUEXDD6TeLZ8O8PvK9AdfPPU8sRObNzyqNtc9nA0doEKQIxiaRLhys23GDs1SRd4uzZ2fpQyNvnPvAAAADAAADApmjebptRh9Ahwc4EwMf5IAACqBLuGEBlRQRWhzCOD2G8OUbpDi6A3gFyrzQ4IRYxOeOSmtaIId0HKko7pWBMWtdcqWtmZGHxpuL9gPvAQRpAFSD13q96w2s45K/K7sA2U9+dNQPIEzqHBStyn0dAsq9I2AKeaXsFmYakt+DntV8wbkT7Sxp6BDnooOATWy4qeeDzQqdCxmCf4GhD7RLE5/n+bBCwhcp8K4c/UMxAIaTgBZfZL171KF3QOGr52g2br9nMCuYNAoeOPO3LcMUwiyRAyP2HvZdVvmEzLDqa5QBnNc0UqFruwQo+HWSGx49lEVmesExTWoOyq5jYRiMBWUUIXNC1gjBTaPVYr0towhN76BM++Zg8cHHfJKEDG+ErMWaPKJhbE8iSGpbK9FdSIzyF7sRix5oDRXUvqB47T4a5T3db/8gSNU/hF7hNymIZPLeWx9kKJU3+lmtIuH5mdD4qBFyj0PlRfXqMjaax5I/DJ1H5jEklts6odAWXw8y4vn/qXi65hQtgo/wNHzVDpRAvKafmnhK8sW2UIeW2V0vVhJydaLK5zuQ7Sd/lXKtYGkG4G66jODF6BXsVKS19LTXGkecDRpEl8U4JvkAAAMC6lZ26yt+MYU7MUGqxvZDWRn7aT1w6dAvTSwZy54912PHORzUBRGsbp2dbUUxMbOF3+DhmcLBfTfwkjYEGbKtzVIifb/9UZX6+51+A6lamGaOkJWIVEzYv5Aun+oXxKHv5GQ7QHIgxJpgFphm/v4irFqEszPURQkYeQeEIa8YpmNKeJ8ntJYC1QHMxm4MhN+xZZpGT2rB1nIYGQO2CCbC/DOdt6z7inGWhetOIdCU9KizUWPLX9M2XT0OlWxw8H35EgQJGt73hEQLan5R2KhUhLFhqbaJElYertm37fnXgyY0RNAMixoYxm124YxN9wtSKxmUzvLWFUcguCDAyYiSDKKX208DaAA+/RiNoE5VFLxqxH/OfTPYpxy8i7UOpZ9+GuBGzOAW6HPdDNBgTMahmzLtVKNAu2BFx2p84sSZ/R4jhukdeiBej02+kiU0/GRttd0Ru4X7JnJ+r2oC56O4oukyBG44P8GFaCrEDDGFUi9xi4rDdJHDaxSnoRxjVLFrN2NmMWQw2tHEplUrDze6CjKetl+U+MRt1gT5Tz+mZAnlNV4Tnyy4Bire/vgvBaorpYWt+a011eh/ygOPtUcKAQjGqzvxDA08EiqZndIy2UyFUQjFzSpjoaccmcVKixyWvFJ2tZYcnM22isKSxJBBEzk6oE3hJQ4t5zASa0/ly4Re2XFrioIjARJPcjUcjNzELBhgQC1LoX89YY/+QV1C7BXOBWcM1DW+9YgbToA6SVtuwpYnbYrrlYM3jSaxr77dg+XwdwcN9w/LeSWUfrKYrQWiGcvOUjHd6c8sSzwsJDK1pntKdG5Oo/0fRh9exwAO9hI77n2yiq1VJ9/wf3jvWAAB5OjAfm0/oYxS2a/Qi+g/8U+USxCXnaRaliif+mzDNoeCBnH1ym2fxo/Eh2uihKX9EGL8F867G73RoDdh/30SAiWa+UZ5g12TTSaUJaf0Eezv5/AdECw+PwgP7o5Q2yCXJX9Zf60WXUUm6r5o+ECeQ2yE1bOvL5CIMGEJKimUhNwmo0eROoMABkXYYd19Q0PsiV137UGrkTXelCQxAj3z1cmsHvLZarjB9sVjQFguGXRVr21zrur/gYnrc4SrS0Nr84AAUIAAAAMBNQAAAPZBmiJsQv/+jNI3cDtYsu5EAH4kLj4VxxDQNXtOoLwkJzc6UD4nA8ei1zPFRTeXRAVuEynW55AVrYtyC2ZWklOwpdGgcIqYTswAAAMAA50GcVuWWDEzvu2qZauI9KHUDiMl9dzjseTbIpgYLN7KYoYqcKedXuwJSL2LqY1y8kLsCKb12IMZittWpxp3e+mENyyBfJHN2hbmUVTkrUUPG7KNm8srZ3QtR5EOzyT46xejLhhEoV+r0v9QonmMP6QBKWeekgE/CXYomb3cY56Z61Z0fyry4JXBfsWK8ldXBmZuUUXqCtKLNZuaMfpUE7jZWWMrtZoL9sAAAABMAZ5BeR//FOhQtxfXuwASMluC2fLfQ2wiBqQ8ICS11pNtY9GGXxxZkMwWDOPlyAE5QlpZgl+kn0/yUvfhyX+QqQZ4GkhzkG+14A8iTwAAANNBmkU8IZMphC///ozOoCTplNGbvLJMOAAIbwNR0h5s/g+ZUEzeI7VHqEN8sHRJRTJYzveBISoDiUwU3PBgOFdWtfLGq39Ex9rrT+Vq4OgkRJj5cAAAAwAIqYj3OwWrW79V/EEaQ0YeZ6rCsTozPFHISfaFrgfC82o6i/hdQzKUIX+MOmP3vu2qZZBLLF2HTWU+dzvTh/2FwwRNviuA6hGU679URKi0kT5JOxHPl0bsUApH5vAUVFt61vlhR0JTEO0TrAOvVpsREsijl/zh6N2G5oonAAAASEGeY2pTwj8PWqJzqAASO6mKZf5b5HqOA+KzzNZH3UTnu/P7biACn+7rGLhFoI3E4tqa4AFzwvSg4xd1Kj88iKEsqfo2g0gEXQAAAEoBnoRqR/8Tq73dl4dTsJwmeYDcrcGkRV3N8AFQAV1Zl851ByCSIJ6TD++8ROifuGgsgLM+AA3CfjQb2OxmKPrNZIDO0Ip0ts4EvQAAAMtBmolJqEFomUwIX//+jObxxgwHQA3Wh2CPVeCthovnnbGiMl/aL1de5Rq6Rx0LYfzgqXZhzSzWsNQL2tFQhmkEhI+d9EH+eZ9S1jeqO8PdArad+IbTlJZ4mVTF0tt0kUVWBE72NuJmAAADABMgo4F70OLmayLSsRMdgHrvae5uC6HO6fv/cN7eE//Y1RKmFFxoGHlBoc0Xd7+M973bVMwu0URvAesm/XaB8a//gMQJPT2YAZ4bxM4sNhcYiWuvIeNXfMw6H3btCEPdQQAAAHdBnqdFESwj/xDizbQgmZFwJ31G15N1A2M526QA3M+0hr0ExqaZJBEeRS5Bf/qVjOa2+Zinz/AIBe030MFkbb3Xwnk8Bx9rJfrqTaRfgVrzmrr2F7otW9TsWJYKD54XAAb1aZh5dX291i1lxLpwFP6qBWInXIkEHQAAADIBnsZ0R/8W71WjMEzdeNhWVAm+0EEoxd7Q1Tpl+TUAEyC9L86ZZOgsIKMabyIiiwCHgAAAADcBnshqR/8XHnfHInEKmPuw3ynKWBy7FifW/XSfmzp7JBwAzVLNAB2IUsAAOkBeJixvxyPheBQwAAAAtUGay0moQWyZTBRML//+jOfoAjxNYk19FbxCLFNGgd5rO8IUaUG74Dg8Y40Up6dzBqvi8jI4YJFHrlJY1sPVGp/AahgHYG/dbLN/haoZYEvhsKtGAAADAAFGhAGjm6eErgXCf42UYjzp4SHTlKGgtSabl4SBofulXIhLbAN/VwTaG8dUxCkJIh77talWsIcToXL0ZfGDumYt459LXD1kabiMMYY+/DziK05YF8auetBDg13JZzEAAABDAZ7qakf/Fr4Z80QTTotDVWKwyL7xTFbxvZMOU5BsHNhnayBqiNN/UjCNZdAB9H9TsAPYgvKpHgM6Frr4La25DF4z4AAAAKxBmu1J4QpSZTBSwv/+jOEoGAKUJCPMAlEHZDEZa92CGiQAtMfbAAnKUSvtvHCZqxqTQHDdDq6uTEQYS8i0wcW4CLe8cFpuAeOoAAADAAkdtEwnBsL42vaLhAenliYuMHdiBo/IwkkbDhy8zrbIEJR9jnwXSsNdT+xOu2sH/992tSqa7xZvBYAhmmEKzwcrCfGh1k2RqSeWC6UN6QW2Z8bSlhO+5gNUa8+vegOmAAAAOgGfDGpH/xb4WrM/mOaKY8eRDqbHHLmS+EBolgMV0ZB43isMzHwAySd4Zb8dv/AP0C3MVMRUVuUoDukAAADBQZsPSeEOiZTBRML//ozjRiug6QgA7mEovR8NKNXN4HW1tUc9XzBjQZdRe76N4irNa+xSRcSJ2u8Hmc9QVnd91hK+OTAyAAADAAAJ7sNsPzJRjuhGDwqqcO0mhD1/KuOUze+Rr03wo5BNKUFhBav0l98PcUfIi140UsxH+Ri4L9PGoLeHvoyGtvd921TLl6l9RwYyaXsRb/SVufYghz4QQhoMaPMvOhOvZmP/n8gBnrHAvzqSO6NqcTMm92b9OjAHHQAAADsBny5qR/8ZpKNLLWZzQHwboMe652oiR7jAFAlCQkqDgzyI6k2imUQgBCN0KBmVAjVQAANJ0WUaj4BxwQAAAThBmzJJ4Q8mUwIX//6NRPi8fogRU2AFvw7iGHZiqgLrQF3DeWPB8Up8Owch4ZzezjVHtPxZbM73+tPcW6qYcEb8DiqmBaDRzfO41SOGvaWIbO5UE3RAX4JRqRwzmbrgmdJex3e/ls/PTfWQ2fe4wItGQGVlg2NxSPPt0uR4B94/MkxyeGAuiTZSE0Dbrlns8NBQk7oDhGNoxRjkRZuEJAAAAwAAKo5LHI0uf7lXZ5Kl7pQC+LIftM90fzEcmfh9JMSjvBt+5mWKR97ZChGZlLa/H/iKRFvC/WMKNGZ9wM1he7bUql2DVKSSe4BH1fOV0V0CXpLuhjVqyC7XzRsb6yCVRAtOP94m97VOohVDytjh6eDVAoqXzCrgloNLibjqKXf9KTNig8axOiJyDMxLO53qoyeBo1BALiAAAABmQZ9QRRE8I/8WMkNTbkNWwAWo5uTQaTPlExPoI2M8vCF9R1sY++qPqk+DEfqYfn3jLnsw+CcR7OI/w9dEf6cz6kX9zlxL/kI0wX9m7YeNP9UGc5R/HowAD0wLFpsOYool5s+DUKkgAAAAVwGfcWpH/xyiaKl+H4tmSoARU8IWBRSS2JU+B4zJ9Pk983wsaLyTGjSJvH5YhVocH8kzDL3mADzszARkSjwqADfAPIbOCval2tPIhA9ChWZ2hD9m0YAdMQAAAN9Bm3RJqEFomUwU8L/+jTFA0vHWkpoR66xf4wAP6mPKdGD4mWSifZ2Af0Mo7+BbitL1YhJPtunB+QKHdHKjDKUGXWZvDaDQCYd415xtXa4Qav2htf+AAAADAAAaKXhexd0d4Klc1M0vTZ1OWVYb4mhDjj7+ZG5KCLZpML73BBhkuZ1XlInvu2qZabBjqtIurKlC5ldnX3Xkq2IfMA7CYSSkLUrCHN2z3y8Qc76U9vmn9PeFpKMzFnhJqH9Qs4azNBCLaUrD/DkjZTZzK4wCl6sJU0nmUxwzoHl7waujAIOAAAAATAGfk2pH/xwmTDqv8gWpRjjp4AZ8htPRXjoM6MQUpaLC7D1xu5+OQATpph2rZcwhBLhADq79JTWFPziZRZuPHR4MbVAAPUbTFAUDQ2AAAAEpQZuXSeEKUmUwIX/+jZt4OwAt49NZfsaZkvy/h+dg90njXjcIM0IdYtBwF1FewQUqcmeubooW5HkAQw4tBCHAyZIF7iSLxxtCVE+dBSin6beTJVmJEjvV3GjsFLEP2bhh0avGop07bU1l6J5OedAgfaucdpIarFiLwF+GTvkAxWc/c+/HkXGNY3aCWz1L3XBSMOXzpghovvppZNgAUaJXnu7c00hI/8AqVdZjM9TcvDB/RLi2GVmV1GIAei5DeQpytTjzyECcFZSzaHVIhsbb4kNrySSRfHN+Bgjh6Pr2Yjbxhe8LvAw5YzCxd4ruzA9n4oVJmRqYNDrxKIpxS0dWVhtigs1klIontOg6AgrL3m9KeyIRWHt1qKz5rgzmfFX1jYsavdWLHAVBAAAAh0GftUU0TCP/GSht6iw03v1PK6a7PmYAJ28OJBtd93B1/mQwLIGQ/CqjMDYRgckgu5376U6FozLG84DaJnV4YEtZfRbXC2qx9l2PmiKU1X9CraLYO8xGnTkP6Z2OnSKMqw31Kw/QrxP/jjT525PJPeuvXG3Ie1EzBkLjEwAnvKgFFr8OWDXXkAAAAIUBn9ZqR/8gbxlE7dAABbOWNKI++j8UGw+pnTrjh3K8I771pb7yc1hVbtou8XIE8kNAi7Yybj/3g64Jf60vmN1EGjl0019BaJFXCi78ZFg274tp4x+6itqjLrwMHmKBZb2v5kvPUE6ZBZuu0opQ1ZD1nfnTDQfN8v0x1cW+OAAWbNyMvcsdAAABUkGb2UmoQWiZTBTwv/6OV/3AAE6z9FR0TFApGdbznmIbQfWKup/OgAP7QyMzzs+wp2aoEElbMh/cPdlVzBT0xlbYRrhQpRBliFRUOMQlBOLL3b0GoeGeJPhqf38/zjOXjB5aqGRrCFnxs4/5ZKpLg3TQfkJnDZWRgsuzSjsDlWBizIgGMCgwHMFCXQrvrMChM7jq1A++B25EnFd/IjOaPbQRTGj83dvlSO4aHahPOgM2CCg3rlyZedEnpsoTK4sJqxstboM6RGScykXvbl8yBC/vWLWLxq1lAOv2SGOQTioiNtS5xoyWxbbkmKsuPkxkSMCmzwzmW/dNfWHcxYEOOot7nGr9/S0ZVlmxMhA4/v47xMeeXsCQuHUfsboS3Z1Ya56ymKa/nJLOypSAWRiPNIN39OTqngKBFsK9AfWHhHakcO1gnQ9PZ5NIji8zZuzoRuWPAAAAwgGf+GpH/ynNj30AFrL4MKYVVPEf4ksM7N4OCOVALzlfwifQ/bzv3gZRb5SaAlbL26xBUFRSfkEsoetVFJM3AeoE4oy3mcMxE8eZkYkM1z2UHluQUnq6CIpKJBT9ZLBDTLM1dGAx9TY5UaR2sszbPNk8MhpZ0HMSgQIYng46RjJUE3niXpwfOVVDQrN1qsZrBFeIClB6qL6TC1PbxX/1F8yfwtN+8e5jaPbhbNDQupQNHTko+deYD/skAohD5tSvWArYAAACE0Gb/UnhClJlMCF//o5dNd2/vyAMZieXNIASQGSu9tH7zH0Kv16wvkb8140786VQu42YUrvBlKLVWah0uwDEo5OydWo92BPXxHXkaP9dN7Iw8dxhFJRLymS8kpvTm0S5JTXKPHX2rNhvEMbpdR4vtQAhDbz50mqwGAqwdgMczyN2JJLvV/t6pXpE+dw8U53bchTAXpqigMaQL59pPwMq6RlJs1jk0na4/k+T8AOOw9yJV/dfOq0nwnAudP9IFN6HXh8VHWlGhKThASzU06ibxGi7UzUsWzLalfZ0y1jj90KsgxFTPFlEOlUbnUM+6G3ItaLbIWKZ62DcGGCUxdIPQPZOfRcI1VSRveCadmud1/IH2XriTnrY7ld/SjDcogJo3Q3TsD0X5QE817C2mUxVDyE1JKZJV6mp54LyrBGbv+socz/K+T95g2rcxg1u7gi7iD8lyXC0QLr2XeANgJKV894svpWSEWAWbx0V/BlX2G1Bj2p5d7unZKrlZGEcAArAflghum8FJt/7rMzMKUlvT2WyGpDedXjQ/uENsKwfpk2hiRgtoFhSsfna8S47nSBY7e8HAox4DcRyp831kr+GnpUeG1+hSyp8VopGhKO7o7I8aKmMrWthCAvB2gOyD/1IRmJnKkwBbvocnNi3bm8IUqrf5YQzBTD/y4cTNYxkVanb2oicPUU9brfWv0FeSLkPvDoP8QAAAXdBnhtFNEwj/ycdGQAQeUaLw777kkor4m/i9+G/5mkC7nYlyfZSipTue6fAohprwpYfWoe2Kr85xoTiiUtDQSOCuHAXE4B7qLTPg6Ple0F7lsVpo1ZhM0O7LW/mF23+q+KkrMS6gsVdqcsabg3pnwp0PJ0Kt2mz2rKYfls58Y2aANRyDZqYz+RjnAatyQ8SdS7m/0ViSV1Fts1iVHZR2fC5NxAGEUn14za6paaN+TD0YUOV2K0oK0mPYUDLHDwadCf4djBPzCDxLZ6mi9DPafRKdkRi/pQys5Grkz2G2l7wF2LOt1Glyr3PkM7DyTvVwrak4d1vTmcUOfhkNv1Bw30yr7XEsoqezjNP9i7cV8SQBxxP8oiwArBrEKiYoIvdyN34YEDeX2G8m0obG6HPS217vKwZOs8K6CqzpFRah7FbUV6NCl/7OBT1AneYH0VM2KY4JS1u4YA/NqopdSPtRvWqiyT3WZC1n3wohEBolcYpJOTEPKuN2VAAAADdAZ46dEf/MHAMiE/tElmw8N8fUbgBVV4WKPJlDjGMOwCAaQ1Q5vsxPqkyLC51y4Hg2c+i8k0B85PECU0DzLT8yawjqVJ4EL3Wcxe3yeeuH9UHYlJ09wuRJTbbS4g4vVlYUOUYQeCzl0o4Cvo+xMU4G5vmAp7elMe/O7oOIt415ZKN6C864VaCTuqcXNNMJEfye9Or1F01ZfNGwGPoKu3Os+x4GB3hcnP/rFwVR0GWVjlfEHdRrF79dcU9S0cUUlMZCpwWPHDTvNS55CIRBCOWZ+0mwC9RYO6xoKvsg4EAAAEgAZ48akf/MIMuiM7ZwXCVMwm6K/ubpeAIQICidQRh+onwaCsi77Rcrujdf2Tml0o0MuoBI+vZziaYocd+rid5bHOLYuSMdDJztUO7KTPdWknRPhPJY8NAh0fWMP7iBg54+Hz0beNg67h09d+RYqcXSsgw3ajmjru57PW7Nz1qM6m0j53r9BoXFGDeb1lTOkE2rS2yZcPTgLLZxdMO3E5TtfrVloU+P8NDmp+02+nJaRXm2C4+ApLreoML3q09n1sv4P4oZ5VjXWmtUAce0SfuGldtPIPshuYYCt1kIDFkImaRbl+lqjBydKIwAp2Z0A0OVhdyUG0nRq8c119bOuU+QWXPG1/STwSyYXDtc9qgMJ51lVaB43TImYPuOkMk7CThAAABtkGaIEmoQWiZTAhf//6MsA6u95aGxYc39OcAIsc0XzvAJ9OWpFmFvpDI/HrjoW9aEK9rHIJbdHppOyqdhJDVIEVvEXifMno+RpCXPyEC75oG3VmCVjG5RVWsQ+biZZd1sAl3EgW0HudWjotlLsTw+E7uHJ+73JT9/KPGxzNYpmOdn8Q/6euLDo9FgDWC6iCIz5uD9gAy+BzXCnAWTQfbKeVuD0ZKMRUowvnZ4Oi+xKVCCh5CF042VSByUuRWY5Uw0y6rc8f4btXYGtRrLHtkvQFMHFzXjK6djg9fexNjknfs2ge6+gh0dcNffutKLdQ1bWdWOR+kSzi0MhfII38oqG8yFD4Rk67cd1jRbADhq8XlIls4UqJnu0EKaZm8dyEssnLJS1JJGgZyeKg2ELSnRffNoioVYUwAMPrv0Ou2Z7UuKIOK0+MCAvk0v3OAAsHyQ2n15qEVySCCf3qPyo2tgeoZia7bBjNfdCzgqK7FWRO5FUdG570V2vAb56VdaVcOofq/IkSfy0ZsLhlCwbZ//8SY9joXAQa+6IHcOq1EZ65IQ17QzhBB8XvNVRmOwgAzFO5hZBSOqAAAAVtBnl5FESwj/xZIDSxwrd5qAYVL1SSmktgCt9xorgDFAwOf6284zLfjXl5FpUF+53fMyeoNr+CJ0Ea/m6NEirx6JPQDOt+Vq8D4CVckW+a7J/AB/GhKixfEmwqSO0dAfdjKcQknvQ7fZSRD3T0auU48Aw+WO738ECycyZvealOPLstbOslr2D/38h/PZm03VZphrFehlfNE+NrDs6unBmBiZYViTsGVHZX1qIjiQbRm97rYbu/XBbXjMk6FAFFbpcBc1D39LVQ0dVq1w5XoJNW30WIeA36dy/Ij4FgG7vWaDkaLLXk2ehI5Pzoq2OLMLLsqELy14OPwa23jSv0YYe23DPs1YW+9IjMqadAEQosLmhVqBaBqV8tpgebO+jUPJHsk5X8JkZpRKjVGY+orX/Kt8KnEILOeLyoMNGkAnIJbKyys+C6wg3DoinEH7ymoq8vds/IiIHnoEZ//+AAAATgBnn9qR/8copQyScvI/iABHFf0rYz4+wzyajg+K1q64grrWK+R8ON8L9y5ZGqQlk/KO6BTW5TmdPqtUvtsYo+I8pi89kx1HoQtjxEOOEqUxli1/Ll+JrIwzHl+qNxv+vcnZYsNaAspMbj5XHTaBlU76v79CqjnGDszn+Th+o/z+XBLlHqewHBHFadJmEsKGkr13RYu3sIHCogSF/VHjKVWctl3IiOzWn+LIIzoFLGTYrzbQZ0BsBJLe0aiDcrS1MYkOIZtS3PHKUA4NUAfPba2QgmbFeu7tcewmMMVJMMgpm7rrQ5tX56I0zdArFashHNoXOjsCYNAlonumCtRbK3ta+XZinYj9HmkAwAJCKzybEe1zBbXV1fjQCXZLCTk3Y8I5LOTd2xf49ExbexGDZQYL8ffzQ4QdMEAAAH/QZpjSahBbJlMCGf//p4QC7dGrH6HcmG94ATV0OszwnhPL78cAN09Y3Qq21noNjDNJjv8Ou044NUPWIA8S7pCGfqMCWrZesrwZBbtlyYWyw1AnpizsrDKpYLMo24gOlLIjvwNB/swF0pj1C3wGCKTn+EpWiSzvxhd+spTPGy+kuHtju7kXQ1EplP//8i4K6itIvxD/3boM+25ThDXzHIXd0/U15ef9H3hM+UrjJ+rLS3BvJEm1uxtf/9BCnL8qGdsyafwLYtKVobZhooliWBz5R08hlcXIhU/klSukpSQrhSeEs3Eay/smZe1vIEx1Q972pk0A0oFHU01amBr1YA/SAwiCl/ASymQ4+6TNxkHF78W5BaWhUUhv89m4mV1k5Cvr7Rf7RpJF4A2OQhcO6cbgeet4dFhI+c2GOX7L+3onexU6zPIAhUiz9yNJOvFoIynU5hgXPRdTCqJMr+Bd0II3dfsnNeNTx9sKXubj9zRGz0az+6CGlSEXinPgMvkR3Se0PQN1C2VQyTJ2p2oP/e5nyES2mj7n6LD76AiiCpefCF1FVjuu4OFE0XcAqSmrvyYvzTWRcGi/6Q8RUc02FS9U7xIR+0NOSyl6GJVDYJtcN0av/eR/KAaHYS/NgZfl+j7g5Ewm+L78C7eF+d4QKpQYN01z0QdheuXXl/0WcUFBAAAAWZBnoFFFSwj/xZIDSI+O7z4hczXzrjKAQOsI31z3PK6orRg9l5mAqB5b9JB47oX125oVQJLGkOpRKc1C5drKO4dgDb43m3PBMIIQvhiuBH4b1Etw6g4Mj5ufcsGRTDH2/oC01vSrOahUQa+bZH4BYnsoWKUG1emG32m2znJx5UggG0Svjb3hUkwNSsjq501azbfA/R1uvxMzBcshngZaBnijNAZlDbV38MdJyN6hFe7l3GM4P06wAt2tXBVEYR8NfmYMfE8Fu+/W9GQSRzD8avY/x5S/ajJB3eSahWJMH9UqTqnltoNCO2PH+NicMDAEoaLameWWViZRsYTRTsHONIoRnQ7w7zEHJ9wf75inQm1AMF3KXticd1bL5dt/CnwOH30LWfZ12HgSEYZfAOrWUe+OpfANG/F0jY5OQcU9G2jSU/5Lewc8wLqYpAMaNSHgUjDY6ftBKiYyucg4DjmCVfyzq8xmcNpAAABOQGeompH/xyilDfThBu+iAK1SQi2t0lwzv3IV8jUlnfSOQu9hHqIzOrZ/KlVyKcYEEE46bkiyiGQI+gkItsTeLB/nUiMaIBrLZmz27RQ6ios0l6U+jE/01ndI24kyx+zSjNqAH7i+9Ry/GAp61iucfoAlm/HSveFgHjy26kIOXXLJRW0SjNYokTJiogTFXnRttk1tpWhaC7tMAQf4Sf2LvVduDu4L34qwQAFg3RNut/Opt1+TvWjsG7N5i6nMoj7tpiaYhHtzL2nteJzaw2OSWpyTmx+0B+FbGKMkCxRNUVM/TkCG++m/UHb+Kx0c7gi88Fp00MBHk5nLE+uO6DK/6XI6s8ia38b8T1X52ilt4NWUIVagg27hPK3zoUHWidRMGI7c1Q3yb9GbuN0OijPIVqRJvbWiaJ1BHwAAAIzQZqnSahBbJlMCGf//p4QB2+x4Mx/+HXAB+3yhi+0CybdM4h3NZpn6feI2lXt7bLDmPfxZOrbNShudSUyYg28NeTkreQTa+ZyT4/CD5Ce0Yk/4UnRBfivY48tjF7Us5qpf0bOuXrXj1s2dSNsXdf/H3JSJ8znjlo8k1HD9+bkThlyof+7znQZQqJB5adUqhcF2gWH/eWVQJiHz1Cxu3dePWA3IESAC3/KK9RKMxo02yXaawKf7PVYcVmzN/nRZYVISExzV0F7f/fSNDOvtaN7D5UkrLu1zTPt8CQMPdTfX246jVCCUx7Hl4UvTSTyNaUnCWMrOYENQXhBEg3ICGWiuKuD70doxnxFdjPFcxRAHABW11SCNziI3KywlZD70cScxxVNi7uFUg6ZT8csERryn+AGCeF+w7Qwoa2QJJCYfK6orrH35LeFbTg5dMmw3kcVcPK1jX8D/gynEaEQfwUbeaPojOVMsfGgZt5YtJVLN3jiX4FV2cpowEbtyyQFrh8fjI8Z0KpnQC9+H2HFZqcJUmgJ7bNM1ZdaM/9mJmyr2MptDuo2aPqznTymtk8JanYFp0kjxXNvRbZTz9ktsvsW69SU00csuxPRXPW4ncNPNy/1SaM4ZBNk5TsvKZ5QZpMBEdxtWAnqR4mz8lku5ji6buOi8WLHc8LvVxzteIh9gDmM14wnFUjF3W2JU4kb1htCTzsEjt3E2VTin/Hme+DdVB/b8dvzo9yF+sR4uEFGidsGigkAAAGzQZ7FRRUsI/8WSA0FC+d9gAOkargvA6tmfQlUELhUDb0YBktUV0UGgltQlWzAXqh7smev0hXaAgxS95NBNnQ+LFP0YO21hEBTJglvc36Pw+Yem5Na1h0QZQUGfmTQERTnd6SePZ54UBGB8cCHSF9kZ6VsaficWfEYNxairwxR2fL6Su6/Wt7Ztfqur3L99L7h9U3dXZomWMKz1ASdPjbrWfl+CNry6zQqfJgd8VKSD00WB6XSmNRhaEqBTaSAuP1/d7KbR6skXQVbMYYmzbXuHZk/tQocR/O2JDdcEEfgZiLIsgUgO3wZ+xiu6Mh97xNb7qo5j4tCZzeDr7aUW5u3P8MsJOh04JGxnRPrU6yt/zs7qzMZuICIyr6BsjKIDYUQpuNjmsZOjMTXD4X0JsbkqO2lq2tY4uYs4uaqGa7wso2IQPvZO06asehhFrtsf96RMKukcR1FID6LEODNS/blutKW+J5IY1GvN/VIeBdto+Q2NyHaxphcjlTBeLe/FLCYyZ+O6uLfAimIXpsAAtRBwdUhwPBjFg0mWd2s3tR5U97gttLNboijQNVn3zCG6lki9kbdAAABYgGe5HRH/xxalVi5GuTAuykqxdj4tnbMAQgNE0TX8RlN1U4OdDBcpaTwkFaHE8PK+dNx74y24jo/nyI8rnNTYKcBXzf2wmo+96mFgYqpRDBPXtAaNMJ3TavllJAlyE3GCRduBl2VRucsSJL0pGzvlwJV53F3+kTfYoxcV2pKsuMdt3hg1Soms2gNBzGhBv7B9Yp3C/nbS/XwkJHIKrdZ6f4QBT/HAUmJb6LO/r4RjRqr9Yht9gs951n/4aHcIeBDUXqH0KB5w3bRfy4bO5F04DhmnEFNPB0CSduGZc3LSl5nMB0HGsLIjLvG7RQv5Iu0MnuUAEegfz1SGmaQLFW9rwP4+wGsZl50t2hEvZVj7kDrCVCfxXjK8pmyBfW8s/kz8O0oZLh/Ijw3gJd6VByte2p6RTQts1ihyHStTVH7T98zDKK4etiGvAKWPa5Z8ihDbxwbtCX3bcFIqQrKUzBcDFgHzQAAAYIBnuZqR/8copQrt5D5PJnifl0z5pIApJeCettSxNkLseEkLm4NREu3SCdYsdauHHzGjEpgitbiEAh8VwP+eV7t6YT7fFAhfuSYTLBM/x8ZuQmb3ERYvcemqymyzqXGFtcBmpE8TK85EY3hH9FDmT/C9lAgcA3Y5y8xhKHA2Y4hYl+mu7HzhQXKln/esu6qK91WAzAqTaabhwUxvOm/P6co6BaP8eZm5noeMGqV2DwK5yb3PHoksbB2kMYdxMWkzMlTNRpb94Mx9n1hIRnkufnlERkIYmtRf736ITfloL7jzTcyJXxOgLbOW8o4T8bpKUkM0R4bX8TNGwCFU4cyZgBmLwkYe48Lfg8YgOUUQ4r36xfuEEQUooRAsQ89cq9KzWAOpe7fsXGfEXqDXuBza9EaV/RFvq2jTMv52IfcXXMDipL4AUND9OWQ99A9MNOuWNFK4LyBaBjGOtIQiBfZZwoUk7mMGuq94Hn/2qYHsGdS6kS5/egKtur+zl4E6fdTP7S7gQAAAeNBmutJqEFsmUwIZ//+nhADS+x5u6KIhp68b1Gp4AB1bqKcPGdKXiwtBYJeF1eoMIM2VY9ET1PThfTgAgsF7pNshQl6fJsMK5yuOxl5Dt9/oDcRla2+M6uShJdrNfRv1IpojOyG51ZzJN2mHgq1mj1bCoPt7JsxojPIkK6Y6ufFaW1LAt9rupJF0mdZV2cnARH/wp/Yx7RkDQgtu5ZcsZl6NvZ7bCWtgdjJhkVpU/BPotU1MY0WRo0GsD/KMdK7F3Bg/SgH9I+2Nxi6DNuiKqCBzndVbx7hsxDKfB8H1iZ6PvkbRZN4+pJtuite7vXwThVtg8KLXaW/I6JX+zbddpf0Rd42wC3vi4+9CabCo42vkxaSQq2IRhjYpcv/5ejcFp5Yg6qo1EHbCjdxLfXvyeNj/svF8rqXKpNwjgvgHJSqp+Y7fkeQvJRHMAJCWzzskXCELPNoTAijvkkYXvullAsh5rE6lD7W5pN92xAMvN+5EojMV5SlQrte8QGuhU7khyqya6IN1VLxaUQtzLEiMIJkGig+jfWnQHQXSGO2hag8qo29LHMmg7mWdlRh4brmGG8hivjzf9pYoYJPsLFFdb8CZpumHaByagSwPAhGPICvekvQVBQy88r3elHVvrVnWgsgBlQAAAFgQZ8JRRUsI/8WSA0FB4toAsB1o7PoRklNcGNuP32uyzMHRcfO9db2HQwPyzdvBZZULqBflVz5Sgb3HiBlIKggS0LSpQtTtJHwLmqiNpCoMPOKzRI+P+zaL3swTSRL+cj/ClRBT5XxBR7GCKYpdi1Jedv35aL3NtZzQYm1vTMlO8ejP4PyP6/VWykcm8MVG6Y+N7OAjWW84Js6CwWfgYGqyGkIC7eFC7kuWcs2exeo8Q8mq0FANc3/frR+iR2l1XlsG4F0+cRV5/tqfHyW+PjmX9G6dMfZy8PuSucnS5IaXbtgBAetF/WKnvqO7bW7bsjMtOHAQ33GFyWWX+PRXVwOLGc/VAXFpvDMx8CJHwjegEuCu5xTKLU36Sjgr1Hc2EHhpLTuE2+9GEXiBsFtvwpFbbanmNOjVzRDs/oIeTwrj8x+sKPdU8guvnd0omXng4TpCDQx5ewca4n47t/Y1kWaWwAAAUEBnyh0R/8cWpQiv2IxR2HOgIi1ACNq9fXVqsOYAFp2JlNMKhOiqYaRe4okOPk84pMOH4MVkieg1ljE/rhjT52lV0q1fwq7N2Whf7tpXu4A+P0/bfWJmYbvXrZZo2oEH4tRe46AjYQLXzi7vFkV694hWs8+DZ2EPraej4TTdu7XiBm5dh2BngwQ/6b8JoaCuClkRAaaYAkTQ2mZw1KGhcVtU6vZq5zKKKx8576VAK/f6XITtml0e42NVbU7HU3uvlBI0o89f+galRJ693z644c7ByI7w7Uv0gAkwra/aDosOaHFl0ElL9ZurG2RIu8TYw/YvdmzqXGS8za4rE3r/MmhhS06xUwJUpNahIJG31ZcdhMkYudbuax8R2Uh2Mq8xG4dAxFHjBGX1hx709rpdk5SnaLoJ1QFbcfheymnJ3gAg4EAAAEwAZ8qakf/HKKTkUVBZJ/SCpeu3jzzwBUO8sZ4YHDTTgM+WZ0E7ZvjV4a29dc65kJemASc2WHmkZlx5dagsiOiAWgOKYd8whoJoTuJFSInpq2qZvE+ERlx6dU8vSkeHamYkg2jrH3wlOgu+LCEMTUFO2QPL83YWVIy9CTVKkqU398UlGqFfqow9mRcHSC2M2n2vo+oFmhdveONZ5L8S1nsTml2iZpjb/zDgXcHPag4g+lBM9wLFjOred8+JxFQZgP5i2EJyvtgJVacB32sPUSdR5IyOH4d79JKT4G1QQeD9XnQSI9AjtGCbx7AAdzSxmnVcv3Sz0wKh5FS0gr3s2jxVg2onB2nzvqLfUMK8PG+RW29YQT3yqXJfXdCxvnuPogJ+jzfV7LKJrhtcPqFfADBgAAAAkRBmy9JqEFsmUwIZ//+nhADRuvQAEZH1HzIzegO4TyhAYjXwA3mdQ97TG9o6W96D7LHuHtjdGIxEMJdGAJ4ZZe854uggJ6eiNW+mwiWhYCy8LZV6Poq8Bi3rlp7NNIK3xjTyQJoPjuKrCAFeaH0e+xZ0GCfw5tJhemOJW+OciYNYUFy5PQJyIvxx2xUe0ehGnv70+gHRS5wza7vpJzUjWUWGOlI57s1feGuXKDcD+oCCGBT2ALVvWpUDIpYpQbVko8puIId4R8bQ7pb00bX33nLC4dwEPJBZ74/mXT8s8aoRxkxsaw51cof+4p2M12xSY4uObAMahl6Lk9y4wX986hGQQaQG5n0H6JpJbtGW6/1XqJhVlJMSbDrORP65wf+dYWvL7o4ddibOzC/hEH5YIQzxKVDWok4TWuv9y+pE4AF1cmfwNrMmRypI6o9g61XHiK5MAO6k8TUgLpV9wtcpVRpAUaDydoz9b6rbHwxVdva5sStmmStT9Uq63FieHUlJT9MF0pqWkEqyHemeB9TfEeFZkUKyg8udkroac0MFeLVPyk+FX7EZzERM6zua+wWaL8mgo002vLzggGzWeWAmDAbgUkp+apB18+EHQ5y408duwGSV1Ot8ZU9ZBwPHAgS8d/DMpF0h/v631LsjSLS61AlAoMlOM9+ZPhpTDcAzElZNbvfGghnFO3rj3ugi426T7h4iokL+r3IuLEmYHVK+hS5ecpMpPU/xNM7WJ926jQestLcg9VkIn9v0ulQaDYWoo4zoHHAAAABgkGfTUUVLCP/FkgNBQvH1BCOlGUjHV7hDkP/FuABwaUqjZVsQlfScQLRGSS/mUlTFfaezup9Bpy8AW7crNy8eFXEtNCohc8cICVYgvTtFi4JLxGJ5e4PJtMmECBN28wSJA0ZerYcK/PTt1y5AZfTALLE9dt4T3F+VJoH9Vug0cpzLiHXkUIrr3eAg4LyoRBcC4e5XvM2z20kpXfBRwnUDklhdWuUUEX6L+MD7L5h4LkjcpKH52UGtq+px1F+XrEBWcHFx7VE+Ujsjdtt3y4+Ugoixy8Tktffq7IVdf6w1rvhuJGucYYYkQxaMYSqjkjT4YU0gyE6VvJe6JtkD9cFTunupllm1f2QFLzq5/pEaKOygVXKTh+6cZSAKZKDxIyHHZxAAPsJGzc2qbtoNcraex7Cv9aUnV2hLGx3sLlIDmJ2sTE5nzWtlwywXC4dexq9zauXb9oQKkEbuRki0ndTrwkINKEJdNwRaSGJ3Mrqn7iTK4SKj+pAkAbX6TMhp4QSY7uBAAABUQGfbHRH/xxalB31cuJWHXYU3UBLRNEFZkQAOLC8mLEmcU+iVHyBCV7MgpXBAjb6zQ0EVyN0WbDo2r86VHjHbjFP92vJv4SLVr69+NZDMbfnBRb0JGa7BH76mDZPoST0rDsqquKv8f5+Z99lGDJcL9TANsU/NFvJWlrNnikRip1lOBDyQhPoHz8LBg+Dzr4IVnhhVEogDfz5JuuRUB+3jBJ4Kr4JMiOIX+v5323wmMxdk3wv7oNEXvebIt6ACfSn0ROdtATnvsybT/tZsCfWNHU5zgq3Q6XAD/NEqZGOFTFVWQG0l9wRVY7cIr5rndzmDhSvINL9cKc74TTNrFKlEF8xmo5TiiUuije6krUmtHjgaxEKnBNT+3B7+EjPTggf/MciTaULBO9TJDLq7goV+RZEgERV/bF/FEttazSrpEqO/YLq8eUCv05hgyFKEL0ALuEAAAGiAZ9uakf/HKKTkW/E2zQF5cZACEdAWztt3TQdR0UJH6FX3YT6JaCQBgp2Uh2JJ0ns1d2djKyaPEZ3yM0Lu3PW4QgqWTwISCBnpguxUHK6eHBBfP5rMGrCyoD5f9mEz678P1QMxMZ30bJ3n197ZsoHRZ3gzPJQu6ElHEeGr2es0LK3PdJmtMvOhANp0sWsio/oaGnEvJCvEsRXDFgSG9RFH5End+fZeLpKo9uDC70E3+UupQJkd7aaRpOpraPomKBQgOTx2M4AJrjyGK19NbfMINxyP5/Ym3uLS+3YSck31Fek1puJPOiWDzDm3HHzON2MlSJpfMwDBnpvxCq6WKQbrKtUWbdDVjCTzKo+/tjREyHB4M9xFX8OmUixODdCzr3XSl1MvzsLhFWnl16jLKNYeSkmyk8M5vKK4znJRqpOegRhk8Ncq3jOkojOVrFBx7HAgviiD2yH6SZacrHzqyLu9fEhl7GUq3R+JiKi/8DScSfxd+03K2Dy0S+X1YvYNoel8pBZcP647MD2UG5bvcNUC8ktkAHVrjyFZJ7DODdGraQEbQAAAi5Bm3NJqEFsmUwIZ//+nhADWuvQAHSPVbmf2QYXL68yAKDrT49EyRHfNjgJeQ04H2yP81GDv0Q3FHORw0LvyuTKZ3xMZcyQqn2Xb2brmTk1AsZE04FRLsVBB5Jph/wMJP3gzzhFZXAcsRqeRHC9iDhjJ8IUV1tKYt7ezatUOTuDOQKxADfraFVSblsDtPp3fwIbpLs+7axv6Rg9RfKO3fGud/gukBTuIDWSWRvJYDNLEJVWq7J1XbfI9hK4n1s4Xjr0xiX9PsZ32Hk9QMWwWkmM8T2UIsPfD2sR1Fx8xdEMNYnXTtrc+qJrZcDGxKaD97PnwRiV1wCbnUALpd6BTehyRGw7/vqnd2ITMEXJAtKPdEvvvIBxW3uIk4p+Q57usK8E9ecA5wKffPW8HLf37/6DtD6CkzQjH/koUWBv75cm+OIT8UHag5yhHfvgSRsClenSo5X2Pw3T/L/uH/KdSQ/IwmpcJ74hxlSIsuB9BF7N7boMHAAco1MZHvmcRDBJz1oxxD7km/oKstPlQ7hweBYF5+p3WBHFh3PDxs1AbeuuUKSHfbdOe+q1/L0qE50kSxeCwzbaTSS18jRMVQECxKTQ0wJhkgfEaJkWx/JhGkS5pUcsAgAbH9XEiGHbBdnfybakcgPf3BuFj96cOUOsgwqf6GFzOoMfPdmgDVX7+YIi6LSCZLgqUXcQ+AOtyg1IsVw8nOZP39EdPg+dz7kpNUPheJF027tcLqkgNITwPyAAAAFIQZ+RRRUsI/8WSA0FY+YVe+uzRoqg/5CfHJkcVkluCNbgCnI81OWY+U+/uDc0Pd0TsHMN+HEaXe7/fqaWEjTn0R3YYMxWaZsiTVPLvZ/nZ8/uUlb7uF1X8WvCdR07WtB/Bo4dsgW0wwpY/L5JLrgoabvuJTE9idvJVYJcZapfVWWm9EmxyGnvdB2IztlVj03ZkRw4nMpGRRZOihzLjYbvOFhUevpsUBkh1vzAJE9vrSdAA3N7+VMSiLIUM/jwl150vQOgmEtLMWWbfXikrEPOAglYCMgoSv8Ye6m5ZmE8jkyN0by2xSahEfLlN2AuPT3cRJXrh8eik2SkQvaixbHueMjmymIJSOKbHfRklyAtZJJ+jsOTVQHMfqcdvqxqEOCe+Q1K1Kcey6lr1cDH+u8f2IgeiJrtI91ceLf4DSgeArK1Gzi9z0nMvAAAAXEBn7B0R/8cWpQidXKlzuCWVnux8rllZQ9a1gBF5IkUGSh4qWSpALZDB4RkdtqfcL8o6Qffwz5N6MzCzLtLXtgsmndI2yaeOFr7Ihk+9Qx3fJtygvZ3v08OJI3xDKuY74jRDCTRB7j2hBliZTmUecj9to2PWkUbPfwrNBAMaLuOy0LN32UnGQ86+8sXgBgqwiRhI66j5VscVIX1RA6mgDdEVLaIFS2di3vsbHiGYpqCWN95gl+leCPAhbhbxhHXX6L2oEmjAXTx/+VyBPGYAPt9MGrzGqFzep+/gxk78DOSjDwWan0FlsgySwI4ha/EfmgpcIKOJZc/gtEYxbKCP3EQtT5FYlPubOawhd/uPO5AncdNwHr6b5HaDGfNF2Xhy9x+AZOBiD4XjSg4fZBDVqD4FXtJuo8mV0hzJdhssAcy+p861JqUsyPybQa2YJr0SHFXFsKUfYVKG1j1twAPycHiH/xB9o1/xOLrnzmUy3oAWUEAAAFKAZ+yakf/HKKTk+J9dP8zJwpMAt1gBWnoQc4joabG24SebzKAIu/CA0LSaB1OaCtxYydQXVllB9QFvrbMvszu/H52wCa53SCrHmfLGuoQfNJwc52jm5OJfalRMWEkCK5Zr8FjgG/NpUr1yZLlIqKUU/9iyMAuC+llAAwsuiqfoIibYpem9IGHQCuBB9/Ec6+SKtaicKvFlKtg0s/FHW81osO+I5xmH7O/diZnj/7aIR3CLjm/O2XXmCBpGUncdTkBUqbVQJHsef5413+4Dr6SetU4FM4fXwdQmJvs4OQ5Mvu8iI9qZ53aL8eoq/rnAn09zzEXpTTto40qGid66U0GO19ZAL3ZSZa8yT62UJV6wnoY8lTdtDS4rNNBPBywsSreYpBKYUrGv0keLtwPcMLUn4DEKCuQ4uTbfJGb/+ljOahYjHoUVIBlgBqQAAABzEGbt0moQWyZTAhn//6eEANbUOcgBbhpFCtoBBofTBAFFh8b7X72jRwm9GgAPluPMT+iiUo09A9QHoMazeBBBinoGcwuaniAZlHgq8kzQyzAPXuOB6Zmf4ETk3Au+x89kwl9dGRFbx58D9iyyMrbUmjiSOFIMCdBNhk1pDiT8q3K9hBPIwdWV6O96hzICfb+PDHuHq9bhaoRbXtgqnp6DOGqxw2GpH+xf4YtVsijBzIaNguOv7MK7M+DWp5ycFas8NT/Mu0qRZHxG+GWEKaatIomTx4am0lOAwhi3b6sE4f07jwFkGnAnOB99b/piIYQGPyjfcXRqQj6eN4rXVTOnIS5fXm8bLNc0NiBNbbVJDTkrTP/B5FM7T91SvO5FRZj5zvEE0G815o2A9A/3Q+FIBB9ocV4ODElOZ4Bdv4s7+x1HWFwwrf+iT1s/0GcinFs++1uz4M0FekXhrnGtLYW4qVqDm1HdTKWFS/rUoACW8EINWPmuZ4643AWeGpdqH+9IHIiMohtLwbdGit3D8kNAP2X1+AT6EyZr27rnLHXwfK9eBOlaM1x48Z/bOUsjwBxOlu0SmpEKUYxrP+pPx1+Xi3H/5kr9sfCQxy8gwIAAAFuQZ/VRRUsI/8WSA0F3ap4DKUPswyLxUiAaQL0zlnZ0AI93dbT5FmP1kSMgVBznX+P/t6w7YOaKY7GEB9Tm9oDO9yswEiD1peMAh/NHLPLktv7P/9rup1XUZ2LgFbm0E4mFsa/er35RpC0QgsaBzv/4awInGRKDjcvCvWWpaIaVk0bbkSak97iB2Epq1gNgS5Cx8soOeMe2oGaB1dp7mm7yE7wZni9P+pnYRRHrJzyQp2VJdZRn2sKz32tICL8AAgYOVvoMqQPUzNaylRpZbRiHG8a4tCERP8dh1J+ByjgKr33+ZHcxqxxL4nwgYVCe6A7uZQrT3YyJH3GQP8UtRe2NMoTjKrnOlEw2Ncy6QaDZMHx0wiwUqGNuSSJL8XgHpVLRsF23HbYbChKQ00qSJu3buc7makbCXYT1L+dfv0MaqU8mG03FCeUeACSQVJArdhoi8ep0BwrtS/Ei4y3lBbPGLhEhABOvg4XcGpdvmyhAAABdwGf9HRH/xxalCVrEw21Af5efudGRqj5Tbc49725/Wk1schhxK+5ZsmzSL5hH0JnsE3v657AOsDuRshZgoe+4DLy76z2+qdkV7P2eKU0/hd6gKn+f05MRQHcmVDCKUsgMRzGQSo2WrfhDcenRe9amgtoAfbn8u4cVCF/vk496OZZMDP1mRS31p5CYtd80PBsRmvEkC+s2uNb2DLISt3q0z1h6uHQ/8Ub7r9Aq9ffGUsGeVONOIa60JZLIqccVEoMv+/8HwQbWotWycDGpi2ikkFpXVfSU/OBfzRMzNimu7wooB3CCFk4mrjYjHFlJ1IZ9OthA1B4P5dqWbk9pVTFm6pKyW7thQv2xx63mjvw0F1FnEHGCLRWH9IxFejAPNj9Eb/AKpPgNWVEyQQHMPhb9BrN9HmXYiUmocB1bmQL5nuj33aUyk1dwOK/iij1+toghCpMpPO6U7aUmPMp/6JEll/5h1AKTMbrJfRlq3ulll/xo5RG3ABbQAAAAX4Bn/ZqR/8copOWX0fo6GDIf74RV2CgA4ncRZzo0WgTDeucVmuyg2Ddt7vd9aQItqRsDolkMHU7bkbUa8fKzQmZvqS1d91EaLGmIA/oYVRxcZO8WjVKF05y+vLiUsJ2SZ+Usxor6g+tIkMzLcfQDIfPG36lg/7dGfwObesaF8ITYiJeSeJQtFOBHHZAllbalCP+jbIWuIEnyHsEdTg7ZALog1eISMiPjfhbZ564kO1INE9RQaMuDPnII0wgRfJVPyOcbB+acbd3JpKoSP81LGb+pkeDKLaV3KCGDmEsSnoa5pvwCuw7/oa/dcrRE4CvaZExmkZnLWZyyIc/JqtWQOYXMc2gwK8EVnf/DL1eSrizieyjW37XfIfQwNeO51Nmw/ro9xCTDfdyNZ0Zpp00Dv0A+ktF3pj74OBIo0UpOSOjMaY0VUm5q2MMJUWE/WI5nfwbKHzAgvvNLrOgdfonwrUILjLTa80H/VdaJsIHmrH0fK68MFTsoIUWNHCQANmBAAABvUGb+0moQWyZTAhn//6eEANf7Hgnt/0XzhoAQ/JWEzgkApKproh0Esr14mozImb8Sw62tlaLxM6lpSyb3SL1ZuaLgCtSafrYG4U/WCvJZPAyc6vXxUJM2SD04XwLh/QaG5jn1/R9S6QxqTtkFigoxUf79/rIuM5X8TiI4dhvQeijW8OxP4ePYzR5KzVrSip6NUGq/6syDqxLFKvWeQ0JlCloD0iov2wD9HEaDJLiUQQwIpDjeDNXTPcoaWiQAmioa4I4mQpK/dJCyiaIUG2WHqo8M3IHOlYG4nZcagVL6EC76CuE92opijRWCU0hob48iPcaKdIKYFVbXkg9KFrVCIacxq1Uz0KpIu6zEWNYuB+aGze1FQzEUufSXDXYsrL0yB3uYnfSpAK8nxcR3D6aqEPfo+SS1zrewxKvF55JTy68ZPtS2IKYo2R4cClFbkGBMbl0Hcq3dX4xpH9cc2ohCYpE5PThcWB52P8BSp2f0Fo7oxc+IfRuNPo2EPpcKamg+Zf+eoxpW1eqDG218D1sBC0eKRkCXuoSipDon4yGfZ3Y33k6VRmtRi6t3Z57G25kBGEsIiZ3qOJhGEpGCRkAAAFcQZ4ZRRUsI/8WSA0F4xrWA4tVqkCnj8Drev9AEOUG7Ql5s38jAxnY7uplCLPLnrD8X/i30fwy2W03nKAd+SnwNubMnM/5ycNG+vaDjQzcToq2ZTEvxrXfvQo3YZGNq3LiMbOjWoR3Hbp/Q+JTGg5PBrvvn71RZyArYaW4w4IIFmfCRRle+Wu5O9hXU1r5gXAsft72KiFPNmahctxj27FwYLsXQJVxn1YAYycU3GM9JDVtgm61pVFfliDfEbqgcaPyUSviQd/V9DrND7TWLVvbjQgc3V1XeL5C2U1ncx1Ln4x/UMZeeD+q/f08s/OtDNZrcPx0D/6DxTWnviTKHzKK0YxuBal82IllMQhqagim/e0aKg2A/UCO1PNpmVxFfZi+Uta4Eiu1RwR3igLO6aHXCO1R9h2Rl3u+rV54MCobz/+f+zeITTcWAYs+iLtR2Rypp4fUUuQGDAit0x8YAAABYAGeOHRH/xxalCxMT9PZ8KrV6W8c7F8qAFh/4ay5YRxe0CBmP67904rYYjk0vfxe48/+krnD1kAWgqrm6uF8vseYxhGVrynidxURNx6q2plJxwFV7kR6KjeE6HwkWaCyYxTf3hDL7XX1pHKaO7c6gLFZh3Lwo5hc4HOo6mFPQqdHElKaOEMSdZXiu0yrCnZDicQEDIRdObZanTO+IFmYVx3EJR3JbwGDxsJVHBqvB0aDX4HauTgBEfrnG/za3kLzylLOUd+X/835UUeRlrjBtPqgqgxJJbd7icrDOW+4jZ16Hzgz49ryAAypyBuYrf/8hOMzdQKONDs4Eoh2FuUYgI3p5V9mnP0pRbg8UkCXG4HkYaVMYmNsGAkoKqgKVhC1Q0B7E8d6MBYIgAVQCLKiUVaPmXd7f14azK0wqDfq2AhMneBqLtbC1t8j3ScmE+xKPnDtfZcsKFjaA3+eYgW/muMAAAE6AZ46akf/HKKTlmJkf+vPnzQtI28lDJiAECj6yhP6drFW/SaKvKKBDav1Bc0P/5Gxq4izeW2s2qd1iF62cUox8d1xifSHcPXHdGgg7FOYjhP439tUT1Cy4ECahymGQIg+InLtYWE0Kc7jOZ4hKZCV+HDNjStXLNNPCLQaINVCWkjB4CnwChJPUW/z7XYIR2tLtqZo2KyIj9U4jmdUNOHj1bgv9Jfcaz2n8Gl1XWbJWYLJbRJBAs+fqMXtIrB3zMMph7gHhdjymUeW1sahDWDp8YN2pBJGU3SOO/vZYEo/Ggpf5DoRXVdPHZ6mUyxkQ3ajikmgHoZAZlMyz7BqKlfmlbszXUBrtGHduSexSetPfbRBihnYsygqRsn+vcwUDCWKO9WtSLNl8Gl+wa4OybQm6eiNoRL+8uXIGfAAAAGyQZo/SahBbJlMCF///oywAUnjeDyABLVc1ZcOAw5JoXXdsQV337Yl6y5XKfwGzXxhUhwjLeU2SMqxlTeIWA/n6o87eDoAWGbgUlOKoVRx15RZ7VISO6Ku86BPjHu0sjzQfdyW+9PW5ozs4nwOi9ydV7I2s5TSg/fgPkV02xoJgGrT3WcB02lGaXHsOsDgkgDYYcJ08nrreuKehnuleJma9PB6VruXFxLaNe47uwN0VFUwECy3hc8GKb6yTt4k5Fp78TLQUIyTCUDI1vMrRaXReF5tEkutNe3KYXiqBtkOkaUO8z9Ttlhd10z+ovL82O8Ip0RJiDqxqLm1HLO9kazG7kpJYph1/y1dtKNOnppCC3Ys6PMjmeX5tZdnD1bVUayANB7mfIXA0jWmzVmP2Hd+WFlpeffCjMPfuTmJ7X6Wf+7ntcD8JqoYuDjuV+suFlEISUxXXP/S0rOPPVGrc4f/c/xaNv9aMYAemAiZllYEmndZV0g322v37I8dueMx/8iRvkhWu9I+YdRVVHSYRdrZMgtGm4xB2Hqq35wYfWe3UA/blTZqMVDZDB0r38BczBfH5QUAAAE+QZ5dRRUsI/8WSA0F4zNUx96s5+IAzLbWYmSVE0mH/rkpBdhEyvpRPeI8Rod+Jh5CtlOjF/m2u2KCOKJWk1zMGTau8EQWk2aceE/FLVl+4tclbVXFj4DwRzpU19AMeWb2EeUVDtdTi56N8oegX1ntzgSoUb0p6/+63EaM/Vjk2gOAay7TPCHDiYQ5K23hSMPSsaMVLG3O4P9BpZ8L2NeKNZf82EPR/xSXzxm/jHtqLSFrzoh/ZvicD4tasW9LYmCmI6WZ5tY5d97c01p9ljDt3+wAv3Lhzbb0Osv0T52XRlZKFHMnPAa4oP/9+iD6z+qQgUnQWap7DQpX++QJYtpukCNO3I+dDpG1XF/3ic3R5m7wyW2vuTAYXTbaIki7s80czBgRbWdxTIZpmbMTi29LKDtFIUDqEkyoBOcbfL8xAAABWwGefHRH/xxalCxNRFNpkgrZDXSak5SHACOx+t9w5pLc2PrAwoIOznY978g8UtdfdcCTSzCzLBfdrz2PGRKsDBQI712SkDDng1zjwA1tM6xVrB4MuXFTNvi6rcFUUm4D8ud0SxZW8I+ORKfZCybZavvl+lBc3TmY9+2xzy1RvQD9blHY5LmLXbIGUMeK9XnLEbCAyYSmOvdkAkY8IEZR7JsQfb2foQPFoj9q3KR7P7kNi1+vJfvEo6FpIuTtj9j/ofB+fBA2hoCN0sV+pUt0waDQnFhbCmpz2j9J5jd1942cfBHXvC0SvmmQtXlE0u45AVGa4WUNg1rBIi4oTPcZLk0V8rULAO0ew2Ay1Mpjvf7msWPvIuQIf0ObfAYDHJV+VHtGjMQDbjI3An2uoAHZyeujnsoOJ5eHEEDZpEFuO4k17HKoLgua2NVoDXj3jBtzNT5TmJk2kXpLAAl4AAABJgGefmpH/xyik5ZgrLGAzOrPqgB6R3BCLlAM1gj3bQXA/rMgIuabbc10y0i3qBamFIty4o4u25HdzWNEsbNaXSOvgfXEUq7+IHYnM8+FVAfGRYx1O2pmyV/MrJLEE1xpmE8UhidxhXqNhuXIGxhUEW6i8OzkUcaRZAYq83qgzVNLEertkFGSgcKPh0jXGiqZxJeWrURbFl8kobqj21adwazYZNgkyPcWqkcbqDcjEEZBtS8agqRVPawYXoQ/yoo6uPzQFQQoM0tumJjPIDoQjTyFdmQIQpItk1QvXSv1GaxL9EksdmxxI8N1yBkLp4MTMAbX7tRzeNVR7OHhIM3kt4jGbfB9ES9ZCgQH+Fr8mblftE2p5g2Dfg8ZQMfC5eBIcfDAB7gBDwAAAZBBmmNJqEFsmUwIX//+jLABS/cz1OuhU8wAThJ9iWiUHb+iZEoy0Pf1A92IRntiqFEgMTqCofnLuElGX6W82JTTDGcgRPTHnx/BEd/AWnrt2UdYzQxZHQNeTHf2165ZZcgt7zoyb6/xK4JBYa+b+XzDbpFuZPwqluj9URtwwm3CMv3xzXNUbgZpJLGAKmYDSDEbH50QEOwWk+hYcAhWe0Ad1ZqatKl/1JhpqEiGEDnKg6SLhzwP2SEZsCgLPaS0fmABUkQipbECWSmRaPMV4aPXW6FyOWxvhTkomBdkErXsJ4t8VH73tFro7ttBoxCUDxYrJ/L8Q8h7KHWABOdVFdeJa5bIIuXe2Y1uSp2VqZ34kTm9ccaBW+Vz8s2Q7qYTcosxMFglgWupsfCuNWtS46GQjiQWeU6yQsLgYc49UDknpynrhcfmglxscsd4CIltjf/NW4lZrl3JwCUboXJw4guVt3jTgM1TB/iIaMjFNG5Ov9tOpgomV/ARAN0bRxxo5XFdncfwhDRcCvq3ZGWOgArZAAABJ0GegUUVLCP/FkgNBZ9nHXk9XozTOXf2UARLQtgDf7ABLHyHQPLRfRlkmS9gm31Hn/YBDfw3GPNvsFkJhf+YroUZJXhZ5eorr/gte++jvIDXtU9cFpdsQXdTiUcs9Eo2Pa3AfFOLqfTEmetVrJ19N9+/fzRPy3LsdL9+Mp31TQth810z+aWhhoRmEtwy/FRaSAnYHuVCU0A1DcvJaOeBjJX/nSalEYcWOXXF2a+j6BNXfwDE1qaZk51GyQz9tPCtMm51t9HT4Hh83HVaLRZeUlhjpw2B+qmq1qV5bx6tfKNG8PWFz4JD1DN4aEgDFoFQ9BvtakE5m29WFziVZZp61SxD+CFMDtCngoec6liffyhPI2jmeiGF8339oZPAI4Gs/0v5ao93Q+YAAAERAZ6gdEf/HFqULFCgZM7+fmuuUpPg9DZG9YQAG/kY/Bf8/vd+kK9TZhRFIhuMqQfJ5jaNRae2odLGxw+ej3ruDNFLQNLq4aOvZSr3e2hi4cwAWTgM1q7pbW5mjoPTfLclYaskXOyg5nE5ImV7ugAozDLLPAIp1+ExVfH4XrbBB4PKqudLrsUZav0iktXYQU5E5ns5d9TRk25h3c7Q+N68AQSQeo/NNDO8sSmBGUcJVgYEnzwiE3w5WOavApuWH0ls4yhDRPZ5Y5BUHTjcru7r+IJb11HoUUzC7MXxybYmSkLI53P9GL/T0Emp3VbQc4Cbfoy/dxaDaXgR4XJeCsRe7aDEEsLOUci2Nwq0fyiVwAOPAAABFgGeompH/xyik5ZiZH/rz6FJSHxDdDo7mObgCJiigb90wjt8PGYdXRGpYuWTXEFxrlWwm9O4zF3N45l2Ul22ArxayfXFKZ8D+ZJytn19PPpTLMtS+uGDbQ389lLXP6z5CSt/PNTjylNVnafH7l7pqCrX0mzr4VLO/r0l6+me4v5rz3fqspcqBmGUjaGyNkooe6g7yW2zSkKPGpxEGySbYKYBG8CtR1Ui2wJXffvlbZ/pOZqklN8/AUCX7qW8HB4dM8PwFmz2D2x6ty2mvhMkmjUhz18dNw+PBYqufe1ct6fwpoI4A1MG0FTpNfqh0e8uM6LYhjzNskME6WFVcGzAEYdk3ApLMGhFkfOAIamU5bU1dnT0AAO6AAABakGapUmoQWyZTBRMM//+nhABSN9/JEIdQA4xBO/wzGOJv4OpZ9EE9S/RErtF5PsJC9Qmb5g8Dtjb/mN7OmRbZOchHxX7dunoUk3xj1VaRfJX8IwI25Vre5N3oC6+/7ajfKnrun+q4a6GkB+nKURFM0JIWkq7fvr/yT2gMeth092yf//vS3LRRrvF9WQgXa1xXqovp86KvNq3iwbQ8Mt5Lw6jIEeaM0V96+Oew4xXp6+GQAbGuAsCDTDTlNUBeOL7ScgbLkTBP4TDl3Yd2vmkVES2mTdskC/8/A8/Bde6o52AmoWqkmGL5eiegMBFuA4PxypkCf8wztbGyqma25VrrX5b4okMXIttDHVOeCLwE5eGaSFFfqgrHa3svvjWL3STWqo7W9GP1OnFYHnAuCoz4OWuumYxpjMXKi/agmOHW9hXOkjWAlA//xz8WfUBvSdcVkP+fXXxKx9Q0wyvX6UtmvVL3TMK6KBAAAHzAAAA4gGexGpH/xzBhQs/8ndYspbPPoV3VDsWP5RNUI4oKugAIqgpcpVgyXtpv+iXypWecZLooy1jJ1QBzJe58CJkB26/ARUhXSQWv+3eOdJ2vE8RhIJ+ZaFfawkuGnMRrHe1fQXA4lmF4xbN3YTxNiUwfJoenQbC+IbIABpRbOYesPUEodkaJqAM9DkBvQaUkcfWR+HeNPEqTrdYabhbEFUPGxwJs92v8lJaUOALJlrPGsrHCQYf30T9ssugUu1uWl9pM4gfGxLVQZPibml+gx975ZETMULIi8Y1sbR1TdUSLwkA3oEAAAD8QZrJSeEKUmUwIZ/+nhABRq9DtOj7vn6vJMAA7Nn+OCnadA11VWI76PXcS8/+DxjW1TxdiGgxAtwUuoBFLIepBdFwG0Z8AF7nF19MlH1iK+b3D1kD0RV+1BrlGOjmzEDgIn9BuBkpEjaveeuzshTWYGu0trHyrWq5/ol2k0Z24SmGV3fAEXD1Lk5xpiU6UhdKOrJTUIv9w+/WxSCVdjyHEAeiDlANZxZfa1+77Dtu2iA2VtmUqnAGGUGfSOb3PRw3X4kVIYgkfl2UdNar7sA4/C46xJf09x8gdTeHln8BZxFSwwtIFsFy8rQfJnyuN8M+h5o6O8VkbLTTRZyxAAAAxUGe50U0TCP/FjyMFzXj2gn3jbmR2LZwCZDbOlsrMnlXZn+6ZdVaxf2utnhO1f5dcGuy1tRkEklqVhfjz4kdWLBszLwPHq76L5kfmkjIDTWRrMQPf7oTDT/8gdXHGurO74CTzBoSmn9PgRGyLJ0Gje4knD4w491oXEoc5QxWivh4sbDnEIA6n6ahxZrbOdC4Te13xBQx8XRgdgLiuOzO9fZf+iy5u6Ji74ueqmVzbST/6e8hIEzTzsWCOuOcPll8fz6Z7qaBAAAAxgGfBnRH/xxalCxQoGTOl7YMGHtdG/kd5iYu7FQ/9O2AAJ14jR9iFSUC8om1C3joqkhrsP63/RgyqyLW1E+d6ap0tyMhwL094krkyOZEvP2erpQaR1MnCU6cBQaVYH44yc9BN4As5fiLv/TIpx+5h7A9DYizPxjTC6PzLGfJrbsxSRkWXSSqyvbFpIgJkWOp7bSZD3QLQPIUJR+XhaP/GzOZe0+rIEc+byUWDgQrWrkX33xTx6dPn1LIkOJ6gZxjVYCDyKBbQAAAAMEBnwhqR/8copOWYmR/69Fi5Tog8+OkZLltqyt2VwaABEAJ7mAX2kperviU9ZQqjdoh6o3uZzKmPZclmHdyhyrgOXxOJJz1kTpHEjnJe9SdJ4ZFyMfIku8wASaeY4F0vnqo7ICicvwrN0/EbsKhP45F1H6a6dE2/hQesdocJLH4zHwg1A3EMMGEy6JFcQuv4HTDyjSKI1fNylL2zxKCEaJbZW4747D/REF9Qn08kRjyQpC9xxmTfMlsqmIXHPyWABgQAAABR0GbDUmoQWiZTAhn//6eEAFI936wbFSRTrFdFCQdw7MRr+AEYvfa5SOOIykzoiIsA0LAwowlXTp4UtxEsx2z03caxiyW/yyWl76mBCKlHA3+TmBlegUfajtr36H/8uHvuf7QRas7K68O8NKuK93Aszyo/tegDLWJowQAi2mbn5QagWOVqw0lkpUeKvvp8PCX5XiRJSWF6Bylwc/Vz917kx7VQLXfj07e5ElUGYIywU06BVr/ln8SwT4nh8jvki+iXpsyvAOhz+Xnm57dltbd0a+pLfy2zWHjL3pNC8YpXeLOd8xo6j5LB2tw2IdhACakswhsvN+gFkxx97Vkin36YT6uh6EIxVc9Qwp2jwapgJzlLxYZkJUb8/V66oIFJrkRqCw+B14nM0pYMef1C4EaXdmwbaLX08EUf6gqQg2THRPA+f+j+gA7oQAAALxBnytFESwj/xZIDQXjM1TH3qfQSRFjcMP4IdNQfFiOL75BuZae1xIVGC6PEoak0ASJcL+ADae2Qis11Fel9rqW7mh7v1Ye1vw9ssaomZg0El4jNTdgutUjewhbco5uLZWBI10ljICAGPf2bZQ41iDH4uKxLCTDHcTGg3AfpJRB5luQN4Y4MAYLtSYT9UMd18PCX0HD0Eqgb50PZp8TD4x3nV8p4yJ5RFQqRrp54MY8WZrxqZEYqSrEd/QxBwAAAJwBn0p0R/8cWpQsUKBkzqLJnlbA5XeqerkS/f8Sd00dlgsf/IZohbsG4JukVPl4/zx4ALisw6eNV/XWfIsjl3XKGQV83WVpajCjQpRc5RC8J1zbRrGr6MnCeqmh1YQqlOF5il2AK5rvU2RNkbS4fF0l1sOFZiz1+8kvMmOGVu8WPG0x+B3VUgcyINxn0b7bXJN2k4Xm3y6ZqzEADZgAAADdAZ9Makf/HKKTlmJkf+u34i829tC4X3oAAG/5fathVUHlwTzXQ1Pi5N9INEy6N9sNwh4NsT0O6+WnWkrZo0km2YF6j9m8vND/lVLF3SPN16CJs25fDR4FpxezCdzRAkE0u3j5nmkxmN2C4kBb2aj68OLba4EaOh/Tw9FS6ZxMDa0k4sAL7bAL0dR9qL6w/cEceVmXWM5p/DEWMhuSHbrCEEjLqIk5QcNjHHJ43sYLIYJadKMnjattrSSnqnRR8n2T899Phm3kA372q4P/lvhyu6HYGgg4jDwnqAAAl4EAAAE/QZtRSahBbJlMCGf//p4QAH7Fu8ACVKFgWW4krPcSMy97fv8nM2iPvFX7pn7yVW0cjz3Jp4AEyz6Bhe6FmRRJUVXrJmAmR+9+gHkijVAM9D/kF0rr1zSb3TLXSyc1TJU/KVGET2Cr/vEPIqTTY/bc1zhZqVDFAgaUemyJFosQib9fZCBIE7vRhqOkTWUMp6HLoQFl79+xnKKqkiR06il8cFLW52qBoLOFoLXq/604Z461w5+fgtmEBDqgrGNhcmDFibhyeBmIaWUnMssUhvbiZBCABRGEBTB3sn9HNtmDbzM0PCFamjPGwi6d13ae4+IzNaX6RJwyAj5QZGwKdeqrdcvjbEpiHcmYBAZexL3SBtDX716wMEHxz6QNYh594A7A2i0Jh1A+I8ogmHvG36HasvSxiB2SEi0Uyb5FO2AGBQAAAQdBn29FFSwj/xZIDQXjM1TH3s8Rju6FOFyUeaz3RYAEZF1l2yZHOhQafu82cXjw9pUnSLkTxHZGYv+sYx2VVDC4CiZTkbzJBzGviazTzuJA0F23+keZ8mMEOc0dbIsmW65ntecKyo3hrtkfDkgrw2n5rQJUDYxCzItrU5X6PXKBzkV4SCz22kkjP1ICxDVMMNFS5rUpefGdEpcxqPByOl56hd/ZhXFbDZK/ifBf7X0RVKlNz53WzE4xnXtDvCuaZFkM+36C8af5UNvOJozMpACKNJaY5uej27PQehcLHib2WEAHWUFVbvGp6V5WOI+KYnpJ9CGjqJc1Vhyo4BQm8PueFCFc3bbugQAAAMcBn450R/8cWpQsUKBkzo+cTDj6QCy+tOyxV3xIYCs6YLA4Y8JzSsgWrnoP65npNqVZ+DtfT/hZ/GoaDsiGP4UcLpbFt2e4TNN2VHcF5NvtlmSGOUAxKvLlElCv16SmiVuUTEoC3LjxZ6kJKBZs/+hI096S/h5gRc9aQXYLLzgMc0FCGulGAvEye22p3bktw1SbdPlCfMcqCAtX4IkDBD8+agx61PpD9/H1bbjeS99TRe7n5NEd6+Kns6gjN4ZNjKJjnEFRQBTQAAAA6AGfkGpH/xyik5ZiZH/r0UfnHhnuAABQDHqJ/ZVFMBUIM9QhoLbQfqKNMmZJW5b2C5Wkdg0zYjsHXLEFEUmIcoxRE7WWqljuQKDyTmXFm/K68p2rNoXRoDbVOdYDStBX8QCFbq1ycQcCNpMTI/xA38AwTQjkhbmHXsa7FVa0jj/J5QSS9Sp4QYuKMFuUfn/bX8A2Dd29WiU+FNNkKm6c0CzmYSVj28yiImuW4DgwDRkm59GsvaT24MV4MOGJIVxkFHV3wOvUkPIQfHICg/ctSNl/HeCj0/RAm92L/fNAJP1KTbYvV9PsHrAAAAGrQZuVSahBbJlMCGf//p4QAH7QHByoASoRkzXZv0+/wu/6RirXGcp/VrbKg91fMxgjfii//GIPokzqMTRibg2zwtzc20sHIYCfMsPVjY4dMsun78tlP3pYWjENswZIN/I+c2Mu/aEPpIOjVagxaxI/0h+vnfUYYF0N3GS0ravQ21BRKl8FWxo+m7o/GlOw/avNcQnk2BYfue+2oJc5Z6WyI21uENrt/q64KmqOicAxNtylF4Xa8EZsxaYOnZjTPrZSGMWKT+IB632WCyrSyMFLvH7zN1LsbXFCpezMJb9npaDmdiIMleZT+ve/KZXAyoKriuDapYUbsjGdaZmn4ouY1aSgVxHZBs+BsOEk/6baKYPFEYcWWuYFbw/cf0jQ4cXwQCnqSLrblG83YDwi7VbW1hATN9PfUGJSWgnCOgl563ETQuxnbdhxK96JSkQ95plNaljiAEko83faGu78OOH30M+376gheD1ob9iWNVKHobl5rOWrv1ZnWXkhaNY9KBB5MfKDqP0n07oHuMPN6jQWt/ZXJdTPLPdYJPtHtNXmunsWbXmRWZDEVgDZgQAAAMVBn7NFFSwj/xZIDQXjM1TH3sJfh0XNOhYoAaAnuEZGTKoFx7HzDG7nyIvd/7yCC5eWafX8OUNQNoVH+mA29cTpPY+kWnTKz6eVsllTMy0UmYEmo217omJJyhXX+z/0S3nsFrjOpDMiiw83cgG8jVY7AJnxIC00XumfqNoyRMSJIdvDp427fl8RRGeXH3h8s8YMdDH/C3hkQcP/aj6vfmlc7ehK/4MCXIjL2fB8zXQPl8xzSrk7D0ExwxlB24Vh7KJkmYMu4AAAAKQBn9J0R/8cWpQsUKBkzuGl3oBCaQRVlV8ABDeVKUzs4bOEYhVJST/EIRhSryyQiTIgeBZQakY0ttvXz+VI/gO3aGLPTfYmANhPWSDhcynEDXy7AH0+lBz2a6eYSlIkXjjsclbbMKr07PsHO2sQgSz8thF6ZOk3oS5mpbIRXCSZfrXYqRlQVkj9YERj295heFd40NvgwXa+s+VBuBiymm4EPAAEHAAAAK8Bn9RqR/8copOWYmR/68hk/Y5ZBddFNYArPfJj9YSrcY1mTTW77+WZkIb0ybLjJZ6rdezuhTgptDpR356C1kcnldo9KJ+AEp9+caXKpgd0vgaPkuITkGiLog15hUOCVn2SXcRLCEeHQ78BRk6xHbfX+1ca/v8rNURkC+IBEj9/6dj+v+8Qw8Ge8qfwsjh8mISHnRMfedHKrBUuUSx0TjCjPOgOx02CQ9PAGKudAMyBAAABXkGb2UmoQWyZTAhn//6eEAB8uE82aABAO8QZeGpe4lPcK3NXB5i4hfBWgnSisGr9RhZYZbtWW6M1DXb59pTarzUOC9ZDFZQFrJr9jSJyfL2C9gXMkh/x3jPMbmRaTCJWkTyictH1UsT1AKiGHj+MaFDiOLdtCV39DDsbvX6VCGhapBZCSyJ6SKvvowc0X+tljXPHF+mXkranPSWPB7KNffjib/p2v3rrFJY3uXQP1yc90Ku4zwyYtpcygUrVTi1fXre+QVGzEtQvQ/bpyEQuYrmmI2KE0kY0cXA9X3yDBfosorgGlGhXvIaHcEYxLJyANqU7B89OB9uGeY+HF1MNMqQQcgx6nK3g+Oyg9dNJaw0x6/UKlPnssGutpOJZawdvGyYMvsrO2CduyaNTyklU+7LDXsJ+ZlOofiRnH8+CuzDQ1Bs8l/bgfP2L87RfpM2h+sEF6b9JZys1Ij57AGhAAAABAkGf90UVLCP/FkgNBeMzVMfewl+FWaP9+Pjy3mgAGfJPvWuvqNGiC2pXlfkNPHZ0A2O/0lhqKAI6SUrIo93IwPIQrCjcWhCxHirxtsrz9ub5Az8mObjNur3zz2pvY0inhNBDcUFE/UyGACWWWukwDQzxo6fywMLe21vSO+hGLc2WP0KdhXmH8pEfG39+6Ca7+m0Yt01mMmtihpRCsTWdHxiWMnglyeFrWextqOmJHQbXyiW1hXCv+9ZBJ1l2KMUdymS5TMNQzbZnbvU0giUmZVLbfHBoX78YVVDb/T9+tAC1xr/YJLMuYbPlkSjXgey/PdaEuT2bXWec4G56hoEt59lu4QAAALEBnhZ0R/8cWpQsUKBkzuGlTnTDCKMEkwAGy9WoUDKfUSQnqTso7iNQ/Ivtbi3CloAKgfdPibHZw39CKy/OMONOJ9xcSP1fj0yjH5xrh8aGKRsaQnPCicyOZCW6F2xP73yX51h8TGq8Qv6sCw6M57oodKp0YrnFQy6npOSVDVkIESw6EU4p77nFH+KONCVHCqupsRlke9LYc1fjyvULcIWsKWOwklwlpFbPPsxAQToAARcAAADHAZ4Yakf/HKKTlmJkf+vIZROjlEvqAFWqldzvZfrQU4/N03uzhRYx7JZ9NFNvSf497YTDyre0k1YIFkRJiYmLSMjHNIlwkPc24f3cdSnSPM4hKbTtEq0MgGxFJv0BOFvlnXjeXZvXILoi05o+MSZlsCP6EG1+1Boq7b9cB1nccCd/OUgVaX7GsexFbxGyPyBOXhL7bknyzrKt0+3+c6mC27RTFdj7NqxU1k9dPVe1uJuSwxgUnsELYxIRt71H+/aO71pejAAzIAAAAP1Bmh1JqEFsmUwIZ//+nhAAfzsrKWNkPzGsa929Kawc8jVjCU/2NACVl069FZjaDwHzhni+23J9eOqma+Vix4nbSKFq8s1arlqXUp625nEDHtGUjLmsqdaVeAefh++mn9xkkNwbb8brt9IwxqrgJWyNk+g5IPQvWRRxg3Tt5fo8AJpNababxa1goXuyNVmzWhDpAuSSDCDn7Sq+4bxka+Y0zXu6OIYO4psWJ2PtYRTscF+iyZn4Aq/znXeo9Dfx0oDwfwKa2gjK3fB+/nQ37Enk/kPcm3yNRRHeks2keELNOGZAzVLPfIxLjgd75s5nm1KBGiSzAwNIxdrusAO7AAAAzEGeO0UVLCP/FkgNBeMzVMfewl+VXjCjLxe+wAOMAUPlw0/bxw519tuhPrmCSXM4FFH5arHCOOTNFmzBrK9Oundu+jQ3amWhMGrpFifE52CHJg6d0sTE9JRXN5FA78bPsYHJoVhk4K5iCFMOGcQLs0gdoRgirvpdeWT4oRV7wFAmc0ps9W/Wp2Io0GXyl7xGSS+MrzZwAitixymUsehGs93eaoB8s9MnEDpToDgNo2orTn9FUF3kjsxGynA0tgA1DXQWEU8pTgAnvI6a0AAAANcBnlp0R/8cWpQsUKBkzuGmh+ubhVPv9bGAI7MC5bS//ORzzAW5UXzTwmfdOURbeBu8ryolSpXYomCUbmVqh99baMFDZvh9Lj0ROejrpJmGpY+uvLo7DTkJbICknCLHVZkW0O9b/a+Exs37EalCw4pYuCO8QOTvkiJhaXynfyhv5Z5aU7tgoxAUpcFcqOft8pJwVPO9MVYesshFugioj+Cg5S1OlHTOw2gcCIxKjazPnWBPatYNkAaRgwVzOcZATlGRP6RqwNdh+mO7n4lhsiTuQytdxMB3QQAAAKUBnlxqR/8copOWYmR/68hlLi9wCEMnZy7d5nOKB/wOTnZHqavkj/13l5vasP5t+nN7pn+G8/kp7diPK/gYSZnPsASKNn+3ggMTkX3M4ubbyL2pbmermiA2bIOm5soT5LZ+4F0tnwOD00484g7l7i8AKX1d5uXlQzdaayZO/n9vh5AN1jbZ8xlvyG8wi5lYD4pKUR/ZSnGjQRn/sDdMDNb1jLAAXsEAAAFiQZpBSahBbJlMCGf//p4QAH9+DuU/CGC+oUjTYkAH7n07rgeucr+dT51OPTX+kHhTQKEfdrQK8oeiw1MF9z2Ludeq0ZZjfX39TKMH78WN2LevPGCbmfDX9dsh1DBO6QcJ+zhw5k6ordvGktldVis2mwfmtYmkebnCgdWcZW2njBEpd30e1BsNW7jDpcBY1demC96sTVBqGi84IHrcNhRSmmHERwtvLzeI8XACs+cAkc1tA5EncriP4HL/qymLAAxQWGFmDuKhhHsGtxGr0DSGsl9cBQi7ZzdlHKHQMzNafIcnqKQwFGNSAFytDFaQDR9dgTPBrlkepR9MKh9gVyEvQ8jqSTloaGuMGll5TPKDNJf/Ao34seQdS/eLBDvCvnn41q71DVXYSuUzYJdyJPeETjxWXBaTTlIQYMaohKrB+YKijJSYWMPLdkYBeNXmU9qobd2rOUOll/IjaKPsRPeUUAFbAAABIEGef0UVLCP/FkgNBeMzVMfewl+HVe8ohDqvjlgBtMYcn+OxwnEV9QFF+Q1D/yOYi2vvcuPnbSQ0MdXXDT5wdKqljr4//mDKmkvdZAVqFdF9oDdBfkTCrilvjggYik26L9O8JlPXY6HPI6k0F5MvJG7gO+UTQJ3edoD7v6kAmCgfOa+9wFt4x/Z6CxwaIApuXdEDVh7MWL/nTyD+vyNF6FsNj6GyqQ2yWwzrFab/bne3Fc6FqVTSeu3PqykC4LxTEp2/wEQfUhPNBVzLMDOQyr5RpZQpb0N4KthlEX2Ta668gpTv/gpVOksQF7Dy8GvaBB9EkzO0a7FnoszCsNIWZlTcZpCT8tGoADy7drthEG6443r+J1KHEKLjVihDV8xJwAAAANcBnp50R/8cWpQsUKBkzuGl3t8eBO6p9CEejABwQQ/Cq++3JbBAzbQC4e7gdaFpIv17aFJnCHx/yaZyxMX2ntTdf5ITsXOZKb+QDBBQx67vyQzJW4wrouM7hue7g0uMJYekL9bx9LvHyV7BKFXtHul9KCuEsrSEOjjrMlXq3+UIU3pmOHsgyz83ICCtjr7lAGmjF++DFoAHcjMbHgNe1IhA+u9kXgZ6k1uzqxyhc7XNJv4//W0Ev/NZvgimEZuxsZQ2xuWpW3zMYcH1yYWTwJrYzdCEoAAB0wAAAQoBnoBqR/8copOWYmR/68hlAaVUaMQAR2Obs9MJHe/vRdk7DP7/uOEeSBq/Y6i3gVXXH2txKnXobc0COJ3j67fkdQ6DZE+oihWKs4gI1rPTnOfhSPPw2T5uVrlaodg/WyJxNk59WzZb2lXyobd+0iww+gasGWwfUt+Ye/BndCOhMPl+85j011mORI0RwAEuw2CTOruwGInuQgwet843RKtPFcrMeSNv7KUzbPXLAY2B9f8aRuXx1nxk2Pv3khvfyO55WKTmrjr+BtJp9X4JuKmDJMwhfuWpgl4CRZt9mWDCUXrWQzstTgLBdyCIQtIERDykgDwdoboQR6EaqmmIl6NqX/gJjqkQAACXgAAAARlBmoVJqEFsmUwIZ//+nhAAL/rn4It9YAJxxMOei56/6Hl5yR7zW9ImRMAzt/rSRbbKinHpr1OTTfHBQ79/XRtbO/ATgRGIP95jTayuBwXtlkXAJJz44BrYjr9iQibUuJnFXP07464afoAbhRwqOtHMl5v15SMYN2yetkvPwawuQrnKYW2oppQ4xzW45L7qr1ZaxTJSWjRGfp3MBsQg2HYnAnvXBn/NJ+HcpyLobdBNuKa3PEQpfMQ39wkqYPfivhKCaEbhOViYcCIj3LtL+3lHDerJEVbPO3HhM0M+5FTmXIyNoaQRnh1KUVSd1fWEbPXzpDqaDQpDiSjWeWcf5ThkhxgRPbHjKLnX7FePGVddqg/VxN2qjgAj4QAAAUFBnqNFFSwj/xZIDQXjM1TH3sJfQWkWwQoARTqC5zyNmp7GFYIcp3BLCyhLaV/Yzi+7+bTt+0YKzu7iczhYMpAnVaURdaFDy4qJvsBgF0EWzJa2BqS8b9NAjdBg1hM0jxT8eBs5GRVHiyXlvzduxJrK2Vs0hhc3yNTBxf8R0SYqHOaNov/0NeJ2WE8O6lFUdKmM19WegD5JQya0eWB7/ADSYvCFeDDpOly9d4AEI+g7AJQx+ZmZ+KaPnVMuy2ed0AMby8svtixE9euXOpCDSrSlUxA8WIHu288CgtjQSyd9eeAr0OVXT86cerk9Tm3obrF/umLbmBHYqJ15BptRwLmYXcZN+kyzlN1wSpWPzkYnXEPj8W7RmtEvxcBS6XH/vzfWsytK5tdLHlc1ScaUaUkkGa87nRQvsNVm81QAZxm+7KAAAADyAZ7CdEf/HFqULFCgZM7hm9dPPIILVcuAAhzb+deLwBLbU8MC4/qkPW+jpcUGyBFtxKoBcH3TQIT7NalT75ZOQjQtgx3LrQO/cRi8T/TUJI3wmXrFPEU+HCBRm9wDKyw68UfT/SnXddB775BZtqsKMdvt4QS09L3/YIAqxqJWYtn/OE2FR4z6uHKkkQXcAVhlKVO0ASdaTFM9C2Tny5n/M5YrjTqmX08JVBmg5ak0KftXl7HC8sJBCIXS2g/xTkTDU1Y5+utOKE/mV+qx7Y/h7FTWV3Uz3ajj9Lh5R4neQFdCLl4NynF0D4ZQNuhp/dsAKqEAAAD/AZ7Eakf/HKKTlmJkf+vIY3/upABi2tk2+3rkqw+/E23weO8vo6wjbMJ7WYIq4oLqw7HYZ8AHYejSSAVIoxG/TGyb8A4kEDbkTHRjzs15+pKqOFocmZ/8lG05jq6WKDX2oUOfdZafqG7Xa0dwLLoVQrZKHXi6hFR/zjGJIjrmpMELg+ZzG/fzQnKRgXev/Ehj8nMcGLX+Q6nAahHIulqdDbm1P4GEzTOkUfoAnA3nzU3S7IQFpwkoNvs0EemORoVYoof8T/n9y/hc+6xsYwxfHXmmiELWd+0hBxYlPUdgCnobR5JFjo20Dy4vULlZhkrLgr5edz09EE96qhyJYAD/AAAA+kGayUmoQWyZTAhn//6eEAAv/sdzpa/jYMQTRuhXNucAF9eRhZcf+6pQKOluH2VgkecSnozBgtSWkifoVcwu9eHiH41Xv5HxfKcVUiM+Mt8tF3VEyNGe+hcbe6FQyADB8U1XY857jpSDBQFW24r68lEXXDjyYszjB/TpDaoMKdEs8thKiydDjtZvLTEVNoOXLrWsdQxHEm/DK5WzjR3wtXB5OyKlsLHpjiJTg6lQIRScgPXiOUXqNa9fPqcmRBhi4VdotGiJ+tVkKxGeyB9ep0PtqE7MyRD9COziQdQXHvvF/LA59BquaZwQIYEXO1r/4Up2hYcj+fENBvUAAAEAQZ7nRRUsI/8WSA0F4zNUx97CX0FpFkdxhFnDfvAghFnsmMCAINNhuLqFU/TFhgt69/HkCHOiVxiY7VrWvZ9BCB0xV56X4IvugfXOuc2kkPcC1oBpYO+vzALuEa+Tna9Nnunp60eVIKsjbep2M2vyMcp/93hyEKkNxB2iAy7f1qt68X6BOFRYkHOkVBba9T73W7QYYanjsrE4vAM69w6FZbWYBNk/Sone7rlL4JUStX5OGmVGzRQxDGu5IhdB9I3TYG3D/B1IRpEKq4DdlJcmq/hOBeBgRnZ0BGXD6FZIqIuNUQnXmLJHpL535MRrEaDHEv7Yb0jkY+kqKzQyg89DwQAAAK8BnwZ0R/8cWpQsUKBkzuGb0f6eqITOJihACtQz9znZg+oki2PlcdJylKFYn81RuB5epUA06fzx8Pv2voo30LYw2mXUJSzoQiEr8bu+BJZKc+2MhbWJsfqEbrJBVs/F6DBsiXQU04ym7/++Y7isumHyXVRClcdM/wyUvig9VPPPlNIiOntxzZv213ac2/VVQJ7gbF1Lzu+9K2j+qP2Z3LHkwk8imZF7f0Jhgg6jpAO6AAAAtAGfCGpH/xyik5ZiZH/ryGN6RMR/F0Nutaiq/fbAJXel2a+9pfenzmzj2d/s+f4w95VuCNPqd3bLgRVuAelMUT2cKtpbi0kBAT/iizRaxPA2Qz6cAl0u4p8//VfBU+1sCnNw9kLSIz7wjPTTLoPseh8tlLmFZKkTC6AEFiUdMhJjaZMPFhS3aMlpsVf3gTm/DKJ8hjKeG7Zc3oNG3gGSz5kKXeA70ttmlMtg8CrHL15/5wBGwAAAAa9Bmw1JqEFsmUwIZ//+nhAAEdDAdQcAHHsA+4tRNfnFjfwBB7miP28rSvRBpG3whxK/1zTjs9mIDFYExmiYt3Dys4g+m8i4m92yargPFvM5bk28NklXi7UJpcf4o/RNkNLKPuOdttep529sHQG3ZNlT55E7V+qQXI3frWWH5tTSsB+qId6Mk4AybJsiWcPhRfPmsQr9uJg060zto/uD8AGLd/jUryaTujuarhksuGZNtF21w3clthE9Ohe3wTZ1xB6x6K/zCNdyHH8tauuVxWtc91SmJZ536yE2h6uUVJCxepGVWYTLp//kR7t2FjURXx2GHZHZFl3Df9x0ZNhDFpc35CibHpkKV8RI4XYAXFuMAau45iC8vXXY9kFQlFnkCWmx4/taQKscF4R9HkKyFeTQ9ZZ/Q+Tubm6l2HM0P/BulY0A0QiBKrtR+OuuDP6Hk/FyRY5Lk03QaMaO7Mwjx+TQ1nOuqfH0pFOUVhHaMhI8bjeRXqNGxYAbnrd+8YbOftfqGECIs+3GoCzVJZnfMkD2y5lKHtIObjwBkgCXuWb2Jg1YEuTC7XwFWITA6yzCtwAAAPlBnytFFSwj/xZIDQXjM1TH3sJfQWf98jeza7PE3xLSQAil6TcCgBIJm2apXkdZLeAwEY1+7psHxQ3G5Y8kC1PzHP53kzKlQL1paIxM5wGMuHwqkLqJMLdA9VzKTdvxriVZ9OO5QOlfYWudkepbiO8XTrLcu/All1khFjPxxMRWOpqURPXLvVQ34C6T4Qo+wEB07Ss+ggssXwKxjKKPKnrUsqhOV2suwhtyWKIgK22j4HhY7gVjUCQ1lfdAYLBUKg2PM4Pc+ct5Ti0WMhIoVZQtlqcChz7ez+hVhw1ptvfqqGpisuJCZJ61/nusBWmMk4MMRIXRVPhqsKAAAADUAZ9KdEf/HFqULFCgZM7hm53PVmPmKZACdi4G6lBEJHm7NpA1ndDbt+TWB6CzKGmnvbLCNIO+GchHqvaWOLY+HMG4DjNZ85mLgbVllIr5i4vNG0C5auWH/+luC/VlGCRLcgKttWDlpSN/6c8J/n8D4Cdlecrhba5oTkLTQGz/u8PdpTi1cx7YG7EfvFyrUBykfairmv/O/CllLpjQdhr8YnVLTpg4wAiGfnBe8X5IriDK73MzXNjiFyQEQqrvi1P3T5wPSYV+VcPlW1AUCUwVEEAAAYEAAADxAZ9Makf/HKKTlmJkf+vIY3Dy26E7av5N6yQAAQ/BcSVdeTsDIVeos5+mBd6lxXu75zw69RMF3GWiW1CrmMdOCJIjYz2kjluAyRDN5oKKL3IM5H5gsl9UeXxC0XcgujxjydLen2kis9x8fNSJ60sJjcFnk5fHRc4L30GzyAp5dIFl68XkC31cFRZfzvndQ9pRGoWi7MyJ2NonPyr7x+L60BnpKFDgAneDHYLbW8zGPl0rrp2Y04QE4lp8PVj6NP4Fxh3nTRHbHNEnJ84Ef8/eu5BS9kHBcSo7q7kCBE09Nl3j8mPH+QkGO1WgXwUWiyABiwAAAZJBm1FJqEFsmUwIZ//+nhAAEe+LEwb364+8Urus/D8E4agAaDmTYjAGaQf7Gh+Y027zd/vA9mpUC7pUrXf+iPTrQnBpMf24Y3gml7df4HYgBV0UqSY8uevP6TFfgKD4WGyH5Fy5T9ruTu9m4EK/vvn6yXEH+F5SgXTZ+XsChBIXyQ3k8CMlwRXMG0fcnVJLIwvZkCoC/kZqIlJ+ZiKlaJKWboPoVfHqmtRks3gqZhJQpiNo67jB2K4OqdxsAz7py37tlA6pNeoKcdpsdcuoznjI7xtjvFVSFJvPuhCDKxTnZD+saUvtRggCTnoA0P5k/QmFJCUKjKXFKH6mpIAqW/TpVEGlkKBcor+wKIxeWRlrzOLOZQMbQmop1gkLmJGz3/lnUw4Pt8HoGIlJmRerdPL1VRObAgetVX+FUyfpa8+Mqbj6d1PZV8bmkqrvJsvZpkkbcj0muTXBL3jFQ3Hup2kqk+SvO5jf4AEC5n8YEWhXQrA1sovRrBfvrSjNB6X97nLjFa4BLrXdBp6juMOz8a4QYEEAAAFMQZ9vRRUsI/8WSA0F4zNUx97CX0FmfmEvUagBr6IAjPnYlvDEPuxqJmltn5kFJ/z80+FOBKUKtfkcd3o0MELw6uyTzgdKQeq2ziEYbcdi3BPi5WVD6qMX8TVg7xAmQg6jWr7PSV693jJe0MG9n7lhV3RGQ4Bexq0JX8TjUuoCJn5nem5f/kBQfpmfIkkNdx9EaVgqaOOexI0THm8SZR5chiorPCwBDu5aFbhM8nN2YtkeMtFKMdM1grDNt/EWFrQnpWJPuzBHXo0LnRSrtR2x5aoSRbxWtmYc51aLfp88NlF6DLd8nNHbQpQyDS2Ffw0fV5ftRQAdIb05VK8RGG0vrQgJGak6dNLZmWJUpb3KWw0vJ4tvLmGCimHoMDqMUIwC7JQD+HzrXunpmJYYJSVC/n2YLye0CN4esNLNLe3LQvK2k3PMRpNTV1ugg8EAAADpAZ+OdEf/HFqULFCgZM7hmxyuus50EVcblABUZ6MRXhtdbQb1EE0XyY0J2HYa/oIUr8QEEY4COxBc4FPuEsjzvhbew0kjROSLYn4OL6edpxM+Al0Qdpkx/8IvAIjv8acFFDEptZMtXj9RkIMk9CEVyyuo5kuoJKLpXnzLtBXhHFj//Y2K+CFzAnYOtqKdlyICIUmNoMOQSINhhVsoKgYWmYxSwWxdi2sIhB8izYKIgDQQoX02o/xK6/HbY0vaf4ebE7Fc1ZxKwA/9lwrqJ+5AucxLY9Cc9buN6Ro+4wZXbnYOW0I55nU2EXAAAAE7AZ+Qakf/HKKTlmJkf+vIY1ere+86d2jFy1Vfnt0PABWOi0OViF2sYCQbEblPe1SP8Nfc3Zn/ugK4xayN3X5IJtPsjt7SkcqHKhVA8segdjJvq+VjCCrk40VexAw2xzN6JMVNaZYcZl2c4+Z4kFK+htoUweBdYNZK1pbviMBP8y+UtnUgPgKWmRNZvDmyJDgzOKwrTsgn/+xeVoGzu0qmBNwnMh80KG8dTuEehXKNj2khOqvR2LTPBnj8TMZWLaIXHoLeSMSLVxmJJaITHb9kR94eKx14W+kM7XhUyqKTs/Vl3V8A5Q3M3YPQ5D8SA4UVL3SEeoVrJaTMkK0IuxT7A7xCtkQgYx0ybA/XlXfuh+AI6d6hqOrK0UmKJ7+WSywQ0j3WUfcC5fOigZS++o4VDh78NLadNhBptAUUAAABm0GblUmoQWyZTAhn//6eEAAG71zy6ZbL2ABruNSJalLGrBG6EvLGLwQtkq5KiGdnjmHLrTdhximDNQDMkarqvcQx+00M21lDU/LeJ1Z1hxgRgSyblJT+eHJjo9HtCj6H13ZkW7Zhc3V3Ogho6JD2VRfKo08KGHi2LDhq3qEZiDFQIuZyJpazHukAg/x8D7TtZWgq/vHfOdbteM06WnxCRmSStp8teZw0WAE6NonswTkdQGRWukHvcdycjElfX0cK/+ZCkF1YcUTejHW3c6iebEqTT1E754fu0kpB67gk66lomE8clSP3ry2V4OK0PKVlctcJRT1KBt0a0TBJdRs3bTU+BWkK1mDpbUhLV7iejnE5oiA1fTf7bHA6CGpu0mkqlIL2+QoQCeOlSBFULRbEkceg8IBHM/w35fP6EsdOH3k1LWNIcVy2RT0INGb0q2pcMB6up1Yp+puwA6KwVWXM1B/Ro7XYAyUDrXLFSRsqsiBdlvT3pG5ljZJoltnfz17fjCSJfrMXoOcWeLlLByl/wFBMZOR38soteK4toQAAAXhBn7NFFSwj/xZIDQXjM1TH3sJfQWZ+YBfZzfblMQuY6N0r4AAC6BjombrGjPzKkMVpYvIbIfA43ErdZh8pW7G7gfPZ8lRNnhu7ja5gwkz5lmeGUsSdAa57+r1Iu8bRBJd3hrz66ri5FetcknYtDGAkl/YLJNSrW7Bc2RuxUirMKFOvoEWDQ/MKqj//i3/WVPvKg4bRnVXVzriLiWjY6NiudCgU1VqysoWjS48l4SnkHu6fXPtLr+g5IEckZNItqdYlXD7JgrdowxE26N/wy/o/nXxrEo69mudKRkOksvGrUCnABm+VEYil+utqKi4WbwLAx7a064friJYE6JHWYB9f4vOf2RQLdRw67f4Ge8B2jP44X3oI83C9VBxr0pAAV0zRoLsfVtgq3GMqoeN+Fj9VtyILTo4jgFAtHNnFO7CfyYwf+iPrG9sF4+1OKsb2EWoASYhpFdQpQSEqKSS+kERGH0yENp+tAGiyjx4xaQQTsLEYQ9Z7faKAAAABDQGf0nRH/xxalCxQoGTO4ZscrR4pwCkcp/Rayo0GJQcSdz1fwIX94uZHtGqIcZxAyjQbQeiPWDV6xnoyAZ5BChk34SW3Oznz/gCJgfE3gIllZMoc0LDX4XUTQtK8LSnTOVtQLPgnSog3t695p3d2HCHnl0XulXKw9pnfG0Goslche4h8IwSynJYlF6HuFgqnlFHSm3CHj7z2BAV7bm3lh8mLAFPccjXdeKsjR+UiTT/8RtgLmBvnJH2Wfok+nm22X4hvUtZuC8eY0asmWUfZ3pR7qFUdf/mKvBe2X3RiRzeHjtz/x87eH/xHDoaguGOSFlM7/zeayhc64aeCaWRPS2BBMvUdCsyn3s8KJQScAAABTQGf1GpH/xyik5ZiZH/ryGNXqyaFQtRDS5lInkmQAARf4jY10Cli99Iv5dw8eP8Otrok97QW8TeDit/GoZSZBCcRx3zoapPki4R6Kh0R77+2QcIsRn+40bfhHHnOUOF7iPMVZRQo88AnCnMYXeWOJ5GRgoPYe/3K3cR9pbDsIBTpUtONViwS8aspMy8bVl7yTv2Vr2Yf1b+Ya4GB6e3t2TKwy+xZwG8K4qyVkBq2y/jB5FMg9jRiE17AzVrmI+NbtOaDWWgMk49Xaa1LZq6TNdTju1xRiMJNb3cDoVUJ+tIWCBs0LYtfffOp41OcmYIqA46FhJtrgOqLA1XAlsNQPfPVuvTwIEZ7HL31ExU0e/jAphf0SQL9XTHj6CN45hU7aeXTSDSiFrbfQD0HQYWNskrsWMZ90+WasjHQartMJ1JRJFXZ45KxViXrd4IpbQAAAbFBm9lJqEFsmUwIZ//+nhAADd+x4Zd/6yMAH0HCS0cQ+Q2uPGY3jOH1wZ324M8bIfKrx3WvMOGq/oSWlPyEdbc2dy8zvnlbfoK0YLtrSXpo9o8JOErSGF+cnmMIYOjMLb6EFRIE0Hx4XUJ53DBxlGYMZE5LVYAjuZIVSfuL8IkwlUL3O7ME5t9w8YpDMKrbj/cg7ivHR/m662aRO3f1JxUrOoUZ/ZVaWWmK5a5bN9oizj4kBwIZM7K0S19rNMtXVDAPT7riTR9m8J1jsTS/L40PFVhP7XDsB0z9y7/lG85H7o2SfMRmfK8udjBHvBym9PZwvbMvTHqGdJe1OTRLIdJ3gKd4DX50Q9Fg53DLUClGZxMEc2NZ3qtF+SMc8orsn24+dTKpgfmFOv/SsnQIYVlqv/rtJlnRk1PezaRzbfNI207MlSSKp9SIOcF5aB0y49IYU26mIhgDcm/RqWGArLFQMrNfjYOwco0oYBMZI85LzJaGnCvU8JeH/Lx3bGKGYPEbMoByJ0BwI3GoHKPAPJzjd2N3xhpdqKj+YegEwxnvAShwWBBstpLr5cHMgSK3uZj/AAABWEGf90UVLCP/FkgNBeMzVMfewl9BZn5gF9qQ4ilGb+oAU5OP8ByjK9dRGzY2e7yW2+sbnUCAA/SAGxuQUE4tfNZVgX7XMhJGcgnqPM2pahmNhPCLZx1niBtw7G7b5qOVogdPVeMS86g5mvGqzqAEvgI6cKSnY/nqBd5+Tp9+nIOJfm93ME6obKqYq9vgYh1VhuhRKIiBd5zi5Ymt/cJ7p9QtFQh1ZApumjQVoj7Db2eTsRSZqRhG8i5T/rW7lIlIzQOrwzTb7WDgx4xIykwyb2ocB6mkCv83m8tn4ufjz8GrAUB43Dg4CmvOzVLJSvZSsHTfsNnb96xzFsXvKWp5Utcyk5GWX8QsldYxBOp/3qqfaDZnLz4zqgPB9DbcAh34hEP+a86L3Cd1eoSTkwbGKTb77nF8wFIfCGB33guXe6QO+Qv/yj1z0YL5ZLonTxy6Q7fadVDcaJOBAAABPgGeFnRH/xxalCxQoGTO4ZscrFx7BhscxJXABxfflNPxBpDNbzjP05r9/jJIhs5kfMdC+FZv0drPsys9Mf1IkZ2+x3epSUValGJsyowl/lvhHUf4QY4Iyysw+XHMm0dYxEx3P51uXTlF3garzRGkF2xXRgK4X1lOMBuXqGv7ZFa3iz0wf5Kp+RzjYPzTjbqwYJgQaigEeScGmP7ve3mvbeeqhFNaAwO8excF0Vn+cImpCZj6Odqj+w7WJdXpWkMiR+fOKgNvlhS4yEU8gF2D32gL0ngJ/y2Z7beoWOX7DwD80Wwf4wDdHr8ohtTjPFEOePBMMrDCqoAFa7neBdru851QcMDJVklmAo3TT3t5G4sJMkYlJiJFq75z29dhArQXkdwUzdMuQst1Xed6UvrPOxKVl4jTKFDSfgnKyWY58QAAAVYBnhhqR/8copOWYmR/68hjV6smc25t4yAJyJiFNSZgPpdre/r0LbffruUI0yKkxepnV5H1TJeAXp0TQ9or2n0gU0gu6MLFRd3GDsF/r/WrNb0NKsPjdzGtmereC0Scnsuw4asj/cz7Tczqo0kYQTSGlx37cyGjWt18VM9a4sCo4LU80Il8ZMo+ZVaPAqeAMkSs+i8PMQQKMX6uzugSwDJ5MOBj2+RSVh3M7hH3ByfZftlPdn7OFJbkZ4LZ/n1losucOF1LygGh3dxBny8df8uPA/vjOE3gt/8NBemltWM0RwtboBRXD1rrJaPT7geppv1M9gciCCjlR3i2jPLpO4W4wpINl2ncZMsriwjy9SPP3OPYwTbM/1y9UbUE2NHKHwex29UzD+2k6lY+mAI0lC9JmKxNH4ZnNq6DwGCq/QLWpRgV/+l3occqvvp+MsdvsPKrItP4D/AAAAEkQZodSahBbJlMCGf//p4QAAcb2PBuur/gZtkALoJJ4F+w+7OHeWfi1lcVIrMJaVm1dWgaDGqmMKswEOvJPnpbxS8ztHuUkoGMnIoeC2o59oH7hYXRRfCEeTVMPhCpkQ3ktq34vo+oEWuqOarSkVa6oZmIXLETW/mh4IKegm46hPCe64i1UJ2OGE0tTHjBrnU4q9Xq1BsZIY+Mfdq9qWQj4kxPz0zeI7bzFvOkm+PDeuiKG/+6FUNdOn5bmmGWhVuAufSA/zd9QDcZMsGDJVI2DapBAEbTD0eaoUYpnJAe3vdjyOanv/7OG1X2HGj30TZwhnCOqjEpVljmLXKiyLnfaifEMZg0WJINfxYLGvfPa298gKAJ394z7YKFapS40vM2EejjVwAAASdBnjtFFSwj/xZIDQXjM1TH3sJfQWZ+YBe2xXvH1NuZwrZCYAQAWXM2/xHhqu21YF32J9VxpIc8+yL9K2rxPbf4eloOXhKvVPycOCayCVIUsjizfyKsK7D1NzlbZtIKQ6VyiwXX9cyW/0a+iyGqrtrLzujCui/p7Tpa9lTUco+1OhVS2c0b4BOC1vu1Ohgzuw0MZmrvYvQda8aPdhJASTYeCUfp8CBvjntt+OXNG2r1xYIv5ALMLiFNE2CraSfzqplbWmwW7eSMGNaTQNHZzcR1CX9Z8R1Sv7Cc3F3nZTi786cE5iUr1+j3YoyNQVduDYkN6aAOEbsYnCMtHHjPObCXClm5sU4E9tyOnTTLDJCCqKtuwFK4g2Gl+oIx3ztvKIrQA0yFFLuAAAABJgGeWnRH/xxalCxQoGTO4ZscrFviUrptTAv9kPKPJOD4AiQBwPEWBoK8cOajhC7yTzPIn496x23PLSJyYU8xLXhZcY9ENePJVbIVVSP08rtQE1zIuzsFZt97moIiDc1zuuQ8KuanYlXH8A306a1wSi413c2F+rhCs6lnzYbiWaWaiYsI/tm6bikkYBg24Nk8XIzoyFP77pWqMbuIKg3O0tBkvPGhM3a8eC6FNLXlZH1KB93kZ2jUcytjgUynu2hi6MlbDa8sxyVis1Q6KFSu/4iwA6sA2F55ycW781yS23kyO35ugTo+UyXqxZVoHSMe1fkxpl9Or96RUWFUdYfW5CN1fQbvI1Nijq6TnZz23SzkaqRw1H9+lgmbkA3eMV8IJy76jCKB8wAAAPUBnlxqR/8copOWYmR/68hjV6smcyRi3oqj7E5SQAJ+B3SNBi3Yp4lDib6t+2VWqsfkbNEKz5frnz2FGaWP8xarjBi4zrxf5wa8d4AYo/MZ5z2hkeN1m8H4+wvjGmPYCwxEyhEi6qtaaXjFKl1wi9ucBjPKpjo9f+ayN6+nhNQGdWahcNf82DEBMh/VhagVuiTG9pJZnyJUy9rX9zFE1nOjE+F1asW63E8hXFc0g1vbdCssZ+iC8it8O3pQ+hVXW4qR8EbkV8SbC8QkBIZrMEZRNsISx6FfQwgej42BJtfZ7t0Sshgir7azGMhn7AGjm4vZhQDAgQAAAcVBmkFJqEFsmUwIZ//+nhAAAn/u/WDQ/LziAxKbLL/g2AMqqgTayMOi00NesVVQebVn5MIEn8l8Ih4ilSWDH+KQPga1V4zAdjxpcihijwU+QyXK+40LKawIpKOBADtMKMaIfmnHqK+JNpOP9moNEUC/OHv4Bq0dGWeiCUyGGqeRI98lkwvs5YcH5E1dFo08PBSftXBA9sXBiDn0juKM5aeg4Z4yTjFcuMQZEmdiV4Q2EzG0/cXOzJ5EZbAvqRn0m4JdYGSXguNcPH0Av1q+ktbg5O+NATf0oBDWDPwUM+7R3R2UUEszR/DvP3bOUz5i5IrXUG3QT0FH9tjIcYCu3rt3+BgPfDwkT4pe3rk0tKVm4o47ZvRxemHyUL2/nxvlvjKW9N/1sr9l5aUALDcSX5cadRlg52jM4IGrSpXrEysNp3KAlPYqLTrdeDuX9DRaTYykWbJk9N1JWd7C/wnzLjfncXhRH3+LlnFV3huLzLeM/W9Wjd7d4Za/9BYhJX27AlmWH6ZvC/t29gi1J1t12TvBP/UuktRpkZeN9RM9YAuIsQUzXVT51iDS1c8Y/0SwM8LGDMujb7fTI3s3SAAySBvpq5frF3AAAAEVQZ5/RRUsI/8WSA0F4zNUx97CX0FmfmAXthVAqPJPrt4AKk1YKVYLQGuvK/+Xvxc41qy+sZTxGbJ4yj8DGbex8apFmEWoPbb3LL+jgDy1f+Qrjnj9geiCZ/7Fw4ODRnt06RSsR57N2QXFHJkTmCGLC0OeBZWa3T3ySo36v+EvA7M6rwaKhD4QVJF7JBk8xH65ql2/YJ/FlhxPMadhYhLa1tfsjH9ZoHsARHngJyvlmJKktFp8kpzn8goCX8UMNuAN9TjQPsRiTyCHGQt+p3TGXLY0fAhZrikSG7sqCALsdakQ9Z4/TVS/6Lj64ur4GQUPrU091iNubVt6knUzyrIkZ17hCr22pAzkMLS9jHQGEFIob+2MHwAAAQ8Bnp50R/8cWpQsUKBkzuGbHKxb38DXBtlIvPfdDDNYcy5C2NvHhDPJZyjfHwA3XaQ5qh9Xt+RzUYUzcpAeN4hIeryMt4bfJQokEzGxCPK9fUmoiBsEzZPGdhzY2GEhV56LEmGRDL8sU74jq/wqgAmqhrWBG0l45NHx33+xoYwmvsQ4/RRVZI59IOXsVpcbh1crGfdk/FfZ5nwSuqqNfM6mpFClOaaxQtiFX3T4MUjx3Chw7O2EuBF2UKvuICcBqW8Uh+TcWl0OW2RqK3GJSBniZAzbvU+tu/v7BEUgkY8vZWPGkG1jTl7N96S9LBgWfFbYKfvdOfwDKW29vFlUMnBBu6PI5S69+G10L9tY1D/BAAABJwGegGpH/xyik5ZiZH/ryGNXqyZzJGLeiq+TgRTzCDAF/pyIwJ9txm2C5l9TbdlKbrHh3sKObJybZr+gZYCd8Upjnl2k4iRKiSMp8PnbBM4E7olEtGvfw43MYS6k0vVYOxsOADbwIwZ9TRPL5HyguLdPsQYWRfK1CkLyk5fmJYU+8f/ShE+zoWBxhXO+mrJBTNJ+0soPbp/frngezIHqzXdQPE3ZI1ecmtdIwj8YFaIs5Lf2r5+S/BPi5Un2x5HsK7bvJQbVTeMYlL2KnuACRX35L4VuU/UmHF0ltxNPot9lOLzQvHBZ65TfoDeNsw3BTIZtVtpR55Bzira9SQ0SCQLmyq6Rz5rah353jHPwU8UKCy9zxqBvTFkFEW1J+LPKdGusQ52/gQ8AAAGiQZqFSahBbJlMCGf//p4QAADyfEjoTYAEz19NWi1fH/vg9kJYwAyCJyfATv+A7xkROLMP5wNzAY4oHUFJ/zjVwCL6PoL5e/FITnH1VzBZEYpWJE74Ovif+RQyv3yQDc9MFW/LVIWOPbfwtId4qNPvs/6N4ohB2NW7uvCou67JISFqEc46hFZDCVJWq6oY/WpqXeyL4GBlzJTeicybqjHGiBwRiwBJFmzoc2f+wnMBpRnN4kKGwjcE83/U6KnfoTUYNNS7BrPWg6NDlift+OM6ryJE1Sq9ig8FrDXWTGu9BEhoKz2Dlpvd7rSZ9TRtgHwX0o/ARq1wUpipcGh0M4ZwDDQ/COmxAFbBnOe/cJKWSCKGWtJlDjen0amzPkLjydWtp84FXjSegx+OX5uVXe0Ks9tqW4nbIhILLR8+HJcge6kfVLOWpalx1weu4EdQgq0PMEHgjbu+ezySkKb9KI+NGPbHKh4QVECaxif4ZsRVqLeaCcrU0dVilBxo9jEOXG+whDw9/xhPQyXu7uQ3LlOnfTPy9gQgQl6UBzHk1ZWQRHC7gQAAAXVBnqNFFSwj/xZIDQXjM1TH3sJfQWZ+YBe2FUCo8jURCNyWFH0AVath9aGlCTwU0Evk0VaPbLLiZDhT3hoH/ZlPSAkIvQwJI8YoIqTU5Qd5fn2iEd08fpYuXtyYBCy8yaO/heNwlzDKvbX1gkRWoNTPKNfcelYRyuaCWq2lmvsiZR7kzTyBNWlaQRa1engUsnT4Czs8dSg6wI7NX6b6ikOnfpeR3wCk+WYd3SsFPmxqJt02twMg6lg1MZWGr1cFLRygnJ7VxaazTYzkltdJzmvI4SKWhEGOzpWK58+tLIkiZYcUbY3HjjCzc+ke4Q+ViD31V/PPgDAi06LKOGp/V76s5YiDMvilmLt3r85V2bWBjr4KXDIeuQNtW5TO5vTUaq4d3DbKQawlmFT94/nEu6XVm5DtIPr1xthJHrIJOlM1cc79fsjvkEntdY3T/hfgUOt0nbocCo3KRKbWWT3DCWwx8e40XtqCWD+pDt+RxMuQHH11kKmAAAABOQGewnRH/xxalCxQoGTO4ZscrFvfwNcG0gB8TfFAgPn2RgBwQQ/PM++GTAhz/cGvWC7mtx7US/Kq0pb8nJrIyNlLSaLoYGde8wxsNpYgnSimXjdi5MlWUWqLGbIZTqUcEAqsAQmEQk7ZnsWATA14dHbcoAvtkFZ5ClQ7vyZ5UoMo0gNjMqnYnCTSf/SomE0ZUjOzk7JIZZn9kkjrN1dvbmQ0mo4TJm6SgTNSx4Dbk23Bk9oS9RvSadEkh6WtrTsHVAikg0gJSZ6J/gmHJmpcZ9MjCLirr04iPvOZ76GAzu6KlXCs1lSseUO8EORR8K039T87zrYAJgoAZd2f/cq/jwjSfvj+xkEwl6ywaJ+4n1mQERtfDhUla7NScnTa/W0w9fF1gVMgmb7H9LAeb8VHY/+kgH2k5vGEAg8AAAFLAZ7Eakf/HKKTlmJkf+vIY1erJnMkYt6KXSUGf3EANdWquD1ubdpSofvkZkyeKe3yk6m+w8kamfqhVyIbjh+Bux8oxthi5t6pXNslY2hsDacDevUNK0dMMwCTmDktr3g30VZFdTmZIN/8FVenITR4x12EAb27CuOh2kQJlOGW/1O9Z41qlE3m/VXOz2pxhzKLBeNfuywf2H5DQJar8vJAcDGbu6qYcjc1Fzknke2gAMllKOigE6ebiBrVS76XoVaFR0QP8YCJMChxom/JBaCl7oU7neJSZaegkfdqChlBg4B4xoWitn1B/asqgy8wX4Yzbr/E8qrqtNogjA1i4zmf2u/wQqeyk1nF6IlMiIIv0KS4jaVWVWzk4fB46m3JdLgl7Yl4X6Z8Jst4JpCt2XuQBSgxGgv1wPqoHk4RQ4tyuvRhaMrTE+yC8vCtgQAAAZZBmslJqEFsmUwIZ//+nhAAAPKhVyAE1drzNpCzLqsxlw0sB09PC+Ccp5b3QeLGQNof5NJmCTtxJTMqTaIgS8bIsDB4ZLVhnSGZapQxq8SLKlojtxP2DSz8AYu+kRnlcmEvUm/adPSsuFtinnwBZnHs49H+9SL2yLFxR3Jrp52IbEji/zeKKmtAnAJ9ip+q+yDwt9dI4IqKJ4yqcM0Jilwel4KnLNqapXBtSDuGogXaNmEHfRaoEriZme5FCDgOCCHPumJHbiV6XMsXwhfIcntsRwJ/wmFk1F5A6oTSCNHwpkrizbiSJG3jEHju4TRQIHdwyGHaIygaSCztXsOrDZOzorijbcF0UGLzZD54S2wU89FQc66jKyr1kCTkmsLf8FN3X/AX6hK773x/nALJ1uRtbEJn/Ts8P0jRIwaSTALwQ9l/JedsVPqGwxa+MJQlZHTBtqMQT+XzSkPLPq/xrIbgozyO8usHYJypHaQTQli2Z/d4JlGTqMqMd9gjx4hUr0nqa0TBUlMohZeWesc1idV+MVcGCh4RAAABYkGe50UVLCP/FkgNBeMzVMfewl9BZn5gF7YVQKjyNREJaeUVKaJqWL81LtgJpN4VoVLOXAE5hbW5HVY3Fb+uYUTk8FozpFQakivCXL0bivj770y0PT3eeDjENuEwEAXBhkhPxmgEZ8+CDqCxo5AyHZ529xgMXGbi2OUDDOZDkUtrkbCfM3NaCIo9HkOzgLrhNP1T2zwWXTRO20pAq02XwjU+v7kOISkPMKco2zcfOjO9eUMlhQ4I56M/mdWyiV7rhYIf8TxCgLTN20K/mm1aDOQkFlmBZOf3spRN6xwJexCbdgtqTfZef3nPcunHx+a8hSaI45YIm6RmWlA4nj7gKV7Ubc/STuO7wtkL1WYfE7FzuT/yuCj2WPTCsRWqzICT0suD4GpMWNlkXsMN6FBae6BQ1lrHKa3Tv9EsqLR+xE8X+ZCD72xRYXbyc7cPDWAqk2FgpZoUr2wXxmrWjfgOLWnxswAAAQ4BnwZ0R/8cWpQsUKBkzuGbHKxb38DXBtIAgt7416mpmjWGFdWmRz4kHZ+gCs4HTUnk9whoxu4DoVO7uRJzSXAxCHeaVz5HZ1w4i8hvhUdgUdLhKevNW5AIPelZ2WNaV3xWf01GPOgb681l+ari/bOw2Su2vwftCRtf/j/wDBIlqpYBjcRbnHWA3KfVX5/1ROSY0VmD99NB3XufSdaARpl+6uulVStEKy9ZuLSGgZ1fqTd9S0E7yzRhFwqYmx3L8b5+nYutvAGtoAbZQJHdoP//eCQg6X6NToWWzfZEBqxdFzpKKhxs1LSgJH7jhHNjosIXV+IyPqM0Hg820sI2vxw6BMmSchieV0CJmEP3Ei4AAAFIAZ8Iakf/HKKTlmJkf+vIY1erJnMkYt6KXSULiJyjLSaXPBgAryNK3myjoKA40CbngraQWNN7KNh3hSYSqAqsvkh8PEX3KtHeo60o7kuxQTzSaixusOJ3e9GtOdRnIsYxW4W3t4LzSpRGLy3pC4Z6PGs+iomuWqxM000J72iUxApCeSG/VqsaRT5/kSh2z/EvcPOtKrYTwEm0ny44dgtLvO/wjnokJfWOTxoHh3hx6LOVgT0YyHUSJ+GVwcAocbszp/B9eh3lf/P+uphXguq4JUQDa6Oukvue8swIIGpYcEXqM60fuU6XMcD9+k2QINpXyXKqLQTWxVA8c8WeubqKI9YVeIk17U0r/mo+qkYKrPsCvYTP+Gwamxij0BUotZ53xpi6Y7EfyYMDWMaTKHrumV+kYJpEaRl6uC4/dQwwHUfIzytF7tW7tAAAAbdBmw1JqEFsmUwIZ//+nhAAAPP6iqdoaABdgCMjgKReiUfUIOlnNnoKFQWQbzdciQJP2NiUf1kZMg8weO0I8PW4suzFG3V3f4twZ5Xo6qMTD80eItbDDddfKHxYA+/sjDs/bDCPYTgdJDTXeMNFEBMrl7Uot4a9CiBL1Zibtiu1nUGeUFYGi/32Ob/NIBol8jdoJmnOQ7vibhnpn8dEb1a1z31ws7v+f29KHgfRzJczsaRqE0htVX+0f0/nqy9+6amIJrTadIj5AwoTmXbUKr050BNiHL1GONMsE/8tVZsQnyj3gqnPYVI7iZ+UEquzwjEKnXALts1uN718vOmp6ydcpqRMXDVoL80EB6RUwUisV/3nG9TQPSoQ/KOsQCty4GnyS8sdwKoxNBWO0WI/Yu3rrswIPNHyj92K4Aki7Vq7JuCqFgBYCLbRtVF3iK3yDOD0YdLVBxWXw2LIgBUWpheUjoDG009Jhhew69CSoH8leeB8ZmW6Ffqd8j6oCYHNWsy8aoOEodRxga+mwEK+9UO5e9asYYDCkv5y4etX/SuMnsqr9FcSZbs5hsNLufaca5WZ0chycJ1JAAABSUGfK0UVLCP/FkgNBeMzVMfewl9BZn5gF7YVQKjyNREAvighm0rgCJiXIFxgqhiNlw+2qWVmtLQHgsv5+gLa3Ns/gjaLlHDjzG69ZxoHU2f9dDJ+++q8J/IS+lRWP4+sS07d5SqTxOq48qwPO45eKq/9CAcQ1JXKKKomBi9cde5499VzlagEPqiDjFzXb2y3jWFOdq0mJa6un/c0l2TO0uVZywWSAII/0zN1ITWxtubSxKl0UrvidQgdD6tKLfqdPebSDWV8f94hp453LFSl4HmZhSVADHifcIFBGgK5YzyrNx2L00fC5cXODZ8e4UNwrc7pybQ6PEMT3MMZovNGf/+rqep92Kd+DpD8Z8hRQtUaHlaz3sblrSWO3X/a4n+HKWbqVfRnHXp5yC9/uZsPGAV86vmadfJzX28Na6bxM9CLSymkDf/wuzugAAABSgGfSnRH/xxalCxQoGTO4ZscrFvfwNcG0gB8QxI8Ibg8X35/b7ABWNjyr2QgAxUjpWwa9B/WyfWlq2xidrL5A0BK0Wcm6y8bAScB00j7aTV0P7nrE1vU2Em0Rzl2BW1abHZl7PWAYvYtu9aLh8Xhj1sV+kCavg9WZ0OE8NpicdtnWYxhrwt2IWI+rfe1elhQ1jDlX0IooH7GOwnYPknzNtP7LZGBuPaXyurhq+hR7mCMO+2KMdQyVag5rr9C+WAHQeX4wZlkyHa1J7h4mXDa2/3eNZIZHQh583s0jU2VpMhfr/M5p12+mgsEJWFTUqjoUR5QpKGoSGfBILvf9ydMYT7sGIX2fY1QmdQW2PqsQN0eSA2x6H59T7mmn2eQYvBGcIBOYeYCybfgVmT+zrDNW9NTBENgzQuaefL54pCpYu6tTjlQMGJX75vdbAAAAU8Bn0xqR/8copOWYmR/68hjV6smcyRi3opdI/hYb/DNCzCoAOThv4IyjMc8kKRr7IJYbnTabKbiHucQWWcWEY8I0lealySDDFsO47YV3u05v4Y2zJYeuAjti3M9Hruo9cgTG2yl9OF9/JzNNSiw9AaFQF5QismoEcy5hsdGX8cQpIANLi70avl7Ts88F9EQCpORlVNaOFXyMHjxdTozrg91j0jIyqAF1GiJWEce6TGg1dB2rDm2X/g0F//JVwO7iSj9pDBcyXOoKvYOv/3XLjy9FWDHvv/YLQP28q6tc0Nktrfa9qyLLGrmbIXnsrO/kaCjnXdvTDfPS4jDFqMivjdI4t9hqcWsX2LSbw4C22/Lx6fK5JDFxlGEyqB5E3xEjy8Y3+dGXAGdgQhI8f7JkC7iyBBOeG/Mf515Cxly8ChHUZp5Ylgx4n/skAK6rGVM+QAAAYdBm1FJqEFsmUwIZ//+nhAAAF9nvv5o1OGhyIxvf+EdcDm9LYMd+iyiuAE1Y6ZWZxVJMD33j9JrVha3dSgU7jrEwNOWF6WEvUP1oFeoL1dmH7NThciKdVnXO0F87YZvFWNoxLI1Z6NeceG8w30JmcY6/sXax1JE1hdy67pb7PE/y9fHV94Oh87XfQbs2yB+d3EdUqDDuWrWEWFGQPOJct+B4C7xYdFxrWH1ZStmVb/H7qii47iurN37Q9DxN8NlmSTsFUcDYcPYeDsyLJAH3QVz7YBw6YK7VL39O7qHM85K4fQVO1al4qy/TyM/dY40/ZyhqyW8EXk+pHTw/AtOev9Es7jF7TNjOIk7I/7yMorj21mv5dkSJBOiAUUWfvZcvd8zBllSlIy3kWAMKk5Eb9bjpvVat5a/1P+MPSOdwQ0KhJITmqhW9xsEyJ13WNyaDUbssix2zQFvJ6bT3QBfB+igU59yvVu0wRsM2o+jjWYplP9OWqwPGPlskIDZIAC6/H+k53i50vBJAAABREGfb0UVLCP/FkgNBeMzVMfewl9BZn5gF7YVQKjyNRDUiM5xldIAy/TjY7eS6MandqFJ3GjZ9PA2ekPQEDvwCf98YgkuJPFqK79hGu3BlmyXnVIVD++p86KM2BPq1HxpdMwb64s0P3P+aDEGQvXgC5JJ2T9SVJM44IkLAFHkxKuJuzyu2C7hBUUcwVV4hzYAevD/4QS+ki3EMTovdge9aeqEbKz6wT3Ct2w69vO2TKGlaLkiCq2uB77tuJCyYMSSMwyazZxsxSeo14CVLDUls0niLWoS06+sLJsrnhnrbbmMB95SgVCeMyY3MyqX/2MdG0s+WT6c23pSr9qsIH9yKaDNHYG5pEOkUivqx+Cfb3usmfFaSuq/ZA7RlcFzBBLUCsV7z/AswF+hGrRuLkQwXTqdweQbgpLgfze5TSVmV6MgSDN+mQAAAOoBn450R/8cWpQsUKBkzuGbHKxb38DXBtIAZ4epnQgFkd2NWcp3/MxucbB2Tq2Cgzgx8DwhnWHy/ygBMODmIrK9dMBe4X2UwckzklapY4yhtASlOEeXpg0w4mTq1yXOsHvKvWZnyG98BpH/97a0p7rjR7TA8Ej5So/Z+PNsrYVM9M8H0lVZbc1UEzJdK2WZ5WmXsetDtAS9qJaRUef+x1aR+gFc13euK0/IhN8M9OYvcfPHBB1Z1wuaPRheUjmnBbvH6lzRWicRA5uEu7nyCyRJNu/7f5uNL1/sBbx8G+HoHnMDHY3PXK7NSTgAAADfAZ+Qakf/HKKTlmJkf+vIY1erJnMkYt6KXSP4V+XvDTGLoAV/jc9UtnFbvGmffWaQtq8frGDl/6S8bJMsvnDwhEaZeoNYIQxRgbcNnPgp2gj3/P5Cucj/HzMf2GGAJHzlhiluBndmr8giq8JI9MLcJ48hv1sUvfJGmuVJExMFeA9/ULXjsipg8Hd74Q1+ceLr6AHJwMp//lxBd7zojIdT1E9DDD/Ann1kXXmXzGcA0YngIshPW81HoDDao6D7jQpw0ZNHK/wdvvISeC5QGCGRfGWoBQSoK3A4wAGcGTM44AAAASdBm5VJqEFsmUwIZ//+nhAAAF/9jwbOu26JvaRZxi2ABtTHLbwULx9jsb38quMEGpaD373WTW5q7GkiFS5521GGyujhxPibmPvDPidsLKPaGem8tbzVATQi5PAFvai/UqYoC+W55DZOQSdY2s3zF60OBt4k8eo5tY6MYhHWa0zsFhwJP9BE0NscHorsXPileAYfw1szPdHqM47wT0g4PnBjMFCYyAxVVhpbH8SmxBChOHBLrvgMU4MxEdFiQ6FV3bh4RHspo+6aRhfg+DwdX754fm2FrMAGUYCfnJ4uI5E13otZwfjJFKvpGfDYtEOs7YerwEK5siuuaUV9dNJOlXzmL5UmnsFZN3OCMRhiUvYS7BHNfhca3+5Cf6xJBx0r+KlNr1XmkDxxAAAA6kGfs0UVLCP/FkgNBeMzVMfewl9BZn5gF7YVQKjyNRDUiNIQbsmxBXW6wZhtHVg3WVQEhmRuH2m4oAJjNFBGuMLkI+eK25f7rCVZdlGh+YGKQBv7N47zp7wzzzyihdsA2+J0QyQqB+MqHdk23eU9MQVzCS/DaZyIB/swmdPHYn1oqlqAp98nIuXBt0kMKIH0TdJc4kAR93pXi/XhNgsvtby3D3Gw+6reXrU7Q0KWEkLmHKgGUfsJlreoncefi0z4Oft1X2wb4kQob/hJFvX04XbJXFId4BA0e1AMEmluAeVoU5T4GFZg3zHRnwAAAKkBn9J0R/8cWpQsUKBkzuGbHKxb38DXBtIAZ4e8YziW4Mkd5aYUCCtgt+jPF1GTDHUFQBuMu4Zuaf/r5PYIQKRrzLfuUsyMo3cRdVLyzZcAFkcqwZy44SpAz8vdrBCWh1cQCFB7h0FbGGn+zt0GoUJVtrIipIdXu/wMGI2W/NJRceSGMCxoV1SB6B2GpQnksdDefgTciWeYdH0cJafQJafGHukxze8XDpQQAAAAxQGf1GpH/xyik5ZiZH/ryGNXqyZzJGLeil0j+BZo/n8t8tKHwqOXCIAPwpG+6lAtT8UD1O+ChDVNN+i6oW0tP/KROqjhuRTt7y/jBQAyaOFIl+2uDawlCsGctAptswRUs78z4jUMwkYOnmnrybFVGtDFdjuEn4KP/m/z+PANYtEZ5Y6qe/eHAWnEI+2/S62pE4YDMg3pkx3QUySvcju2Y0DmR+bz2SNYdVC2wGqYdj4BVg7RtegiVE0wuJ4kpWpnwrKQoLLxAAABUkGb2UmoQWyZTAhn//6eEAAAH91z+RLtbNAAc93mbSFvR9uHRob4YxMkdTXN58KruaO2io/SUFqxXZsFHar+E1RqCo7dmznPcwzf2bguYFhnvxPfM3nVtFhb7Ie8TTz2mRzuod/Vfx/EpW4RgQ46RBqJUuenf/uunXmbtJQzsjkkkZPiAA89LXqYro8zQqStp0zhRDvIMWqEalTXTBNV1NZGcqiZLRGMBpVLczUuLpC1mP+Q2+K+3I5xClMoksfzd/5H41wy3K2gu+NNeonpEqnH8wgebbSV+fzFmzey5ZkWJTUHSWJqgQtg//l3AFIt02xjh+DMP1rHy6VcaI2OLogbgOT6FmSqYyJoonCzWoJUP67yIEjRKCbAuQiNe4UM3TwG3r5ra5CoFTBWvlM5JNw0aD5zD6tudbyhM3V0hppqzR7CeuXBgDMQJzA4XNVzAx+uAAAA8UGf90UVLCP/FkgNBeMzVMfewl9BZn5gF7YVQKjyNRDUgkS0bM8EUoyaWAFkcrlQJib1z+SIjs35Pfj0NQHdhvNFhYQz5pTDS3pSIuo7P04R3be5a1urJF++0veT0mOc/dja3QossFh975inKRBG31Pw7dvGxbKTcmgboW2A35TPoCoF6kA30RmHci29D2chPJyg+WQl+ioMid/nV9jkH+9zgUVuA3ycEAO4DwF3YfrWfZRlx/M6cp4ABTM2GU0BU4d+czBm3VBqQpFbSZf7i9x5Nh8lPwTH1sdqyd7fCI7iW41LJpLkiYjpZ2msewUGqh8AAADzAZ4WdEf/HFqULFCgZM7hmxysW9/A1wbSAGeB+zcO0hD6VJ2AAFxWTdED04jGOM44PDT++9Mfo/UAXE+l3F5ozsHy0nwoqO7so8eEKWAgeIYLRpjkRtNLSIe633qzRa/dJkNGtd4XxDZMWxKWkgW7DyfeEfjiLUGT7Vwa4D0DbpJv5v/X1y9VOw8heWmJ00c8KfZxrRHh9f/ZzZmKSqmWyveHHRDRMnp0dhJJJm4kC6fUuG/SUfUjS2lzrQtTHIizacOeWRd17L31MbGQnXFP3oHz8yIiP+v2fX/2ySy0cDAN2Wwn9NMKfl+hXR+MWZaM+aQdAAABEwGeGGpH/xyik5ZiZH/ryGNXqyZzJGLeil0j+BZpPTVACKk6LBxcEBEdXXV+mItYEUUtpJ8I6bSeVlsf2dWZZLpSLCc8LAtt2VKBEQ5s5vAKg4mO9rbAJdViNbxYnlfxgZvDuTbkQkKhqNrqwwgD18QOXzLY8shSrSDhwMhBMjksoYQNdTpa1iKo3E1Lmzs9U7tdXJ7OiHQvJUc+3RimCImKyGiYB92FLqKhXpYrrjmWl3DyOXOfmvF43UZ/5ZfwNwRMC8dVOUTUn7/DcoxA09KxXW3U8KV3JseffIcSUd+XLWdfD6EIJdyRbQmtT0TQE5Elnw8AwrlJ6D7Ut6kFiy1aApz4KU9auZUvg6Y2Ev+nmQ/IAAABd0GaHUmoQWyZTAhn//6eEAAAH94TvegAOi43A48XbeWK+9xn55dbr6knjmBTyVb/jUU0INcSR+38HKe6JlOH6/uu1SI/CEl5taRFDdXqXaxj88E9HUCUyHr0x3s1+o1wH9zKUW5jTRJMCsE+AzSMmLlP0Tz9ltdnDZfAOGLRInSydiQ2Zd8K8oCB3M7KHt+b+2Rmkacv8VAGiWvEoMKFa5o6I3sRjz3tXePSldCRJAMoKw+2cqgxF2q/y4b0A61NQV0zVfd7UOyYhKte9zyEcSg+3Y+SI7HBrW7ohFrJsMg1Fpb9rDdiQK+knzJ0Oe4zmmeQaQHrpTiGl9FcSgkBvohhhExGCrvzQR1Gtw0hnJLSVHZLecxMoBecJM1thK8i+pEXMOzSkoy2Io9Kma0YXUwxKkfOTWY5WeBcdzdwlmGwBr+X25Q1/M4TKQYLw6knaTeJjAhXDUbFkzyRoZPs6Rgpt9zRhHCoXsYJZWJRCAvYktN0hlyZUQAAASpBnjtFFSwj/xZIDQXjM1TH3sJfQWZ+YBe2FUCo8jUQ1IJd6b8yAAgBik67+ceh8ZsBCNpD/hV+RXwRCzW8xg2E6uvJcAZPH1Z9HVBc2nwB1ebgPThZuNuNQ8+E1pY09lDXsJBMrU1jUszn+Khd8BraZpD2izqZh9r35jL/UAECztHEMF2qp1IOskhyy/vkOjCfWBRUTYXzzLx5R9fCBgFho4gcIUNh6n3WcuBxVYFVnwRP5Q613bkEkQ18Rrh0j2OVgz/eMibkJkgxYOzFlxgkfLmnof/EIecr64/VYYGcNGlJ026uLEzDFqc4GjtMAQ21DxlZ6q+1fzA5uel24pSJV6prlEG8l9h9tZrTJmyzAdr82hAsHhDovggkRnZzYE/FeZrSdF5CkWuIAAAA+AGeWnRH/xxalCxQoGTO4ZscrFvfwNcG0gBngg9p8KIKiIJUAVahCETci+kh3yuAzquOAheeavqt3K8U7WeNTt4UY7/3qm+gLjhIcU49dUabnfYkDZ6H0JzUzmBD5HLyokMR/nJ+sYd3z7BHMDcDfE7zWtEKkop86L2D7ePu/kvgWKCmJXi2WUjciIKnZ7YcrcSQm6yXs+op+vLyPK2LP+LLZSr6FQSqrntGgr7N5hVJcT9Mus6n0j3rYIKcxHMMKVszplLBtmmJJCZbq+sTTjci61kkmxJ2llC/Bd63vtmJTV/ldS8JUsJCpW/yZV4hBHv3/eGIACLhAAABHQGeXGpH/xyik5ZiZH/ryGNXqyZzJGLeil0j+BceF8YqtD0uLVIABFVkY6WYSaviQg/+i6R/fEvzRnYPJbvrLHuib+nidCk8zo6Sd+6f4e9HX7is7tb0Hgs30c2/ZD9Rv2Mr8X5bOo+o1IuLYoR5qx2dmSxDABZIJ53e3kkCIciRfMh7G6XUlvGI4VtHig/JgUleM0IN9MsV4j1igfWu48ra6j1Z5ttHsnNwVnAbpEt+N2SXsnkIqWt2cyMZmJUxzykgBxR8CMC4pfJdi0DhauFVyK/DVH1YyAWTdOpGo122n+5QdBjDkaJcqtj/FqRrka5zHqyfZuRBEZa0QoUxgl1x5U7dGbhdcc36lurnS2NjErelAMsc53F+BRrKgQAAAWZBmkFJqEFsmUwIZ//+nhAAAB/fY83dE/8yrUy9vY1kHou8AHwOWSWJoJsv+OVJyFSV6pYvp5P9EaBeLlsb/cscgFwlsDhgA9f+7PhBZFeSEVu6xHnNm/QuMwBsCbn0T1mlXi+11TtBEk79TNuAJ1/xrYosi0hWcfbb9PxRcBqmrLh51bBceuELxJFdarc7rX3rOhEA0LREzZwz1t6ZPV6yMA2O9Vo4YTLwtkOZYHXXNf9mQZ6h4MVNkAclArEmpG2VAcoaY8w2WCuwhFRXaaXOU6gQFyov51WEejj4T9i553gT+FdoUzuq/LQvh7Ib/ik+eLZv6EQlgDMSylw+GmrEhKg8XKVF+qEaMmSxBXKESHrO72tQQcKi+rBe57X9tdJczAIkI1ZFZasEI+EIEG8/fCHriFwkpJ2G1EgFe07fCRK5RMwrf6PTyjErPdeUOW9FGSxU7PAHxDdVOmuTB3YMqQfH4yd0AAAA8UGef0UVLCP/FkgNBeMzVMfewl9BZn5gF7YVQKjyNRDUgkmIO0AIl7Zj8dd9Fb+UE1UX11DztPC8WIERbbdsQmAubgZShMp/AxbIIJsNt5V7LRAAMe27V28z/Fn7bhZ+2OY1laIhDAC1NUzZvPg/864DH/Md7m4XMyKS8kJ0f5wGx88gzxk5+mekD3FfHY1g5DkqziWxSGN6+mqzsDIBZVMIgqdI6qD/A96sKd36GEW0dnwTwYz91NtEiuJFPY9oPsqZqRMpu/U8Gl+iZmVcViO+fGY8cecA51KE98gFivZLyw9sPuf0InGrop8XVAZIgekAAADhAZ6edEf/HFqULFCgZM7hmxysW9/A1wbSAGeHRhTq4SgCBtl1xAJXZRxwOnrD4gywxTXzvl9aybplJ4PFBqSi5cQd/NcEs1Jp6R/YOOgQvQfSMvVi86Xdc0/94dssIeXTVvKmJFEJHbWYc1wvaG6ZjbjB4OysLYrnq7aRz20zeS7ojAeoZW6q84AuIVMPIHaKazdvdG0qR8Pf/aCldzIWCuDdpSslZkGG3DPg/o50Iq0nJxH0BRd3+fhXbTZ46vD7js08FHWwpP+GXOInGV7pEJtlFLCkxFKu/iI9r3TIYBtxAAAA4QGegGpH/xyik5ZiZH/ryGNXqyZzJGLeil0j+FGcHc9D+PXNX2fD//HACdFAJvPXEFx764viQ09K2JeM2FXOGhWr77VmnEJ4BdxegRIFWeHHsmthZxgZQW0X84mStoBjxyDWcLuqrF6IsIsLjg3SDrdYbcTkRGGnpRd/lbUEyaqaFV70lCWBfhoixWFrNb44fIk5CtBCgP83cUjrwSoExQDTPZqoqZU3ngmaegpcUEllnd03TE6Mu1fZBfckeBfM5Vx/OwNHEVXoqs9ajovLDiPIb77bfQW8jg4gdXTxkv8BswAAAZpBmoVJqEFsmUwIZ//+nhAAABxvY8KGvKm9CRDgA2L1Mjosz3pnlZJa7rKneBA8IS7vcVOijHcMICfPLb4sFjp+JhqVfkKlHPUn5lvVsex8r/mVMm0p4u3q3IrlP00mNB626/PJatyFUwg6LnD/SC0IhCOLw0gYKETS6j3dwTq9Th+dFLEj9nWjaHKo+6GM/0+WVw1NFKenD0FpC1omuavEjigbWPzzjK54f+oRzWftWlHll+KiQ0sl3Wgpu+0ZMU8POHZ7xbiVVx7wljc3Faa2GML5Waz1BlIFRHIeuRYLB54TL7ERg/Hozjo+2rrudWPxsWdQ8Ra6+wUX98y/lnF/fctxxwlBW7BEQrwXz79He5+OrwcaSwuRNLLaSStZOsOtwlUqP5Dq09tByc9xoaHSrel6f+9mZXLkhTcXZF9h4DpUVRPJJaRp4EMmYig9njRsKU8bzaleQ7uZps+Nvh9KFSr4dxXEP0kX+kFlq2VZjKVQ+tTKO9aLZP7T/OZPj7VFZYpEor6EXzXk/DxFRsG30n33+2Vt7nT8CQAAAQdBnqNFFSwj/xZIDQXjM1TH3sJfQWZ+YBe2FUCo8jUQ1IJN+an7c55ypQfmhC938lI/o+ACqwD52qbiz4OQq8Z6+H7k0g94eH0fGL3GG8eB+Sfm8kc/H8wLeFuwq4RlpLTR/jlCeFmkbsFn3JfryWZS+HS4w4yX/hZxe22NXA22l0jjis44ubLeB5X74KFY0lp5I3locwzZVHNzNF6heH/2zLr+zIB/HLfqmmncubgFzYbiIsrkfNxK/8e4VUnu/uIfVmKNLijxliZ8IRzt416GKSM5Xo0HQmRJ5fp5I+3asH9K3KA8FgP/junnJCXZQHs8OKhCQki9LNBoJAFwWjHE26YqRcYUkAAAARUBnsJ0R/8cWpQsUKBkzuGbHKxb38DXBtIAZ4H7Xm4094AULefHbX4Are5DdprxxaKw+LtlFctbf/63qlJ4jvJNqAy2KHSYoPCeu5DhnISnK7pKfvh2a5o46ysUd2rPu55+bD+iX+lXXEP+e5Gpt9ctnQ7q65EIm79UdFExrOfygAoZNY8AYKupb8kBvlpwxU9NOOvqfX+w7h1fMmU7CHpjlr2qclI8Ur8VuoE8PUUAtcgK9QwMt6G50qWjCEYxNuUZn0FbNbVs/t/TQhjlN6RVBvkQleQZ/kdegLd82cfvfEqy0Riss3I3D361PgS5akYqlwHXcl/T/5TzXvhC9Zenvgl7g1MgZ3Rzt5Cmx5hdZv5GT7GLAAABDAGexGpH/xyik5ZiZH/ryGNXqyZzJGLeil0j+BZqR+LLpp+YGmuZ1IVfr8AQrBlVtmNSM7qrkm5pyQ6BOzND8+AFnEEr/hQH13LyCaCekcxzK9J6oeIf/fO4Bk3Vqp9w4kL9Rz2cCPsId1FDNEYtwAdUUiBH8P8NFZrR6MuybI4+X0qoU6ZxmcTZm0FeuTVevr9UnaQLH9iPVGgFNBYtg5ksvrw5tT/6+isRBSNgayNvphXuW3pPAMHaqoSlQmUZF3/zl/5qqu9udVjQAJKQgbBTHV30u+rgv4mvP4NqB7E3huHIhHO5C9QvJqFRlgtbq0GvYfGfQk0A8Hn3UkVmoSnQpzAZHTHmrbxIBd0AAAGoQZrJSahBbJlMCGf//p4QAAAM3SjEh6OnxjsN+Cr0GABsVukPSFrwRATKjxKN05ggGiAsspPO5cfZsVXsbbFvZamHuzWPsm4VP+mffJvJt6akpgN8b+nJCik242rA9zwT4QD/Jn9o3egU2gsXPsUwrwZzHvzlwDO8DvVLY4HFsS0cJt4hRGuO061uoBDSyxjN0/Ql5EBVE5oBaAfM0dW9tXbBVPzpmtTGO/g+wwO8oPeQWgJPkVvFd3K/Cu7aaw7C2BXHbou/P5juNzgceDeui/6F9wXHWSmepx3jCp6wQ6mMv7aNWVM4BLoQxKFEMrUe2oszOSpgyHZb49b9w8D7VLiXG3NDQPrqKv72/Q9bR0arbuHRpxwY2iR9A6Im226oaKAkQFMVY8v2d4oF3///aEE9/FQd4wFVCstf1a+bZ0pm3Xd0DCp7ZjTeRiXaX8F5x3sktX7l3/Wo8JH10MwoM9oTFACOHx736aPKuFpVoPKoDqB6TYPz6+2qVV3UPKdas28c4OsYJU+VGXqwzWI60JCSj3eegal4ICC1OhQsYiiWyER6kHHBgQAAANtBnudFFSwj/xZIDQXjM1TH3sJfQWZ+YBe2FUCo8jUQ1IJUspRl8AgQTlIOTEvp8EAAFb0/hu2j2YEtNHpJN4r8se1f8S5+bL+5QJRy2DGOL4LEUwbrS3Ug7q8MaLbKy4Oy94zFy/2FYItS7RVBy9flgmXmKo8odwaTULml+e+XrK4DQGK1b2tutBumFvHNI27dJH5U0ifLpMqPXcMyHN1BQRN5gEiDDxlObsO8iJjnShIox3db64f7BNJIE+Z9FXSXo6sCcTU7u9igbKpbFZjGc2zR5gzf1MbQg4EAAAEPAZ8GdEf/HFqULFCgZM7hmxysW9/A1wbSAGeCD5hMQDFSL9oFO6TDGWK7PBmA0Or1EgmElu4BNZbgfDJzfD34PqFkjAE3nOecyEMenpzP7WrX5qMD8bFO/9vF2wjukQZ4vSM1jezifBkBjfa6DHvvwxymCGCmdpdvAUPFRiQ7fjUDrtT1q/eIA9r0hdZ0pnQTFeHRvEC82/PIjYDrEMu3Wv86ntbbcc05vjf+9PdtPgr6fVo60e8+/ckfNPLyz9TdNzNIFutfpkfldaUfhV+I4jxKYw6bzqX2eFPnVVM5DGDJIwjE6sQe4lKQT28eW5dDbS4Tq9WiS1Wr3HNtarau8Cro7yIgjt6DBmP0Su4C8gAAAQoBnwhqR/8copOWYmR/68hjV6smcyRi3opdI/gWYb69R/YQAsPQatHs+VOfoxpucW9mjDHwOT/SQZBN+MWblcvUq6AqQhYsVrgtOQYXkSA0ZITdO2f7dOZnicsQ6O51t1OMQ7VRaksT57b4mufglyhtjLjANKU5s3N70oApxakzahSLhUrm4eaO5R+aVzm+mXl/DA9TCRtSgyuIfKWdAno6ShcKADz1ddFBVMHyRquGJ+dcIhNu/crl+cBBvVF2XJLTfdpgzNT0o6Hw3eF3KYv3p1QjbI7HBm41CDhfmkWbVzC1pWJ3i4JLm4nE06WjtP9P+qsBk7zdsz53VhNUdWQW3Bbrt6879qm1dwAAAcZBmw1JqEFsmUwIZ//+nhAAAAzuufg1TuoAP55gnKMdKLjkaaRK4d5CenjfVsYbv+KzrC9zJ3HljWCRwMMtCwSqb6PsStF5u0fBHqTl4k0wTXxa/z3cr+1BrOsr8A1oqei+Mz161rbaND0z2Tm8mOpuOoT4v+uhH4IlfjvSJWlykBZBWXt/ajBd0+q1IbKwFQY5qNzuHv4Z4wARZdqRmVs57YpNXYT87JW52BMwaxUeEPvOCalb9wvXH3L2JDhWItuu79mvGRiaE6kCYm7gwm0u5MeDX03PeLDapxXHMwemTAX9DwF5ooanxnic74xWm9XsLYBkt2RaUemeRCQrnMLyhrDj4OqxTr8sFPSwC20FSB4KlNNNrJSBmbCVUpn+vOGfLYQPdPg6H5W8ma61dugqGdkDrArC8986nJB1ydRRTUlYCLvsYhjxWLIGsP/wxPQEmM87FS5UfldbrjbfZeX/nlZZJ3u7scmkD95ROnrUVUii2q4SjH1SvF3AxeNPBsrH9Bn3UfU2l01uQuuqf1UecPk/YLgit4sdFkHOm4Tqv4QWxvCp+D8aqERIK3XD4Bb3wVzoAC+cKaxjzn0gn6x3Lb5M9r9JAAABVUGfK0UVLCP/FkgNBeMzVMfewl9BZn5gF7YVQKjyNRDUgkQporVx9RmTjTEAOPVZ5e35aO13DAN/E9KGZj8SrnCRC8tBjDyWHtWe6EG6H3So01aJCaOZzqUaVMs2xW+vu5Nyy9K9SpclHGDdPBPPC6tYlhjz1vSLlTDsnCKdwngf7bOJmtzEdeJGQ4Nd7O/OKOKtPjvBgW4Pv6o+1FO6IuNmTKIWp48Y1QX9TiCGkyYLVPe4Xfg3TSNp6qdkJh27NYXz5+ERgq8eEDautiD7nJzsvl3xy8lSE7E1DHtawrs0mS8cqITFUxxOc6/3aUZRXaQefR0kw6DUQtzNW22CZo3JHXa8AtZY/68meXiPEu4Wu906zgtqBx94Lykif7vz20z+TEhuN2QmuM0VQhw7Sbwj/upZBzrApMbED4xOBSrqSKFDXP+FSdeevUDl7TlEYeldsG9AAAABFQGfSnRH/xxalCxQoGTO4ZscrFvfwNcG0gBngfo185TNR00APo6Piq8n4gmGc71RhlJ1aQp0AwAVscN8pZMiqvi+GujfDz1nSZOIxaMGEmWeisBlsMc5HkqZgL+LaYV2QLOGN2bf8FOt2lK6zKq1OeLxX8fJvNMnUSPQ8iGmL7Bj3pQTLS9dJKqIEZCwvIFXR2ZLT02Wmh1wtbN19GPT8hnpxid8CBH2KDgcRKi2sDHlRFaY8bNootCm8lWtJKuJ2KEiuEp2CrTuuXMNZdjVrvGhchBoqpIuL9OlnjTkgbimpDpGccN/CWnvcwgLTCG9Nz/nGb/hoy/qBUCdlWNi7q6piRClwX2oFc6i7EOiph9JvQSQBFwAAAFNAZ9Makf/HKKTlmJkf+vIY1erJnMkYt6KXSP4FmIKOZ8gDmD4OYsgKtAJR/AcTR5uG+QHLOL7H3RvxMZJdbP1mb3tXUI5T9Qr2En3MiE87ykG9eX06cNnJQDbqPhaFhGhGYbj1ggYkNXXFWDwhO9b+9ITd6ghiyToYSeqqUHnAa0g3Y6yOprIRpU/WNnwDPeyL9UjKFoRDQbs5ySaIguWMVNdFVquh4EXxqAOSSF/qlvk492iiZuUX/Hggl/kGpoz+/AahHy9Yf2wBKUB6KARaBXA6hoidsTBNMhjI/cj6FA/Vg4XzNYpd2hFDuVlKQHXqkRoUzXeSY8Za5nLcLXUuiVuQVs45+ROl6HWuSh4BC6w/2fP17uKVVaPk3nG4wHe7Pe0mEx8FI5Gu/cC4I6RP405m44Mk18oE6F/moIGwlAwObI7+vyjXxRM0ATNAAAB1kGbUUmoQWyZTAhn//6eEAAADO+x4J7eXdYdrsAG0FQou+01E3S2voATTUj+kvX0gOzkizasRLs40OxEDQGr/iCC1z7CPpjDJ2dnEh6paTlLVsUb3LRK/yS9eVIcb/8UVoM6ldcU0/WfblFk61Y49OzpllDqhD8NzMtBaropts/VKhjFDAlTlXca/JnNNQJxqYt4pasPqq/PsL0VL7BokE7P1xxdWn5H5q6ao6eoS3my2avrAQ/gTTcGqTc/vq8waHOZeaGR1RR2IsnuFzZN5iHvjPT79470askddrcekYF80sMI8DwQmey+FIbJuVOi2GEnZLGwdS/bBHJ9tEa3CvTY73P+tuZoRMFS/ZFurlaGcLSYw3w9ltcduaqfVv/QWjhttkICSoE1BnoaL2QdVniwVahDN/RywJcI8Hq4OGxMXMPuze8vHvCXwoanhYXqrh0oJBDJt0PUXj60IW5l3WBWQ5J5oNnqnnNW/jsk7zVWX98ZHdcHcn13oTkqtddhm4BhVO0UC0qqht4pHY+Pjw5d687zWNne8qx5N9uasABy45zlCNbiyWvVop8rN86FIijVU3cNyswCRu5lExbDtR5g2LrFZ4S25pa/M6zGBsWfivMkiyCdAAABVkGfb0UVLCP/FkgNBeMzVMfewl9BZn5gF7YVQKjyNRDUgkQpx3IfnTh0OADiug9QQ4iix+O1DKRf6Vm7SZfDRm9n/JTZY0fcFLur8OZ3ai3RLTYG7y7oBq599YmHh/7reKSHYXtcm9tPNwv8kMIdZ4BIxd8Uje/kLAiibMBfzxdrDvb35rAvXcPQVNog+7D5hQ22i1NFpPLoynpBvUaOS5/6gseSaPBKHdwX6xKUvm6jLMylTdB0trezdAVpb/0bO5872Y/dacaa6hSXqotW0Ne1EA+mdQfwMRS29r0o1shSoBKOhe7otJQ52wHKxpCINMuhwo2YuB2ESL11ijB2898AR5YQSQEhV91jv/2OyvHUEpyZdFTbxJv5spKMrZS65+7y51nAHQqzfMFccfExn7shad/HZVEoZRhoKZruLvkRUTUNSPpoKTZQSzQkBKzFg3jp5CQDFwAAASkBn450R/8cWpQsUKBkzuGbHKxb38DXBtIAZ4H6Rq9b1HoZiAQAGbfeGe03vD/es6HkeO8ZpF4xbvvxuBpYx/BGYCp+Jf1RZ8qPJF8kAneIPgk5mmXZEv2eX48jBSFjT43TAoTfLzi8/ssv+G4f4IWjKRHGddFeJXTosWeb2Yinnv+luDGJmZDILqPgGwTE2QzrVcT2+MPtafYVZ9f8JJE7tAQwEGgy4D6u6v+g447bSf3rGjchq4mzn9XkIxBja3GvsFeKHf7G3/8t2URVr73UubTPcT/BgWQ7ciN4RGDtniTHfp4m8ygCu6aQM/1DrxLNop8bCS25jCHEFpaNCNFMIxN6x8YlwfjEvfSbx3cTOsQi7Kag8ouAnX8FJHRCTyiY3hkdUJDwHNAAAAEsAZ+Qakf/HKKTlmJkf+vIY1erJnMkYt6KXSP4FmCP3pGzMyeAZQAsDmws5194leSIbpgX/wlJHVKT2FQtCGanyvvBCLkr8RsIbe1cqn6vRUG1hzwHLZYrg4WimCbdPa6vXGdIMQE+tm5L3u/E8NVtZqaWYsoNB422H6TfhIiw+B9GbPOiQSuVpQ/Lvk49/1flEtQE+Br/jsjps9OJUACwgWSsM3c7COnIz/yu/OAqbyA895F8Er12LNuhYt5pLDF338gPpyFxWV5GLKv+lVeOuKUvfPM7hcbcSA//4Wks1nAXFOl5SbMSScvVl6l3QSPiq06AiQxZ/0cm3linmzhM28O+kovKet6toKTc+4DmHrAbFCEMvgNRFNABQts1bUd3gmXlNb9V+1+F8AwIAAABqEGblUmoQWyZTAhn//6eEAAABNvixyD/rIJEfaONosDaY3rX0WQAEz6jVf0WeZzv5R9hHDkc7DLTZIPwrZgECERHc9vTlwKJBG6O96r+rctzGJiS0MmiqITYqmUdm+A/+F/BY4TtFWTVpSZhqwpHREf4GrjQsRmBPAW8IfxdgN1RcWjpX+FQKTtSDaE88n3lHnKiUH26scE2liuQIBz4fCvfuRcSvx+RVg3FRxY+BUzoHYZVI6/th/8rlRxg7j/E2lhI98HMzzHhwcSKcQ5caFnKW8o3j677jYnDxX8S7pGvYZYaroaztnf3YscsC1SsZKMbV4nv6YBtcByTXaIT6AEneurwi5dn2GO4jYE8tG6Auk4jZsLV6ehSH2mZZNZcKx9JZ7qqMtE8/AQIfRtdO8farCs/nTvHcSUVz4KFvWTqAajW7ffUVqlAqGBlTqi0IMlum/w3NYH8MxSS0FhThu2CEujwlQR0mf+jjnQ+ndW/9injf4Ub3bpt31bocf9z60rEgfu6EX8viu+bUJWz6vozED9OAm2nHbwJi37XyVVKtdE001yb8w8AAAE1QZ+zRRUsI/8WSA0F4zNUx97CX0FmfmAXthVAqPI1ENSCRAxsWZw5/bVFAMXGhVWsdHoANoABxju+f8Eq7SSJi2ZxqI+CelIZ7qS6S12QU/jAu5C/d7hnw8dYNFDFxRvAQjm3aCx1cxvVnak0YPIeCE1uuoV5Gsj2lcflwM+yob0STfP6jvI/A+X35i5ZcPZAQRdbhzHjj85DT/Vt/cbttAJl+PHvqzVpEXDBGZIbe6NBGqrtpVaMLxaFnG231AkXrrrEtE0KzwCspbfkUZ0fjdILONJfoEvY8Ofjikz9hkgdR9bgcZ/TiVTuqgP2uSn1/tggHZoh8w5LHVwECoj/eQvrqjNrxP5CqPH0nIk2sXgdvmvM7m1Hae1JKcEOYJjD2mjupA/toMn0LFhyODYozFCeAKSAAAAA8gGf0nRH/xxalCxQoGTO4ZscrFvfwNcG0gBngfoULI1HK4pV1wrYmXmyjn/H3jtZiE+ClACZPTiGRm4039tEwkLJIk6GawvaoPFZLdeUVbxF/DPgnNinOqCUsAnA9eZnw8fZOjI4rgWc9YPDNOm1JoLXxFJmSQDOPqWpIFqXoVp2v5HTsD+7aQv3VTqMWtBiMoGY+yXeIFoKF9y/G0LYe//K0cE8/H231RqobJ1gSKDDTtezDTVovWWQfMD3QIHbDbMT7nUm9bI+JRc3+JZzt/RubaKwKklw9bM5yWODDBmy8zRGsrqhhstg2XpTT/Su4FBAAAAA+QGf1GpH/xyik5ZiZH/ryGNXqyZzJGLeil0j+BZgi7A67YJGWMmO7efrg1+NOOrpABdJ1YEvlANSCYkqsxEVq3WsAMrJwQ2agtwsADKrOz9gvwC4VyKMxLtvumPMftoZRtYdrkIvG2fvgmg/whdoGmefdTxYHyUHG6u/QztSr8h+HYTboIpPyexmMhzMcBcvdM0fU7fAc12unut9jiD3QWP26WlFuG7qRkI3FwzAyaleAm3rL88hSAb6xy61csxzzgv5Lls5vjMZ5o3ubot808Y1myIbwpT01AfNwvk2Zrpy0r+Buw7jvuxm9AJhSQyxplYnrdSPhqgLuQAAAa9Bm9lJqEFsmUwIZ//+nhAAAAMBk9c8e5FDhQAHZFLLWMpj1axka9xA24qcANjwoVtoiwV4MFtpwLSGfb9boEKyOvY8CpWhBvhu3tvM+K+191AZnypPBUwTuinJvAaboeCu8SKkHV0dKEHYg54RJ7PydGS3lDxaueNEf6Exv/ja10FfJshV43pfTeG1CiuYHZU/W/xxR2XiUfc9NFdOQLqYnhhtHrKoewv2Zf0eoxvxG+XOTJnS7Z7CVJn6topU/FdgkL/7Bs5uPb7Da75su/ki7WCUk8sMo8qnIS/3NyUsIhHvHRf21kpkZ2SPjsIOih+ge9c6IkbLgJNX99qWwf+V6d+XQ0PplFOgjXneJ4otX2qaTngrXk2Jak0QtisquSqQn0TsHWxavD7oeCBO3B2z0BT98xbjMUlRUi1qDZtjQstJmWKdVnRXlPwnKhxgR2hN19MWIB70fJg4VDK4dDaj2KIwm//eErXUzM2FbcGGuqf7iRGtjkwO0ctwAc3OHzyQ9saBJ01Tdrty/C4Hz8Nn2hBYhSagslterYHnYKFXYZbwLTJ5yiCISQVO5WolZwAAASZBn/dFFSwj/xZIDQXjM1TH3sJfQWZ+YBe2FUCo8jUQ1IJEDAJsdEW6jfLGs9nEt8lAa4LtSbJ4W614uOVt1mUAF0lglPduYBizHH5lSt1Thw8GVm//WO0h4XmeHEP19AEdgK4YPLmuN/8DCU+ljC7M7kMuPjeJL4m3oojfh4Y8YirQmEQqqNpo4+TWdEEX2dK6ewOqL5M7AMlELMt9VS4HdewmpunLihGwBIPg98ygFqqrlvUhm5UAjTup3j+cly7/bVtMyoxpDb0nJNTFE11agypTm7kgqMemDN1AuzD5ZfTfMrAnT4zMoDo9/77vqHYb4fvYKSkcyhQ8aT09JxsrMnTPUrocAAtEO1OXUwVl+KP8X8rrV3JjRyoeCN2wmu254JE1SykAAADbAZ4WdEf/HFqULFCgZM7hmxysW9/A1wbSAGeB+hOXLYFsw48lzY/WNAuOUdTW59tNACVXWJUOutsNETqaBVNGW5vsF4dD5uWj9I49kGe/tAdOGW3h9tlJBTjFWY1S3qRLxh2PefsgRhvbp6CVAwGewo5fnk2vS6ewYHcHYyE+aJNWfVzgsOA3h+jBr0cxIjz/7OdoxveEzp6K9c9BLodwN6yIOZOK505e/xid87JNQJ+/ORZJMPXVZnvdsTF2OeIgm9YmS2yd0fso8V+Z/cXFNXc99IBLsaNp4A+ZAAAA2wGeGGpH/xyik5ZiZH/ryGNXqyZzJGLeil0j+BZgi4tnDBGrpInfIFpavEAAJaq53y6hsse6MTnIEqMDrplSB3nz1PrGLa80TlKDh7QsxGnzPxvjJzZ7Upc3sUH9Hp0Hw+xSYSnku7a91q64FEaCQrlIEAs6EyBkusk4C+9feIVvai/FCkCbjD3/QSZF8CX3rC2IqJCnrj8fGbioyMkaWDJWxIjdik8lrIb+/121vJDqRTqoyarJ/ri2nyplrRcE/jSx2KsnuGh8i6GpCMX9PcXd0n5SfYH0NAzTBgAAAf1Bmh1JqEFsmUwIZ//+nhAAAAMBsdY8kUiigFEnABvH8TittEqfs5eTr6ykBMHieFipcFyWPhnbBh1l1EvzcsVbzT5uUaUnIgSUn0I4SNecDp45fb0S8q4HpjErAEviCaxPQqodXR+M+W5mdCFSrxBLm/dQvrsCutXMzB4Qtu/V6ELCDHi2obahcvhPU+3d5heCPFOd8pj8Fdexm3X4XKwF6ZGmCLx7kzIiG79JFQ7T3/3HT5kwwfqOcncXI2uCASa39VAn+A/hpVKz40P4AU7ltRpO0AEXyjSC7fAWZO+RxByzs9V/Dxf90Hsxin3dz3LgXuiW/vvh33oNFJRY//ohETs/mzQkLgD8HaGDcTDu8uCIsE0jZNMtWZAT3zNRXBPmP0aGAFNCVOHI5D8Y6vWF8DCWJseGQ9oySQF3CVcw0zgYPtXP+Z3Xcel9+rQNteB7Zd0EhG/eViUnHlFxSYgsLUpp5dgdSMfql+LGpQ2awP5y4xtONz0tIkj7hFzk38z2hKetYTDgL2Y8sftmAmYLjIK786z3RbZ2/pbMHTputtWfQpD3BINZoAxloTmtTgzT/IOxT9YSVsdZHJBrTMj6q92I0EYKkXXaHt9h///GtYwJq4perCDRBH9nKZDHbB9msvCbjeamGkzh95MLNc8FYWUyT5fzNRtk5gN3FwAAAXJBnjtFFSwj/xZIDQXjM1TH3sJfQWZ+YBe2FUCo8jUQ1IJEDAPQWMb1aMEPPB4ADjd5tbi/7nkVqalNYRULV5FDBweVqIEzJdCKF/j4oscxwl8Ndc0fK/llvqPeon6yWY/Tdx7Eo74zFBOAbmjnWt00ZYETEmUDdo+RNg/2y70qgfT59uun+M3/+a+CPm3z+3fYAfKAxNc25+NRCaVia/c5FbCG0eCfy/2+TRJlSG7TyX3HTCyni2VZyHDr0x0ak8M2otSCKZdox+1Aa2NSdD0PT8OyxgV/GTVVg/YkU+d3wL2SG8PC9uRKQYIh0iw8YukEKh0ahcNYAmVy5R1WOFVgm2YGVqRCpZUYsleZYPR5ynhOQ8E86LHa3Ad8JTpI6LL7FF2cWo9ZIGGPNswK/4dGCiCUYekkgmDpDaa49S9ClLRwaPKC0bEYGK2DT669HpvidxmfBiTHDsqV6beGidTuoN4cNfJ4mKFUI5nAEWcBpAD/AAABHQGeWnRH/xxalCxQoGTO4ZscrFvfwNcG0gBngfoTkhoNmUO3sSAAt4jWVJADBue2k4YhDR/oovzSCYQx6+D7YQQcHreVi+AGdW65ub+f0j2vSCT1EpjjA2ZYoVT1jHv2UjvDOYEF+Z5pZPAMaDj43BCKZ2WWzcZflB6AzHbOLbJu3RrJskTRjgo7rJDIfXQIXLog+8WeRxxtfO5gVkdHu7Jdw2HbSKE3i9DTCNeDpW2qKR0PWlPqrSMe7ETG1yBoI/Ch2JIRVdGaHbf2PAucYpEEu3n6ZO4xFt4YpVOPgxirLlBHr18I8SyBIZ0cRqv5vA+x2YvqgI3q1ktNwx8Jd7troulOUeQE7cSJKOjbIPwlS6WmjnZtxnDcAf4CkwAAAScBnlxqR/8copOWYmR/68hjV6smcyRi3opdI/gWYIvEDHegCCIM5jAC/1mrUb9CCbrCrCOCzNI+NJow+/c3wtubR8FgfNalb0OD1hyi5G4BkH5yuQqD9MR6pELJbooEGehRmls88gApgTpReM1ApcgWb9FZ50pbgCXk0jyoRtmOtSD5hJJRlr28Y6TzG/qacKKgXmUAVT7ZPN+ZRwZdp2OZQP3rYJJc1Gar3JTLvgFctppDPd9KJwWcul9xLT5reB+c1lPJySpZAt/cjOpdG1Bsxw7VJU1TaJtYHEYjMXubwCXwyQxWQnKId8I6RJdICoCFUuVj06T1oDFdA5CR7w8erWPjyVnQ4SCu52LxhkaVL4NlKVQi7bjkLGw0nL+DOIX5mJ4G3AUFAAAB+EGaQUmoQWyZTAhn//6eEAAABHvixfPf/FlABoeCyOoe4tus9rGSDFVYFOPsveCCQ1ZXpu2dAEBJ00AmDZjU1pO39T8E/vQFozdP99ndqD1GhSFBG/Z29YsuJuxbS3DliTtmtWzKUs0pbHkjKCHTvZFJKEbJdY1uhVpFsR66we3dERBIOADdrb2Wtd22JIUbMu1NC++By7ye2Jdh6RVbcFjpUjVYkWsGmv+VAyQjwT8i7H/zUqD7nm4LWGud6+fZkCSlQWMaFZ0FizRN8zXFHG/iWMGYsbfULGqvh0PCA2u+gJbKOJN/jAu4s0iagnUC8DIrsLveKg8flUNBVw8U4he8QJpZ/u632a7rczE7dwZIYnCHKOid0ZHX+CDKUBjNePPkPTIwv7Df1B0zZbjK2QBA8534ZfIst7Q5nXQMYfnVzeMDc4mi0U5mOC4XquLAvZPOlEx3wdE2FlEvV2aq0b/DUTGVvISDroVjiGmkKBJ/D90l8DamfsJYzLFtOW1icZq9IKEOZWZtM5NkJg50QiuROhLTU1LpuJ4cJJyiZjKU5KAV7/wKUWjUy1nCVGaI4sVoGtR/moBN/ii7Bn5ag1rx0twAxpv/Tki1knE5AKpwCRdju3RNl1vDPAUr3EvDQIbP2BwyQS4zlkv7HxFil1T0Sna0gncUkAAAATVBnn9FFSwj/xZIDQXjM1TH3sJfQWZ+YBe2FUCo8jUQ1IJEDAPbF8IAhhgvgD5BlveT5SUvvvJtKQlf/+cNkRja1dMzeE5Jh136vr0BK/pQ0Knp0FYaQgFFe6+8HFREwVxjrP46pJlEh4+BhDp3vAHCNcm1EFejto27wMqg6yFRyBMYU2SBCdxr81jGj+EsKOLUdj0alPp3nvzyZ8HhrSi/yr47AK4PcVhzF38P4NHybAu4kYcbq7C86or7uPjSK0RSe0Dux4AryzAFGRVDYgUaoAfF9kc9MTfKydkxDAHSxssSeXcNtuLLWYL1SO05rTEHXtIqUr2l2mc+iXBP+g4/e1eD71J+0uJVo7HqsdBjo4tNbW52HwltDVPOvQPqd9UvvIdB5nte2U3BK3295eCWos9cxnwAAAEyAZ6edEf/HFqULFCgZM7hmxysW9/A1wbSAGeB+hObOxDr/nihvQcAIoj1eXw8HEstkCdr/TBNHgbH8mfVbyy487J//mVnFF2MWNxTbiWmJLiusPXxbWOZd0IW+NNXL8OphmS6BZ5He1yFFfrFPS0ETDDhfiTieoXzTtLWhmutqbyOw6CL1vYJHbmfDoQcCBuygEYUiKDw/zjGJ1awqJDq7rVvEqWj8s/OiVQ2lV2MCb37sHffTW51l4jSEfaDvWVKCaiSOQUcsqHzdA5xJKZLu3MOwSYFxntQRAlmQv/KnCIrUeUgnNurlpIiHcwLBlDl5idcFWq6iXc+2E5RcWvDlj/VUKglxbK8Ph+zByzVIzXpvXqQjBapzcfPsf6WUyrYRBopZbRmSjnJMMMkahXDNAM/AAABEwGegGpH/xyik5ZiZH/ryGNXqyZzJGLeil0j+BZgi4583M/AAQSRDPn2HW+GwYK2SvT9MbfIcSOVpyY0/Q5cENZIgT5TvvCx9cNbvePunuBZUnch7p8LK/MFYm57owjWw8Yg/X6Z54/vVy0mj3imDWurW8joMcUSWhVn9PU2ECIU9B25nyHkxUbyDGTT8CuxkGyYcMdAi984G3iI9rfq71i4u4bPN4zZ20LDtjsu8e7PNR3Y6xpo+nhlfWLwKqXTOG4QdkZrC6FdZZ23o75xpa/I+Yu6yCZrXvGQVNX/27KmrfA+SuhifPOObx5vQFKkJ73CM7bt6wXGlv3yAwbbBnmvPuYnhauFKP9huFR/H49b6gLaAAAB80GahUmoQWyZTAhn//6eEAAAAwHG9jzYXwIhn7HuPzivXdGy9p13n915wAFRAJGK/FMUDoe90QC4008Xck6LCyfdFzlD2rsynBr95pfO9lSKu18/r9XyjRJpifinnj9mCzFvX21gOBZzoLIiCGc1OODymAf8BgL8U3CX16tNO8ITO52AG1VuLMeXNtRdy3YdgO63VH4SAIUf9iwdNMM5r86oLdtyaF5gpoMQjXXlczZSLQoM/tjByiwpvczppGxo1Vw2e1OlQgM1iFSqMokb8Sf3c02UEiM1pNE4AI+MImg/A6chz06KIAEpVZJF9nitr1AacmSh93leJUB/PB94bB9I+RaxbM/1p38aRLwGWk4LaiS8ujDQV9GtdzPaGZ7XMr+nkgxkvbtUuSBcCDmLPgPUCZyUnw1lWTN3ky9FLSauxS56BSzceti+/EONLlkaxWBbT9q7Lnk1HDo3vv8TK6kFU6MCH0G40hEZ3wZV6DxLA++lixURPFD3PxdjZJ0bSjrEs5y7javWEetOfq/HVGe7yOt8N0WuWsSLiPKbhKxkpgXUh2Lc2tfZPr88QCAPDA78gqhNYHTD5DphdrO2iyGUW2p28AuPgCEttRbmQBuwtbPl8+TBQSuTQ3pHaX8SsWrWIt5wnZa7VDM9zkXs5wsq5JcAAAE5QZ6jRRUsI/8WSA0F4zNUx97CX0FmfmAXthVAqPI1ENSCRAwA1hDXNV6vmP3h+AL/ZBGkbSS80fo8Qgitd0f+uuUe53CBchO8DzjbbWd8Z6KRG0jZ90hEaQiPZlCxItXJFO5IXabInMFqCAN86IBApOunoaPh8g7iJTDaTwKvPzO47cqtbCxXLHtrd3xWGatBD+Ly5KcmEAwNbuR6w8PpJBUvJPMDj7mW8xtxu2VW0siR6aEHX2nSu4lUgaqjtYIA3adBzBmE9stDH/4P43DWsiXD/AB5r3kNyM3ygWgTXxMmkUFeQMQw4X+L1ChpRxJ/RaqsQPQUhEPX56cunW/hecoW8SQ8/0jE37b61HGtitsETyw1mXcwRnaG/50XpJXrEuDbTmG8B2xt+i5da9nr3+fh8bVd0gICdgAAARQBnsJ0R/8cWpQsUKBkzuGbHKxb38DXBtIAZ4H6E5JXOuuEkt6tVAD6YhvvOwjhhIJysTzZ23B0tJQt5WisV9Ow7fJ6ugvmYhQRJ/UXjPmPjVynQvRlzQ6vrsUCG3tTegux9zsR1WOVhQkH7FuPHV3+bPJG4RkAamLGJ1Sws4hSxSGF8u58FX2QKLtf15PCfLCWelNH2EhKkchlQ+aoK6Y03d2OI4HsUfUHNKUiSqPbfqSs6Mlm+bNb1nld7VxozErrxfzFf9tJpBZXxwNfDve8y4ggjE0S4L/QKQxL3JuhJmgc2ZuEeiYQKFq6quK949MUTuYOKvMqlXywcep7BPNeDtj7T9O/qEnDT0APc91aZTmGAcEAAAEOAZ7Eakf/HKKTlmJkf+vIY1erJnMkYt6KXSP4FmCLjJhXz+Ns/iAJsrIESafcL/AyC306uwVi+OMNkUmsKDSNg+aH/s8qXSPSW71O48A8sMS/azM9dWb6MAAAncEvvcx3NQd+nhPnKQ4IHLsbcCPzLK9KAtJ1toiDxnWQ+d5TBF4mLbwFd3n6veA1zCkwGrlaWPrx6kBONxkRbPhvggsk/qvvThzK49zYVWlnxmZZ2BviNnJNFtgvBR9mWkUiuqLwBYIXO9L42+SQypgex8d0c+JC3D2XOyk8eXNP4ZAMsop56E/SDIGQa9SdmplvCxp1qXgX2m79XvhsWPACrWojWTOTbsV7TKuu7WfcBAMrAAABg0GayUmoQWyZTAhn//6eEAAAAwGx9jy71PVdFwzAJ4fN1zZpAGVS33Ta/9sm4G1Ft0w/Gm9kZx87G8WJKmzLJCNq7Lf2CgKU8VYv+vvV8qg20PHur+kk90C2fBSrfT+mkSLz+G2o3sVTcXkBwPvMwnp1zUPGVIi0BH7+DfjxQrZNYtP3cmqpEiAuma23hKTxHDbORVVez9M6JqrbOEPCxyrOSzZJZFgG2ZQ1leryE4SK3wMIfVJXWGWgZQ5xEa5L42G0MZZVTscg5ypwyobqD7faVqV6ad5mNmTl7h0KgT6BiZJFv1I7yZ5KGsSPRm2r+//5dmt1XMSKeqhT/v0OH8ukW4GemUxfsxC7YFCtB4hAS+c6QPgjT5ALsGYgNjqcarB5BLrpNuLWmwZazaZK8fEywTMypAWGTcPPFOC5YBgg5oYp0lFVzHl9tgjkK0yDkGdrv7RtZ9KeBzZmHBLq85N25jk/rwgs0x6iJKEELzPm2tmeRIpV5yLTmoo/Vla0RadcJwAAAT1BnudFFSwj/xZIDQXjM1TH3sJfQWZ+YBe2FUCo8jUQ1IJEDAC4zlEMJ0hdQAdI2aHBXlJMWxvWDsFeSeoM1ksp6ULMZlqyGJwCh4OWznbQg7tnzOEfTQXDHt0WFb/PKnOxjcOolQkaoS9DehGMnuIK5kJJpoKL1epwGnfYLtTWP97sk+SXGDbhCIWVZsXg+3rBdtOn4a/IrVg7xhJSevCYikbm3pA8G/NrNz0M8slF6IvBcfWKDvt92QneGJZdb0XRbANjuHfpVxytwC/ectVDiglZrq3A6dt7Ql0wyz6r9I1KwI2/PE34vqLvqeZ2QQJdYsHrRjX5Zy78tGGUjWbiNk2Pmul/prq9Jt2nOn8AKLNtgQtGPOZOs2IBcBmmqtIKlMKyKt6nEqM6UEzbpICZtFKhoGsRIUhJcwDVgQAAAQQBnwZ0R/8cWpQsUKBkzuGbHKxb38DXBtIAZ4H6E5I6PJQBay2nQcPU+nN7d/WDwSOWBFPCfqr3122DDU88NBtyd708R2EnLYHi5/g2rTiV3nClpqeM8VE4HVLu43I3lMXBhdNcx15bYzRfE3uV7aUqN+6fu8RQTcpU4f3uwsYgA5UevBql3RX975zUPyHgNNALtRxdEgxc554HbNU+JtW4Br8Tx/kcXDoQ2yMaEFLGY9SKmPHIf/j43X+hkohRWIkfQ0VIAZGCJTL9FlLB95sRHsITzbPkj0Xjs1U1L/1xdeJrR3G4ZrW201mKMDpEnDBN1Nr1RL51Ls84hOnCO+znJuAtoAAAAPYBnwhqR/8copOWYmR/68hjV6smcyRi3opdI/gWYIuMlDeMzNnpoA2+heyBLTGJZDJBcvEPpIfTicqeKNMsdFVRKQpHdNlz0vmFYOZiS/4DmABATsEPqI7Q5O4kgGWU+4B34N+zOz6Ms8wlhwyupkT4doKbNwJtlzfWV13F5F1HMeMD172g/bYI60A2EezePxJsmje0QHnC3LZWqma6W4AYJnCBUzUE0R4OqHug3dBGxvNC5FvBsT5qwMoQ3wThIauq8usu1dYkEJGh42oi6Fs2Q61VrWzD0VcJ+mchCRLL2Vj1bwbnp97RG/uEj4t5gs2lQEuCQcAAAADmQZsNSahBbJlMCGf//p4QAAADAJ++uFXwAIYQrXIJumVZXmg598uBVk/gY+uTqrDTUPd94N3r32X7k05pW8uoMxuAtH/qiutG4y8S34SGcTyRel6AOBLDApKwA6LKTs9rCx/HgWwIIA9YQNQ7xyc8dZ07wlN0um8uVo7wcgVmqbE3ZFHD9eMWRl+TW383t5ww3uX5laU3g7J2bh8jEq101FZjA8KUpRYruhXpTuxqFDToE3Cq3vvUKmjMrvo3MyEA/S4zuOttW8L8R2KhlkOJMJKc5fvwyM2tQkuGzG3jL1nXHraw438AAADnQZ8rRRUsI/8WSA0F4zNUx97CX0FmfmAXthVAqPI1ENSCRAwAuKdBVNwvxQxSUfyp/oNpAAtOGSgmXkPeWqZzuB1OFe9jf7GMLMHFn7dnypIEjer0+c+A78b5s59mw7ym6MdrWmmPSg3DtQkoOjjC2HLmXyvsjjapGyzlZfDYMYgPjwznSwI7C5+ruDGDFg0rs7OlqM5J+vocVsTJ4JAa2oslzgHkkttvxZHbkGez4ErXUvXeghAIMfF+UilV6P5z3+n9CDBED9z2DyLYebAg1vIwCnQ0tDgeGIkp21cgb2AIVAGggELAAAAA7AGfSnRH/xxalCxQoGTO4ZscrFvfwNcG0gBngfoTkjTd0WwyoQArevigsiDKKJ/3006bhKPJGkHZaYamAwhuqql4+Uslp/Vt1FSo8XWyzVfU5q44m9keWwQo2jRsdF7HkM8fS6eVlATwGjBrned554EILzr/Ns2U0v6+OE//KUeVufUstQdfFbpukPIbDFdtxU9mzjH0LCeOfZkVh6/ZYWOTJsT4N3epbS1203e+10xIcu5QeBWgvBKLzr+py1g8mUzzS9nDXH/He/Ai7zPtDYLQFV+SKvEHkex9j00J92FY0fYpvG2awAZn6AqYAAAA3AGfTGpH/xyik5ZiZH/ryGNXqyZzJGLeil0j+BZgi4yUDUWDBUyAULlP5si1KxnfMB8yLeaeG3QmQSW0l5Fo/6P58yheYr5dkL/HyH9qiQyYywDlGzGBOnHcXfo+9Ipn4H84ug/9RHfVWPiYDVbEVmTBW7F/3o82tzE+PMK5RI3HmHqlWrJYNcsl8MdPYNFATA4PxuNLjGoLxXBiDMzNUsVUtkkZd96+DGgUkkiMSYZVZ3Wfp5dDEPClh8k74l7KxaMsP4mNtVawNj6nJzLzt1EnE+xZHcX55A8AXEEAAAFJQZtRSahBbJlMCGf//p4QAAADAJ/7v1gaTpQBGR7ynJvtayJ67hgrJDhgDtpRMqeW4EYqtTh6mak7lmTMFzVB1lx1l+SdLVy0Gxkp5ggFtUyVNSulmr5nflAJs3OLUyQAWdWvSWxIi2FeSXv9Vi9hV6fUhvoh2Xj9CmxU929+WB+3HwYWKqD26y6P8W1j/BavmWwd2gQJWENAuB4JTaYyT1q1CuokPDengHllQkFGxMQW63XWwOoRUwLHqvVPa2SKrNyKCbbifaVcUG6mgXraGIrIY+8PFSOlHu9X31pMFNqkcn//+vHx+LEDOss4LiOtdkaEXcw2x3x7SnupC/ytRpojhc7++8XDbFxfRVfUfvP/20pwDIoiYe5mjGZlef/1xskLeiScUAa2JNq+VoMyz8JZ973HdYAXVX9XKq1ov/g5b7rNtNwcL5kAAAEGQZ9vRRUsI/8WSA0F4zNUx97CX0FmfmAXthVAqPI1ENSCRAwAuKbpZ0y6f2ZAB9HaXnwgbyhWxkjoDTo/XDQtTN5l1h2jDXdKdc/A1p+uIUhYtWPUnlGt8LDiKzqCoZprSw+4sqBmEU4f2rtkz5ME7m0FRouwSwaw+pYqSXow3U21SeqNiN3/CAw5P6ZDyLcZFOoq/nkVrIsdNHF5ggemBjoI0lZ/tEiinZmw4NG0n5/Y8Za5NnPHN5KFrDt3lTDFiwnVU45QqvfvRw2S3EnxSGALEJ51C5pzXa7A74cWMBJ78V1itpt2PH+1UzKTBlRGqNpwvlwJ6T+uCEk0Q+N6bDlvyY5WwQAAANUBn450R/8cWpQsUKBkzuGbHKxb38DXBtIAZ4H6E5I03dFshOwAGirVWNy7N0MiinCIH68t0H7pq9cJf5OPlcirIT2mZ75nXncl6EVj3z2y9JR0QlnP/pPLHEdwWugmqe4Q8uUS+Es10Tv3MpsyXbWSqYWyiQZ0FIpQIJUDP3FobkUG5H0ytPPjoFZrkGam6LlRfdu1MekhUIOW8xQaWSyQ+r6pd0TgBY4FTw3bov0CMl+LLc3JYtC6BgTM5YMDnFYF2gLuLAO6ctDlvGL3ADUX97pAZUAAAACyAZ+Qakf/HKKTlmJkf+vIY1erJnMkYt6KXSP4FmCLjJQNRYLkdaH3oUkhcrawBNe0hk0eizsUuMpPMKAt7zXKVvb7CbbozjQUOlOBOGwiKxJRORPcNux4HsEDr0rMCXpti0P4yUH0fvrfALfIO3Bd7vQv2ZSRp6qqVlWmiQBAeAm1Eq2zf5GMNc+++7n90QwZBYf9/LYDFWSNrE6ddyWaER5UYP9HiWAxwMZuTdDrWqAYMAAAAQ1Bm5VJqEFsmUwIZ//+nhAAAAMAlqQQ3vNAChkqzaTOJd7jxlUM1M1V+TeMEQ9FHm1iUSDm3QQwzL9SrkdtDfT1O9iPw+PuJylStpmldF+H9lVk1vZzK6hOUZxXwYWO1bnNfVoXfoYv0zN6wYJk17xSoKCCwsmpZzuvov8du0JlO+XushShZANtlvUvSpEFzKQPiKGRJfp9mkrkbDUuWojldtikn5+pie1MP0lHZDegYTf+0cLWjMhizi+rUHdChpnkLTES5e7gDCzhyrKGms0T+7GRVcd8RzqGU1PmKMQJi3V9Lj+ab1h2ey+AJGvpOcpVq6mingtMYi8CPCWvqa9iTTtL5AEdAWO1VMJvYQAAAOZBn7NFFSwj/xZIDQXjM1TH3sJfQWZ+YBe2FUCo8jUQ1IJEDAC4pulnNPUgAX4YcoriG89ZWELkJsNRQS+VDU4EwwptXw4W2R9x4141Ikc2Sb1eejbH23WlHGBXZ0H1YbsQCVVX2WjGpuCMt7CEi5E0L46L5EFbbGVNWSmbPEkiO+/SmxY1ecuEOtYwpAB6hqlYjZMetoKC6dDm9PZCyUQpPpg9MKSOUKQvM04ExxZ1+NeB8J1rHbMHQ7AMxXksM93796TLOO4+Q6Fd6dejV4GGdVXAlWpSsNDYQOPCkehLDViSxn8BFwAAAMwBn9J0R/8cWpQsUKBkzuGbHKxb38DXBtIAZ4H6E5I03dFrdRLSBh9ZgA6RdfzrxeBxVpZU+STCqW3DBABPuYTmUhCusr6gTqQe65gpQceZXsu+2yb7EQ7AmP95+da/xZtXdhg4MIgRF7BLJIWuz86ZDWTMraJtsT8OHqENXDgnzC8bDIX31aAGyKBBOo/10jQX8SFQmNkiVlFmbpIyV3fBwmjkzCtqQgp9Fzdg85lYmnRByTZ0nlBIBf/FNV202JIvLWRxe11oSmFQGjAAAADZAZ/Uakf/HKKTlmJkf+vIY1erJnMkYt6KXSP4FmCLjJQNRYGyQAGpMC5bZqD5yIjwmYDFM4iplKVzbih/xzF93UmuangvL4gUMwxaYLmoWM09J6q3m0xai1kQx870hKWZvm/mzONVKqvkNL6eCCbhLZJkh00DD1PhQL1keiP8m0zRpKqKX1TY93erbuS8IWurZm2/pp5AeM/WGVc2aTi2cEEVlnbpJCAuymkhPhg02e00FUXly7cuATKgnDxA6Apel9ZaxdqMus2hk7HxVXz/EsSEL9Ql5IQFVQAAAZNBm9lJqEFsmUwIZ//+nhAAAAMAjpPk0ARIaNkMEmaVuuevSmCuJ7F9IWlrXdz6vz/X4WCBX9xMsqxndkr5yJb3lM8ncV1dLnxiNLMKTbd/hfS+QZ5b5d6aTY1Y1/TEnde2GdR+KrO2Ul4gBy7xAYBlesj5t1+m5eESDXT9fIavIvUmaWQQh/runTTYssraLaadYYQtDuO0jtVgnfzPeRbFSGmqLaj7jg31Fwd/LGZmYFbUPUlLMnoD1uI+3OyQdw64v9f9b/KcTnLcTnv/RqdcCnjsduORlmIe9WHafPhWNiJK+br02nW6c5wATgh1kg+IV9POdeb+yFdhDAQLsHDgomfEu4ZV2roIuxGZa4hqHmfPcYpKBE1KdQQFMTRcn8XEhu3xcvC/pRFCL0UPiD+jWiOUXww2OxP/eXe4wxG5XoQFDRy4lbG0y8KZeS8BVZWnyXgzvjcTcobbWiQ/1MPfnyvLJrl3qT06FPT/0PYirJW0jWO0BNhmdUE/dDPb5Gr85PJdsI7MROF90f1J678HNvorAAABCEGf90UVLCP/FkgNBeMzVMfewl9BZn5gF7YVQKjyNRDUgkQMALim6Wb+Qx9Y4WYmE2LPWqejvwAfAvAXgAIDjNTNeHwd3/xkRs7kWq3ci8itaZkIhFnbqP7exwGEJIDdf+C/VmOq5FyqUyMa/WVc1ZJbnVTGdzfK0aI9pha5zP4VUgiVj7HIL162QeE5Hl0Lw1M6DZDsdv5dn+CfzRP4bhNUOxiJiGcpLBCOu58fmkOopj5oNBhsu7iIIHXbOYfY6VY54p1k6olHYIr2j7HavpU4BRGAffULezl0VwgAl/6wJaTVAqRpY0WFkug4Ttf0H35MytmYUmL0xZ0b9AsR9C+wHELWv1NGPQAAAMQBnhZ0R/8cWpQsUKBkzuGbHKxb38DXBtIAZ4H6E5I03dFl2dkVfckUTQATg4o3h4AjyRgbiR0Y9EuMFHnU0HrU46IW47UTztllooblWyIXJAFPHAXwEztHtqeFqmvvrKKj77jiFRLC+y2Kj7M6O9MZj2pIFch1C5z2alkJMDZhdaMxr2dAtvwGxjfxaXVyt0O/941aEoEmmxTGfRuqKNbPqJ4QgaPzq+pWem8r+kKkjim2aGSqrcJIh5d0fsujZi681wFXAAAA7QGeGGpH/xyik5ZiZH/ryGNXqyZzJGLeil0j+BZgi4yUDUVx1LhZxsOp+QFQATamqg+ZGTDuueDLg2vVM0vX/x/2Sb2zlTvkp5HlR3fOL6KJUbz091Wlx41MlisDw0JY4t8KWhH3WNjlm+aXNwjSq/spd8ngnbhJfRG1x2ySl0eCFtDAhgyQ0KNhyqdR4ilBJNlpuJZjdl0QJ0HlGoxN1ms2pb0Gi7bmZsBtQ244ZVzdvqKtw+/QUbM81g+LVIUYYUYbH6j8RyW8P70kFFa2PKt0Zlj1bZqXtEmQFhqh8LaJwlSHSprgTouhe/Z7AgAAAZFBmh1JqEFsmUwIZ//+nhAAAAMAjqTmsANnQAjCRe1PzehJSs4PZiWzL5F8m2pcCeTRBdffKuv5yt9TwOnuqWnpOs+JT4FmfafPrAM2szg+2++sp7qOd2Cu1/Z6jWCKPOmWpT22nxf+j3kKiCrbQBuFV40wd6787weO/WmAjkV417R8wZLAvT5pTe19YkkR8AgzdKgs9UtXu09j07F2Itf1tFgKNEosbHlLjqjMSfb6wQkd+VH/bjGJLqc1pRghQfDu6i+P0caw7z5cwCOaI/7cYk3sFzMSHbpCAoO3dggMhx7BD75M+U4vRJwg/ONOcpIeh/GaEp8OhnyQlpyfRsK/CWhIB1uTuXCGlHqYSUkuPfqweTwT1D8zaI67TcaARSx1ewC4d3tYKygX83cEECkAMA4pqmEfGpW/h2d/HkheTwpyqM+dAmDJmvm3fDGoRLK9WQznPcdnn5RIHmM1aKh3pPv8BSsRjzGb6AsyA1LT6NEJC6O8iZSj0/mRwxYFSgcnFEf1P3/KING3CfNXE8pAwQAAAQ9BnjtFFSwj/xZIDQXjM1TH3sJfQWZ+YBe2FUCo8jUQ1IJEDAC4pulm/2I6ACKL6AIeoznCJ3F4EivhmTZBwcXrS+4DTfnClHIDGBzoKrNpaLIIyJPk9njnl9k1oQ9+DJHmAqWiXQyQJfTbDn7tCdff3QvKGInexs17cBqVxd8isBPJX/kYCJ7bBMmso7fsKGDXJR2vYwINvocwbAKrW+H5tmATbNK6g7AIJm3ZOs5TKDg6AbcNhlIbd5z0uf+72AvqUQDLpi657jkxoyTZk8YrVRVkStEvzIygFEdNs0Um9DOYQzVy7YIlahbusf3ICo6VJzgMyKiHCkCF5nENVbuhX2T64yk8N9BI8hsU8AtoAAABBgGeWnRH/xxalCxQoGTO4ZscrFvfwNcG0gBngfoTkjTd0WyB3DGsBiyS2QW3gBYdBLBCHjBrunLcoU46UOFlS9zlEdJGtcLoGaOJi2Sw5GXkpuLyyTo4lho5cLYMoHpovDIwn47GFMsMACfZs8eWJFP6RA9LM7ln/fBLjW0bmnV52acPxJV7ppJ+d/9ehYpOc5IaSmGIKeS5aaxakK8aeQdfRxnHK/DXkEYFh2dQA/B/5zlW0F5sSjFXXn0F1aSsXX4f4BNzgsMcSomQScoRAWW7WTX0S5hinWORLGdmROyUBqlPPg4pQGTmV7kre2cycNgslZvrpUwVlox0S6R1raIfry6gDrkAAADUAZ5cakf/HKKTlmJkf+vIY1erJnMkYt6KXSP4FmCLjJQNRYLvSBVv/4AFAJ80qJhW6DogErNfSI32qdb3OPI6fkEMcYcCCdmNXpx+BIGSWQLe9I+HoN1+qHqIAWeL9RjIuB0GopQbZ+TyZawSZg5aFUzGAjCXg7h4vfgknX0Va3dSazNNwBKtC1qQJNfC1HIDC6nsFTooJDd1pz1TRlUyow2CbqQRHXtl/daE4jlleJjX99BV1cg05G9EIKxQ/NNLSscmmsQKQ9N0CV/aH2J4w16eZUEAAAGqQZpBSahBbJlMCGf//p4QAAADAIN03zKMAH14JBESoDbC1l5kEdWWN0OLsknEspAs7gMCAde7LwEjMwa8cQMQ3hd1GlZLZPrnegzDbCLCj4a5j7IAqbF6xZL9ft2fnx4lQgQj7AFc50uL40nSYJrOTvxcGFLtb5DocHIR9aMvcmMN6kJBRTftHv2HWUKiJ+6yxI03LuxJ/J86Fwtb11vGg3EvT9FMhdCnkypmPQIZ+yOe6jY/ThmA1OfIUM5ijgwToj4A5tp04x7hswsC+lBzs+z6yY9WSqm4M4Nqzti9TdaYEw4aDG4m3S2qRBfIIn6FGh7Xfbo0EhXgHS2E9hz4/okCP3SzLLg91O3NqJ2pej1z+yFoLcD8BQIj52PKMmGyfuepKle0zNIcM8a2qPnq8YREq0+lWxXtbRDIvluh4RMiwMji7viIGXUVSAL2vv/oVJnHU9IvZj9haINdGzmQGmrpq+p+QiOoLrCU7LzhAhudh3mPWDNEI+3bnFIqZZFME5+TznbuNJrRHyCkcWpJVJMELZvkxoHEnH/Hsz0294cniXLUq3DyVnZgAAAA4UGef0UVLCP/FkgNBeMzVMfewl9BZn5gF7YVQKjyNRDUgkQMALim6Wbkc/sDfL6IizziT6C46AB69ojb16kLthnewy9up8OPRYQeAWLfmOI3xMzdQc4f7uk6jXk1hs2amcd24yW4W2UTAIAMt7ZeAIRlx6xRZQ1UEmwFIoBPzwNVgmW7XbAnxZ1NWzQXANQPgSup+FofIpRwTmt7OhQwEMu7/yTcBBN5OyIIpXWY3mHOVOqUQc0NQuCxuoGLMUiQxayBZM7xb1qpANjplJl3wx5sRtJM3aZBTyE7KYjqYwACggAAAM4Bnp50R/8cWpQsUKBkzuGbHKxb38DXBtIAZ4H6E5I03dFm1tASA8AtZLeyBOooiIwcN61xhQA5rAi9Bx0u+si3ormI81fZpNzZGcB/7ixZ5+ep8vQhhpbs0zo6joPcLxfaYHVHqzt4aQQ9E4g9G4/0Wv+TjQrm9ph8MuXVto8xrSRNqOe4VQvWThg7ieFL6S2VKA9JGNm77JcuVM/pzp2BB/KkAviItTM6H3thvXYKkS0MClvUcx0Yx0UNqwCy9YXKi7wHjpka0b1vbRkDewAAAMoBnoBqR/8copOWYmR/68hjV6smcyRi3opdI/gWYIuMlA1FbCzCm/yaV+z18QAkcEqLkKOMP19hYZZOhP+8gQuhWGDxpRji/uRR6vpWA8BlmIaaxuhE274NrBAZQOS+ukr0o8Bb/ep7MPUv2mNZj2mtLCX+oKtSbm+Ti1NeYidd6vxno278S83hWWFOPBiK/A7RyP97o3jzkCKQNxgmxSTpEoAvdUwYRzQylNJ7aPe1H+yFrNH5KfWfx3W4cH+ZqTYi6urAQPwVgC2gAAABTEGahUmoQWyZTAhf//6MsAAAAwCMD3IAFs9Nqgivr79/nY77geiqM2osAnsQtOYBGBDCkCLykOomoOIBYJVNocRZWR7a7Esy7hGaW9PD8yWhVOJvol05UuOFuvxMPg+66kfMLjSWjSKeRJFlSq4z91y3SA4Il4Tmz2h7RAeSGvgeZjSd39bOfiOe1SUyXstSxRvWSBB5Y4ddY+o3he+0dWUev5a9R01d0UlGSvdmYSFjjaPfsLBhDOMyQBZicsVq+iAkCOETYBa9/hBKfExUHwW5diyE/gh0zN8XuPCIoX6ZMNmNRrx+3Kqb2KWZb+GbkmkFUChaKZeprs7J9dVnv8UcwiU7HLtiH8BgrdmERcgxYPOeV9uhlZzLSQp7vhNQJf7FXFGU+0kIimnmw6R24NTuT17ukzNK6PhnLEL4CcgT9KmaBM5xSuzylzAhAAAAzkGeo0UVLCP/FkgNBeMzVMfewl9BZn5gF7YVQKjyNRDUgkQMALim6Wb1PG8667t0njwvUxjls8AEdByw5w5K+myBAzW0xqLH1mbm6AOpjSmXUx5zAhwbB1bPyvXL79T+qmzwSITezBIjSYQL8FDMVwNcQlre29YZojJ22B8KH5q9Z+8uiJaDMW9xMZGlg05YN/vJYdEUzytAUBpux3maaagj/pIT9Cf8tSgwslgRwpGvoXR98J65DhDQjPt53QlwWHlM8kK8SkSE3L9bFDVgAAAAvwGewnRH/xxalCxQoGTO4ZscrFvfwNcG0gBngfoTkjTd0WaxVIMjRsSecAE3lhM2UGwciY49iQcoQqWZ35r254tO1BUcesKH2bmSbPPGIhwEpdecZuXDlG0Vq0/xHnBZxUS3sJpdYA0Suc56HVYGp3OqRMl8cMrXzP0rNOUX+6yC5p3xXCRcxywvVnFyo/xcTEId3HFcYrdzCuTHsNJBaCtYyPanmed5RcvSVEJsjdHaSWh3XxrjQq7CCZXi2gF7AAAAzQGexGpH/xyik5ZiZH/ryGNXqyZzJGLeil0j+BZgi4yUDUVvk800i0kAAAMB+5cj2TV1SNZ6UMehFh4Zoc+YcnTe+BVOljkTAztC1teKdAPxCAjNeq9pTUYPwu7f1gj3w4E5DOeFYa5cPvXs01VZpPDrfAn2siXcM9t6CHkzNrOB59iviZYSZ8USjfushCsNkhyUL/ae8nDFFQdgIZRZeeZ8kgWFCEgbay7dnRA0DfOthQ41gIoKLLACi0Sca5Ubsd45FD+nTzJNC2H69oEAAAEgQZrJSahBbJlMCF///oywAAADAIwjf3NB3fn51k40z+AA1UdeJ0TVnynyQDkwAf4Tniv8r8445QGfQSPPHTPb9Zzq/JIlEowZNFVSkWu34JZ2sPl8uE47OEgGW4TdMyehcK6N3OJalsMO5hbcLqiEPWsk5tShr/6/SOY4LIC6gPFEfNxMjOnmH17EQ1e6PC7rN/NX6KRFkw3wHJoT3zdzSTvQ2l0pQrtsDdG2xe79V8TAqTGra0BD/8u0M7QNeB9CJ/yht0s4rkXo98NE1vnIH3DcK4G71ALH1n6MfvJi3Boqnf/jFldYQrtFAo45ceR77vGKP9lmllhf6LTK3k9tyUSRn6Y3CPBRQVMEJTyVyy70olBzyQEIKXwar/OimpvxAAAAoEGe50UVLCP/FkgNBeMzVMfewl9BZn5gF7YVQKjyNRDUgkQMALim6Wb2YRSaom2DHfVM/2tVyGZXGqAEsWk+Uo553qaf3YWbZgDUd6fHd3jAKLw/hTuCYefHuy2kTV73NDiuV3UtwhAvqzn4wWQ7ABKCnDvq3Cm9JumICCPZY2IlvF5xfNbde7Le9Bq0BKI61t+OIvFgaRow1M9XTgREBd0AAADMAZ8GdEf/HFqULFCgZM7hmxysW9/A1wbSAGeB+hOSNN3RZ7H6QAsP//rvtlEln1i11vQV2pZnX3q61FYb3GR0lUmDMMjgCNLrusHW2kZA+89TuGeH8lWtxBdPMv5lxSJu0+eznkCrpjuKFe1Bx3nik/yS4wsOC8Y4pOzfj2d+zoEvM4kATSD51YStFeUEIHTO0uL1lkVfbehOiSyj/JCAOaFY090ltmJB1mEKDlJzFfO/jtuIbXvgTUpZAqdaPJNfGr8NbQ9o3+ICqATcAAAAfwGfCGpH/xyik5ZiZH/ryGNXqyZzJGLeil0j+BZgi4yUDUVV76JDn5oV5lE/AAXFh0gWWsmoiCDt55Nip4ViksYJDwIlBXwUKCnZ90QTnAWbZzc8wyAcRSApEpF08AiZTGqudcV5PpVJTaGeGl4wIot8CzGZGMmqSO/a/X1QBvQAAACHQZsLSahBbJlMFEwz//6eEAAAAwAzZbEtf2I0RxyX9yhjcABnrvU65QVoldxzGJ6vkil8+xGy1w1GKdiHvdeHHZ45avvWB65UQ9bW+Yguajj//UFANKzzWUhRyZNBOhAIP8DSgEpK1DikssssaSCtkji3aYw5EwDY/phz9A/Sn0ljYcKb7WOBAAAAlQGfKmpH/xzBhQs/8ndYsvmLxmT6AqDV2TrlSPPD0AowO+O2wzGlYuLQyu5lsr3x0AJZa56Zp58RHVMEjPJ1K0tHU2IVhyelaET1tItIlTXqsiW79LUBnAqeqBgJsmns4njPqY1t7/Wr8KXDio7u4PaClZpGZ/6xSmhJpgu+DZRiQNZHY+2H2twGIQNq7Pt1f6lVbIWAAAABNEGbL0nhClJlMCGf/p4QAAADADN/7jLeRwCNrGv71pZnnuMcCOUFDij/CNF3LT8tW4NjYS9SAVWrZlyJnUf9UYziL6yt4V6w3osAJTU7gBhEfhTV/e5uK+ruF3TC2uSSnDgWL7yYYMQW7a8MQV8c0+2M6zz+bwIzloUEYixhdg5EXxNxzBh/cgnwusKfwrSa6BklhDu4LsCybA3Hl03KtIJXRbyh0LhyJxngrh2TzFac3gSiMHDKbAyMViNv7rM0r5r9vwAeQNSffoGPSsFMTgQT5rRfJaJT3NyU3ROALfmNmuWWSrc7OSPxgYoumYJMt/NcxDEty31a0HaRd6JwW4+XHPXKNh7n06hvEdtNsNhudJ2tEWKI86H2WxyAAOX5DXde49ndsYZSGs/wZqQ25eTpViibAAAAhkGfTUU0TCP/FjyMFzXj2gn3khaSsqvl6XTI34J+C/qDpgnQMEKmjJshvh/+NFtyrif58wbwAkAEkRj8DjKuwu3Ms+T6XVHwb6hEl1Qof+i+tHLQ7P7gBaJmWmn7uqnu6zQyseen6QLDZIePySTN6GQV8POaE4NqADZ5bIAoPDV8gX3SUAcdAAAAaAGfbHRH/xxalCxQoGTO4ZscrFvfwNcG0gBngfoTkjTd0WE8InaVOSSgJurQ/+OD0HwAAVgVhF6mlr0T+I7TsCyvYGpHsU4f/D5lF+p/Mx0ugt7vdjfUsMyeCkxCsh0isabTkCkwKQJvAAAAcAGfbmpH/xyik5ZiZH/ryGNXqyZzJGLeil0j+BZgi4yUDUVV76s+Rs+1FAB+rvR1l5s3tSRQvVQVLY885IhNQzgsE8PG2+vBJg27w/XXF1p8jlZAXShQU8t+NXow/cEi5bUPQAw3bPf0UrOob0joD0kAAAC1QZtzSahBaJlMCGf//p4QAAADADNsgXuYhg7sgIAQjbzlI4IUegpOK21tuInY6hHc/+BjvmBBHMIJbBlGWrLginlpg8vWA/XHo2+B7xkKOH9Z1eFZThScjEYwT3xp9P2GVTlpce734qih2kZzUPlecsGLBvUKV1FfO0UehOJavCVCIPvK7hciq+uqvawQXBZ8ip4kBquKSXj3GlVIJ3jlpGcRi+/R2GcH+Iy84r/VBlkcIsYFCAAAAH5Bn5FFESwj/xZIDQXjM1TH3sJfQWZ+YBe2FUCo8jUQ1IJEDAC4pulmg/E4w1PC0gATGE6pSa+ZWQjoi557Adz8xxkg+jlWRBAJACapiXpbFa7peqBh8nq4J3/ULIhGup/Q3elGa/FANkUFvnJjHL42tsU1bwmhbb7qllLGA7oAAABuAZ+wdEf/HFqULFCgZM7hmxysW9/A1wbSAGeB+hOSNN3RYTwGRx55LEACdSnvSjIU5WG2sZvJZ57BQQ0Id3NITx/x+xQ2gEgvgf2/nW3idKivw1KO8+bgvg2wXrHbRjUomkNlc/P5cio33sHgFBEAAABuAZ+yakf/HKKTlmJkf+vIY1erJnMkYt6KXSP4FmCLjJQNRVXvqh8EPgBNWgKNRU+UqhHxysLrf5krAvZbg4d+l/5NJNNO69Ds8MSdLChCoopq0BEpTkNfftbbuYEfy71BaSX8cfsAt/py7FHOwIAAAAEAQZu3SahBbJlMCGf//p4QAAADADNqTwAA3BjqsUzaMerRNTP9JftVNyMNMMq/iQY5ToJX+WROzp1iAMFwZv3QEhLTEipMOZC4GeXuZLdaGZQOqeiaTDfENAtxrANzv+ekkIboOqkC/IZwn82Z7fuQkiESd06KPm8MR6ulnsY+2ICHkqFplOMAeIBRqmludyrQrOwUeIei6dhp+dGfi+xRBxdesLfJkY0T46BAhb0ENTk5l8FZlNEcxps/+JuNPEQoD6snO2rdb+42t/uX6GDKYP8YNRKqGyFW97KXGt5BKrJ6Cl9O7vVlPtYxZQAP085lSzMoEtrBSASwTXn9viGjSAAAAIlBn9VFFSwj/xZIDQXjM1TH3sJfQWZ+YBe2FUCo8jUQ1IJEDAC4pulmg+9glBqh/hCABbGy19petUJf3alGQVVCMmPHvn3fW+xbHIfBG7Qv0rOqLrcKzJ8YKZBjYEK6H22/G9XN+ZvEGRqpEaaZEVOtK28VzSOqj3PhekEMKuFpXxVUnl9FsuA+YQAAAGMBn/R0R/8cWpQsUKBkzuGbHKxb38DXBtIAZ4H6E5I03dFhO/VAgtmd6tH0YoAWGVEGsNc2Sl+drKle4MVhaOChf4Vl/fS2FQnrb52aXfne69PS57Eb8Ax1nKFOVkCaxinMBgQAAAB9AZ/2akf/HKKTlmJkf+vIY1erJnMkYt6KXSP4FmCLjJQNRVXwCtpfZNQ+gAJY6zd5FMFU1ZaTAtsuAST3RKqrPyqYElnNHCIXQoXP6zPigxzEegvHhwYP61nHdiJAvwJHVHkuuXHNoXtVDd/019CExz1GfeX90LYup6KAWUEAAABVQZv5SahBbJlMFEwj//3hAAADAALnsBeAGdX+/Gx4J8y/gOqEW1WD3dtozVbPLkqsPTVzh7hbpD6sOQl8zRI03PDBTuWOSdJ4HrB0YXA4KOr6QaeIIQAAAHABnhhqR/8cwYULP/J3WLL5i8Zk+gKg1dk65Ujzw9AKMDvjtsMxpWLVmKOXmGdVmnygA4K0WZSaCdz8YUd0tFdB67wASw6RLjb2dTY6a7uHCAMrZG9axcWv+mCfarws1wkuz+3fzmmpS7U/g6QYwDPgAAAH42WIggAP//73aJ8Cm15hqoDklcUl20+B/6tncHyP6QMAAAMAAAMAABW3pGWGQnQv8mIAAAV8ALIF2ESEgFLG8KgSIkhcDjL8ChCfgzT/mAaZDYQBQ9NiUJEhqpdW/idtIZrnXoTiiLPd7DXkx+2yXp3V/bnA9pweYx0R9M8ZVi6fFUGi3uUpcuUoelcIA9ktQ9LWUv/bGuSrqmjXqCQ1hBlBjhKahyRdXILpiUL1BNTtZ1sdg+5kQt19uDQpn2cm3yrWJJiTF+y8UuwCqcQERux2vKUcevxjbomg+LrGMif6DGCu9ctDFCiBj9lY9kiBAiessiFbRXy87SevAIy+/U/5iGuWmUHVXH8FmfQqNhTD+SYi7nbtbUC0H711ZkaUdWvJsEr3aWQfNBjp7xYC0BSGGdyhW+MAH5oYevCK3VP5r5yAY8rql9GWqtyfSE65GEwvNL++mdahqR0OT//zBkzVDYXCAGxwonIB7Ip77uH0WlFrWSZIXDaXFzdV+RGW7HIX8vQHn0c+Cw6pB+1+f1jDavpqDVevDcYI8Y+GoMpa6C2UlPXzqnfLn0DUBsEyGTU82IBsdzYsu4DrqfEoxAD4h+6Xki844b0MlupskKPKCV8FkYlUnYJ+pMeTDO7how+h33tunJPrhyeluju2K4I404rRoijp9nbkzdKkRPsPnbcJ3x/GLXtjzLZ02Jv898Vg6WBcknm+dIO3Own0k90N+/5ghg3ZQjzQqfl2JQJOmH1L3dkAgtxY0YrT/7cSyF3cfQrkYNEgDw6SBI3LYGnSUo6vzF6ORbL9nzl6dmqPDwYKcl/+fLi4IuPGwf0e6WBwRuXNRczrs3FwjQXi8Irf18JVs9GJlVji5Sti12GyEx14d3WzACAOJ5uB+8u0iFOPVYs6KIhmWeKVOfOeF0y76HjYqDKlT+VRGySpCbriB5v8yE68SnKqYPMNaetoX7SOqtgO7fyy451730gmHdxnE/rnLlqWNguRT+WhTc5Jpj0/RfC3PfBSMlxroec6THyHa6IoGfMiCN1cpGrG3PHPTLSVm03q233iKJ3qmoVgQGEebfGoah/V3RHTATCheiwK2IOuNszJhC8UkdLeztiSbANc+ryTrO1cHWNv27Gb9mCoAZ10tEcR9tUB8mHjVv8dIdVAUpazhieie6Py8z0UFEGd38U3RBch3/LTwGWIKVRWey3bDyjKc0ZH+OEagrWuaePWCbMzxNNwhqHktx8W7DlL9Oa20UH5f/TQk1XCElOJ2ZJoqQTp/HUdDGGID1SX3Fn3z/deA+DTUg1/YBb8pGRUMHdU+Rjxcf6o+dHCK8YaOU5syEUbr0qKcA2rZoe5zLQD4yuNGCXWZpvB/O+XHSSBoC/alkPx5lz8Vrk935atqbHeEaCHpwrfAb1ioG7ysnIp4B7I8kFecs+FyyrhPjfQqrbuU8MV8vdAQxvY33G6D/WDfd31pPGUlWKfUhzRcbjedXvMUsUts0caaVfOZK5+EUyumzYZEBGLxuv/TKZCL4xRj8B7Uffv8zm5n8fA3lI7B+s9mM7R0eleNO5q0fBXJF2oP8dU1yhT9jKukdBQ9tDRTnXTpXX/yM50GYKYi+BwgFUqxjmbkaOW7rG3wfO6LJ75uZ1Ny0arYlwLCHzAaWJKEtBNfhO97SkU6R+HkOVHFL3Q+Ex6p2rY/u3GFYFOtEdSiikLe7MYdEcQ+6tS1HfvVnJVmWP9+FAtvW4cvIrbSW4Z9a6jVls4V7NYtzKJ+HMkrONUbJwcFgb1fjgfOxfwNSMz1CWEhSqufYPCgsW+AF//2unt3JtVCM1UvJp3f+Z3u8yt57aAZTL4T0ryTnaTvydmMwspZHsqP3ZVdCclscpkzKuDZjMfpTk/3UX5NYlwgY2RF42hs26vjL/MwcGk8pbvRqDc2uOIYocNkpPm70kVnXdG1gaD6ocwfcdRsO6QoSSs0ha/u/5b/cyE5OdpRz7DV36Xj6eN8WzoenL3wHeSOCaopvWoDNZ5RpNRtU00qX40x4ihBQtNLjDg8oClvVze1K11IBbfGiZjMIIjbGa0ncJhLw4lsQCt0QWw2K0SWRe5mNGYJ4zttJYudoccC3FY2p6wa+ujZgrcgOnSMc6mxsgPr0OrY+8hegEXxTlQKrFij3bkCgzkyOKngsNHbVNxN5U99xqgBQT95RShxIcskgmjnYWQ4wX3ncJs+C5gkhFOFaieTw235dbXDIK4CcsClH88/MfEEZH6GLE2KQya9aJAf/54mcLHas2QwSzrOMfs/wNnF6AOk74rOgclE73dIc276EDyDHIQ5Qag8vlL9X/jSGUv7clZ4qv4h1yRr9bdD5Q+jv+Y7iVbNdFRgHjLKFIZGpdMEXsS7R9LeBUu+NHLjBDqDTjFsbd0Y2/Q39BZk/fklCYAG/CviDumD8pj1hryTVa0FtH+3QYY7DrZEJkgvI5v1Axa2CVNoN0f+L6vomh4LN31eg2V8jatOSfq5Nm/WZLtw7rhr7Cbu795wlGWcOODxYl2YyR0NAOu9GtDJ+CrS3hdTptdbwerxfpnzp6np2o1Gu4OkX0nWK22fM3+9Iq6Bj+ICJ/xSpnLUhI9I3NKw+KOKxLOQsysY4LerfjUmHKVKqOQepWMJ0HqdndEyIGiEozSvBiBWqZE9FC2Lb32Aul60gn5e6EquBAAMuIqhkgASMABDwAAAMxBmiRsQz/+nhAAAAMANzl7gAEKuP16Oxw/aqJdVkZnvD3KfbrrSsLuoNhLI0yq3NQtbdvZXnTHPt8Bwvgp5Uzy+vS3HK+oQpCJP51B+2ZcmJ55Dsal7yQMhM83U1n08IvukLbcYVqea6m6T+yhWU3Bhr26c/wLNq6Bj3QDU7/dPLYLFWlf+Skfz8gPn2VPPU8S/QIjae20V8RUFAC00m+QUMy+4twQujRutf0NDI0FPCQqSpqVt3LJCHnm3/3OhkWg2WD7RBdeG4Ov8uAAAABBQZ5CeIR/AAADABHYMwnX3uxtI1lXzwAlkdoLfW0VLvlOg6Zy4Fi6DpgOzsEHRiw42Am8g4oui4L7tEfH9MRqJ0MAAAA/AZ5hdEf/AAADABxIv+xjr1mkVhIAFygTAAualCRGRGLAEGJPdrBKAWiVOF0pmb4PGuxxaM0rEEjF8usopi0hAAAAQAGeY2pH/wAAAwAZLwOMT84mj6ABv2rhgKzNtY4Edvdbb89yWLnlgo/O7ewrVTbeL8n7bEMU2pVnuz/72Z8WUEAAAABCQZpoSahBaJlMCGf//p4QAAADADEF+nX4Q/uzbABBaK9N9vt1YDKCl5VJH6GJ/nzAErSqyhuiFLa5MpumOC/vX86fAAAATkGehkURLCP/AAADAA+H+nYc/ygAXE43adBcFF8LVPKl1NLKu4jIj+O+dZAJ1f42+cez9IVUPws04Ok6sLu+ZlcoI+mM0kFFmqLaFfqNSQAAAE8BnqV0R/8AAAMAGSeHEQAmJAj1ajPck9Uj3s4Q9gIhNL8k9LSDKYIwLgpgsPagCoKEJ+uLAoKmkM9h8/GPj8IFnEogTar8QIixn/bfh6PgAAAAKgGep2pH/wAAAwAYODFlUu6sAEPmP959BySe+d660hzyAkEUM8V17aDAgQAAACNBmqxJqEFsmUwIZ//+nhAAAAMALqsTQ/EAVtmYNgt6QmbqgAAAABVBnspFFSwj/wAAAwAO2BCoupcfC/8AAAATAZ7pdEf/AAADABfcKts5bPe2gQAAABABnutqR/8AAAMAB5n/imfBAAAAF0Ga8EmoQWyZTAhn//6eEAAAAwAAAwM/AAAAEkGfDkUVLCP/AAADAATYp+QZ8AAAABABny10R/8AAAMAB5Yo9n5AAAAAEAGfL2pH/wAAAwAHmf+KZ8EAAAAXQZs0SahBbJlMCGf//p4QAAADAAADAz4AAAASQZ9SRRUsI/8AAAMABNin5BnwAAAAEAGfcXRH/wAAAwAHlij2fkEAAAAQAZ9zakf/AAADAAeZ/4pnwQAAADRBm3hJqEFsmUwIZ//+nhAAAAMANK9fHABzRUuVfOUZfYj1hjxmVkyhDxY4yWyseTCIliOXAAAAM0GflkUVLCP/AAADABDeSd2wAPu7HqCIY3PHLGZV8vnNDkjkgagNDyZVFIzAOyrVkj6ggAAAABQBn7V0R/8AAAMAGwu6XvMhczaygAAAACgBn7dqR/8AAAMAGwe5G4mIARSC1IP4sA4AfrhyBtQKcv+mlrL9tQ0PAAAAHkGbvEmoQWyZTAhn//6eEAAAAwA0/seDq6KS5CtSbgAAABdBn9pFFSwj/wAAAwAQ2BlplMplt5Y2YAAAACQBn/l0R/8AAAMAG7kvACt9Bq0YIZ9WrUaVJkf/jl+H/i8N4uMAAAAQAZ/7akf/AAADAAeZ/4pnwAAAAB1Bm+BJqEFsmUwIZ//+nhAAAAMAEVIaCBfoVehswQAAABJBnh5FFSwj/wAAAwAE2KfkGfEAAAAQAZ49dEf/AAADAAeWKPZ+QAAAABABnj9qR/8AAAMAB5n/imfBAAAAF0GaJEmoQWyZTAhn//6eEAAAAwAAAwM+AAAAEkGeQkUVLCP/AAADAATYp+QZ8QAAABABnmF0R/8AAAMAB5Yo9n5BAAAAEAGeY2pH/wAAAwAHmf+KZ8AAAACUQZpoSahBbJlMCGf//p4QAAADADDqTwAAFuJ5UCtc9qHPd0FI8KuoBBDY0Yz53MYFaarE/Icblv8x99QGt1HJpH+zLU4YG+4BSUNAnaTPIxJ0OZVLXLyoaq1M5xe9C0+CxFkrP073o1/xGFEVlvWv2r3SBd7CLMfrVcqfiYzhLMZcmhH+7hB+m2d9on2dNp00ZAT5eQAAADFBnoZFFSwj/wAAAwAPjHlIAP51KW8uB1T61RGzBFJQK4P+Okgn/PgB6gx9jr1gFWl7AAAAFAGepXRH/wAAAwAZK7ptIQXWDAl4AAAAPwGep2pH/wAAAwAZKbCoAJkSPdtAhnuf6QR19X6c5oDlgBd+DzEhYCBQjgNNYxxQIdhENpp/+1Q4/iOY9aUv7wAAAJlBmqxJqEFsmUwIZ//+nhAAAAMAMPcEDgAaDwbcp2xHxoOE00ZpRU9TIwKYAftI176qF/YuYkwar0i9RtXX5gR6O3Q03ansLXqFOxMyGsko6UH1+4EHw64SHcYKYoCxekpj86Z1LZmxJp8XtgoHg4dF/sGp/lPvXbNnLFTrntHOuk6M1sAVD0ZR5wx4dKKZkVozdC+uSXt4yoAAAABIQZ7KRRUsI/8AAAMAD4yB8QAlAOanlXkvC8mFRZ15GxBoUBPJq2BSHFnt4KTZcphO0B8t2YD4R6d5SIqTRgujJIuF9bNMJqp9AAAAPQGe6XRH/wAAAwAY0EHMYxq1FnjvME9FAxOEABD5WQIMFk7DrKfYKkXtfwM+3LQNeSRX3PERep0jm3oAXEEAAABLAZ7rakf/AAADABjQRSJvGqVo5ikDqADjPAwjzWa3w3tiyfvqR1qRsMMXy/4R6GnxHsgyjWMgahJzAxlHrkV5hTFLfewB7Tx/JTuVAAAAsUGa8EmoQWyZTAhn//6eEAAAAwAzbr0AA4ptxCHeLoMGtlJF9pW07EoedvLXTVQ7HXL4NuNRtq5lx0qmJEmFoDjVUiYqONTKR1LzWcqKl1HWXUmHe8NfNUNdzPKYUE0HBsV27mcrmhI5q+3y2roN+CqksEokbX2rXzv2IuVh7CHmmLjy+DdZ6/NzS5Hyeafzlnn7AjR2hLk43qretbZ/9apnl/juokUcbMq+vgzgjpk58QAAAFhBnw5FFSwj/wAAAwAQWDvzlxoumHQgBbprpfUR1al4qthZ2ayGVZDBdQPY5DGmWCov3feyVk9mlu9OC/rOBtM5q7mCfFZFqos+LzjqFezRgLyoDv0sfAN6AAAAZQGfLXRH/wAAAwAaXFCYwAAentDH3y/HwDHJsADGNETQS41OfFeWTKhXe4k+rGHCdcWGf4dR6xM9kwX/47JqSQgxbiiw8lIkyy0UUBTsTOhuLoInILjqUtcz7ym4q6fINn09D/uAAAAAYwGfL2pH/wAAAwAZOGkQAkZ9ydkZ0Z9tzmxTzhYffFBZD0pr7gyn2SztJ/3wR9HMyBtkvtrcAdMGvhr5v+VrtsHV742w2K4lflYkUvt716pJWUkV0kf8e2wiT6dTZN3L+ID1gQAAALlBmzRJqEFsmUwIZ//+nhAAAAMANK7ccAHKi7AOcaRBDqWivfoUtBIlOlBxyb7C7qvMOw4ULqY2SOyTVMswC9tq0mg1E/IFHRr2JXkdPr+zmn0XDRqJISuw9+5PgGTLgEdQlGDkwW0s28kVFjVUJtmmw3zpkHhg6D/8O34A1KDo+V9mnW7CJM1pJIcFKCtNgTSS70sU8UhCP1MDjLFN6eM4WvxN10QK9nn5xjxG4QLaPdWEwGLR8WeXBAAAAF9Bn1JFFSwj/wAAAwAQ3kPicq1jQHG3UgBNXeKr8XWc36wyX1TPHNkYTzPlPwf2wabvCZyO0QWw5X3/BgTb2cUf3/Wy83lci3EwmcwMgoPpvQAuNiusbnJGaB4s5QeDpgAAAE4Bn3F0R/8AAAMAGSyqIAJ26F4dtogI98nMvRPItYTvFPKi6gyiKvLctzOclc4qkRnYGhDD7yVCyrSFCFDdJ80ZGJC8QrQtKzC2Ydyu7PkAAABZAZ9zakf/AAADABsJL9J9QhR0AEr5KyaqJDtaH2M+Zl3xORjXAOqBgf1/juVAx1OsKoN1W/Qgb1U1z3N58AfjQ8M44vPn6tPg3KG6tboAxg5GGa365TPxspEAAAC4QZt4SahBbJlMCGf//p4QAAADADT+xyc69kADCyafk9kTcno2f3PtlrND1KI4JgNzrTqTcNwbn2Kz11ChFmNXkH/yhcmMtYTG1cBump0rlDiGe0azjTTvookX65JmxNWdPrSbRXOh6SCksyqf2+5NlDsyJPLYNqZkHX0Ps7hF6zAe5kPk2sjYxP690eFf7EAi01p/7H4NwE1hkzWjZ0hGBEFk+aDenRb1Is5FRoRWqIXqWpdGs36wcQAAAGBBn5ZFFSwj/wAAAwARaufQAp4e3sGKMXhHe9brEKoHaIBtB3jPxZUNZv0bpbQ3mTQJsBITlWO6cbI2pYBbOJF37gLt3R4W09J8vWqN1BXQJybBBCUbdqWatNTptRk7qCAAAABoAZ+1dEf/AAADABurPwJWfTOuAAbaadB7j+GbQ5es8eUIOToLrpYpQeXSkjnX1MfHwmWWRcSTJrU8m4mqp2W+5dV255MOXMCcqcP7MjwGlT5t7W9S4THk3PhG4gmT/q3fGwuxFPKNlEwAAABgAZ+3akf/AAADABxnyYATSCVB4e7BfJ3CR/gQ/bS0FRCtnQ6oabdbLmMDppklqSGCL+w/WTwfkWXVgjxgjlRAmCb/XUW1jmoPAUCDS6uP1fQx5ZNAJTUxMoP36NhcW2DJAAAAYkGbvEmoQWyZTAhn//6eEAAAAwA140/8Ae/vTsABo3IOUdWJf9Ht+hgeXNkk0CgExrnKc8vd4pHBdLdlVdONxpZxcei8gZ0PWpWd2eI/H02HnFZ34ie992czF8WFaQdhpBtwAAAAZkGf2kUVLCP/AAADABFeHcWCKNUfgAWqQo6YsTVSSRcQ1PWxtUXlSqO8N5osIMBnLzK7lfDKRP0j/KFWgJ9X8oETm90h8GctDbhy5Fq5trKd/Tc2k6sRa2nOPOxMv4H7WDcc+rIGzAAAAEUBn/l0R/8AAAMAGwuGnKtQZ4ABYKbm61Tcrfriz1175dJ9QfDydJaPMcVWoHw19i8mdF1UV62ZUbwpc9sarwV/HxtXuIEAAABiAZ/7akf/AAADABupsKgBVmy90JBBqkXx3yhmgL/1QvthJVMfn366LhRuRHLkuvYlqEH6FOvU8cqHy0SlSh4l/iyMXjTdb3uubFYn6yE4kDy92CL8W99PEht3fSjpabYdJOAAAAC5QZvgSahBbJlMCGf//p4QAAADADX0rBGvBu9rAFhEB3n6eUXfYBkhsiqr6tvhlMR+LwXQeCAg8MfuoTBZxfnykCL7mErpmNV+w/t0QJoJDTVHqqij+mbIWM0sf9XyxRU6T/LJ27UP4gEogAqhyd18vqmdneXz+gCAnsBnTXnnCQ/fqpByBM3H2TKyrnC3FzeWyx6LD41JBFjnDV+vZv06e2zxawTVnP12vtKmPyYEoZkjhCyCvDaF2UEAAABRQZ4eRRUsI/8AAAMAEes4gAQ+53hiX8SipExZK9T6yQKpFfk2tX6BvVd/W7l5K/iezjhiHwO73MkjJbpCG4gGbGydiXFRCSVOgVyLRfQuqDhBAAAAYwGePXRH/wAAAwAcaXdAB7Hu7dmWKrBEreCCy5TAasU3H6pn9BIQj1Du8AjYcLQ7/KZqJot6PcP4/i/vN5MnPS/ZlSx1KekIsq/mNp8NTsZOMjI89aXj91nB6XDbnSAnnC0UfAAAAE0Bnj9qR/8AAAMAHE0UgsfACWrifsKU3z6XRCT7Mkm+ofpzVs4o20jVTS6Z8HajzAdgeqlMPTHljFqXH633G7zB5llX3CmfaatnLkJswQAAAD9BmiRJqEFsmUwIZ//+nhAAAAMAL9PRo5etiGwAIHFmt2EtcFmJ/7wg0Gk05679aGlg8FqQaF+Wdwzdxyi95cAAAAA/QZ5CRRUsI/8AAAMAD3Sk5eV5yABJ8pBXfM61WdcM4M7S8DHODZmIw22KAkC47ToXiKGSh4gBl3wDNl1A8iihAAAAJwGeYXRH/wAAAwA/lkTCpAkgSUuS1ABD0R0e4ujqcfRvkCJ9mqxjYQAAACIBnmNqR/8AAAMAP53vJgPNGTIACdXTUKadB0Bvw78dyAweAAAAQEGaaEmoQWyZTAhn//6eEAAAAwAxKcw/IAp3KGn8baU3vLLhlDTbYk0qa3Uo51tX008mrP1QobvCAKaxcDNsmYAAAAAZQZ6GRRUsI/8AAAMAD4f9kyLMcz84gnjb0wAAAB8BnqV0R/8AAAMAGRwRHUSMQAKNDxKGwhYyROJorAFFAAAAEgGep2pH/wAAAwAYiTyPIV5gQQAAAB5BmqxJqEFsmUwIZ//+nhAAAAMAL7IZM0CBwSGYxeAAAAAUQZ7KRRUsI/8AAAMADzAOpwJNwIEAAAASAZ7pdEf/AAADABh8KFVUa52BAAAADgGe62pH/wAAAwAAAwGpAAAAF0Ga8EmoQWyZTAhn//6eEAAAAwAAAwM/AAAAEEGfDkUVLCP/AAADAAADAQcAAAAOAZ8tdEf/AAADAAADAakAAAAOAZ8vakf/AAADAAADAakAAAAXQZs0SahBbJlMCGf//p4QAAADAAADAz4AAAAQQZ9SRRUsI/8AAAMAAAMBBwAAAA4Bn3F0R/8AAAMAAAMBqQAAAA4Bn3NqR/8AAAMAAAMBqQAAAJZBm3hJqEFsmUwIZ//+nhAAAAMAMO7ccAIP5ws08AsQtQ5fqORht6riUg22FiL8gD2Pv9fq+IfeCdgtT3fZWkjNMHpxnw892exrEV4P9YEIazKahwfZCkFSNtgoNxitHcuCSuJaSr7GV2WCmHn9T3dgliqSjoceWsgZptCKAS+7qFxFrWjTen05iBZEvdHNLI+GL74+oRsAAAAiQZ+WRRUsI/8AAAMAD4w49aTyQAXD2nhlDhe3BtAXnj1KmAAAABMBn7V0R/8AAAMAP3FGJ7eDQsqAAAAAQQGft2pH/wAAAwAZIOJgBMcLK9ycbNzeSmltJJORYCL+acv0zaV2PjVWj0kll+tpYbm905ABwEJ82tUTw69QQhAXAAAA00GbvEmoQWyZTAhn//6eEAAAAwAzo42yAA0v+JwEw4BxLmPstegZh/ZG+EqGMqfYsi3rQXu/wHUZLHG0tggPRVI5dSV5qMiHthVhSuG/Do+G7qeBaON6sweKe6695AB1s9o1SnUgLugsPyU9nSU9U04vGdjG3Bd4U2JVfy8ymutqyeuRqzxkFfYx4y4GS8Fr8Hxzek5u5UBNOfF5YdsbTIo2s070tbv94oVzWIjPYPT8ljOwBxBdh0Ok1vFwZvioUY+ua1nEUvy14qab9TjkP0X5uOAAAABMQZ/aRRUsI/8AAAMAEF5h36wpNjlFYMAFrKMteGagwMVkU1bMiaazbIlt0QEGJMOpTSBDMlUWxe+C+GVMUzxsrb9Q4MvHsOpqorfc+AAAAEwBn/l0R/8AAAMAGSyqIAJw4tBd24AqHOwPC6wStS2ezBSbhiN2ok7pB5cxwkcJBydOjIythAwYDgAPVOLYu1cCjBIlmUp75wNBi1/dAAAAQQGf+2pH/wAAAwAZKauAAK+6pKVbeHfP9osocQHWw/csYsPrlh4VpHtvfShwK0LUle51GxeRb2jJ2uHitxRFFbs2AAAA00Gb4EmoQWyZTAhn//6eEAAAAwAzgXUoAM+fU8KP+C2SlijdPe7bPnyqj3tUr+ixWXqZfuLNeH+Zp2DeOy1LVg5+S/5dCDBvLzu4Myh/JMlJtU8Cygl6fy7SwL4PuXa1/jAhxdlTioZSbDedGu+7dH4rfj7UdsOwfyrRkC/PF/F1LCO9nsARwfUydmDcKGmNv1d3KY2N/luRpJWRSbG7vdLVosBo1RkONgGPQcAN4sX6DOeVN4MVt8+FrK/ey2izHZJCl9PUKDhfC2m0CZ8ZqLnz8ccAAABKQZ4eRRUsI/8AAAMAD4wzMNSuMIIAWtZmTunBUf1FrJhJGwJaogXcN70mLwLpbO14r5Lj6isVKUkdyEChZmVHzKlLGJuxD2IciPEAAABLAZ49dEf/AAADABkl6RgBMiSAX3op6lqkZwEFuEoow0NFjrspjnNK+/tilMP3qtn0p+pYFLa/8vD17erC7xdJ6kn85mp+tTq+JeSpAAAATAGeP2pH/wAAAwAY0B6iqN6UhRgBIQ5BAy0ZWlsCMfrtIaAUvuYu9uznfCiRv1fU4Hu5q9tiLU26PSKrZD+Z8OBPhxW1wujP5RAuruEAAAETQZokSahBbJlMCGf//p4QAAADADNysVgBIhqwlC74XSsIsxuchT2s1o4XBcUW6TelcAlC7ttiwux3GJ9peCq0CwHJ1suG5zdKJhT843+YooSBwTId0r3+u5/K6IR64pgiAmnLF8JVXf2j8ghxmJ47S1g1lwwrpAxlBUsbxEQphC6g0lP+GGNkKrEFXVvDZP2eSpvArgW/fpe6JUiNYnd6j3RZbbOYMmNV7hsj7m0bvAQ8xE+YLXb1a2Ry9N/zKj6t+TBI8xDX5QSJpTHllgCqAmcYhXOnuvFv4PbwZ10T/f9pOmYajTbK1qtNl8Kvt42vAHbtT9JgY28Qd+RjKFqpCyPu+BPWTIcbTIfrFJmiVx4keHAAAABPQZ5CRRUsI/8AAAMAD4fq3dD1NesIAWOaMMO0a0V525dWybDIuKNIdHFolfX7KfKb4fiCK0keC6PmUVpx2v/FYpFV2k15QaUm/SfHHr9G7QAAAFYBnmF0R/8AAAMAGmwZgfbzcGoANZAu/WDKon8tT8c9zT7d347uWEW7yfJvHvAJtBZtv3v5VhS5i/Y8WPMghgIifWL2KYpxrCqQxfn+MCD9r1WEvphkqQAAAEMBnmNqR/8AAAMAGNBF1rEAE5n+EAWkB33VsjWaWp0kso9CrELYEPYuHmnljg1tkvFWAhi5Z0d41mHe3E+av9AzPhGAAAAAp0GaaEmoQWyZTAhn//6eEAAAAwAzbtxwCaFqEGHDLdRhnQZ6eWigaGMIJ+6Tkl4TGN04IY5KLKDqYeOx9gakUyal9iAtNtZFyHzDj7MbbnYnSiEAue6r1CU1YSArqAU3LQ35gYjA1oc/TA1EtBR/KX5EyX2Au7daeKP2d+iyKoHG/VF29Lyojm7xYXZIdo+y1tIhyvuy/YMNgxit3z4WNXECV2M6jPVAAAAALkGehkUVLCP/AAADABBYO6WNtoWfkpgkuPuv1AAm46i2kf3oVV3awlsLIIbATcEAAABCAZ6ldEf/AAADABhClQSSKDoAV9Oq/L6o8NmOarNFzQsIJIvJ5uHP5HJRI95KijRe9mGuB2JsV2BLpZgBgQ4pB3cQAAAALwGep2pH/wAAAwAZKSFKfzIALeHHJsRUKSjQHY4UrYD1ecwdAoAclqcPBXyr0mkhAAAAp0GarEmoQWyZTAhn//6eEAAAAwAzbr0ACfzrHtYu754tncb5Y6rxlfrJHkoT6yQ8ytNFqjOBEoWY2KiqRf0mQzXVKI7wv/JQAH2nutqwwRIIVBNSJ65yE+au4qUNIZHk6lsQBedyqVA2tiWUPca13O+o/PQCo0REekE+ampiwQnwd7k9cEkMZrZvCrRa9AkRFlWY/hKK8xt13BwAGF9tgdAXg9NXDyoIAAAAOUGeykUVLCP/AAADAA+AB4l46ACt9aBFT+gHJXBYsHOK5jRyk26EBlUSHTNkTA7mcCQMXHrS75KHNwAAADkBnul0R/8AAAMAP5ZE2BeAAWyRs48QGlHG3oTvloszKmx2Ut3CmEIG+2f0ja913B8j+gkuNWx9AysAAAAyAZ7rakf/AAADAD95wMBwr/t0gA98c81ZaVXADQ8u0HnXc/vZZ0rYj5FhWN+RyxLSW0EAAABtQZrwSahBbJlMCGf//p4QAAADADEIdRl5ACBB9Hm0MnCJ9G5lZykG5SUyYPZk4lJ/bZnh+wMGIbXFvJzGotXFg3XqOjYmmbNSlArLsL5iStmR9vAkLwJXCB9JCPkidG/PnkqktdX/rLeMB0rjgQAAADtBnw5FFSwj/wAAAwAPWFurkBygAmO4ov/CK6M93polvYSK7HgF2Jc/TB0UlrT6Rf0vt1cCAAgKVveFgAAAADIBny10R/8AAAMAGRPX6jqOAA+2gyk7uZR3vGwYEJ+6f9dqFNMQjrlr67eRTJex/+DTPgAAADcBny9qR/8AAAMAGNIrCYMAKnVeZCYCuz/+DbdIGXprmMo8ILCeWr2QQljs5QORhkcpV8rXv3tPAAAAe0GbNEmoQWyZTAhf//6MsAAAAwAxYl9JEABrJKGGApJ3Qj0DwsXg2LguELn02ye7k5ocXf/87bPyBnsSIvjNyd9SNXQAIrkfyHXB9KwfXl9Imoh/hoaf7+01djXTMcrBiPqSHk1J11kMcium1Ijz4jcfhBWxPcJT+8oooAAAADNBn1JFFSwj/wAAAwAPXEIv1mgAuViA9os9CSJ0OIK+XddD6J5AtgzTw3MYrv/50xeM7J8AAAAxAZ9xdEf/AAADABkNhkKBABc/u2vQShWAGXk9joMgOWhXEKTnzrZTDVEwWEzfd8Td6QAAADYBn3NqR/8AAAMAGNIyU08EAFxR36aTq4g1KLw4OPT3p/JJPbYZDFe5oLecAoT7lToDEVkyMp0AAAByQZt3SahBbJlMCGf//p4QAAADADECFxepKgAzdF8nPetUuZ0Mb7NwgOu81YrX7+eZ/p+bZlLShvypXMozmJZoDuLvDn12fcpSdxWcSlwWM8bj3mi0hyY9R0ceiFubstLD70plRw/sdaffzwLPZOqjcpeBAAAAJEGflUUVLCP/AAADAA9YWtsTBADPBGumidur1cnmLr6EJvDiXAAAAEsBn7ZqR/8AAAMAGRCYI9UAEyf5tuBgKurWNees3XO3qSp5ZievSs7klIyxQPypx0+XUultnmT0tDi8bEGMT/Z+ylUNWJGrMYiIWVAAAABgQZu7SahBbJlMCGf//p4QAAADADEDhYItIAQmsOr1uW0UMT59fmN7dnt/bIhyj3LLDWaJz7eNzD+DU/xL3cfW5QY+1mEWv92dFafmmKBBZzXdX51iQ4JdS2MJxPtD9NYvAAAAMUGf2UUVLCP/AAADAA+H5r883cd9ADW2hn5HAo9ReQ3ZpMqdilt4vXmNFIQnGypsBYAAAAA6AZ/4dEf/AAADABjPZzS/pEAJj5tWD67alObTiPZbRrczt8k3Hvz2f58GITOvACbBAbymxC9u/MUifAAAADgBn/pqR/8AAAMAGTgeQArUipn7SyXapY5LBj23DDVvHDIGWHlZjfIWuHebzvmN1NhWfbrxEe1aYQAAAJdBm/9JqEFsmUwIZ//+nhAAAAMAM6M6+QBSX3T1a+2Rr7MW1ix0IScOmwXjpF9vfgh5+SLKfCFNgn2FXMinI9Z04LcTbohS1ql4oUpPtbaG4nwXNXHomMima9vszIZoJvdg+UrOZymvYvdYeVIyO3vNCQV7y8RBHP8JINUSFYiQW/smbzNQ/qzTKMB+8D1wd1RoOW77U0/IAAAAR0GeHUUVLCP/AAADABBYO7x43PQAmR3tg4NV3B5pyHgSfwstjpeSY11E5X1qUcHIqO5HZAXzIhSlum0qQ5A5G2U17jhRmVQRAAAAPQGePHRH/wAAAwAabBqq6IAVqRUz9qVr9uyQoOwD7R7liB1iuxPez9iiMMvnv/NeG105XyfExB9GnLN7OgcAAAAzAZ4+akf/AAADABjZzecOe7Xdwj0AIrjBVbP9Jkak8971+O0TJjaYFYDEgFTToZ1Ul9swAAAAnEGaI0moQWyZTAhn//6eEAAAAwAxCKUOWwAXrhW4Z6yCCwOG+emzSDZZpAm5kWJyu4pswxQKMcejwGyZvkoBC2kdX+NgRxTAYfU4fVjNNSBAnFmTwosXetYC+mK/YEElzSYBk5GkYXEaW5ZZRyVBm3SXloEsSPg8VBxuMXpOmA8QqyExqa6e6ELfEk2z+Fzm/C1zQzd35GL/hG8UEQAAAEFBnkFFFSwj/wAAAwAPXKJRNpTQDt+ogpsAEs3jTnkmI/Oduqn21x2ATjiCctesR0VIFr5eKDU3NHznQhm2z1fzQAAAAD0BnmB0R/8AAAMAGRu4lmITj/p+IAadiWvBhFKPUkUDMzktbSE6GUFDDTDfQKA7TB3EBVjAnXW6hMDAcN3BAAAANgGeYmpH/wAAAwAYOb6fuBQAZwYMCRlyMGUSfcz3NmHMymTng8/H9s+dTBJ4p4KYvyM4yTyMpwAAAFdBmmdJqEFsmUwIZ//+nhAAAAMAMQIn0HkAJl43uy3JObAV1FUXmvo7UBck9F9/q3IPWRHafX/5fQ2XV7HZFREY13BLWNphgmDfEDwtADpvcO7ovhEdJWAAAABTQZ6FRRUsI/8AAAMAEOmkYAbWKWfpp+byZ//jqwMZ5Kznfe9CmPJ22vC6WAZPJWkYsLBN5yvXouL5ekzZGyxLKyiiesCxLYfzyaf3fEYMJ+b9Ug4AAABTAZ6kdEf/AAADABsLvDj4AWpS+q9h/cJTAEMu0H1uux8rmjTmmywMIQ7nTv3Ka+RAmxCvp6zBBy5wIZ6e7K8MyKbofnf4+lyKlJe4nLIQONxdsCEAAABSAZ6makf/AAADABsBO8AK30WjuxVeTeHUCXLwRtKjozYUpgpo05oWI/9BCCEcmS2DEyPXedDUN+ZlVosFYqQkbWzUInADFEoOJY0zx9W/uRfRBwAAAHBBmqtJqEFsmUwIZ//+nhAAAAMAMQbgtE2ABAl0RHG9TB42XfmZFBUFLfj+e4b/jGxwBsTAq/KS+F8UFvWLU77QtyJ32hcQ8n92IXWZYJc66TNGl1R1ZiiZrBxNeh6xSU4GrcwPcNMrd/7PUf/8acXBAAAANkGeyUUVLCP/AAADAA+O9nEAJVnu2qYXCVlP1Yhrc0FW4PKFu/F1m3UtGlxoNvtNNWFLhQy5oAAAAD0Bnuh0R/8AAAMAGNBJHpdQRXe/LmAAr1mnUi2Inwlz3k8GDQlzM6ekco/jtOLqqj0r0p0Rj8eTQrYSTPeHAAAARAGe6mpH/wAAAwAZE7Z1aZACY3hz+UTIj9q3avFw0vDR99aHhzWPF43tLtyCKFd35hd/mpqIZ2rnLOZdn/iJk1MxXWz5AAAAqUGa70moQWyZTAhn//6eEAAAAwA0+ufnU5tEwAg/mONdMB8rzuRqywl+lrRIgrYcZadTdyz9p6kPscYCcCuaWK1R/ChVQ2/cQiyPb2GaPt7eE0MVVBWAFrsiYRacpaWRTV8pnlBmkwERJKAVLn0nOk69+JvQWkr/n8NbgfClLN14PAPb2A7UnAJYlTbKzjwQKpsx2ID28cACxzkVcgDtMkimvsbaih0fhW0AAABTQZ8NRRUsI/8AAAMAEN5D4zHLGzgAta+0LlnuOjAInt2MH1mykIsv49GP4qp+mKIUKQaRL86IGp0ZxFhriefZiom0743Ue/N68Z1sZW+oiT6reP8AAABGAZ8sdEf/AAADABkQMXAwAmD58i+g4Dct/NJFfRKRh4hyWqTHi5TMaFxf2WnHjA2YhOy5vX1m4WUwxog8t8FZ3qby3LC1DwAAAE4Bny5qR/8AAAMAGwmlEAUGtJDOIIm49GFpiz/KA2DN4uOqLRmhZAzU+jYeuL6/DnqygK3ReMWqOW++LG43cN7KManVzIsVhcSEMDcmwIAAAACRQZszSahBbJlMCGf//p4QAAADADXu3HACZeDZERvjLk1nkdQuw7MrEQPo+lKYB7F3JmZwkrsrOwjLSoM7Yfh7QA2LU5wEfGeJ55Ya7byhI4epXH6aCakAQkEesIGgkmoqxUWCndejWwZBJaTyV9JjHZgIBzgl4Sf2WrPcOBAKUOSb/jm2nFwX+csq7cEZFdajuwAAAFJBn1FFFSwj/wAAAwARXjmvt9ZqgCEkNc9Js9TASmO18/PP1JhA+o5ELIhN9zT9ydRyBFgdVqGrOBmFh0M9lzgYDClfF8ua5I2c1eS9h0n7d9mAAAAAXQGfcHRH/wAAAwAbt8mAK3bG5cYKWW5j0jMt8AwJePWJ3NlnyMiZ1ZqIIP4uT5W22bNdGw5cOsJ6hSsIzeNoXnyYASogGv4MCFqlgwLTsG6JeDtNhLJrqAUoSZGUkAAAAG4Bn3JqR/8AAAMAG7kvACHqqDvsRNCPc0eSJPhlnjoSNQQniJfpur+DbeHwkNzjKtciTBQHDwZKeEaSvNS3VbwIDi4EXPV4drCXE8UlB3mcthAFhhjtq+DA297q46S5ahTyGqYtmlt4RGJ83jvxMQAAAJ1Bm3dJqEFsmUwIZ//+nhAAAAMANy9j+IAf7edf5W3AxQ7cJt70hmllrGle/xYJN64412iInX/eDKuhdxWxAfLDlq2LpSu2BhijKo1xl8HfD+uM1QdEi//PUglGVSsoNqqds84oaPnOZs1QZpGX1cS0Khtu8zfBBl9pTSFrvWVvrOQyyqBL7uRl/K5jGK1RXjgGpf7rbIDBm6OB8/ZRAAAAR0GflUUVLCP/AAADABHetVgBB8Xy/hhwyPIXv8P3xFrZKM1YxBimGfvIjmdfZ0vbhHS3ZFFrxWKYEERTsANSvD6vY8ZsJmsbAAAAWQGftHRH/wAAAwAcWsWcNg/AAQn1H6aHJ1eOYdjG1b8+818lA7rkKHe8sSgsWWmsgHImfGqiqc/m8BqHf6OuI3b9pwMMQEIQFKOgs3B1wP6FmTdgKMOOYaYEAAAAXAGftmpH/wAAAwAdGB5ACQyYiCk3/b+FaOdGS0f639iCu75dZ7Nj4wvHdfFlpZmmq0e/bDBvoalvJF6MhXpv+xmxG92dduUvPOyU9kN0JTgvNtjcYNkSvwdWxgSQAAAA10Gbu0moQWyZTAhn//6eEAAAAwA3I30NhvlMDhDAEPjNK2/rlJUR5ACKC/IqMCnGJ28C3mTgaGzAcI6S7VXQMT9e8My3kE4sVemFfiqKK6A26XBMXncb+Ch2JSmr/9wa7mfliV3lBuXoKVeEigQ4OPU1MBMO5ot+8DVa5VbqRqHYhrn8BFYyIkXB9oMf/0HEEA3r+/SbLfBaRnnpa7NkE2hedhx6n2KkaPo764+DdX24MIB6UhTHr1pm+qgtWVFEIPbBA96BVljiEbt28byRPf3J22T6MNcRAAAAc0Gf2UUVLCP/AAADABHJCpBfr+AASmFJljFEyU4YR9pTOZl2aOfcGe1fyh6k00vYvG3xQAb6QGdYubhkC65MBkLTLAB48lRVKIulXqxvBKq+wENuTYQ/tbL2Mk2g/xRc6PDe82BcaqhjHeWpZssNko8Y9IAAAABbAZ/4dEf/AAADAB0aOgACWNBx6W/DJdT08nvxOhLqob17RG/6r33h/RHyjEHnxgOE5s4ys6BDCIKIwK6M6YzvNPhDIqEPv3sGsmkhVbg+GPYhbBOkVP3vtUIBUwAAAGYBn/pqR/8AAAMAHRl3QAdxXnhkCAVNpMIa4uW2i6zKOHQzbLJ54Ia/Xmgm8gzVQMjAiy/Pw+ICDX9ZuAnOmCyq9MK6kV8OLY19HWEB395uAuZUtBhinOhBi4HljxyKpdbP2C4HFlEAAAD8QZv/SahBbJlMCGf//p4QAAADADiCQ4gAnK39idt6UN25o906qhrBxrtRwQ6UNr4x4JAz3J31FYHJtz7D1nICdEAE/9mIqLw62rBLfaZFS7J88sc1BJiOIL24+kJEWifjg2SrF64SJ9v1VlUK8BqRahbmJ9hU1CppKw2rJGYSblKOHgIM4y+zfLnsp1xZCjJ7c1WJQMlnByENOAXFCFkC/wLGLENHkBOE5f0Jk7kdleaATaXd18MvgGwyN42b9M6fl3WjmaIynaboUqDQslhYmJ9F4ayq5VUYFxR4LCpTtwbAgMLS9ob24TW9taUHR4LObIETO5D0V1t3A+ThAAAAc0GeHUUVLCP/AAADABLeQ6rZST577NqAFcU2xvOwRg5NxynmjIIfHl1URbnztXXrz1xET/585QSeRd6bYPr5QxYwWMIAo+9DjUa7BxEoUL+RNbLzl+uqemBtVoDe3+504dYEOblnjXlal8jzmYxJybvMZ+UAAAB3AZ48dEf/AAADAB0YHkAJVfq7pLZiZNFj/ekQrQt96Burj7PYqP3q3Kn1SpyPgqxERmv5UL6JVf66v+iYugt7RnhLSyTGS+BiU/YjkrRTsnfkovMc6ERYx8wtSktr2RCodKc4nNcYd+VK/BnE9rssSkG+BVlmDjkAAABYAZ4+akf/AAADAB238CukABMKJ6xilci2todfcf4E1I8iTHkvLiGRKioh5GPMW0beoFcYjlrKZzTtwI/jpM3qjtOJ8NYgdNGquxiHCXUMsjywQOTr9blvwAAAAJpBmiNJqEFsmUwIZ//+nhAAAAMAOj7G0nlXvFsODVd7dENkuDlDABjhYsM+yrI3cKkQkWmV31KjOVsPT5Jj/Gt9zDHxXVXdNCOfzC/Ssvde7v3ESHiHA+9ZHteEmW+Oj4laPdge6wZ50XLvg8H+1gi7JuRny/dlmdnHFfzhZuBkdmh7H1iVeNU+SD8E/XVIDWOLblClgdm+waVhAAAASUGeQUUVLCP/AAADABLYA0qFAAE40Jv+7nmH/P0NZ5FOqdXGZrYOKKfMspVSLzBrH20lTI5f1q1XS4m5bhEaQ3aK37b+tOStIeAAAABYAZ5gdEf/AAADAB2ofXXL5c1BAAAWF30W6bopOzS4Wffj52jxFYFMN3mUmQ/YqtI0gSh8S2uNPWUmrMPkQV3iSnnLmrVCumEzAXrKn+3hUU/mwdUTdAAb0QAAAEkBnmJqR/8AAAMAHQfWaRE8AJW9m0HhXmxD+Phwc/epM10k8my9vrm23TNhjD2LyONyYNmlT0HslDbwkff3H29Fk8VxvViaHF5RAAAAM0GaZ0moQWyZTAhn//6eEAAAAwA43seZiwykaMhgX7wENH5QimPjKYidkqMC0B3De2uzQAAAADdBnoVFFSwj/wAAAwASWDyeCABxuqAlXE3E6mPbrtBuTWAu5FR97bEa3u+/3Hjp67qemGISeruAAAAARwGepHRH/wAAAwAdAnQgqwAv80FbyM9W6MX9MTJ5YKWkxxUM83LaevXCyzCskrF+fvwUEeU03/QH1HhLLb6+Uol+u994p5EXAAAAOgGepmpH/wAAAwAcZ8mAE1cXJ9btMLLsWrKq4bBfYuHpCiyIS81jKu4gd3hui6HUtp+/a0hiRtlYMoAAAAAzQZqrSahBbJlMCF///oywAAADAAd1FoI/tnVABGBTioDx9dmb9+3Xuw/dvLC90XRqfLGxAAAAGEGeyUUVLCP/AAADAA8ILeThlKpnuA4bpgAAABUBnuh0R/8AAAMAGHwpT+q5emftTFkAAAASAZ7qakf/AAADABiJPI8hXmBBAAAAGkGa70moQWyZTAhf//6MsAAAAwACl/Dp9jKhAAAAFEGfDUUVLCP/AAADAA8248eu4bgRAAAAEgGfLHRH/wAAAwAYfChVVGudgAAAABABny5qR/8AAAMAGIk8KH+AAAAAF0GbM0moQWyZTAhf//6MsAAAAwAAAwNDAAAAEkGfUUUVLCP/AAADAA8247gUUAAAABABn3B0R/8AAAMAGHwn2KKAAAAAEAGfcmpH/wAAAwAYiTwof4EAAAAWQZt3SahBbJlMCFf//jhAAAADAAAMqQAAABJBn5VFFSwj/wAAAwAPNuO4FFEAAAAQAZ+0dEf/AAADABh8J9iigAAAABABn7ZqR/8AAAMAGIk8KH+AAAAAFkGbu0moQWyZTAj//IQAAAMAAAMAwIEAAAASQZ/ZRRUsI/8AAAMADzbjuBRQAAAAEAGf+HRH/wAAAwAYfCfYooAAAAAQAZ/6akf/AAADABiJPCh/gQAAF29tb292AAAAbG12aGQAAAAAAAAAAAAAAAAAAAPoAAAiOAABAAABAAAAAAAAAAAAAAAAAQAAAAAAAAAAAAAAAAAAAAEAAAAAAAAAAAAAAAAAAEAAAAAAAAAAAAAAAAAAAAAAAAAAAAAAAAAAAAAAAAACAAAWmXRyYWsAAABcdGtoZAAAAAMAAAAAAAAAAAAAAAEAAAAAAAAiOAAAAAAAAAAAAAAAAAAAAAAAAQAAAAAAAAAAAAAAAAAAAAEAAAAAAAAAAAAAAAAAAEAAAAACWAAAAZAAAAAAACRlZHRzAAAAHGVsc3QAAAAAAAAAAQAAIjgAAAIAAAEAAAAAFhFtZGlhAAAAIG1kaGQAAAAAAAAAAAAAAAAAADIAAAG2AFXEAAAAAAAtaGRscgAAAAAAAAAAdmlkZQAAAAAAAAAAAAAAAFZpZGVvSGFuZGxlcgAAABW8bWluZgAAABR2bWhkAAAAAQAAAAAAAAAAAAAAJGRpbmYAAAAcZHJlZgAAAAAAAAABAAAADHVybCAAAAABAAAVfHN0YmwAAACYc3RzZAAAAAAAAAABAAAAiGF2YzEAAAAAAAAAAQAAAAAAAAAAAAAAAAAAAAACWAGQAEgAAABIAAAAAAAAAAEAAAAAAAAAAAAAAAAAAAAAAAAAAAAAAAAAAAAAAAAAAAAY//8AAAAyYXZjQwFkAB//4QAZZ2QAH6zZQJgz5eEAAAMAAQAAAwBkDxgxlgEABmjr48siwAAAABhzdHRzAAAAAAAAAAEAAAG2AAABAAAAABhzdHNzAAAAAAAAAAIAAAABAAAA+wAADZBjdHRzAAAAAAAAAbAAAAABAAACAAAAAAEAAAMAAAAAAQAAAQAAAAABAAAEAAAAAAIAAAEAAAAAAQAABQAAAAABAAACAAAAAAEAAAAAAAAAAQAAAQAAAAABAAADAAAAAAEAAAEAAAAAAQAAAwAAAAABAAABAAAAAAEAAAMAAAAAAQAAAQAAAAABAAAEAAAAAAIAAAEAAAAAAQAAAwAAAAABAAABAAAAAAEAAAQAAAAAAgAAAQAAAAABAAADAAAAAAEAAAEAAAAAAQAABQAAAAABAAACAAAAAAEAAAAAAAAAAQAAAQAAAAABAAAEAAAAAAIAAAEAAAAAAQAABAAAAAACAAABAAAAAAEAAAUAAAAAAQAAAgAAAAABAAAAAAAAAAEAAAEAAAAAAQAABQAAAAABAAACAAAAAAEAAAAAAAAAAQAAAQAAAAABAAAFAAAAAAEAAAIAAAAAAQAAAAAAAAABAAABAAAAAAEAAAUAAAAAAQAAAgAAAAABAAAAAAAAAAEAAAEAAAAAAQAABQAAAAABAAACAAAAAAEAAAAAAAAAAQAAAQAAAAABAAAFAAAAAAEAAAIAAAAAAQAAAAAAAAABAAABAAAAAAEAAAUAAAAAAQAAAgAAAAABAAAAAAAAAAEAAAEAAAAAAQAABQAAAAABAAACAAAAAAEAAAAAAAAAAQAAAQAAAAABAAADAAAAAAEAAAEAAAAAAQAABQAAAAABAAACAAAAAAEAAAAAAAAAAQAAAQAAAAABAAAFAAAAAAEAAAIAAAAAAQAAAAAAAAABAAABAAAAAAEAAAUAAAAAAQAAAgAAAAABAAAAAAAAAAEAAAEAAAAAAQAABQAAAAABAAACAAAAAAEAAAAAAAAAAQAAAQAAAAABAAAFAAAAAAEAAAIAAAAAAQAAAAAAAAABAAABAAAAAAEAAAUAAAAAAQAAAgAAAAABAAAAAAAAAAEAAAEAAAAAAQAABQAAAAABAAACAAAAAAEAAAAAAAAAAQAAAQAAAAABAAAFAAAAAAEAAAIAAAAAAQAAAAAAAAABAAABAAAAAAEAAAUAAAAAAQAAAgAAAAABAAAAAAAAAAEAAAEAAAAAAQAABQAAAAABAAACAAAAAAEAAAAAAAAAAQAAAQAAAAABAAAFAAAAAAEAAAIAAAAAAQAAAAAAAAABAAABAAAAAAEAAAUAAAAAAQAAAgAAAAABAAAAAAAAAAEAAAEAAAAAAQAABQAAAAABAAACAAAAAAEAAAAAAAAAAQAAAQAAAAABAAAFAAAAAAEAAAIAAAAAAQAAAAAAAAABAAABAAAAAAEAAAUAAAAAAQAAAgAAAAABAAAAAAAAAAEAAAEAAAAAAQAABQAAAAABAAACAAAAAAEAAAAAAAAAAQAAAQAAAAABAAAFAAAAAAEAAAIAAAAAAQAAAAAAAAABAAABAAAAAAEAAAUAAAAAAQAAAgAAAAABAAAAAAAAAAEAAAEAAAAAAQAABQAAAAABAAACAAAAAAEAAAAAAAAAAQAAAQAAAAABAAAFAAAAAAEAAAIAAAAAAQAAAAAAAAABAAABAAAAAAEAAAUAAAAAAQAAAgAAAAABAAAAAAAAAAEAAAEAAAAAAQAABQAAAAABAAACAAAAAAEAAAAAAAAAAQAAAQAAAAABAAAFAAAAAAEAAAIAAAAAAQAAAAAAAAABAAABAAAAAAEAAAUAAAAAAQAAAgAAAAABAAAAAAAAAAEAAAEAAAAAAQAABQAAAAABAAACAAAAAAEAAAAAAAAAAQAAAQAAAAABAAAFAAAAAAEAAAIAAAAAAQAAAAAAAAABAAABAAAAAAEAAAUAAAAAAQAAAgAAAAABAAAAAAAAAAEAAAEAAAAAAQAABQAAAAABAAACAAAAAAEAAAAAAAAAAQAAAQAAAAABAAAFAAAAAAEAAAIAAAAAAQAAAAAAAAABAAABAAAAAAEAAAUAAAAAAQAAAgAAAAABAAAAAAAAAAEAAAEAAAAAAQAABQAAAAABAAACAAAAAAEAAAAAAAAAAQAAAQAAAAABAAAFAAAAAAEAAAIAAAAAAQAAAAAAAAABAAABAAAAAAEAAAUAAAAAAQAAAgAAAAABAAAAAAAAAAEAAAEAAAAAAQAABQAAAAABAAACAAAAAAEAAAAAAAAAAQAAAQAAAAABAAAFAAAAAAEAAAIAAAAAAQAAAAAAAAABAAABAAAAAAEAAAUAAAAAAQAAAgAAAAABAAAAAAAAAAEAAAEAAAAAAQAABQAAAAABAAACAAAAAAEAAAAAAAAAAQAAAQAAAAABAAAFAAAAAAEAAAIAAAAAAQAAAAAAAAABAAABAAAAAAEAAAUAAAAAAQAAAgAAAAABAAAAAAAAAAEAAAEAAAAAAQAABQAAAAABAAACAAAAAAEAAAAAAAAAAQAAAQAAAAABAAAFAAAAAAEAAAIAAAAAAQAAAAAAAAABAAABAAAAAAEAAAMAAAAAAQAAAQAAAAABAAAFAAAAAAEAAAIAAAAAAQAAAAAAAAABAAABAAAAAAEAAAUAAAAAAQAAAgAAAAABAAAAAAAAAAEAAAEAAAAAAQAABQAAAAABAAACAAAAAAEAAAAAAAAAAQAAAQAAAAABAAADAAAAAAEAAAEAAAAAAQAAAgAAAAABAAAFAAAAAAEAAAIAAAAAAQAAAAAAAAABAAABAAAAAAEAAAUAAAAAAQAAAgAAAAABAAAAAAAAAAEAAAEAAAAAAQAABQAAAAABAAACAAAAAAEAAAAAAAAAAQAAAQAAAAABAAAFAAAAAAEAAAIAAAAAAQAAAAAAAAABAAABAAAAAAEAAAUAAAAAAQAAAgAAAAABAAAAAAAAAAEAAAEAAAAAAQAABQAAAAABAAACAAAAAAEAAAAAAAAAAQAAAQAAAAABAAAFAAAAAAEAAAIAAAAAAQAAAAAAAAABAAABAAAAAAEAAAUAAAAAAQAAAgAAAAABAAAAAAAAAAEAAAEAAAAAAQAABQAAAAABAAACAAAAAAEAAAAAAAAAAQAAAQAAAAABAAAFAAAAAAEAAAIAAAAAAQAAAAAAAAABAAABAAAAAAEAAAUAAAAAAQAAAgAAAAABAAAAAAAAAAEAAAEAAAAAAQAABQAAAAABAAACAAAAAAEAAAAAAAAAAQAAAQAAAAABAAAFAAAAAAEAAAIAAAAAAQAAAAAAAAABAAABAAAAAAEAAAUAAAAAAQAAAgAAAAABAAAAAAAAAAEAAAEAAAAAAQAABQAAAAABAAACAAAAAAEAAAAAAAAAAQAAAQAAAAABAAAFAAAAAAEAAAIAAAAAAQAAAAAAAAABAAABAAAAAAEAAAUAAAAAAQAAAgAAAAABAAAAAAAAAAEAAAEAAAAAAQAABQAAAAABAAACAAAAAAEAAAAAAAAAAQAAAQAAAAABAAAFAAAAAAEAAAIAAAAAAQAAAAAAAAABAAABAAAAAAEAAAUAAAAAAQAAAgAAAAABAAAAAAAAAAEAAAEAAAAAAQAABQAAAAABAAACAAAAAAEAAAAAAAAAAQAAAQAAAAABAAAFAAAAAAEAAAIAAAAAAQAAAAAAAAABAAABAAAAAAEAAAUAAAAAAQAAAgAAAAABAAAAAAAAAAEAAAEAAAAAAQAABQAAAAABAAACAAAAAAEAAAAAAAAAAQAAAQAAAAABAAAFAAAAAAEAAAIAAAAAAQAAAAAAAAABAAABAAAAAAEAAAUAAAAAAQAAAgAAAAABAAAAAAAAAAEAAAEAAAAAAQAABQAAAAABAAACAAAAAAEAAAAAAAAAAQAAAQAAAAABAAAFAAAAAAEAAAIAAAAAAQAAAAAAAAABAAABAAAAAAEAAAUAAAAAAQAAAgAAAAABAAAAAAAAAAEAAAEAAAAAAQAABAAAAAACAAABAAAAAAEAAAUAAAAAAQAAAgAAAAABAAAAAAAAAAEAAAEAAAAAAQAABQAAAAABAAACAAAAAAEAAAAAAAAAAQAAAQAAAAABAAAFAAAAAAEAAAIAAAAAAQAAAAAAAAABAAABAAAAAAEAAAUAAAAAAQAAAgAAAAABAAAAAAAAAAEAAAEAAAAAAQAABQAAAAABAAACAAAAAAEAAAAAAAAAAQAAAQAAAAABAAAFAAAAAAEAAAIAAAAAAQAAAAAAAAABAAABAAAAAAEAAAUAAAAAAQAAAgAAAAABAAAAAAAAAAEAAAEAAAAAAQAABQAAAAABAAACAAAAAAEAAAAAAAAAAQAAAQAAAAABAAAFAAAAAAEAAAIAAAAAAQAAAAAAAAABAAABAAAAAAEAAAUAAAAAAQAAAgAAAAABAAAAAAAAAAEAAAEAAAAAAQAABQAAAAABAAACAAAAAAEAAAAAAAAAAQAAAQAAAAABAAAFAAAAAAEAAAIAAAAAAQAAAAAAAAABAAABAAAAAAEAAAUAAAAAAQAAAgAAAAABAAAAAAAAAAEAAAEAAAAAAQAABQAAAAABAAACAAAAAAEAAAAAAAAAAQAAAQAAAAABAAAFAAAAAAEAAAIAAAAAAQAAAAAAAAABAAABAAAAAAEAAAUAAAAAAQAAAgAAAAABAAAAAAAAAAEAAAEAAAAAAQAABQAAAAABAAACAAAAAAEAAAAAAAAAAQAAAQAAAAAcc3RzYwAAAAAAAAABAAAAAQAAAbYAAAABAAAG7HN0c3oAAAAAAAAAAAAAAbYAAAi8AAAA+gAAAFAAAADXAAAATAAAAE4AAADPAAAAewAAADYAAAA7AAAAuQAAAEcAAACwAAAAPgAAAMUAAAA/AAABPAAAAGoAAABbAAAA4wAAAFAAAAEtAAAAiwAAAIkAAAFWAAAAxgAAAhcAAAF7AAAA4QAAASQAAAG6AAABXwAAATwAAAIDAAABagAAAT0AAAI3AAABtwAAAWYAAAGGAAAB5wAAAWQAAAFFAAABNAAAAkgAAAGGAAABVQAAAaYAAAIyAAABTAAAAXUAAAFOAAAB0AAAAXIAAAF7AAABggAAAcEAAAFgAAABZAAAAT4AAAG2AAABQgAAAV8AAAEqAAABlAAAASsAAAEVAAABGgAAAW4AAADmAAABAAAAAMkAAADKAAAAxQAAAUsAAADAAAAAoAAAAOEAAAFDAAABCwAAAMsAAADsAAABrwAAAMkAAACoAAAAswAAAWIAAAEGAAAAtQAAAMsAAAEBAAAA0AAAANsAAACpAAABZgAAASQAAADbAAABDgAAAR0AAAFFAAAA9gAAAQMAAAD+AAABBAAAALMAAAC4AAABswAAAP0AAADYAAAA9QAAAZYAAAFQAAAA7QAAAT8AAAGfAAABfAAAAREAAAFRAAABtQAAAVwAAAFCAAABWgAAASgAAAErAAABKgAAAPkAAAHJAAABGQAAARMAAAErAAABpgAAAXkAAAE9AAABTwAAAZoAAAFmAAABEgAAAUwAAAG7AAABTQAAAU4AAAFTAAABiwAAAUgAAADuAAAA4wAAASsAAADuAAAArQAAAMkAAAFWAAAA9QAAAPcAAAEXAAABewAAAS4AAAD8AAABIQAAAWoAAAD1AAAA5QAAAOUAAAGeAAABCwAAARkAAAEQAAABrAAAAN8AAAETAAABDgAAAcoAAAFZAAABGQAAAVEAAAHaAAABWgAAAS0AAAEwAAABrAAAATkAAAD2AAAA/QAAAbMAAAEqAAAA3wAAAN8AAAIBAAABdgAAASEAAAErAAAB/AAAATkAAAE2AAABFwAAAfcAAAE9AAABGAAAARIAAAGHAAABQQAAAQgAAAD6AAAA6gAAAOsAAADwAAAA4AAAAU0AAAEKAAAA2QAAALYAAAERAAAA6gAAANAAAADdAAABlwAAAQwAAADIAAAA8QAAAZUAAAETAAABCgAAANgAAAGuAAAA5QAAANIAAADOAAABUAAAANIAAADDAAAA0QAAASQAAACkAAAA0AAAAIMAAACLAAAAmQAAATgAAACKAAAAbAAAAHQAAAC5AAAAggAAAHIAAAByAAABBAAAAI0AAABnAAAAgQAAAFkAAAB0AAAH5wAAANAAAABFAAAAQwAAAEQAAABGAAAAUgAAAFMAAAAuAAAAJwAAABkAAAAXAAAAFAAAABsAAAAWAAAAFAAAABQAAAAbAAAAFgAAABQAAAAUAAAAOAAAADcAAAAYAAAALAAAACIAAAAbAAAAKAAAABQAAAAhAAAAFgAAABQAAAAUAAAAGwAAABYAAAAUAAAAFAAAAJgAAAA1AAAAGAAAAEMAAACdAAAATAAAAEEAAABPAAAAtQAAAFwAAABpAAAAZwAAAL0AAABjAAAAUgAAAF0AAAC8AAAAZAAAAGwAAABkAAAAZgAAAGoAAABJAAAAZgAAAL0AAABVAAAAZwAAAFEAAABDAAAAQwAAACsAAAAmAAAARAAAAB0AAAAjAAAAFgAAACIAAAAYAAAAFgAAABIAAAAbAAAAFAAAABIAAAASAAAAGwAAABQAAAASAAAAEgAAAJoAAAAmAAAAFwAAAEUAAADXAAAAUAAAAFAAAABFAAAA1wAAAE4AAABPAAAAUAAAARcAAABTAAAAWgAAAEcAAACrAAAAMgAAAEYAAAAzAAAAqwAAAD0AAAA9AAAANgAAAHEAAAA/AAAANgAAADsAAAB/AAAANwAAADUAAAA6AAAAdgAAACgAAABPAAAAZAAAADUAAAA+AAAAPAAAAJsAAABLAAAAQQAAADcAAACgAAAARQAAAEEAAAA6AAAAWwAAAFcAAABXAAAAVgAAAHQAAAA6AAAAQQAAAEgAAACtAAAAVwAAAEoAAABSAAAAlQAAAFYAAABhAAAAcgAAAKEAAABLAAAAXQAAAGAAAADbAAAAdwAAAF8AAABqAAABAAAAAHcAAAB7AAAAXAAAAJ4AAABNAAAAXAAAAE0AAAA3AAAAOwAAAEsAAAA+AAAANwAAABwAAAAZAAAAFgAAAB4AAAAYAAAAFgAAABQAAAAbAAAAFgAAABQAAAAUAAAAGgAAABYAAAAUAAAAFAAAABoAAAAWAAAAFAAAABQAAAAUc3RjbwAAAAAAAAABAAAAMAAAAGJ1ZHRhAAAAWm1ldGEAAAAAAAAAIWhkbHIAAAAAAAAAAG1kaXJhcHBsAAAAAAAAAAAAAAAALWlsc3QAAAAlqXRvbwAAAB1kYXRhAAAAAQAAAABMYXZmNTcuODMuMTAw\" type=\"video/mp4\" />\n",
              "                </video>"
            ],
            "text/plain": [
              "<IPython.core.display.HTML object>"
            ]
          },
          "metadata": {
            "tags": []
          }
        }
      ]
    }
  ]
}