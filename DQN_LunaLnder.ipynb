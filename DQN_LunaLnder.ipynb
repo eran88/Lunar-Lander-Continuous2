{
  "nbformat": 4,
  "nbformat_minor": 0,
  "metadata": {
    "colab": {
      "name": "DQN - LunaLnder.ipynb",
      "provenance": [],
      "collapsed_sections": [],
      "toc_visible": true
    },
    "kernelspec": {
      "display_name": "Python 3",
      "name": "python3"
    },
    "accelerator": "GPU"
  },
  "cells": [
    {
      "cell_type": "markdown",
      "metadata": {
        "id": "W-cVn8qQKtJq"
      },
      "source": [
        "Based on the following links to create this notebook:\r\n",
        "\r\n",
        "https://colab.research.google.com/drive/18LdlDDT87eb8cCTHZsXyS9ksQPzL3i6H\r\n",
        "\r\n",
        "https://colab.research.google.com/drive/1tug_bpg8RwrFOI8C6Ed-zo0OgD3yfnWy#scrollTo=bhsj7BTPHepg\r\n",
        "\r\n",
        "https://colab.research.google.com/drive/1tug_bpg8RwrFOI8C6Ed-zo0OgD3yfnWy\r\n",
        "\r\n",
        "\r\n",
        "To run Gym, you have to install prerequisites like xvbf,opengl & other python-dev packages using the following codes."
      ]
    },
    {
      "cell_type": "code",
      "metadata": {
        "colab": {
          "base_uri": "https://localhost:8080/"
        },
        "id": "GmtbAjPPKiFw",
        "outputId": "ad67fb45-0d6b-4b20-bbac-f25086a2e7a9"
      },
      "source": [
        "!pip install gym\r\n",
        "!apt-get install python-opengl -y\r\n",
        "!apt install xvfb -y\r\n",
        "!pip install pyvirtualdisplay\r\n",
        "!pip install piglet\r\n",
        "\r\n",
        "from pyvirtualdisplay import Display\r\n",
        "display = Display(visible=0, size=(1400, 900))\r\n",
        "display.start()"
      ],
      "execution_count": null,
      "outputs": [
        {
          "output_type": "stream",
          "text": [
            "Requirement already satisfied: gym in /usr/local/lib/python3.7/dist-packages (0.17.3)\n",
            "Requirement already satisfied: cloudpickle<1.7.0,>=1.2.0 in /usr/local/lib/python3.7/dist-packages (from gym) (1.3.0)\n",
            "Requirement already satisfied: scipy in /usr/local/lib/python3.7/dist-packages (from gym) (1.4.1)\n",
            "Requirement already satisfied: numpy>=1.10.4 in /usr/local/lib/python3.7/dist-packages (from gym) (1.19.5)\n",
            "Requirement already satisfied: pyglet<=1.5.0,>=1.4.0 in /usr/local/lib/python3.7/dist-packages (from gym) (1.5.0)\n",
            "Requirement already satisfied: future in /usr/local/lib/python3.7/dist-packages (from pyglet<=1.5.0,>=1.4.0->gym) (0.16.0)\n",
            "Reading package lists... Done\n",
            "Building dependency tree       \n",
            "Reading state information... Done\n",
            "Suggested packages:\n",
            "  libgle3\n",
            "The following NEW packages will be installed:\n",
            "  python-opengl\n",
            "0 upgraded, 1 newly installed, 0 to remove and 29 not upgraded.\n",
            "Need to get 496 kB of archives.\n",
            "After this operation, 5,416 kB of additional disk space will be used.\n",
            "Get:1 http://archive.ubuntu.com/ubuntu bionic/universe amd64 python-opengl all 3.1.0+dfsg-1 [496 kB]\n",
            "Fetched 496 kB in 0s (3,989 kB/s)\n",
            "Selecting previously unselected package python-opengl.\n",
            "(Reading database ... 160975 files and directories currently installed.)\n",
            "Preparing to unpack .../python-opengl_3.1.0+dfsg-1_all.deb ...\n",
            "Unpacking python-opengl (3.1.0+dfsg-1) ...\n",
            "Setting up python-opengl (3.1.0+dfsg-1) ...\n",
            "Reading package lists... Done\n",
            "Building dependency tree       \n",
            "Reading state information... Done\n",
            "The following NEW packages will be installed:\n",
            "  xvfb\n",
            "0 upgraded, 1 newly installed, 0 to remove and 29 not upgraded.\n",
            "Need to get 784 kB of archives.\n",
            "After this operation, 2,270 kB of additional disk space will be used.\n",
            "Get:1 http://archive.ubuntu.com/ubuntu bionic-updates/universe amd64 xvfb amd64 2:1.19.6-1ubuntu4.8 [784 kB]\n",
            "Fetched 784 kB in 0s (6,754 kB/s)\n",
            "Selecting previously unselected package xvfb.\n",
            "(Reading database ... 163330 files and directories currently installed.)\n",
            "Preparing to unpack .../xvfb_2%3a1.19.6-1ubuntu4.8_amd64.deb ...\n",
            "Unpacking xvfb (2:1.19.6-1ubuntu4.8) ...\n",
            "Setting up xvfb (2:1.19.6-1ubuntu4.8) ...\n",
            "Processing triggers for man-db (2.8.3-2ubuntu0.1) ...\n",
            "Collecting pyvirtualdisplay\n",
            "  Downloading https://files.pythonhosted.org/packages/19/88/7a198a5ee3baa3d547f5a49574cd8c3913b216f5276b690b028f89ffb325/PyVirtualDisplay-2.1-py3-none-any.whl\n",
            "Collecting EasyProcess\n",
            "  Downloading https://files.pythonhosted.org/packages/48/3c/75573613641c90c6d094059ac28adb748560d99bd27ee6f80cce398f404e/EasyProcess-0.3-py2.py3-none-any.whl\n",
            "Installing collected packages: EasyProcess, pyvirtualdisplay\n",
            "Successfully installed EasyProcess-0.3 pyvirtualdisplay-2.1\n",
            "Collecting piglet\n",
            "  Downloading https://files.pythonhosted.org/packages/11/56/6840e5f45626dc7eb7cd5dff57d11880b3113723b3b7b1fb1fa537855b75/piglet-1.0.0-py2.py3-none-any.whl\n",
            "Collecting piglet-templates\n",
            "\u001b[?25l  Downloading https://files.pythonhosted.org/packages/34/1e/49d7e0df9420eeb13a636487b8e606cf099f2ee0793159edd8ffe905125b/piglet_templates-1.1.0-py3-none-any.whl (63kB)\n",
            "\u001b[K     |████████████████████████████████| 71kB 3.2MB/s \n",
            "\u001b[?25hCollecting Parsley\n",
            "\u001b[?25l  Downloading https://files.pythonhosted.org/packages/2b/d6/4fed8d65e28a970e1c5cb33ce9c7e22e3de745e1b2ae37af051ef16aea3b/Parsley-1.3-py2.py3-none-any.whl (88kB)\n",
            "\u001b[K     |████████████████████████████████| 92kB 4.0MB/s \n",
            "\u001b[?25hRequirement already satisfied: markupsafe in /usr/local/lib/python3.7/dist-packages (from piglet-templates->piglet) (1.1.1)\n",
            "Requirement already satisfied: astunparse in /usr/local/lib/python3.7/dist-packages (from piglet-templates->piglet) (1.6.3)\n",
            "Requirement already satisfied: attrs in /usr/local/lib/python3.7/dist-packages (from piglet-templates->piglet) (20.3.0)\n",
            "Requirement already satisfied: six<2.0,>=1.6.1 in /usr/local/lib/python3.7/dist-packages (from astunparse->piglet-templates->piglet) (1.15.0)\n",
            "Requirement already satisfied: wheel<1.0,>=0.23.0 in /usr/local/lib/python3.7/dist-packages (from astunparse->piglet-templates->piglet) (0.36.2)\n",
            "Installing collected packages: Parsley, piglet-templates, piglet\n",
            "Successfully installed Parsley-1.3 piglet-1.0.0 piglet-templates-1.1.0\n"
          ],
          "name": "stdout"
        },
        {
          "output_type": "execute_result",
          "data": {
            "text/plain": [
              "<pyvirtualdisplay.display.Display at 0x7ff887dffad0>"
            ]
          },
          "metadata": {
            "tags": []
          },
          "execution_count": 1
        }
      ]
    },
    {
      "cell_type": "code",
      "metadata": {
        "colab": {
          "base_uri": "https://localhost:8080/"
        },
        "id": "kXkT86s8Yv7W",
        "outputId": "2aecae2f-b115-4143-b449-d8d888290438"
      },
      "source": [
        "from google.colab import drive\r\n",
        "drive.mount('/content/gdrive')"
      ],
      "execution_count": null,
      "outputs": [
        {
          "output_type": "stream",
          "text": [
            "Mounted at /content/gdrive\n"
          ],
          "name": "stdout"
        }
      ]
    },
    {
      "cell_type": "code",
      "metadata": {
        "id": "Y_hxdz4ALVQ3"
      },
      "source": [
        "# This code creates a virtual display to draw game images on.\r\n",
        "# If you are running locally, just ignore it\r\n",
        "import os\r\n",
        "if type(os.environ.get(\"DISPLAY\")) is not str or len(os.environ.get(\"DISPLAY\")) == 0:\r\n",
        "    !bash ../xvfb start\r\n",
        "    %env DISPLAY = : 1"
      ],
      "execution_count": null,
      "outputs": []
    },
    {
      "cell_type": "code",
      "metadata": {
        "id": "C1GqN0iRLaZk"
      },
      "source": [
        "import json\r\n",
        "import gym\r\n",
        "from gym import logger as gymlogger\r\n",
        "from gym.wrappers import Monitor\r\n",
        "gymlogger.set_level(40) # error only\r\n",
        "import numpy as np\r\n",
        "import random\r\n",
        "import matplotlib\r\n",
        "import matplotlib.pyplot as plt\r\n",
        "%matplotlib inline\r\n",
        "import math\r\n",
        "import glob\r\n",
        "import io\r\n",
        "import base64\r\n",
        "from IPython.display import HTML\r\n",
        "import copy\r\n",
        "from collections import deque\r\n",
        "\r\n",
        "from IPython import display as ipythondisplay\r\n",
        "import torch\r\n",
        "import torchvision\r\n",
        "from torchvision import transforms\r\n",
        "import torch.nn as nn\r\n",
        "import torch.optim as optim\r\n",
        "import torch.nn.functional as F\r\n",
        "from torch.utils.data import Dataset, DataLoader"
      ],
      "execution_count": null,
      "outputs": []
    },
    {
      "cell_type": "code",
      "metadata": {
        "id": "ILbriB_oLn5T"
      },
      "source": [
        "\"\"\"\r\n",
        "Utility functions to enable video recording of gym environment and displaying it\r\n",
        "To enable video, just do \"env = wrap_env(env)\"\"\r\n",
        "\"\"\"\r\n",
        "def show_video():\r\n",
        "    mp4list = glob.glob('video/*.mp4')\r\n",
        "    if len(mp4list) > 0:\r\n",
        "        mp4 = mp4list[0]\r\n",
        "        video = io.open(mp4, 'r+b').read()\r\n",
        "        encoded = base64.b64encode(video)\r\n",
        "        ipythondisplay.display(HTML(data='''<video alt=\"test\" autoplay \r\n",
        "                    loop controls style=\"height: 400px;\">\r\n",
        "                    <source src=\"data:video/mp4;base64,{0}\" type=\"video/mp4\" />\r\n",
        "                </video>'''.format(encoded.decode('ascii'))))\r\n",
        "    else:\r\n",
        "        print(\"Could not find video\")\r\n",
        "\r\n",
        "\r\n",
        "def wrap_env(env):\r\n",
        "    env = Monitor(env, './video', force=True)\r\n",
        "    return env"
      ],
      "execution_count": null,
      "outputs": []
    },
    {
      "cell_type": "code",
      "metadata": {
        "colab": {
          "base_uri": "https://localhost:8080/"
        },
        "id": "NnR-cqjbLpI4",
        "outputId": "943e9602-c52e-444c-95f2-b9996ae67c5e"
      },
      "source": [
        "!pip install gym[box2d]"
      ],
      "execution_count": null,
      "outputs": [
        {
          "output_type": "stream",
          "text": [
            "Requirement already satisfied: gym[box2d] in /usr/local/lib/python3.7/dist-packages (0.17.3)\n",
            "Requirement already satisfied: numpy>=1.10.4 in /usr/local/lib/python3.7/dist-packages (from gym[box2d]) (1.19.5)\n",
            "Requirement already satisfied: scipy in /usr/local/lib/python3.7/dist-packages (from gym[box2d]) (1.4.1)\n",
            "Requirement already satisfied: pyglet<=1.5.0,>=1.4.0 in /usr/local/lib/python3.7/dist-packages (from gym[box2d]) (1.5.0)\n",
            "Requirement already satisfied: cloudpickle<1.7.0,>=1.2.0 in /usr/local/lib/python3.7/dist-packages (from gym[box2d]) (1.3.0)\n",
            "Collecting box2d-py~=2.3.5; extra == \"box2d\"\n",
            "\u001b[?25l  Downloading https://files.pythonhosted.org/packages/87/34/da5393985c3ff9a76351df6127c275dcb5749ae0abbe8d5210f06d97405d/box2d_py-2.3.8-cp37-cp37m-manylinux1_x86_64.whl (448kB)\n",
            "\u001b[K     |████████████████████████████████| 450kB 5.1MB/s \n",
            "\u001b[?25hRequirement already satisfied: future in /usr/local/lib/python3.7/dist-packages (from pyglet<=1.5.0,>=1.4.0->gym[box2d]) (0.16.0)\n",
            "Installing collected packages: box2d-py\n",
            "Successfully installed box2d-py-2.3.8\n"
          ],
          "name": "stdout"
        }
      ]
    },
    {
      "cell_type": "code",
      "metadata": {
        "id": "yCHLYkMkLzcf",
        "colab": {
          "base_uri": "https://localhost:8080/",
          "height": 286
        },
        "outputId": "af1f4b45-91a6-4dc2-800e-ee4af41c353b"
      },
      "source": [
        "env = gym.make('LunarLanderContinuous-v2')\r\n",
        "env.reset()\r\n",
        "plt.imshow(env.render('rgb_array'))"
      ],
      "execution_count": null,
      "outputs": [
        {
          "output_type": "execute_result",
          "data": {
            "text/plain": [
              "<matplotlib.image.AxesImage at 0x7ff81ca6ee50>"
            ]
          },
          "metadata": {
            "tags": []
          },
          "execution_count": 7
        },
        {
          "output_type": "display_data",
          "data": {
            "image/png": "[encoded data removed]",
            "text/plain": [
              "<Figure size 432x288 with 1 Axes>"
            ]
          },
          "metadata": {
            "tags": [],
            "needs_background": "light"
          }
        }
      ]
    },
    {
      "cell_type": "code",
      "metadata": {
        "id": "Wh4v_3zCRepL",
        "colab": {
          "base_uri": "https://localhost:8080/"
        },
        "outputId": "5cfe6321-d8fe-4d3e-b574-2b8677fe7f9c"
      },
      "source": [
        "state_size = env.observation_space\r\n",
        "print(\"state size is:\", state_size)\r\n",
        "a = env.action_space\r\n",
        "print(\"action size=\", a)\r\n",
        "state = env.reset()\r\n",
        "print(state)"
      ],
      "execution_count": null,
      "outputs": [
        {
          "output_type": "stream",
          "text": [
            "state size is: Box(-inf, inf, (8,), float32)\n",
            "action size= Box(-1.0, 1.0, (2,), float32)\n",
            "[-0.00670452  1.4005381  -0.67910707 -0.46144336  0.00777562  0.15382771\n",
            "  0.          0.        ]\n"
          ],
          "name": "stdout"
        }
      ]
    },
    {
      "cell_type": "markdown",
      "metadata": {
        "id": "yTfAdl7dSS-K"
      },
      "source": [
        "# Action Space\r\n",
        "            #is two floats [main engine, left-right engines].\r\n",
        "            # Main engine: -1..0 off, 0..+1 throttle from 50% to 100% power. Engine can't work with less than 50% power.\r\n",
        "            # Left-right:  -1.0..-0.5 fire left engine, +0.5..+1.0 fire right engine, -0.5..0.5 off\r\n",
        "            self.action_space = spaces.Box(-1, +1, (2,), dtype=np.float32)"
      ]
    },
    {
      "cell_type": "markdown",
      "metadata": {
        "id": "AfJat7i14jfS"
      },
      "source": [
        "# Action Space (continuous to discrete values)"
      ]
    },
    {
      "cell_type": "code",
      "metadata": {
        "id": "odd5_LwaQbSh"
      },
      "source": [
        "class ActionSpace(object):\r\n",
        "    def __init__(self, x_size, y_size):\r\n",
        "        self.x_size = x_size\r\n",
        "        self.y_size = y_size\r\n",
        "        self.cache = {}\r\n",
        "        self.build_actions_cache()\r\n",
        "\r\n",
        "    def build_actions_cache(self):\r\n",
        "        for i in range(self.x_size * self.y_size):\r\n",
        "            self.cache[i] = self.get_value_by_key(i)\r\n",
        "\r\n",
        "    def get_value_by_key(self, key):\r\n",
        "        ind1 = int(key / self.y_size)\r\n",
        "        ind2 = key % self.y_size\r\n",
        "        value1 = 0 + ind1 * (1 / (self.x_size - 1))\r\n",
        "\r\n",
        "        if ind1 == 0:\r\n",
        "            value1 = -1\r\n",
        "        if ind2 == 0:\r\n",
        "            value2 = 0\r\n",
        "        else:\r\n",
        "            half = (self.y_size - 1) / 2\r\n",
        "            if ind2 <= self.y_size/2:\r\n",
        "                value2 = -0.5+- ind2 * (0.5 / (half))\r\n",
        "            else:\r\n",
        "                ind2 = ind2 - half\r\n",
        "                value2 = 0.5 + ind2 * (0.5 / (half))\r\n",
        "\r\n",
        "        return [value1, value2]\r\n",
        "\r\n",
        "    def choose(self, key):\r\n",
        "        return self.cache[key]\r\n",
        "\r\n",
        "\r\n",
        "x_actions = 2\r\n",
        "y_actions = 15  # y_actions must be an odd number.\r\n",
        "all_actions = x_actions * y_actions\r\n",
        "action_space = ActionSpace(x_actions, y_actions)"
      ],
      "execution_count": null,
      "outputs": []
    },
    {
      "cell_type": "markdown",
      "metadata": {
        "id": "47ib0m3U4heI"
      },
      "source": [
        "# DQN Model."
      ]
    },
    {
      "cell_type": "code",
      "metadata": {
        "id": "1GwXRXmsXkuK"
      },
      "source": [
        "class DQN(nn.Module):\r\n",
        "    def __init__(self, all_actions):\r\n",
        "        super(DQN, self).__init__()\r\n",
        "\r\n",
        "        self.fc1 = nn.Linear(8, 128)\r\n",
        "        self.fc2 = nn.Linear(128, 256)\r\n",
        "        self.fc3 = nn.Linear(256, 256)\r\n",
        "        self.fc4 = nn.Linear(256, all_actions)\r\n",
        "\r\n",
        "    def forward(self, x):\r\n",
        "        x = F.relu(self.fc1(x))\r\n",
        "        x = F.relu(self.fc2(x))\r\n",
        "        x = F.relu(self.fc3(x))\r\n",
        "        return self.fc4(x)"
      ],
      "execution_count": null,
      "outputs": []
    },
    {
      "cell_type": "markdown",
      "metadata": {
        "id": "x757fDnSRJdn"
      },
      "source": [
        "# GPU/CPU"
      ]
    },
    {
      "cell_type": "code",
      "metadata": {
        "colab": {
          "base_uri": "https://localhost:8080/"
        },
        "id": "k9AU4N9YCGoP",
        "outputId": "aa984752-d53e-421b-f008-8103458f6d09"
      },
      "source": [
        "device = None\r\n",
        "if torch.cuda.is_available():\r\n",
        "    print(\"Using GPU.\")\r\n",
        "    device = torch.device('cuda:0')\r\n",
        "else:\r\n",
        "    print(\"Using CPU.\")\r\n",
        "    device = torch.device(\"cpu\")"
      ],
      "execution_count": null,
      "outputs": [
        {
          "output_type": "stream",
          "text": [
            "Using GPU.\n"
          ],
          "name": "stdout"
        }
      ]
    },
    {
      "cell_type": "markdown",
      "metadata": {
        "id": "rLYd9IHLU9sY"
      },
      "source": [
        "# Replay Memory"
      ]
    },
    {
      "cell_type": "code",
      "metadata": {
        "id": "tqrpFa_gRPNC"
      },
      "source": [
        "class ReplayMemory(object):\r\n",
        "    def __init__(self, replay_memory_size):\r\n",
        "        self.memory = deque(maxlen=replay_memory_size)\r\n",
        "\r\n",
        "    def size(self):\r\n",
        "        return len(self.memory)\r\n",
        "\r\n",
        "    def push(self, state, action, reward, observation, done):\r\n",
        "        self.memory.append((state, action, reward, observation, done))\r\n",
        "\r\n",
        "    def sample(self, batch_size):\r\n",
        "        return random.sample(self.memory, batch_size)"
      ],
      "execution_count": null,
      "outputs": []
    },
    {
      "cell_type": "markdown",
      "metadata": {
        "id": "2pdmX8ojQGpd"
      },
      "source": [
        "# Methods"
      ]
    },
    {
      "cell_type": "code",
      "metadata": {
        "id": "lDNbImwBQGXK"
      },
      "source": [
        "def choose_action(state, epsilon, model):\r\n",
        "    model.eval()\r\n",
        "    if np.random.rand() <= epsilon:\r\n",
        "        return np.random.choice(all_actions)\r\n",
        "    else:\r\n",
        "        unsqueeze = state.unsqueeze(0)\r\n",
        "        preds = model(unsqueeze)\r\n",
        "        value, indice = torch.max(preds, 1)\r\n",
        "        return indice[0].item()\r\n",
        "\r\n",
        "\r\n",
        "def run_replay_experiments(model, target_model, replay_memory, optimizer, batch_size):\r\n",
        "    optimizer.zero_grad()\r\n",
        "    model.train()\r\n",
        "    target_model.eval()\r\n",
        "\r\n",
        "    x_batch = []\r\n",
        "    x_target = []\r\n",
        "    samples_batch = replay_memory.sample(batch_size)\r\n",
        "\r\n",
        "    for state, action, reward, observation, done in samples_batch:\r\n",
        "        x_batch.append(state)\r\n",
        "        x_target.append(observation)\r\n",
        "\r\n",
        "    x_batch = torch.stack(x_batch).to(device)\r\n",
        "    x_target = torch.stack(x_target).to(device)\r\n",
        "\r\n",
        "    model_preds = model(x_batch)\r\n",
        "    model_preds_clone = model_preds.clone()\r\n",
        "    target_preds = target_model(x_target)\r\n",
        "    max_values, indices = torch.max(target_preds, 1)\r\n",
        "\r\n",
        "    for index, (state, action, reward, observation, done) in enumerate(samples_batch):\r\n",
        "        if done:\r\n",
        "            model_preds_clone[index][action] = reward\r\n",
        "        else:\r\n",
        "            model_preds_clone[index][action] = reward + gama * max_values[index]\r\n",
        "\r\n",
        "    loss = F.smooth_l1_loss(model_preds, model_preds_clone)\r\n",
        "    loss.backward()\r\n",
        "    optimizer.step()"
      ],
      "execution_count": null,
      "outputs": []
    },
    {
      "cell_type": "markdown",
      "metadata": {
        "id": "a48wrZOW4OH0"
      },
      "source": [
        "# Parameters."
      ]
    },
    {
      "cell_type": "code",
      "metadata": {
        "id": "OtGLjXTt2cbj"
      },
      "source": [
        "epsilon = 1\r\n",
        "epsilon_decay = 0.975\r\n",
        "\r\n",
        "batch_size = 256\r\n",
        "max_iterations = 50000\r\n",
        "\r\n",
        "reset_target = 200\r\n",
        "steps_per_action = 1\r\n",
        "replay_memory_size = 20000\r\n",
        "\r\n",
        "gama = 0.99\r\n",
        "lr = 0.00005"
      ],
      "execution_count": null,
      "outputs": []
    },
    {
      "cell_type": "markdown",
      "metadata": {
        "id": "4QDVmpFT4Q6I"
      },
      "source": [
        "# Training the model."
      ]
    },
    {
      "cell_type": "code",
      "metadata": {
        "id": "EQaFvJdvM4qX",
        "colab": {
          "base_uri": "https://localhost:8080/"
        },
        "outputId": "84177d40-5338-4ac4-d7f0-5d83c486d390"
      },
      "source": [
        "env = wrap_env(env)\r\n",
        "\r\n",
        "\r\n",
        "model = DQN(all_actions)\r\n",
        "model.to(device)\r\n",
        "optimizer = optim.Adam(model.parameters(), lr=lr)\r\n",
        "\r\n",
        "if not next(model.parameters()).is_cuda:\r\n",
        "    print('The neural network model is not working on GPU!')\r\n",
        "\r\n",
        "average100 = deque(maxlen=100)\r\n",
        "replay_memory = ReplayMemory(replay_memory_size)\r\n",
        "\r\n",
        "results_memory = []\r\n",
        "steps=0\r\n",
        "for iteration in range(max_iterations):\r\n",
        "    state = env.reset()\r\n",
        "    total_reward = 0\r\n",
        "    done = False\r\n",
        "    state = torch.from_numpy(state).to(device)\r\n",
        "\r\n",
        "    while not done:\r\n",
        "        action = choose_action(state, epsilon, model)\r\n",
        "        converted_action = action_space.choose(action)\r\n",
        "\r\n",
        "        observation, reward, done, _ = env.step(converted_action)\r\n",
        "        observation = torch.from_numpy(observation).to(device)\r\n",
        "        total_reward += reward\r\n",
        "\r\n",
        "        replay_memory.push(state, action, reward, observation, done)\r\n",
        "        state = observation\r\n",
        "\r\n",
        "\r\n",
        "        for i in range(steps_per_action):\r\n",
        "            if steps % reset_target == 0:\r\n",
        "                target_model = copy.deepcopy(model)\r\n",
        "                target_model.to(device)  \r\n",
        "            steps=steps+1        \r\n",
        "            if replay_memory.size() >= batch_size:\r\n",
        "                run_replay_experiments(model, target_model, replay_memory, optimizer, batch_size)\r\n",
        "\r\n",
        "\r\n",
        "    average100.append(total_reward)\r\n",
        "    epsilon *= epsilon_decay\r\n",
        "    print(f'Iteration: {iteration} | Epsilon: {round(epsilon, 2)} | Last Reward: {round(reward, 2)} | Average100: {round(np.average(average100))} | Total Reward: {total_reward}')\r\n",
        "    results_memory.append((iteration, round(np.average(average100))))\r\n",
        "\r\n",
        "    if len(average100) >= 100 and np.average(average100) >= 200:\r\n",
        "        print(f'Finished after {iteration-100} iterations.')\r\n",
        "        break\r\n"
      ],
      "execution_count": null,
      "outputs": [
        {
          "output_type": "stream",
          "text": [
            "Iteration: 0 | Epsilon: 0.97 | Last Reward: -100 | Average100: -465 | Total Reward: -465.4744215595119\n",
            "Iteration: 1 | Epsilon: 0.95 | Last Reward: -100 | Average100: -362 | Total Reward: -258.6649353265884\n",
            "Iteration: 2 | Epsilon: 0.93 | Last Reward: -100 | Average100: -429 | Total Reward: -562.1933957796425\n",
            "Iteration: 3 | Epsilon: 0.9 | Last Reward: -100 | Average100: -346 | Total Reward: -98.88207864906138\n",
            "Iteration: 4 | Epsilon: 0.88 | Last Reward: -100 | Average100: -336 | Total Reward: -294.00024596086996\n",
            "Iteration: 5 | Epsilon: 0.86 | Last Reward: -100 | Average100: -319 | Total Reward: -232.60639155438412\n",
            "Iteration: 6 | Epsilon: 0.84 | Last Reward: -100 | Average100: -289 | Total Reward: -113.90858639402646\n",
            "Iteration: 7 | Epsilon: 0.82 | Last Reward: -100 | Average100: -302 | Total Reward: -393.8017554663389\n",
            "Iteration: 8 | Epsilon: 0.8 | Last Reward: -100 | Average100: -267 | Total Reward: 14.991088128340593\n",
            "Iteration: 9 | Epsilon: 0.78 | Last Reward: -100 | Average100: -259 | Total Reward: -180.73562321885663\n",
            "Iteration: 10 | Epsilon: 0.76 | Last Reward: -100 | Average100: -249 | Total Reward: -150.0573744554383\n",
            "Iteration: 11 | Epsilon: 0.74 | Last Reward: -100 | Average100: -259 | Total Reward: -368.9473553183747\n",
            "Iteration: 12 | Epsilon: 0.72 | Last Reward: -100 | Average100: -255 | Total Reward: -214.1791220815847\n",
            "Iteration: 13 | Epsilon: 0.7 | Last Reward: -100 | Average100: -252 | Total Reward: -205.1517582156907\n",
            "Iteration: 14 | Epsilon: 0.68 | Last Reward: -100 | Average100: -261 | Total Reward: -395.8830290862458\n",
            "Iteration: 15 | Epsilon: 0.67 | Last Reward: -100 | Average100: -265 | Total Reward: -314.00806556902535\n",
            "Iteration: 16 | Epsilon: 0.65 | Last Reward: -100 | Average100: -250 | Total Reward: -9.399879985177478\n",
            "Iteration: 17 | Epsilon: 0.63 | Last Reward: -100 | Average100: -251 | Total Reward: -273.0381429586581\n",
            "Iteration: 18 | Epsilon: 0.62 | Last Reward: -100 | Average100: -252 | Total Reward: -263.2164695231387\n",
            "Iteration: 19 | Epsilon: 0.6 | Last Reward: -100 | Average100: -244 | Total Reward: -105.41392445616538\n",
            "Iteration: 20 | Epsilon: 0.59 | Last Reward: -100 | Average100: -242 | Total Reward: -194.21874086370417\n",
            "Iteration: 21 | Epsilon: 0.57 | Last Reward: 0.27 | Average100: -232 | Total Reward: -28.03070004875917\n",
            "Iteration: 22 | Epsilon: 0.56 | Last Reward: 1.25 | Average100: -220 | Total Reward: 37.811487813023575\n",
            "Iteration: 23 | Epsilon: 0.54 | Last Reward: -100 | Average100: -216 | Total Reward: -123.92247864767026\n",
            "Iteration: 24 | Epsilon: 0.53 | Last Reward: -100 | Average100: -210 | Total Reward: -62.4611591022414\n",
            "Iteration: 25 | Epsilon: 0.52 | Last Reward: -100 | Average100: -206 | Total Reward: -105.18463272292335\n",
            "Iteration: 26 | Epsilon: 0.5 | Last Reward: -2.6 | Average100: -200 | Total Reward: -31.611278376643074\n",
            "Iteration: 27 | Epsilon: 0.49 | Last Reward: -100 | Average100: -196 | Total Reward: -94.13903286102529\n",
            "Iteration: 28 | Epsilon: 0.48 | Last Reward: -100 | Average100: -194 | Total Reward: -129.0221894377791\n",
            "Iteration: 29 | Epsilon: 0.47 | Last Reward: 2.86 | Average100: -188 | Total Reward: -10.898216367173683\n",
            "Iteration: 30 | Epsilon: 0.46 | Last Reward: -100 | Average100: -184 | Total Reward: -66.59044710799968\n",
            "Iteration: 31 | Epsilon: 0.44 | Last Reward: -100 | Average100: -181 | Total Reward: -104.45553543206042\n",
            "Iteration: 32 | Epsilon: 0.43 | Last Reward: -3.23 | Average100: -175 | Total Reward: 33.93815768624058\n",
            "Iteration: 33 | Epsilon: 0.42 | Last Reward: -0.92 | Average100: -170 | Total Reward: -7.454726341823754\n",
            "Iteration: 34 | Epsilon: 0.41 | Last Reward: -100 | Average100: -169 | Total Reward: -160.77224082378774\n",
            "Iteration: 35 | Epsilon: 0.4 | Last Reward: -100 | Average100: -167 | Total Reward: -76.97114337254341\n",
            "Iteration: 36 | Epsilon: 0.39 | Last Reward: -100 | Average100: -166 | Total Reward: -125.78312303111812\n",
            "Iteration: 37 | Epsilon: 0.38 | Last Reward: -100 | Average100: -166 | Total Reward: -175.21242487971853\n",
            "Iteration: 38 | Epsilon: 0.37 | Last Reward: -100 | Average100: -165 | Total Reward: -125.20383577597731\n",
            "Iteration: 39 | Epsilon: 0.36 | Last Reward: -100 | Average100: -163 | Total Reward: -102.9566446145785\n",
            "Iteration: 40 | Epsilon: 0.35 | Last Reward: -100 | Average100: -161 | Total Reward: -70.76029986541722\n",
            "Iteration: 41 | Epsilon: 0.35 | Last Reward: 2.91 | Average100: -158 | Total Reward: -39.460955812554516\n",
            "Iteration: 42 | Epsilon: 0.34 | Last Reward: -0.18 | Average100: -152 | Total Reward: 108.42663500083407\n",
            "Iteration: 43 | Epsilon: 0.33 | Last Reward: -100 | Average100: -149 | Total Reward: -18.616839053626407\n",
            "Iteration: 44 | Epsilon: 0.32 | Last Reward: 0.36 | Average100: -144 | Total Reward: 57.102236834803605\n",
            "Iteration: 45 | Epsilon: 0.31 | Last Reward: 0.11 | Average100: -139 | Total Reward: 107.31672356796062\n",
            "Iteration: 46 | Epsilon: 0.3 | Last Reward: -100 | Average100: -137 | Total Reward: -44.75884073753804\n",
            "Iteration: 47 | Epsilon: 0.3 | Last Reward: 8.93 | Average100: -133 | Total Reward: 32.86019567225057\n",
            "Iteration: 48 | Epsilon: 0.29 | Last Reward: -0.71 | Average100: -129 | Total Reward: 74.22529649937661\n",
            "Iteration: 49 | Epsilon: 0.28 | Last Reward: -100 | Average100: -127 | Total Reward: -31.939623566360638\n",
            "Iteration: 50 | Epsilon: 0.27 | Last Reward: -100 | Average100: -124 | Total Reward: 21.11528109764498\n",
            "Iteration: 51 | Epsilon: 0.27 | Last Reward: -0.05 | Average100: -122 | Total Reward: 20.965554238027224\n",
            "Iteration: 52 | Epsilon: 0.26 | Last Reward: 0.08 | Average100: -119 | Total Reward: 24.870292348479804\n",
            "Iteration: 53 | Epsilon: 0.25 | Last Reward: -2.4 | Average100: -117 | Total Reward: -9.398529101257333\n",
            "Iteration: 54 | Epsilon: 0.25 | Last Reward: -9.99 | Average100: -114 | Total Reward: 48.409644459341884\n",
            "Iteration: 55 | Epsilon: 0.24 | Last Reward: 0.08 | Average100: -110 | Total Reward: 71.9365890145281\n",
            "Iteration: 56 | Epsilon: 0.24 | Last Reward: -1.43 | Average100: -108 | Total Reward: 56.78148257865417\n",
            "Iteration: 57 | Epsilon: 0.23 | Last Reward: 0.36 | Average100: -104 | Total Reward: 68.97011708170946\n",
            "Iteration: 58 | Epsilon: 0.22 | Last Reward: -0.59 | Average100: -103 | Total Reward: -5.49617490657154\n",
            "Iteration: 59 | Epsilon: 0.22 | Last Reward: -0.13 | Average100: -99 | Total Reward: 106.36289159779115\n",
            "Iteration: 60 | Epsilon: 0.21 | Last Reward: -100 | Average100: -97 | Total Reward: 36.38037527924874\n",
            "Iteration: 61 | Epsilon: 0.21 | Last Reward: 1.87 | Average100: -94 | Total Reward: 87.0772722549974\n",
            "Iteration: 62 | Epsilon: 0.2 | Last Reward: 0.11 | Average100: -91 | Total Reward: 74.26920531663355\n",
            "Iteration: 63 | Epsilon: 0.2 | Last Reward: -8.59 | Average100: -88 | Total Reward: 100.67402702682045\n",
            "Iteration: 64 | Epsilon: 0.19 | Last Reward: -100 | Average100: -86 | Total Reward: 58.66620459433645\n",
            "Iteration: 65 | Epsilon: 0.19 | Last Reward: 2.11 | Average100: -83 | Total Reward: 140.25560972103858\n",
            "Iteration: 66 | Epsilon: 0.18 | Last Reward: -100 | Average100: -81 | Total Reward: 13.968169941340065\n",
            "Iteration: 67 | Epsilon: 0.18 | Last Reward: -22.95 | Average100: -78 | Total Reward: 111.34793269261222\n",
            "Iteration: 68 | Epsilon: 0.17 | Last Reward: -10.64 | Average100: -76 | Total Reward: 99.44834148646198\n",
            "Iteration: 69 | Epsilon: 0.17 | Last Reward: -0.11 | Average100: -73 | Total Reward: 140.01650743788244\n",
            "Iteration: 70 | Epsilon: 0.17 | Last Reward: -0.01 | Average100: -70 | Total Reward: 110.8438365074052\n",
            "Iteration: 71 | Epsilon: 0.16 | Last Reward: 0.02 | Average100: -68 | Total Reward: 113.23869059572003\n",
            "Iteration: 72 | Epsilon: 0.16 | Last Reward: -2.69 | Average100: -65 | Total Reward: 94.47390045427728\n",
            "Iteration: 73 | Epsilon: 0.15 | Last Reward: 100 | Average100: -61 | Total Reward: 230.3116543274603\n",
            "Iteration: 74 | Epsilon: 0.15 | Last Reward: 0.54 | Average100: -59 | Total Reward: 104.60684419292335\n",
            "Iteration: 75 | Epsilon: 0.15 | Last Reward: -100 | Average100: -59 | Total Reward: -15.99248449453097\n",
            "Iteration: 76 | Epsilon: 0.14 | Last Reward: 0.43 | Average100: -57 | Total Reward: 62.034129758935364\n",
            "Iteration: 77 | Epsilon: 0.14 | Last Reward: -18.25 | Average100: -56 | Total Reward: 66.0012286444131\n",
            "Iteration: 78 | Epsilon: 0.14 | Last Reward: -18.43 | Average100: -53 | Total Reward: 115.50417212250451\n",
            "Iteration: 79 | Epsilon: 0.13 | Last Reward: -100 | Average100: -52 | Total Reward: 36.92212171713743\n",
            "Iteration: 80 | Epsilon: 0.13 | Last Reward: -100 | Average100: -52 | Total Reward: -19.66054803374884\n",
            "Iteration: 81 | Epsilon: 0.13 | Last Reward: -0.02 | Average100: -50 | Total Reward: 119.68811717230705\n",
            "Iteration: 82 | Epsilon: 0.12 | Last Reward: -100 | Average100: -50 | Total Reward: -31.65150794226909\n",
            "Iteration: 83 | Epsilon: 0.12 | Last Reward: 100 | Average100: -46 | Total Reward: 226.27078441923294\n",
            "Iteration: 84 | Epsilon: 0.12 | Last Reward: 100 | Average100: -43 | Total Reward: 242.0803545231942\n",
            "Iteration: 85 | Epsilon: 0.11 | Last Reward: -100 | Average100: -42 | Total Reward: -6.424426239467593\n",
            "Iteration: 86 | Epsilon: 0.11 | Last Reward: 100 | Average100: -39 | Total Reward: 237.12640368560034\n",
            "Iteration: 87 | Epsilon: 0.11 | Last Reward: -17.59 | Average100: -38 | Total Reward: 93.33266547278077\n",
            "Iteration: 88 | Epsilon: 0.11 | Last Reward: -100 | Average100: -37 | Total Reward: -4.7548786221080945\n",
            "Iteration: 89 | Epsilon: 0.1 | Last Reward: -100 | Average100: -37 | Total Reward: 18.393666795343336\n",
            "Iteration: 90 | Epsilon: 0.1 | Last Reward: 100 | Average100: -34 | Total Reward: 248.90328166850725\n",
            "Iteration: 91 | Epsilon: 0.1 | Last Reward: 11.96 | Average100: -31 | Total Reward: 166.9027050527879\n",
            "Iteration: 92 | Epsilon: 0.09 | Last Reward: 100 | Average100: -29 | Total Reward: 216.60562041753562\n",
            "Iteration: 93 | Epsilon: 0.09 | Last Reward: -100 | Average100: -28 | Total Reward: 47.30488410905676\n",
            "Iteration: 94 | Epsilon: 0.09 | Last Reward: 100 | Average100: -25 | Total Reward: 251.1524369898305\n",
            "Iteration: 95 | Epsilon: 0.09 | Last Reward: 100 | Average100: -22 | Total Reward: 246.17752500200925\n",
            "Iteration: 96 | Epsilon: 0.09 | Last Reward: -1.36 | Average100: -20 | Total Reward: 140.29764401613235\n",
            "Iteration: 97 | Epsilon: 0.08 | Last Reward: -100 | Average100: -20 | Total Reward: 22.950644403484546\n",
            "Iteration: 98 | Epsilon: 0.08 | Last Reward: -100 | Average100: -20 | Total Reward: 17.15925400273879\n",
            "Iteration: 99 | Epsilon: 0.08 | Last Reward: 0.01 | Average100: -18 | Total Reward: 140.77153791575753\n",
            "Iteration: 100 | Epsilon: 0.08 | Last Reward: 0.57 | Average100: -12 | Total Reward: 107.54058098003084\n",
            "Iteration: 101 | Epsilon: 0.08 | Last Reward: 100 | Average100: -7 | Total Reward: 251.23944985501788\n",
            "Iteration: 102 | Epsilon: 0.07 | Last Reward: -100 | Average100: -2 | Total Reward: -30.36082526771412\n",
            "Iteration: 103 | Epsilon: 0.07 | Last Reward: 100 | Average100: 1 | Total Reward: 199.17738638258257\n",
            "Iteration: 104 | Epsilon: 0.07 | Last Reward: -0.02 | Average100: 6 | Total Reward: 177.7414391327496\n",
            "Iteration: 105 | Epsilon: 0.07 | Last Reward: 100 | Average100: 10 | Total Reward: 206.7456401438323\n",
            "Iteration: 106 | Epsilon: 0.07 | Last Reward: 100 | Average100: 14 | Total Reward: 256.00687070792424\n",
            "Iteration: 107 | Epsilon: 0.06 | Last Reward: 0.38 | Average100: 19 | Total Reward: 122.93042341321463\n",
            "Iteration: 108 | Epsilon: 0.06 | Last Reward: -8.08 | Average100: 20 | Total Reward: 132.83503514022135\n",
            "Iteration: 109 | Epsilon: 0.06 | Last Reward: -0.28 | Average100: 23 | Total Reward: 101.5445364576062\n",
            "Iteration: 110 | Epsilon: 0.06 | Last Reward: 0.04 | Average100: 25 | Total Reward: 32.72567807670945\n",
            "Iteration: 111 | Epsilon: 0.06 | Last Reward: -0.05 | Average100: 30 | Total Reward: 130.42691370863616\n",
            "Iteration: 112 | Epsilon: 0.06 | Last Reward: 100 | Average100: 35 | Total Reward: 271.23577862509126\n",
            "Iteration: 113 | Epsilon: 0.06 | Last Reward: -0.08 | Average100: 39 | Total Reward: 180.81431370090925\n",
            "Iteration: 114 | Epsilon: 0.05 | Last Reward: 100 | Average100: 45 | Total Reward: 245.70792295352365\n",
            "Iteration: 115 | Epsilon: 0.05 | Last Reward: 100 | Average100: 50 | Total Reward: 204.47909918315878\n",
            "Iteration: 116 | Epsilon: 0.05 | Last Reward: 100 | Average100: 53 | Total Reward: 258.9156721631707\n",
            "Iteration: 117 | Epsilon: 0.05 | Last Reward: -0.07 | Average100: 57 | Total Reward: 93.43956035953724\n",
            "Iteration: 118 | Epsilon: 0.05 | Last Reward: 100 | Average100: 62 | Total Reward: 239.609031689768\n",
            "Iteration: 119 | Epsilon: 0.05 | Last Reward: -100 | Average100: 63 | Total Reward: 38.24160436049766\n",
            "Iteration: 120 | Epsilon: 0.05 | Last Reward: 0.07 | Average100: 66 | Total Reward: 143.91904058687294\n",
            "Iteration: 121 | Epsilon: 0.05 | Last Reward: 100 | Average100: 69 | Total Reward: 256.77544028807677\n",
            "Iteration: 122 | Epsilon: 0.04 | Last Reward: -100 | Average100: 69 | Total Reward: -0.9857265925455181\n",
            "Iteration: 123 | Epsilon: 0.04 | Last Reward: 100 | Average100: 72 | Total Reward: 219.4019216654592\n",
            "Iteration: 124 | Epsilon: 0.04 | Last Reward: -100 | Average100: 72 | Total Reward: -49.943592220525844\n",
            "Iteration: 125 | Epsilon: 0.04 | Last Reward: 100 | Average100: 76 | Total Reward: 273.7871252131936\n",
            "Iteration: 126 | Epsilon: 0.04 | Last Reward: 0.08 | Average100: 78 | Total Reward: 116.47985601182867\n",
            "Iteration: 127 | Epsilon: 0.04 | Last Reward: -100 | Average100: 78 | Total Reward: -13.992539408676521\n",
            "Iteration: 128 | Epsilon: 0.04 | Last Reward: -100 | Average100: 80 | Total Reward: 48.98506586378372\n",
            "Iteration: 129 | Epsilon: 0.04 | Last Reward: 100 | Average100: 83 | Total Reward: 243.08710107649844\n",
            "Iteration: 130 | Epsilon: 0.04 | Last Reward: 0.09 | Average100: 85 | Total Reward: 159.20471364527072\n",
            "Iteration: 131 | Epsilon: 0.04 | Last Reward: -100 | Average100: 87 | Total Reward: 42.19970905117597\n",
            "Iteration: 132 | Epsilon: 0.03 | Last Reward: 100 | Average100: 89 | Total Reward: 246.85361588403157\n",
            "Iteration: 133 | Epsilon: 0.03 | Last Reward: -100 | Average100: 89 | Total Reward: -13.075283237148327\n",
            "Iteration: 134 | Epsilon: 0.03 | Last Reward: -100 | Average100: 91 | Total Reward: 33.981742643684754\n",
            "Iteration: 135 | Epsilon: 0.03 | Last Reward: 100 | Average100: 94 | Total Reward: 232.86704821757507\n",
            "Iteration: 136 | Epsilon: 0.03 | Last Reward: -100 | Average100: 95 | Total Reward: 15.353508526700253\n",
            "Iteration: 137 | Epsilon: 0.03 | Last Reward: 100 | Average100: 99 | Total Reward: 259.4094714381216\n",
            "Iteration: 138 | Epsilon: 0.03 | Last Reward: -100 | Average100: 101 | Total Reward: -2.3382231827206397\n",
            "Iteration: 139 | Epsilon: 0.03 | Last Reward: 0.02 | Average100: 103 | Total Reward: 154.2357590580905\n",
            "Iteration: 140 | Epsilon: 0.03 | Last Reward: 100 | Average100: 107 | Total Reward: 278.1942526698172\n",
            "Iteration: 141 | Epsilon: 0.03 | Last Reward: 100 | Average100: 109 | Total Reward: 226.37358219073153\n",
            "Iteration: 142 | Epsilon: 0.03 | Last Reward: -100 | Average100: 109 | Total Reward: 39.0309522779809\n",
            "Iteration: 143 | Epsilon: 0.03 | Last Reward: 1.49 | Average100: 107 | Total Reward: -133.43869621323446\n",
            "Iteration: 144 | Epsilon: 0.03 | Last Reward: 100 | Average100: 110 | Total Reward: 279.92723241796523\n",
            "Iteration: 145 | Epsilon: 0.02 | Last Reward: -100 | Average100: 109 | Total Reward: 18.530172384292086\n",
            "Iteration: 146 | Epsilon: 0.02 | Last Reward: 100 | Average100: 112 | Total Reward: 234.80569828297726\n",
            "Iteration: 147 | Epsilon: 0.02 | Last Reward: 100 | Average100: 114 | Total Reward: 271.802492945469\n",
            "Iteration: 148 | Epsilon: 0.02 | Last Reward: -100 | Average100: 111 | Total Reward: -201.26702423554252\n",
            "Iteration: 149 | Epsilon: 0.02 | Last Reward: 0.14 | Average100: 113 | Total Reward: 152.36598643398747\n",
            "Iteration: 150 | Epsilon: 0.02 | Last Reward: 100 | Average100: 116 | Total Reward: 262.98805608713144\n",
            "Iteration: 151 | Epsilon: 0.02 | Last Reward: 100 | Average100: 118 | Total Reward: 258.781851106633\n",
            "Iteration: 152 | Epsilon: 0.02 | Last Reward: -0.33 | Average100: 119 | Total Reward: 160.4089268594161\n",
            "Iteration: 153 | Epsilon: 0.02 | Last Reward: -0.09 | Average100: 121 | Total Reward: 172.03142997167856\n",
            "Iteration: 154 | Epsilon: 0.02 | Last Reward: -0.15 | Average100: 122 | Total Reward: 176.9468717092367\n",
            "Iteration: 155 | Epsilon: 0.02 | Last Reward: 100 | Average100: 124 | Total Reward: 285.8327258158793\n",
            "Iteration: 156 | Epsilon: 0.02 | Last Reward: -0.29 | Average100: 125 | Total Reward: 135.3162613620692\n",
            "Iteration: 157 | Epsilon: 0.02 | Last Reward: 100 | Average100: 127 | Total Reward: 233.47019985393055\n",
            "Iteration: 158 | Epsilon: 0.02 | Last Reward: 100 | Average100: 130 | Total Reward: 272.46129004771035\n",
            "Iteration: 159 | Epsilon: 0.02 | Last Reward: -100 | Average100: 129 | Total Reward: 27.642043045771047\n",
            "Iteration: 160 | Epsilon: 0.02 | Last Reward: 100 | Average100: 131 | Total Reward: 264.36553858273123\n",
            "Iteration: 161 | Epsilon: 0.02 | Last Reward: 100 | Average100: 133 | Total Reward: 237.04631751551923\n",
            "Iteration: 162 | Epsilon: 0.02 | Last Reward: 0.57 | Average100: 134 | Total Reward: 168.18416674423156\n",
            "Iteration: 163 | Epsilon: 0.02 | Last Reward: -0.0 | Average100: 134 | Total Reward: 166.2436383529119\n",
            "Iteration: 164 | Epsilon: 0.02 | Last Reward: 100 | Average100: 136 | Total Reward: 267.05804859919846\n",
            "Iteration: 165 | Epsilon: 0.01 | Last Reward: 100 | Average100: 138 | Total Reward: 258.75861934783256\n",
            "Iteration: 166 | Epsilon: 0.01 | Last Reward: 100 | Average100: 140 | Total Reward: 256.8271573004717\n",
            "Iteration: 167 | Epsilon: 0.01 | Last Reward: 100 | Average100: 141 | Total Reward: 255.57052641292833\n",
            "Iteration: 168 | Epsilon: 0.01 | Last Reward: 100 | Average100: 143 | Total Reward: 251.706477067289\n",
            "Iteration: 169 | Epsilon: 0.01 | Last Reward: -0.0 | Average100: 142 | Total Reward: 45.29064635115256\n",
            "Iteration: 170 | Epsilon: 0.01 | Last Reward: 100 | Average100: 144 | Total Reward: 285.12619648683733\n",
            "Iteration: 171 | Epsilon: 0.01 | Last Reward: -0.58 | Average100: 144 | Total Reward: 174.8876301772632\n",
            "Iteration: 172 | Epsilon: 0.01 | Last Reward: 0.97 | Average100: 143 | Total Reward: -13.036210818964935\n",
            "Iteration: 173 | Epsilon: 0.01 | Last Reward: 100 | Average100: 144 | Total Reward: 262.22606162567035\n",
            "Iteration: 174 | Epsilon: 0.01 | Last Reward: 0.0 | Average100: 144 | Total Reward: 146.76761312648307\n",
            "Iteration: 175 | Epsilon: 0.01 | Last Reward: 100 | Average100: 147 | Total Reward: 267.3741470364906\n",
            "Iteration: 176 | Epsilon: 0.01 | Last Reward: 100 | Average100: 148 | Total Reward: 224.3242636411809\n",
            "Iteration: 177 | Epsilon: 0.01 | Last Reward: 0.02 | Average100: 147 | Total Reward: -39.357992876909805\n",
            "Iteration: 178 | Epsilon: 0.01 | Last Reward: 100 | Average100: 149 | Total Reward: 246.44901985641513\n",
            "Iteration: 179 | Epsilon: 0.01 | Last Reward: 100 | Average100: 150 | Total Reward: 127.54712379929684\n",
            "Iteration: 180 | Epsilon: 0.01 | Last Reward: 100 | Average100: 151 | Total Reward: 140.52537304581875\n",
            "Iteration: 181 | Epsilon: 0.01 | Last Reward: 100 | Average100: 152 | Total Reward: 218.98727966046306\n",
            "Iteration: 182 | Epsilon: 0.01 | Last Reward: -0.02 | Average100: 154 | Total Reward: 153.74404178593412\n",
            "Iteration: 183 | Epsilon: 0.01 | Last Reward: 0.14 | Average100: 153 | Total Reward: 148.68165001074613\n",
            "Iteration: 184 | Epsilon: 0.01 | Last Reward: 100 | Average100: 153 | Total Reward: 202.3505314877873\n",
            "Iteration: 185 | Epsilon: 0.01 | Last Reward: 0.01 | Average100: 154 | Total Reward: 126.43106329446836\n",
            "Iteration: 186 | Epsilon: 0.01 | Last Reward: 100 | Average100: 155 | Total Reward: 262.6327114946869\n",
            "Iteration: 187 | Epsilon: 0.01 | Last Reward: -0.11 | Average100: 155 | Total Reward: 168.6407310907586\n",
            "Iteration: 188 | Epsilon: 0.01 | Last Reward: 100 | Average100: 157 | Total Reward: 185.4471791756244\n",
            "Iteration: 189 | Epsilon: 0.01 | Last Reward: 100 | Average100: 160 | Total Reward: 262.7859133105625\n",
            "Iteration: 190 | Epsilon: 0.01 | Last Reward: 100 | Average100: 159 | Total Reward: 217.44012695475402\n",
            "Iteration: 191 | Epsilon: 0.01 | Last Reward: 100 | Average100: 160 | Total Reward: 237.7076619742551\n",
            "Iteration: 192 | Epsilon: 0.01 | Last Reward: 100 | Average100: 160 | Total Reward: 240.85764069186666\n",
            "Iteration: 193 | Epsilon: 0.01 | Last Reward: 100 | Average100: 162 | Total Reward: 261.3849169871721\n",
            "Iteration: 194 | Epsilon: 0.01 | Last Reward: 100 | Average100: 162 | Total Reward: 253.5554857120313\n",
            "Iteration: 195 | Epsilon: 0.01 | Last Reward: 0.05 | Average100: 161 | Total Reward: 120.97010190192084\n",
            "Iteration: 196 | Epsilon: 0.01 | Last Reward: 100 | Average100: 162 | Total Reward: 237.59539227883806\n",
            "Iteration: 197 | Epsilon: 0.01 | Last Reward: 100 | Average100: 165 | Total Reward: 276.71957874020757\n",
            "Iteration: 198 | Epsilon: 0.01 | Last Reward: -100 | Average100: 165 | Total Reward: 37.613982381104904\n",
            "Iteration: 199 | Epsilon: 0.01 | Last Reward: -0.17 | Average100: 165 | Total Reward: 126.69013263351826\n",
            "Iteration: 200 | Epsilon: 0.01 | Last Reward: 100 | Average100: 166 | Total Reward: 268.84826591218877\n",
            "Iteration: 201 | Epsilon: 0.01 | Last Reward: 100 | Average100: 166 | Total Reward: 169.87407273047606\n",
            "Iteration: 202 | Epsilon: 0.01 | Last Reward: -0.14 | Average100: 167 | Total Reward: 153.62783850066137\n",
            "Iteration: 203 | Epsilon: 0.01 | Last Reward: 100 | Average100: 168 | Total Reward: 267.22581997231566\n",
            "Iteration: 204 | Epsilon: 0.01 | Last Reward: 100 | Average100: 169 | Total Reward: 222.9104387768202\n",
            "Iteration: 205 | Epsilon: 0.01 | Last Reward: 100 | Average100: 169 | Total Reward: 266.6421313216519\n",
            "Iteration: 206 | Epsilon: 0.01 | Last Reward: -0.06 | Average100: 167 | Total Reward: 73.49950489066852\n",
            "Iteration: 207 | Epsilon: 0.01 | Last Reward: 100 | Average100: 169 | Total Reward: 250.31207566715614\n",
            "Iteration: 208 | Epsilon: 0.01 | Last Reward: 100 | Average100: 170 | Total Reward: 258.56602151661366\n",
            "Iteration: 209 | Epsilon: 0.0 | Last Reward: 100 | Average100: 171 | Total Reward: 255.45341506898956\n",
            "Iteration: 210 | Epsilon: 0.0 | Last Reward: 0.17 | Average100: 172 | Total Reward: 114.33794812273433\n",
            "Iteration: 211 | Epsilon: 0.0 | Last Reward: 100 | Average100: 173 | Total Reward: 252.5196921062974\n",
            "Iteration: 212 | Epsilon: 0.0 | Last Reward: 100 | Average100: 173 | Total Reward: 244.5056005675922\n",
            "Iteration: 213 | Epsilon: 0.0 | Last Reward: -0.03 | Average100: 173 | Total Reward: 125.10998712776963\n",
            "Iteration: 214 | Epsilon: 0.0 | Last Reward: 100 | Average100: 173 | Total Reward: 258.9110173947666\n",
            "Iteration: 215 | Epsilon: 0.0 | Last Reward: 100 | Average100: 173 | Total Reward: 269.12253541904863\n",
            "Iteration: 216 | Epsilon: 0.0 | Last Reward: 0.0 | Average100: 172 | Total Reward: 152.7909213592398\n",
            "Iteration: 217 | Epsilon: 0.0 | Last Reward: 100 | Average100: 174 | Total Reward: 255.54969885222272\n",
            "Iteration: 218 | Epsilon: 0.0 | Last Reward: 100 | Average100: 174 | Total Reward: 247.00159860994484\n",
            "Iteration: 219 | Epsilon: 0.0 | Last Reward: 100 | Average100: 176 | Total Reward: 248.63630918770315\n",
            "Iteration: 220 | Epsilon: 0.0 | Last Reward: 100 | Average100: 177 | Total Reward: 238.8316096275619\n",
            "Iteration: 221 | Epsilon: 0.0 | Last Reward: 100 | Average100: 177 | Total Reward: 251.05113996311772\n",
            "Iteration: 222 | Epsilon: 0.0 | Last Reward: 100 | Average100: 180 | Total Reward: 267.07814997746743\n",
            "Iteration: 223 | Epsilon: 0.0 | Last Reward: 100 | Average100: 180 | Total Reward: 278.3176159989904\n",
            "Iteration: 224 | Epsilon: 0.0 | Last Reward: 100 | Average100: 183 | Total Reward: 256.3840507318298\n",
            "Iteration: 225 | Epsilon: 0.0 | Last Reward: 0.01 | Average100: 182 | Total Reward: 152.79651042659287\n",
            "Iteration: 226 | Epsilon: 0.0 | Last Reward: 100 | Average100: 183 | Total Reward: 234.17783823371863\n",
            "Iteration: 227 | Epsilon: 0.0 | Last Reward: 100 | Average100: 186 | Total Reward: 264.8164333065465\n",
            "Iteration: 228 | Epsilon: 0.0 | Last Reward: 100 | Average100: 188 | Total Reward: 243.60593498936157\n",
            "Iteration: 229 | Epsilon: 0.0 | Last Reward: 100 | Average100: 188 | Total Reward: 223.89502338788438\n",
            "Iteration: 230 | Epsilon: 0.0 | Last Reward: 100 | Average100: 189 | Total Reward: 274.1031922729488\n",
            "Iteration: 231 | Epsilon: 0.0 | Last Reward: 100 | Average100: 191 | Total Reward: 260.1952031144466\n",
            "Iteration: 232 | Epsilon: 0.0 | Last Reward: 100 | Average100: 191 | Total Reward: 259.3833470678011\n",
            "Iteration: 233 | Epsilon: 0.0 | Last Reward: 9.27 | Average100: 191 | Total Reward: -7.67970755457482\n",
            "Iteration: 234 | Epsilon: 0.0 | Last Reward: 100 | Average100: 193 | Total Reward: 187.58698691582515\n",
            "Iteration: 235 | Epsilon: 0.0 | Last Reward: 100 | Average100: 192 | Total Reward: 157.53629848258402\n",
            "Iteration: 236 | Epsilon: 0.0 | Last Reward: 100 | Average100: 194 | Total Reward: 221.74992367408007\n",
            "Iteration: 237 | Epsilon: 0.0 | Last Reward: 100 | Average100: 194 | Total Reward: 210.78199961881649\n",
            "Iteration: 238 | Epsilon: 0.0 | Last Reward: 100 | Average100: 196 | Total Reward: 252.8995675653686\n",
            "Iteration: 239 | Epsilon: 0.0 | Last Reward: 100 | Average100: 197 | Total Reward: 236.31453365621172\n",
            "Iteration: 240 | Epsilon: 0.0 | Last Reward: 100 | Average100: 197 | Total Reward: 275.9044127731911\n",
            "Iteration: 241 | Epsilon: 0.0 | Last Reward: 100 | Average100: 197 | Total Reward: 192.21365205400787\n",
            "Iteration: 242 | Epsilon: 0.0 | Last Reward: 0.06 | Average100: 198 | Total Reward: 151.6395532391736\n",
            "Iteration: 243 | Epsilon: 0.0 | Last Reward: 100 | Average100: 202 | Total Reward: 243.325113477628\n",
            "Finished after 143 iterations.\n"
          ],
          "name": "stdout"
        }
      ]
    },
    {
      "cell_type": "code",
      "metadata": {
        "id": "tNVLgkF-gk_O"
      },
      "source": [
        "# Memory to JSON data.\r\n",
        "with open('/content/gdrive/My Drive/DQN.json', 'w') as f:\r\n",
        "    json.dump(results_memory, f)"
      ],
      "execution_count": null,
      "outputs": []
    },
    {
      "cell_type": "code",
      "metadata": {
        "id": "qw7m2w5ghKtF",
        "colab": {
          "base_uri": "https://localhost:8080/"
        },
        "outputId": "6b03139c-27e6-42a8-d9aa-0d4957a38722"
      },
      "source": [
        "# Upload JSON data to notebook.\r\n",
        "loaded_results_memory = None\r\n",
        "with open('/content/gdrive/My Drive/DQN.json') as f:\r\n",
        "    loaded_results_memory = json.loads(f.read())\r\n",
        "\r\n",
        "print(loaded_results_memory[0])"
      ],
      "execution_count": null,
      "outputs": [
        {
          "output_type": "stream",
          "text": [
            "[0, -465]\n"
          ],
          "name": "stdout"
        }
      ]
    },
    {
      "cell_type": "code",
      "metadata": {
        "id": "BzyI3vKZQiR6",
        "colab": {
          "base_uri": "https://localhost:8080/"
        },
        "outputId": "2b38d200-5af3-41ca-e5b5-10526af75bfd"
      },
      "source": [
        "env.close() \r\n",
        "show_video()"
      ],
      "execution_count": null,
      "outputs": [
        {
          "output_type": "display_data",
          "data": {
            "text/html": [
              "<video alt=\"test\" autoplay \n",
              "                    loop controls style=\"height: 400px;\">\n",
              "                    <source src=\"data:video/mp4;base64,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\" type=\"video/mp4\" />\n",
              "                </video>"
            ],
            "text/plain": [
              "<IPython.core.display.HTML object>"
            ]
          },
          "metadata": {
            "tags": []
          }
        }
      ]
    }
  ]
}